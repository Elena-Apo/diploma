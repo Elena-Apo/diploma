{
 "cells": [
  {
   "cell_type": "code",
   "execution_count": 1,
   "id": "443fe7fa",
   "metadata": {},
   "outputs": [],
   "source": [
    "import copy\n",
    "import matplotlib.pyplot as plt\n",
    "import math\n",
    "import numpy as np\n",
    "import pandas as pd\n",
    "import keras\n",
    "from keras.datasets import mnist         # библиотека базы выборок Mnist\n",
    "from keras.layers import Dense, Flatten\n",
    "from sklearn.metrics import classification_report, confusion_matrix"
   ]
  },
  {
   "cell_type": "code",
   "execution_count": 2,
   "id": "487714f5",
   "metadata": {},
   "outputs": [],
   "source": [
    "(x_train, y_train), (x_test, y_test) = mnist.load_data()\n",
    "\n",
    "x_train = np.fromfile('data.npz')\n",
    "y_train = np.fromfile('targets.npz')"
   ]
  },
  {
   "cell_type": "code",
   "execution_count": 3,
   "id": "0e64e47d",
   "metadata": {},
   "outputs": [],
   "source": [
    "y_new_train = copy.deepcopy(y_train)\n",
    "y_new_test = copy.deepcopy(y_test)\n",
    "\n",
    "#for x in range(len(y_new_train)):\n",
    "   # if (y_new_train[x] != 6) and (y_new_train[x] != 0):\n",
    "   #     y_new_train[x] = 1\n",
    "\n",
    "#for x in range(len(y_new_test)):\n",
    "    #if (y_new_test[x] != 6) and (y_new_test[x] != 0):\n",
    "       # y_new_test[x] = 1"
   ]
  },
  {
   "cell_type": "code",
   "execution_count": 4,
   "id": "964d8aa4",
   "metadata": {},
   "outputs": [
    {
     "ename": "IndexError",
     "evalue": "index -2147483648 is out of bounds for axis 1 with size 2",
     "output_type": "error",
     "traceback": [
      "\u001b[1;31m---------------------------------------------------------------------------\u001b[0m",
      "\u001b[1;31mIndexError\u001b[0m                                Traceback (most recent call last)",
      "Cell \u001b[1;32mIn[4], line 5\u001b[0m\n\u001b[0;32m      2\u001b[0m x_train \u001b[38;5;241m=\u001b[39m x_train \n\u001b[0;32m      3\u001b[0m x_test \u001b[38;5;241m=\u001b[39m x_test \u001b[38;5;241m/\u001b[39m \u001b[38;5;241m255\u001b[39m\n\u001b[1;32m----> 5\u001b[0m y_train_cat \u001b[38;5;241m=\u001b[39m \u001b[43mkeras\u001b[49m\u001b[38;5;241;43m.\u001b[39;49m\u001b[43mutils\u001b[49m\u001b[38;5;241;43m.\u001b[39;49m\u001b[43mto_categorical\u001b[49m\u001b[43m(\u001b[49m\u001b[43my_new_train\u001b[49m\u001b[43m,\u001b[49m\u001b[43m \u001b[49m\u001b[38;5;241;43m2\u001b[39;49m\u001b[43m)\u001b[49m\n\u001b[0;32m      6\u001b[0m \u001b[38;5;66;03m#y_test_cat = keras.utils.to_categorical(y_new_test, 2)\u001b[39;00m\n\u001b[0;32m      8\u001b[0m y_train_cat_new \u001b[38;5;241m=\u001b[39m np\u001b[38;5;241m.\u001b[39mvstack((y_train_cat[:,\u001b[38;5;241m0\u001b[39m], y_train_cat[:,\u001b[38;5;241m1\u001b[39m], y_train_cat[:,\u001b[38;5;241m6\u001b[39m]))\u001b[38;5;241m.\u001b[39mtranspose()\n",
      "File \u001b[1;32m~\\AppData\\Local\\Programs\\Python\\Python310\\lib\\site-packages\\keras\\utils\\np_utils.py:74\u001b[0m, in \u001b[0;36mto_categorical\u001b[1;34m(y, num_classes, dtype)\u001b[0m\n\u001b[0;32m     72\u001b[0m n \u001b[38;5;241m=\u001b[39m y\u001b[38;5;241m.\u001b[39mshape[\u001b[38;5;241m0\u001b[39m]\n\u001b[0;32m     73\u001b[0m categorical \u001b[38;5;241m=\u001b[39m np\u001b[38;5;241m.\u001b[39mzeros((n, num_classes), dtype\u001b[38;5;241m=\u001b[39mdtype)\n\u001b[1;32m---> 74\u001b[0m \u001b[43mcategorical\u001b[49m\u001b[43m[\u001b[49m\u001b[43mnp\u001b[49m\u001b[38;5;241;43m.\u001b[39;49m\u001b[43marange\u001b[49m\u001b[43m(\u001b[49m\u001b[43mn\u001b[49m\u001b[43m)\u001b[49m\u001b[43m,\u001b[49m\u001b[43m \u001b[49m\u001b[43my\u001b[49m\u001b[43m]\u001b[49m \u001b[38;5;241m=\u001b[39m \u001b[38;5;241m1\u001b[39m\n\u001b[0;32m     75\u001b[0m output_shape \u001b[38;5;241m=\u001b[39m input_shape \u001b[38;5;241m+\u001b[39m (num_classes,)\n\u001b[0;32m     76\u001b[0m categorical \u001b[38;5;241m=\u001b[39m np\u001b[38;5;241m.\u001b[39mreshape(categorical, output_shape)\n",
      "\u001b[1;31mIndexError\u001b[0m: index -2147483648 is out of bounds for axis 1 with size 2"
     ]
    }
   ],
   "source": [
    "# стандартизация входных данных\n",
    "x_train = x_train \n",
    "x_test = x_test / 255\n",
    "\n",
    "y_train_cat = keras.utils.to_categorical(y_new_train, 2)\n",
    "#y_test_cat = keras.utils.to_categorical(y_new_test, 2)\n",
    "\n",
    "y_train_cat_new = np.vstack((y_train_cat[:,0], y_train_cat[:,1], y_train_cat[:,6])).transpose()\n",
    "#y_test_cat_new = np.vstack((y_test_cat[:,0], y_test_cat[:,1], y_test_cat[:,6])).transpose()"
   ]
  },
  {
   "cell_type": "code",
   "execution_count": null,
   "id": "3c935705",
   "metadata": {},
   "outputs": [],
   "source": [
    "# отображение первых 25 изображений из обучающей выборки\n",
    "f, a = plt.subplots(5, 5, figsize=(10,5))\n",
    "f.suptitle('Первые 25 изображений из пакета')\n",
    "for i in range(25):\n",
    "    plt.subplot(5,5,i+1)\n",
    "    plt.xticks([])\n",
    "    plt.yticks([])\n",
    "    plt.imshow(x_train[i], cmap=plt.cm.binary)\n",
    "\n",
    "plt.show()\n",
    "\n",
    "model = keras.Sequential([\n",
    "    Flatten(input_shape=(28, 28, 1)),\n",
    "    Dense(3, activation='sigmoid')\n",
    "])"
   ]
  },
  {
   "cell_type": "code",
   "execution_count": null,
   "id": "c44c3735",
   "metadata": {},
   "outputs": [],
   "source": [
    "print(model.summary())      # вывод структуры НС в консоль\n",
    "\n",
    "model.compile(optimizer='adam',\n",
    "             loss='mean_squared_error',\n",
    "             metrics=['accuracy'])\n",
    "\n",
    "\n",
    "hist = model.fit(x_train, y_train_cat_new, batch_size=32, epochs=5, validation_split=0.2)\n"
   ]
  },
  {
   "cell_type": "code",
   "execution_count": null,
   "id": "da858cef",
   "metadata": {},
   "outputs": [],
   "source": [
    "train_loss = hist.history['loss']\n",
    "xc = range(5)\n",
    "plt.figure()\n",
    "plt.plot(xc, train_loss)\n",
    "plt.xlabel('Эпоха')\n",
    "plt.ylabel('Ошибка обучения')\n",
    "plt.title('Ошибка на тренировочном наборе')\n",
    "plt.show()\n",
    "\n"
   ]
  },
  {
   "cell_type": "code",
   "execution_count": null,
   "id": "968e21d3",
   "metadata": {},
   "outputs": [],
   "source": [
    "model.evaluate(x_test, y_test_cat_new)\n",
    "n = 1\n",
    "x = np.expand_dims(x_test[n], axis=0)\n",
    "res = model.predict(x)\n",
    "print( res )\n",
    "print( np.argmax(res) )\n",
    "\n",
    "plt.imshow(x_test[n], cmap=plt.cm.binary)\n",
    "plt.show()"
   ]
  },
  {
   "cell_type": "code",
   "execution_count": null,
   "id": "457cf756",
   "metadata": {},
   "outputs": [],
   "source": [
    "# Распознавание всей тестовой выборки\n",
    "pred = model.predict(x_test)\n",
    "pred = np.argmax(pred, axis=1)\n",
    "\n",
    "for i in range(len(pred)):\n",
    "    if pred[i] == 2:\n",
    "        pred[i] = 6\n",
    "\n",
    "print(pred.shape)\n",
    "\n",
    "print('Ответы\\n', y_test[:30])\n",
    "print('Предсказания\\n', pred[:30])"
   ]
  },
  {
   "cell_type": "code",
   "execution_count": null,
   "id": "8e484491",
   "metadata": {},
   "outputs": [],
   "source": [
    "# Выделение неверных вариантов\n",
    "mask = pred == y_new_test\n",
    "print(mask[:40])\n",
    "\n",
    "\n",
    "x_false = x_test[~mask]\n",
    "\n",
    "print(x_false.shape)"
   ]
  },
  {
   "cell_type": "code",
   "execution_count": null,
   "id": "5c2f2464",
   "metadata": {},
   "outputs": [],
   "source": [
    "# Вывод первых 25 неверных результатов\n",
    "f, a = plt.subplots(figsize=(10, 5))\n",
    "f.suptitle('На каких картинках ошиблись')\n",
    "for i in range(25):\n",
    "    plt.subplot(5, 5, i+1)\n",
    "    plt.xticks([])\n",
    "    plt.yticks([])\n",
    "    plt.imshow(x_false[i], cmap=plt.cm.binary)\n",
    "\n",
    "target_names = ['0', 'Остальные цифры', '6']\n",
    "print(classification_report(y_new_test, pred, target_names=target_names))\n",
    "print(confusion_matrix(y_new_test, pred))\n",
    "\n",
    "plt.show()"
   ]
  },
  {
   "cell_type": "code",
   "execution_count": null,
   "id": "1d7ad1e5",
   "metadata": {},
   "outputs": [],
   "source": []
  },
  {
   "cell_type": "code",
   "execution_count": null,
   "id": "1a50806b",
   "metadata": {},
   "outputs": [],
   "source": []
  },
  {
   "cell_type": "code",
   "execution_count": null,
   "id": "d6ae2f99",
   "metadata": {},
   "outputs": [],
   "source": []
  }
 ],
 "metadata": {
  "kernelspec": {
   "display_name": "Python 3 (ipykernel)",
   "language": "python",
   "name": "python3"
  },
  "language_info": {
   "codemirror_mode": {
    "name": "ipython",
    "version": 3
   },
   "file_extension": ".py",
   "mimetype": "text/x-python",
   "name": "python",
   "nbconvert_exporter": "python",
   "pygments_lexer": "ipython3",
   "version": "3.10.7"
  }
 },
 "nbformat": 4,
 "nbformat_minor": 5
}
