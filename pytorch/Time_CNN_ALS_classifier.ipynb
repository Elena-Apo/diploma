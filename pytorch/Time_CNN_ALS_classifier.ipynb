{
  "cells": [
    {
      "cell_type": "code",
      "execution_count": 1,
      "metadata": {
        "id": "3fbaK4qSWlKu"
      },
      "outputs": [],
      "source": [
        "import numpy as np\n",
        "import matplotlib.pyplot as plt\n",
        "import librosa\n",
        "import json\n",
        "import os\n",
        "import datetime\n",
        "import torch\n",
        "import torch.nn as nn\n",
        "import torch.optim as optim\n",
        "from torch.utils.data import Dataset\n",
        "import pandas as pd\n",
        "from sklearn import metrics\n",
        "# import tqdm\n",
        "from tqdm import tqdm\n",
        "# import lightning as L"
      ]
    },
    {
      "cell_type": "code",
      "execution_count": 3,
      "metadata": {
        "colab": {
          "base_uri": "https://localhost:8080/"
        },
        "id": "UOzqdhTvWlKz",
        "outputId": "4976df91-d7fd-44a4-ca70-8fe5675247c0"
      },
      "outputs": [
        {
          "name": "stdout",
          "output_type": "stream",
          "text": [
            "False\n",
            "cpu\n"
          ]
        }
      ],
      "source": [
        "# !nvidia-smi\n",
        "print(torch.cuda.is_available())\n",
        "device = torch.device(\"cuda\" if torch.cuda.is_available() else \"cpu\")\n",
        "print(device)\n",
        "# torch.cuda.device\n",
        "# torch.version.cuda\n",
        "# print(torch.version.cuda)\n",
        "# L.seed_everything(42)\n",
        "\n",
        "mode = 'local' # 'cloud'"
      ]
    },
    {
      "cell_type": "markdown",
      "metadata": {
        "id": "9r_FZU0zWlK1"
      },
      "source": [
        "### Feature extraction"
      ]
    },
    {
      "cell_type": "code",
      "execution_count": 4,
      "metadata": {
        "colab": {
          "base_uri": "https://localhost:8080/"
        },
        "id": "sSm5-hDhYZty",
        "outputId": "9df08414-8df9-44c8-fb81-d200e5085f9d"
      },
      "outputs": [],
      "source": [
        "if mode == 'cloud':\n",
        "    from google.colab import drive\n",
        "    drive.mount('/content/drive')"
      ]
    },
    {
      "cell_type": "code",
      "execution_count": 15,
      "metadata": {
        "id": "IJmYGWmEWlK3"
      },
      "outputs": [],
      "source": [
        "if mode == 'local':\n",
        "    file = open(\"config.json\")\n",
        "    dir_HC = '../wav'+ os.sep + 'HC' + os.sep\n",
        "    dir_ALS = '../wav' + os.sep + 'ALS' + os.sep\n",
        "else:\n",
        "    file = open(\"drive/MyDrive/Colab Notebooks/config.json\")\n",
        "    dir_HC = 'drive/MyDrive/Colab Notebooks/wav'+ os.sep + 'HC' + os.sep\n",
        "    dir_ALS = 'drive/MyDrive/Colab Notebooks/wav' + os.sep + 'ALS' + os.sep\n",
        "\n",
        "config = json.load(file)\n",
        "# print(config.keys())\n",
        "# print(config['data']['frame_size'])\n",
        "\n",
        "fs = 44100              # Hz, sampling frequency\n",
        "f_size = config['data']['frame_size']\n",
        "h_size = config['data']['hop_size']\n",
        "n_mel_channels = config['data']['n_mel_channels']\n",
        "\n",
        "supra_frame_duration = 0.5  # seconds\n",
        "supra_frame_length = round(supra_frame_duration / (h_size/fs)) # need to read from config.json / \n",
        "\n",
        "\n",
        "directory_ALS = os.listdir(dir_ALS)\n",
        "directory_HC = os.listdir(dir_HC)"
      ]
    },
    {
      "cell_type": "markdown",
      "metadata": {
        "id": "obe3TfzOWlK4"
      },
      "source": [
        "### Pre-analysis (transform wav-file to mel-spectrogramms)"
      ]
    },
    {
      "cell_type": "code",
      "execution_count": null,
      "metadata": {
        "id": "xIA-oJDeWlK5"
      },
      "outputs": [],
      "source": [
        "X = np.zeros((20000,n_mel_channels, supra_frame_length))   # data\n",
        "y = np.zeros((20000,1))                     # labels\n",
        "X_global_index = 0\n",
        "X_ids = list([])\n",
        "# Cycle for HC (helthy controls)\n",
        "for i in range(len(directory_HC)):    \n",
        "    if directory_HC[i][-5:]=='a.wav':\n",
        "        # print(directory_HC[i][-5:])\n",
        "        fileName = dir_HC + directory_HC[i]\n",
        "        x, sr = librosa.load(fileName, sr=None, mono=True, offset=0.0, duration=None)\n",
        "\n",
        "        X_melspec = librosa.feature.melspectrogram(y=x, sr=sr, n_mels=64, n_fft=f_size, hop_length=h_size, window='hann', center=False, power=1.0)\n",
        "        X_melspec = 20*np.log10(X_melspec)\n",
        "            \n",
        "        frame_num = X_melspec.shape[1]    \n",
        "\n",
        "        X_melspec = X_melspec.astype(np.half)\n",
        "        X_melspec.tofile(dir_HC + directory_HC[i][:-4] +'_mel.dat')\n",
        "\n",
        "# #       #Запись фрагметов спектра в трехмерный массив \n",
        "#         N_supra_frames = frame_num - supra_frame_length + 1\n",
        "\n",
        "#         # generator comprehension\n",
        "#         gen_range = (n * 2 for n in range(0, np.floor(N_supra_frames/2).astype(int)))\n",
        "#         for n in gen_range:\n",
        "#             X[X_global_index,:,:] = X_melspec[:,n:n+supra_frame_length]\n",
        "#             X_ids.append(int(directory_HC[i][0:3]))\n",
        "#             y[X_global_index] = 0\n",
        "#             X_global_index = X_global_index +1\n",
        "    \n",
        "# Cycle for ALS (pathology)\n",
        "for i in range(len(directory_ALS)):\n",
        "    if directory_ALS[i][-5:]=='a.wav':\n",
        "        fileName = dir_ALS + directory_ALS[i]\n",
        "        x, sr = librosa.load(fileName, sr=None, mono=True, offset=0.0, duration=None)\n",
        "\n",
        "        X_melspec = librosa.feature.melspectrogram(y=x, sr=sr, n_mels=64, n_fft=f_size, hop_length=h_size, window='hann', center=False, power=1.0)\n",
        "        X_melspec = 20*np.log10(X_melspec)\n",
        "            \n",
        "        frame_num = X_melspec.shape[1]\n",
        "     \n",
        "        X_melspec = X_melspec.astype(np.half)\n",
        "        X_melspec.tofile(dir_ALS + directory_ALS[i][:-4] +'_mel.dat')\n",
        "\n",
        "# #       #Запись фрагметов спектра в трехмерный массив \n",
        "#         N_supra_frames = frame_num - supra_frame_length + 1\n",
        "\n",
        "#         # generator comprehension\n",
        "#         gen_range = (n * 2 for n in range(0, np.floor(N_supra_frames/2).astype(int)))\n",
        "#         for n in gen_range:\n",
        "#             X[X_global_index,:,:] = X_melspec[:,n:n+supra_frame_length]\n",
        "#             X_ids.append(int(directory_ALS[i][0:3]))\n",
        "#             y[X_global_index] = 1\n",
        "#             X_global_index = X_global_index + 1\n"
      ]
    },
    {
      "cell_type": "markdown",
      "metadata": {
        "id": "mlbvmuhtWlK8"
      },
      "source": [
        "### Dataset and Dataloader"
      ]
    },
    {
      "cell_type": "code",
      "execution_count": 8,
      "metadata": {
        "id": "w_lnbMzeWlK9"
      },
      "outputs": [],
      "source": [
        "class ALSDataset(Dataset):\n",
        "    def __init__(self, dir_HC_path, dir_ALS_path):\n",
        "        \"\"\"\n",
        "        Аргументы:\n",
        "            dir_HC_path -- путь к папке с записями здоровых голосов\n",
        "            dir_ALS_path -- путь к папке с записями голосов пациентов с БАС\n",
        "        \"\"\"\n",
        "        # self.dir_HC_path = []\n",
        "        # self.dir_ALS_path = []\n",
        "        self._ids = list([])    # speaker IDs\n",
        "        # 5-fold CV: 13+13+13+13+12\n",
        "        # ALS: 8,20,21, 22, 24, 25,27,28,31,32,39, 42,46,48,52,55,58,62,64,68,72,76,78,80,84,92,94,96,98,100,102\n",
        "        # HC : 131, 129, 127, 125, 123, 121, 119, 117, 115, 113, 111, 109, 107, 99, 97, 89, 86, 85, 81, 77, 65, 63, 61, 53, 49, 42, 28, 26, 24, 16, 6, 4, 2 \n",
        "        \n",
        "                                                                                        # HC men+women / ALS men+women\n",
        "        self.folds = list(([26,   97, 117,  85,  53,  86, 127,  92, 102,  27,  32,  72,  39], # 3+4 HC / 3+3 ALS\n",
        "                           [28,  123,  63,  99,  81, 125, 129,  68,  21,  55,  48,  78,  42], # 3+4 HC / 4+2 ALS\n",
        "                           [61,   16, 115, 109, 111,   2, 107,  46,  84,  64,  52,  24,  76], # 2+5 HC / 4+2 ALS\n",
        "                           [77,    6,  65,  24, 131, 119,  25,  94,  62,  28,   8,  98,  22], # 3+3 HC / 5+2 ALS\n",
        "                           [49,   89,   4,  42, 113, 121,  96,  20,  58,  80,  31, 100]))     # 2+4 HC / 4+2 ALS\n",
        "        \n",
        "        self.folds_val = list(([49, 42, 20, 31],\n",
        "                              [97, 53,  92, 32],\n",
        "                              [28, 99, 129, 55],  \n",
        "                              [61, 111, 84, 76],  \n",
        "                              [77, 24, 94, 8]))\n",
        "                              \n",
        "        f_size = 512            # need to read from config.json\n",
        "        h_size = 256            # need to read from config.json\n",
        "        n_mel_channels = 64     # need to read from config.json\n",
        "        supra_frame_length = 86 # need to read from config.json\n",
        "        n_input_channel = 1        \n",
        "        self.X = np.zeros((20000, n_input_channel, n_mel_channels, supra_frame_length))   # data\n",
        "        self.y = np.zeros((20000,1))                         # labels\n",
        "        X_global_index = 0\n",
        "        self.X_ids = list([])\n",
        "\n",
        "        # Cycle for HC (helthy controls)        \n",
        "        directory_HC = os.listdir(dir_HC_path)       \n",
        "        for i in range(len(directory_HC)):\n",
        "            if directory_HC[i][-9:]=='a_mel.dat':\n",
        "                fileName = dir_HC + directory_HC[i]\n",
        "            \n",
        "                X_spec = np.fromfile(dir_HC + directory_HC[i], dtype=np.half)\n",
        "                X_spec = np.reshape(X_spec,(n_mel_channels, np.floor(len(X_spec)/n_mel_channels).astype(int)))        \n",
        "\n",
        "                #Запись фрагметов спектра в трехмерный массив \n",
        "                frame_num = X_spec.shape[1]\n",
        "                N_supra_frames = frame_num - supra_frame_length + 1\n",
        "\n",
        "                # generator comprehension\n",
        "                gen_range = (n * 2 for n in range(0, np.floor(N_supra_frames/2).astype(int)))\n",
        "                for n in gen_range:\n",
        "                    self.X[X_global_index,:,:,:] = np.reshape(X_spec[:,n:n+supra_frame_length],(n_input_channel,n_mel_channels,supra_frame_length))\n",
        "                    self.X_ids.append(int(directory_HC[i][0:3]))\n",
        "                    self.y[X_global_index] = 0\n",
        "                    X_global_index = X_global_index +1\n",
        "\n",
        "        # Cycle for ALS (pathology)\n",
        "        directory_ALS = os.listdir(dir_ALS_path)       \n",
        "        for i in range(len(directory_ALS)):\n",
        "            if directory_ALS[i][-9:]=='a_mel.dat':\n",
        "                fileName = dir_ALS + directory_ALS[i]        \n",
        "\n",
        "                # print(fileName)\n",
        "\n",
        "                X_spec = np.fromfile(dir_ALS + directory_ALS[i], dtype=np.half)\n",
        "                X_spec = np.reshape(X_spec,(n_mel_channels, np.floor(len(X_spec)/n_mel_channels).astype(int)))\n",
        "\n",
        "        #       #Запись фрагметов спектра в трехмерный массив\n",
        "                frame_num = X_spec.shape[1]\n",
        "                N_supra_frames = frame_num - supra_frame_length + 1\n",
        "\n",
        "                # generator comprehension\n",
        "                gen_range = (n * 2 for n in range(0, np.floor(N_supra_frames/2).astype(int)))\n",
        "                for n in gen_range:\n",
        "                    self.X[X_global_index,:,:,:] = np.reshape(X_spec[:,n:n+supra_frame_length],(n_input_channel,n_mel_channels,supra_frame_length))\n",
        "                    self.X_ids.append(int(directory_ALS[i][0:3]))\n",
        "                    self.y[X_global_index] = 1\n",
        "                    X_global_index = X_global_index + 1\n",
        "            \n",
        "        inds_to_delete = np.array(range(self.y.shape[0]))>=X_global_index\n",
        "        self.y = np.delete(self.y,inds_to_delete)\n",
        "        self.X = np.delete(self.X,inds_to_delete, axis=0)\n",
        "\n",
        "        self.y = torch.from_numpy(self.y)\n",
        "        self.X = torch.from_numpy(self.X)\n",
        "\n",
        "        device = torch.device(\"cuda\" if torch.cuda.is_available() else \"cpu\")\n",
        "        \n",
        "        self.X = self.X.to(device)\n",
        "        self.y = self.y.to(device)\n",
        "\n",
        "    def __len__(self):\n",
        "        return self.X.shape[0]\n",
        "\n",
        "    def __getitem__(self, index):\n",
        "        return self.X[index,:,:], self.y[index]\n",
        "\n",
        "    def get_kth_fold_inds(self, fold_num):\n",
        "        ids_train = list([])\n",
        "        ids_val  = list([])\n",
        "        ids_test = list([])\n",
        "        for i in range(len(self.X_ids)):\n",
        "            if self.X_ids[i] in self.folds[fold_num]:\n",
        "                ids_test.append(i)\n",
        "            elif self.X_ids[i] in self.folds_val[fold_num]:\n",
        "                ids_val.append(i)\n",
        "            else:\n",
        "                ids_train.append(i)\n",
        "        return (ids_train,ids_val, ids_test)"
      ]
    },
    {
      "cell_type": "code",
      "execution_count": 9,
      "metadata": {
        "colab": {
          "base_uri": "https://localhost:8080/",
          "height": 519
        },
        "id": "nYIrl50mWlLC",
        "outputId": "6e3a3039-0935-424e-ef64-667c993f1f51"
      },
      "outputs": [
        {
          "name": "stdout",
          "output_type": "stream",
          "text": [
            "label =  tensor(1., dtype=torch.float64)\n"
          ]
        },
        {
          "name": "stderr",
          "output_type": "stream",
          "text": [
            "C:\\Users\\Admin\\AppData\\Local\\Temp\\ipykernel_9788\\4053883533.py:14: UserWarning: To copy construct from a tensor, it is recommended to use sourceTensor.clone().detach() or sourceTensor.clone().detach().requires_grad_(True), rather than torch.tensor(sourceTensor).\n",
            "  input = torch.tensor(X_generic,dtype=torch.float)\n"
          ]
        },
        {
          "data": {
            "text/plain": [
              "<matplotlib.collections.PolyCollection at 0x153bda6a3b0>"
            ]
          },
          "execution_count": 9,
          "metadata": {},
          "output_type": "execute_result"
        },
        {
          "data": {
            "image/png": "[encoded data removed]",
            "text/plain": [
              "<Figure size 432x288 with 4 Axes>"
            ]
          },
          "metadata": {
            "needs_background": "light"
          },
          "output_type": "display_data"
        }
      ],
      "source": [
        "DataSet_ALS = ALSDataset(dir_HC, dir_ALS)\n",
        "# print(len(DataSet_ALS))\n",
        "X_generic, y_label = DataSet_ALS.__getitem__(13202)\n",
        "\n",
        "fig,ax = plt.subplots()\n",
        "plt.subplot(141)\n",
        "plt.pcolor(X_generic[0,:,:], cmap='jet')\n",
        "print('label = ', y_label)\n",
        "fold_0_train,fold_0_val,fold_0_test = DataSet_ALS.get_kth_fold_inds(0)\n",
        "\n",
        "## NN\n",
        "conv_lf = torch.nn.Conv2d(1,3,(32,10),padding='valid',dtype=torch.float)\n",
        "\n",
        "input = torch.tensor(X_generic,dtype=torch.float)\n",
        "output = conv_lf(input)\n",
        "output_np = output.detach().numpy()\n",
        "plt.subplot(142)\n",
        "plt.pcolor(output_np[0,:,:], cmap='jet')\n",
        "plt.subplot(143)\n",
        "plt.pcolor(output_np[1,:,:], cmap='jet')\n",
        "plt.subplot(144)\n",
        "plt.pcolor(output_np[2,:,:], cmap='jet')"
      ]
    },
    {
      "cell_type": "markdown",
      "metadata": {
        "id": "-DOiQJHaWlLF"
      },
      "source": [
        "#### ALS_CNN (CNN-model)"
      ]
    },
    {
      "cell_type": "code",
      "execution_count": null,
      "metadata": {
        "id": "RfxPkDMpWlLG"
      },
      "outputs": [],
      "source": [
        "class ALS_CNN(nn.Module):\n",
        "    def __init__(self):\n",
        "        super(ALS_CNN,self).__init__() \n",
        "        # parameters\n",
        "        file = open(\"drive/MyDrive/Colab Notebooks/config.json\")\n",
        "        config = json.load(file)            \n",
        "        self.n_mel = config['data']['n_mel_channels']\n",
        "        frames_in_segment = config['data']['supra_frame_length']\n",
        "        layer1_filt = 64\n",
        "        layer2_filt = 16\n",
        "        \n",
        "        self.lf_num = 32    # low-frequency\n",
        "        self.mf_num = 16    # medium-frequency\n",
        "        self.hf_num = 16    # high-frequency\n",
        "        \n",
        "        lf_width,  mf_width,  hf_width  = 48,36,24      # low/medium/high-frequency time span\n",
        "        lf_height, mf_height, hf_height = 16,8,8      # low/medium/high-frequency frequency span\n",
        "\n",
        "        l2_kernel_size = 7\n",
        "\n",
        "        lf_h_stride, mf_h_stride, hf_h_stride = 2,1,1\n",
        "        lf_w_stride, mf_w_stride, hf_w_stride = 4, 4, 4\n",
        "\n",
        "        self.batch_norm1 = nn.BatchNorm2d(1)\n",
        "        \n",
        "        # self.conv_lf = torch.nn.Conv2d(1,self.layer1_filt,(self.lf_num, lf_width),padding='valid',stride=(1,lf_width//2))\n",
        "        # self.conv_mf = torch.nn.Conv2d(1,self.layer1_filt,(self.mf_num, mf_width),padding='valid',stride=(1,mf_width//2))\n",
        "        # self.conv_hf = torch.nn.Conv2d(1,self.layer1_filt,(self.hf_num, hf_width),padding='valid',stride=(1,hf_width//2))\n",
        "\n",
        "        self.conv_lf = torch.nn.Conv2d(1,layer1_filt,(lf_height, lf_width),padding='valid',stride=(lf_h_stride,lf_w_stride))\n",
        "        self.conv_mf = torch.nn.Conv2d(1,layer1_filt,(mf_height, mf_width),padding='valid',stride=(mf_h_stride,mf_w_stride))\n",
        "        self.conv_hf = torch.nn.Conv2d(1,layer1_filt,(hf_height, hf_width),padding='valid',stride=(hf_h_stride,hf_w_stride))\n",
        "\n",
        "        self.conv2_lf = torch.nn.Conv2d(layer1_filt, layer2_filt,l2_kernel_size,padding='valid',stride=(1,1))\n",
        "        self.conv2_mf = torch.nn.Conv2d(layer1_filt, layer2_filt,l2_kernel_size,padding='valid',stride=(1,1))\n",
        "        self.conv2_hf = torch.nn.Conv2d(layer1_filt, layer2_filt,l2_kernel_size,padding='valid',stride=(1,1))\n",
        "\n",
        "        self.maxpool_lf = nn.MaxPool2d(((self.lf_num - lf_height)//lf_h_stride + 1 - (l2_kernel_size-1),1))\n",
        "        self.maxpool_mf = nn.MaxPool2d(((self.mf_num - mf_height)//mf_h_stride + 1 - (l2_kernel_size-1),1))\n",
        "        self.maxpool_hf = nn.MaxPool2d(((self.hf_num - hf_height)//hf_h_stride + 1 - (l2_kernel_size-1),1))\n",
        "\n",
        "        self.drop1 = nn.Dropout(p=0.1)\n",
        "        \n",
        "        self.fc = nn.Linear(layer2_filt*(1+((frames_in_segment-lf_width)//lf_w_stride) - (l2_kernel_size-1)) + # *(1+(self.lf_num-lf_height)//lf_height)\n",
        "                            layer2_filt*(1+((frames_in_segment-mf_width)//mf_w_stride) - (l2_kernel_size-1)) + #*(1+(self.mf_num-mf_height)//mf_height) + \n",
        "                            layer2_filt*(1+((frames_in_segment-hf_width)//hf_w_stride) - (l2_kernel_size-1)) #*(1+(self.hf_num-hf_height)//hf_height)\n",
        "                            ,1)    # 16 = np.round(()/5).astype(int)                                  \n",
        "\n",
        "        torch.manual_seed(151)\n",
        "        nn.init.xavier_uniform_(self.conv_lf.weight, gain=1.0)\n",
        "        nn.init.xavier_uniform_(self.conv_mf.weight, gain=1.0)\n",
        "        nn.init.xavier_uniform_(self.conv_hf.weight, gain=1.0)\n",
        "    \n",
        "    def forward(self, x): \n",
        "        \n",
        "        out = self.batch_norm1(x)\n",
        "\n",
        "        out1 = out[:,:,:self.lf_num,:]\n",
        "        out2 = out[:,:,self.lf_num:self.lf_num+self.mf_num,:]\n",
        "        out3 = out[:,:,self.lf_num+self.mf_num:self.lf_num+self.mf_num+self.hf_num,:]\n",
        "\n",
        "        out1 = torch.relu(self.conv_lf(out1))\n",
        "        out2 = torch.relu(self.conv_mf(out2))\n",
        "        out3 = torch.relu(self.conv_hf(out3))\n",
        "        \n",
        "        out1 = torch.relu(self.conv2_lf(out1))\n",
        "        out2 = torch.relu(self.conv2_mf(out2))\n",
        "        out3 = torch.relu(self.conv2_hf(out3))\n",
        "\n",
        "        out1 = self.maxpool_lf(out1)        \n",
        "        out2 = self.maxpool_mf(out2)\n",
        "        out3 = self.maxpool_hf(out3)\n",
        "\n",
        "        out1 = out1.view(-1, out1.shape[1]*out1.shape[2]*out1.shape[3])\n",
        "        out2 = out2.view(-1, out2.shape[1]*out2.shape[2]*out2.shape[3])\n",
        "        out3 = out3.view(-1, out3.shape[1]*out3.shape[2]*out3.shape[3])\n",
        "\n",
        "        # print('After view 1:', out1.shape)\n",
        "\n",
        "        out = torch.cat((out1,out2,out3), 1).cuda()  \n",
        "\n",
        "        # print('After cat:', out.shape)\n",
        "\n",
        "        out = self.drop1(out)\n",
        "\n",
        "        out = self.fc(out)\n",
        "        return out   \n",
        "\n",
        "# one-layer conv-3freq_band->maxpool-fc\n",
        "# class ALS_CNN(nn.Module):\n",
        "#     def __init__(self):\n",
        "#         super(ALS_CNN,self).__init__() \n",
        "#         # parameters\n",
        "#         file = open(\"drive/MyDrive/Colab Notebooks/config.json\")\n",
        "#         config = json.load(file)            \n",
        "#         self.n_mel = config['data']['n_mel_channels']\n",
        "#         frames_in_segment = config['data']['supra_frame_length']\n",
        "#         self.layer1_filt = 64\n",
        "        \n",
        "#         self.lf_num = 32    # low-frequency\n",
        "#         self.mf_num = 16    # medium-frequency\n",
        "#         self.hf_num = 16    # high-frequency\n",
        "        \n",
        "#         lf_width,  mf_width,  hf_width  = 48,36,24      # low/medium/high-frequency time span\n",
        "#         lf_height, mf_height, hf_height = 16,8,8      # low/medium/high-frequency frequency span\n",
        "\n",
        "#         lf_h_stride, mf_h_stride, hf_h_stride = 8,4,2\n",
        "#         lf_w_stride, mf_w_stride, hf_w_stride = lf_width//2, mf_width//2, hf_width//2\n",
        "\n",
        "#         self.batch_norm1 = nn.BatchNorm2d(1)\n",
        "        \n",
        "#         # self.conv_lf = torch.nn.Conv2d(1,self.layer1_filt,(self.lf_num, lf_width),padding='valid',stride=(1,lf_width//2))\n",
        "#         # self.conv_mf = torch.nn.Conv2d(1,self.layer1_filt,(self.mf_num, mf_width),padding='valid',stride=(1,mf_width//2))\n",
        "#         # self.conv_hf = torch.nn.Conv2d(1,self.layer1_filt,(self.hf_num, hf_width),padding='valid',stride=(1,hf_width//2))\n",
        "\n",
        "#         self.conv_lf = torch.nn.Conv2d(1,self.layer1_filt,(lf_height, lf_width),padding='valid',stride=(lf_h_stride,lf_w_stride))\n",
        "#         self.conv_mf = torch.nn.Conv2d(1,self.layer1_filt,(mf_height, mf_width),padding='valid',stride=(mf_h_stride,mf_w_stride))\n",
        "#         self.conv_hf = torch.nn.Conv2d(1,self.layer1_filt,(hf_height, hf_width),padding='valid',stride=(hf_h_stride,hf_w_stride))\n",
        "\n",
        "#         self.maxpool_lf = nn.MaxPool2d(((self.lf_num - lf_height)//lf_h_stride + 1,1))\n",
        "#         self.maxpool_mf = nn.MaxPool2d(((self.mf_num - mf_height)//mf_h_stride + 1,1))\n",
        "#         self.maxpool_hf = nn.MaxPool2d(((self.hf_num - hf_height)//hf_h_stride + 1,1))\n",
        "\n",
        "#         self.drop1 = nn.Dropout(p=0.5)\n",
        "        \n",
        "#         self.fc = nn.Linear(self.layer1_filt*(1+(frames_in_segment-lf_width)//lf_w_stride) + # *(1+(self.lf_num-lf_height)//lf_height)\n",
        "#                             self.layer1_filt*(1+(frames_in_segment-mf_width)//mf_w_stride) + #*(1+(self.mf_num-mf_height)//mf_height) + \n",
        "#                             self.layer1_filt*(1+(frames_in_segment-hf_width)//hf_w_stride) #*(1+(self.hf_num-hf_height)//hf_height)\n",
        "#                             ,1)    # 16 = np.round(()/5).astype(int)                                  \n",
        "\n",
        "#         torch.manual_seed(151)\n",
        "#         nn.init.xavier_uniform_(self.conv_lf.weight, gain=1.0)\n",
        "#         nn.init.xavier_uniform_(self.conv_mf.weight, gain=1.0)\n",
        "#         nn.init.xavier_uniform_(self.conv_hf.weight, gain=1.0)\n",
        "    \n",
        "#     def forward(self, x): \n",
        "        \n",
        "#         out = self.batch_norm1(x)\n",
        "\n",
        "#         out1 = out[:,:,:self.lf_num,:]\n",
        "#         out2 = out[:,:,self.lf_num:self.lf_num+self.mf_num,:]\n",
        "#         out3 = out[:,:,self.lf_num+self.mf_num:self.lf_num+self.mf_num+self.hf_num,:]\n",
        "        \n",
        "#         # print(x.shape)\n",
        "#         # print(x1.shape)\n",
        "#         # for param in self.conv_lf.parameters():\n",
        "#         #     print(param.data)\n",
        "#         #     print(param.data.shape)\n",
        "#         # print(self.conv_lf.weight())\n",
        "#         # print(x2.shape)\n",
        "#         # print(x3.shape)\n",
        "        \n",
        "#         out1 = self.conv_lf(out1)\n",
        "#         out2 = self.conv_mf(out2)\n",
        "#         out3 = self.conv_hf(out3)\n",
        "                \n",
        "#         # print(out2.shape)\n",
        "#         # print(out3.shape)\n",
        "\n",
        "#         out1 = torch.relu(out1)\n",
        "#         out2 = torch.relu(out2)\n",
        "#         out3 = torch.relu(out3)\n",
        "        \n",
        "#         out1 = self.maxpool_lf(out1)        \n",
        "#         out2 = self.maxpool_mf(out2)\n",
        "#         out3 = self.maxpool_hf(out3)\n",
        "\n",
        "#         out1 = out1.view(-1, out1.shape[1]*out1.shape[2]*out1.shape[3])\n",
        "#         out2 = out2.view(-1, out2.shape[1]*out2.shape[2]*out2.shape[3])\n",
        "#         out3 = out3.view(-1, out3.shape[1]*out3.shape[2]*out3.shape[3])\n",
        "\n",
        "#         # print('After view 1:', out1.shape)\n",
        "\n",
        "#         out = torch.cat((out1,out2,out3), 1).cuda()  \n",
        "\n",
        "#         # print('After cat:', out.shape)\n",
        "\n",
        "#         out = self.drop1(out)\n",
        "\n",
        "#         out = self.fc(out)\n",
        "#         return out    "
      ]
    },
    {
      "cell_type": "markdown",
      "metadata": {
        "id": "JYqOi-etEIvy"
      },
      "source": [
        "#### Time CNN"
      ]
    },
    {
      "cell_type": "code",
      "execution_count": 25,
      "metadata": {
        "id": "H79_XR4BEHdz"
      },
      "outputs": [],
      "source": [
        "class time_CNN(nn.Module):\n",
        "    def __init__(self):\n",
        "        super(time_CNN,self).__init__() \n",
        "        # parameters\n",
        "        # file = open(\"drive/MyDrive/Colab Notebooks/config.json\")\n",
        "        file = open(\"config.json\")\n",
        "        config = json.load(file)            \n",
        "        n_mel = config['data']['n_mel_channels']\n",
        "        frames_in_segment = config['data']['supra_frame_length']\n",
        "        \n",
        "        layer_filt = [64,64,64]\n",
        "        layer_kernel_size = [(1,6), (1,5), (1,3)]\n",
        "        layer_max_pool_size = [(1,2),(1,3),(1,3)]\n",
        "\n",
        "        self.batch_norm1 = nn.BatchNorm2d(1)\n",
        "\n",
        "        self.conv1 = torch.nn.Conv2d(1,layer_filt[0], layer_kernel_size[0], padding='same', stride=(1,1))\n",
        "        self.conv2 = torch.nn.Conv2d(layer_filt[0],layer_filt[1], layer_kernel_size[1], padding='same', stride=(1,1))\n",
        "        self.conv3 = torch.nn.Conv2d(layer_filt[1],layer_filt[2], layer_kernel_size[2], padding='same', stride=(1,1))\n",
        "\n",
        "        self.maxpool_1 = nn.MaxPool2d(layer_max_pool_size[0],stride=layer_max_pool_size[0])\n",
        "        self.maxpool_2 = nn.MaxPool2d(layer_max_pool_size[1],stride=layer_max_pool_size[1])\n",
        "        self.maxpool_3 = nn.MaxPool2d(layer_max_pool_size[2],stride=layer_max_pool_size[2])\n",
        "        \n",
        "        self.drop1 = nn.Dropout(p=0.05)\n",
        "\n",
        "        self.fc1 = nn.Linear(16384,1)\n",
        "\n",
        "        torch.manual_seed(151)\n",
        "        nn.init.kaiming_normal_(self.conv1.weight)\n",
        "        nn.init.kaiming_normal_(self.conv2.weight)\n",
        "        nn.init.kaiming_normal_(self.conv3.weight)\n",
        "        nn.init.xavier_normal_(self.fc1.weight)\n",
        "        nn.init.xavier_normal_(self.fc2.weight)\n",
        "    \n",
        "    def forward(self, x): \n",
        "        \n",
        "        out = self.batch_norm1(x)\n",
        "\n",
        "        out = torch.relu(self.conv1(out))        \n",
        "        out = self.maxpool_1(out)\n",
        "\n",
        "        out = torch.relu(self.conv2(out))\n",
        "        out = self.maxpool_2(out)\n",
        "\n",
        "        out = torch.relu(self.conv3(out))\n",
        "        out = self.maxpool_3(out)\n",
        "\n",
        "        out = out.view(-1, out.shape[1]*out.shape[2]*out.shape[3])\n",
        "\n",
        "        out = self.drop1(out)\n",
        "\n",
        "        out = self.fc1(out)\n",
        "\n",
        "        return out"
      ]
    },
    {
      "cell_type": "markdown",
      "metadata": {
        "id": "dfMYg_g1WlLH"
      },
      "source": [
        "#### training_loop"
      ]
    },
    {
      "cell_type": "code",
      "execution_count": 11,
      "metadata": {
        "id": "Gf1ly8p0WlLI"
      },
      "outputs": [],
      "source": [
        "def training_loop(n_epochs, optimizer, lr_scheduler, model, loss_fn, train_loader, val_loader):    \n",
        "    MODEL_PATH = \"model_backup/model_cnn.pt\"\n",
        "    loss_train_history = np.ndarray((n_epochs))\n",
        "    loss_val_history = np.ndarray((n_epochs))\n",
        "    lrs = []\n",
        "    for epoch in range(1,n_epochs+1):        \n",
        "        model.train()\n",
        "        best_acc = 0\n",
        "        loss_train = 0.0\n",
        "        for specs, labels in tqdm(train_loader, desc=f\"Epoch {epoch}\", leave=True): #train_loader:\n",
        "            specs = specs.float()\n",
        "            outputs = model(specs)                        \n",
        "            outputs = outputs.squeeze(dim=1) # for batch train_loader \n",
        "            # print('output:',outputs)\n",
        "            # print('labels:',labels)\n",
        "            loss = loss_fn(outputs, labels)\n",
        "            optimizer.zero_grad()\n",
        "            loss.backward()\n",
        "            optimizer.step()\n",
        "            loss_train += loss.item()            \n",
        "        \n",
        "        # prediction on val set        \n",
        "        loss_val = 0.0\n",
        "        TP_TN_sum = 0\n",
        "        item_num = 0\n",
        "        model.eval()\n",
        "        with torch.no_grad():            \n",
        "            for spec, label in val_loader:\n",
        "                spec = spec.float()                    \n",
        "                pred = model(spec)                                \n",
        "                pred = torch.squeeze(pred,1)                \n",
        "\n",
        "                loss = loss_fn(pred, label)\n",
        "                loss_val += loss.item()\n",
        "                \n",
        "                item_num += len(label)\n",
        "\n",
        "                pred = (pred>0)*1.0\n",
        "                TP_TN_sum = TP_TN_sum + torch.sum(label==pred)\n",
        "\n",
        "        acc_val = TP_TN_sum/item_num\n",
        "        \n",
        "        loss_train_history[epoch-1] = loss_train / len(train_loader)\n",
        "        loss_val_history[epoch-1] = loss_val / len(val_loader)\n",
        "\n",
        "        if acc_val>=best_acc:\n",
        "            torch.save(model.state_dict(), MODEL_PATH)            \n",
        "            # torch.save(model, MODEL_PATH)\n",
        "\n",
        "        # if epoch==1 or epoch%2==0:                                                            \n",
        "        print(f'{datetime.datetime.now()} Epoch {epoch}, Train loss {loss_train / len(train_loader):.3f}, Val loss {loss_val / len(val_loader):.3f}, Acc_val = {acc_val:.2f}')\n",
        "        \n",
        "        lrs.append(optimizer.param_groups[0][\"lr\"])\n",
        "        lr_scheduler.step()\n",
        "        \n",
        "    # model = torch.load(MODEL_PATH)\n",
        "    model.load_state_dict(torch.load(MODEL_PATH))\n",
        "\n",
        "    fig, ax = plt.subplots(figsize=(8,3))\n",
        "    plt.rcParams.update({'font.size': 13})\n",
        "    # plt.subplot(1,2,1)\n",
        "    plt.plot(range(n_epochs), loss_train_history, label='Обучающий набор')\n",
        "    plt.plot(range(n_epochs), loss_val_history, label='Проверочный набор')\n",
        "    plt.legend()\n",
        "    plt.xlabel('Эпоха')\n",
        "    plt.ylabel('Ошибка обучения')\n",
        "    # plt.subplot(1,2,2)\n",
        "    # plt.plot(range(len(lrs)),lrs)\n",
        "    # plt.xlabel('step')\n",
        "    # plt.ylabel('lr')    \n",
        "    plt.show()\n",
        "    # Saving results\n",
        "    # image_name = f'figures/loss_NN.jpg'\n",
        "    # fig.savefig(image_name, format='jpg', dpi=110, bbox_inches='tight', pad_inches = 0.2)"
      ]
    },
    {
      "cell_type": "markdown",
      "metadata": {
        "id": "2L8pVYYxWlLJ"
      },
      "source": [
        "### Single NN training & evaluation"
      ]
    },
    {
      "cell_type": "code",
      "execution_count": null,
      "metadata": {
        "id": "RxiEwtcIWlLK",
        "outputId": "75451c2a-6bf1-46e7-d64d-415fd64608e3"
      },
      "outputs": [
        {
          "name": "stdout",
          "output_type": "stream",
          "text": [
            "torch.Size([1, 1, 64, 86])\n"
          ]
        }
      ],
      "source": [
        "# Test inference\n",
        "model = ALS_CNN()\n",
        "X, y = DataSet_ALS.__getitem__(13202)\n",
        "input = torch.tensor(X, dtype=torch.float)\n",
        "input = input.unsqueeze(0)  # add chanel dimension\n",
        "input = input.unsqueeze(0)  # add batch dimension\n",
        "print(input.shape)\n",
        "y_out = model(input)"
      ]
    },
    {
      "cell_type": "code",
      "execution_count": null,
      "metadata": {
        "id": "9hOBTmbiWlLK"
      },
      "outputs": [],
      "source": [
        "fold_0_train_inds,fold_0_val_inds,fold_0_test_inds = DataSet_ALS.get_kth_fold_inds(0)\n",
        "train_set = torch.utils.data.dataset.Subset(DataSet_ALS, fold_0_train_inds)\n",
        "val_set = torch.utils.data.dataset.Subset(DataSet_ALS, fold_0_val_inds)\n",
        "\n",
        "train_loader = torch.utils.data.DataLoader(train_set, batch_size=100, shuffle=True) # num_workers=1\n",
        "val_loader = torch.utils.data.DataLoader(val_set, batch_size=10, shuffle=False,) # num_workers=1\n",
        "\n",
        "model = ALS_CNN().to(device)\n",
        "model.train()\n",
        "\n",
        "# summary(ALS_cnn,(64*86))\n",
        "# optimizer = optim.SGD(ALS_cnn.parameters(), lr=1e-3, momentum=0.10)\n",
        "optimizer = optim.Adam(model.parameters(),lr=2e-5, weight_decay=2e-1)\n",
        "\n",
        "# loss_fn = nn.CrossEntropyLoss()\n",
        "# pos_weight = torch.ones([1])\n",
        "# loss_fn = nn.BCEWithLogitsLoss(pos_weight = pos_weight)\n",
        "\n",
        "loss_fn = nn.BCEWithLogitsLoss()\n",
        "scheduler = optim.lr_scheduler.ExponentialLR(optimizer, gamma=0.9)\n",
        "\n",
        "training_loop(\n",
        "    n_epochs=20,\n",
        "    optimizer=optimizer,\n",
        "    lr_scheduler = scheduler,\n",
        "    model=model,\n",
        "    loss_fn=loss_fn,\n",
        "    train_loader=train_loader,\n",
        "    val_loader = val_loader\n",
        ")"
      ]
    },
    {
      "cell_type": "markdown",
      "metadata": {
        "id": "_8JsuBPGWlLL"
      },
      "source": [
        "### Train with 5-fold CV"
      ]
    },
    {
      "cell_type": "markdown",
      "metadata": {
        "id": "utBoAGosWlLM"
      },
      "source": [
        "#### crossvalid"
      ]
    },
    {
      "cell_type": "code",
      "execution_count": null,
      "metadata": {
        "id": "WC5F96YqWlLM"
      },
      "outputs": [],
      "source": [
        "def crossvalid(dataset=None, model = None, train = None, optimizer = None, n_epochs = 20, k_fold=5):    \n",
        "    \n",
        "    total_size = len(dataset)\n",
        "    y_pred = np.ndarray(total_size)\n",
        "    y_true = np.ndarray(total_size)\n",
        "    folds = list([4,3,2,1,0])\n",
        "\n",
        "    for i in folds: #range(k_fold):\n",
        "        \n",
        "        inds_train,inds_val,inds_test = dataset.get_kth_fold_inds(i)                \n",
        "        \n",
        "        train_set = torch.utils.data.dataset.Subset(dataset,inds_train)\n",
        "        val_set = torch.utils.data.dataset.Subset(dataset,inds_val)\n",
        "        test_set = torch.utils.data.dataset.Subset(dataset,inds_test)\n",
        "                \n",
        "        train_loader = torch.utils.data.DataLoader(train_set, batch_size=100,shuffle=True)  # num_workers=2\n",
        "        val_loader = torch.utils.data.DataLoader(val_set, batch_size=1, shuffle=False)\n",
        "        test_loader = torch.utils.data.DataLoader(test_set, batch_size=1, shuffle=False)    # num_workers=2\n",
        "        \n",
        "        torch.manual_seed(707)\n",
        "        with torch.no_grad():\n",
        "            for layer in model.children():\n",
        "                if hasattr(layer, 'reset_parameters'):\n",
        "                    # print(layer.weight())\n",
        "                    layer.reset_parameters()\n",
        "                    # print(layer.weight())\n",
        "        \n",
        "        model.train()        \n",
        "\n",
        "        loss_fn = nn.BCEWithLogitsLoss()\n",
        "        scheduler = optim.lr_scheduler.ExponentialLR(optimizer, gamma=0.9)\n",
        "\n",
        "        train(\n",
        "            n_epochs=n_epochs,\n",
        "            optimizer=optimizer,\n",
        "            lr_scheduler = scheduler,\n",
        "            model=model,\n",
        "            loss_fn=loss_fn,\n",
        "            train_loader=train_loader,\n",
        "            val_loader=val_loader\n",
        "        )\n",
        "\n",
        "        # prediction on test set        \n",
        "        test_score = list()\n",
        "        TP_TN_sum = 0\n",
        "        model.eval()\n",
        "        with torch.no_grad():\n",
        "            i = 0\n",
        "            for spec, label in test_loader:\n",
        "                spec = spec.float()\n",
        "                # spec = spec.squeeze()\n",
        "                pred = model(spec)\n",
        "                pred = torch.squeeze(pred,1)  \n",
        "                test_score.append(pred.numpy())\n",
        "                if pred>0:\n",
        "                    pred = torch.tensor(1, dtype=torch.float64)\n",
        "                    y_pred[inds_test[i]] = 1\n",
        "                else:\n",
        "                    pred = torch.tensor(0, dtype=torch.float64)                \n",
        "                    y_pred[inds_test[i]] = 0\n",
        "                y_true[inds_test[i]] = label\n",
        "                if pred==label:\n",
        "                    TP_TN_sum +=1                \n",
        "                i +=1                 \n",
        "            print('Acc = ', TP_TN_sum/len(test_score))\n",
        "\n",
        "    acc_sk = metrics.accuracy_score(y_true, y_pred)\n",
        "    recall = metrics.recall_score(y_true, y_pred)\n",
        "    prec = metrics.precision_score(y_true, y_pred)\n",
        "    tn, fp, fn, tp = metrics.confusion_matrix(y_true, y_pred).ravel()\n",
        "    sensetivity = tp / (tp+fn)\n",
        "    specificity = tn / (tn+fp)\n",
        "    print('Final results')\n",
        "    print(f'Acc_sk = {acc_sk:.2f}', )\n",
        "    print(f'Prec = {prec:.2f}')\n",
        "    print(f'Recall = {recall:.2f}')\n",
        "    print(f'Sens = {sensetivity:.2f}')\n",
        "    print(f'Spec = {specificity:.2f}')\n",
        "\n",
        "        # val_acc = valid(res_model,criterion,optimizer,val_loader)\n",
        "        # val_score.at[i] = val_acc\n",
        "    \n",
        "    return acc_sk\n",
        "        \n",
        "# https://stackoverflow.com/questions/60883696/k-fold-cross-validation-using-dataloaders-in-pytorch"
      ]
    },
    {
      "cell_type": "markdown",
      "metadata": {
        "id": "3F7N1KszWlLN"
      },
      "source": [
        "#### k_fold_CV"
      ]
    },
    {
      "cell_type": "code",
      "execution_count": 13,
      "metadata": {
        "id": "xNkV6P8_WlLO"
      },
      "outputs": [],
      "source": [
        "def k_fold_CV(dataset=None, model = None, train = None, optimizer = None, n_epochs = 20, k_fold=5):    \n",
        "    \n",
        "    total_size = len(dataset)\n",
        "    y_pred = np.ndarray(total_size)\n",
        "    y_true = np.ndarray(total_size)\n",
        "    folds = list([4,3,2,1,0])\n",
        "\n",
        "    scheduler = optim.lr_scheduler.ExponentialLR(optimizer, gamma=0.99)\n",
        "\n",
        "    PATH = 'model_backup' + os.sep + 'cnn_init.pt'\n",
        "    PATH_optim = 'model_backup'+os.sep+'cnn_optim_init.pt'\n",
        "    PATH_lr = 'model_backup' + os.sep + 'cnn_lr_schedule_init.pt'\n",
        "\n",
        "    torch.save(model.state_dict(), PATH)\n",
        "    torch.save(optimizer.state_dict(), PATH_optim)\n",
        "    torch.save(scheduler.state_dict(), PATH_lr)\n",
        "\n",
        "    for i in folds: #range(k_fold):\n",
        "        \n",
        "        inds_train,inds_val,inds_test = dataset.get_kth_fold_inds(i)                \n",
        "        \n",
        "        train_set = torch.utils.data.dataset.Subset(dataset,inds_train)\n",
        "        val_set = torch.utils.data.dataset.Subset(dataset,inds_val)\n",
        "        test_set = torch.utils.data.dataset.Subset(dataset,inds_test)\n",
        "                \n",
        "        train_loader = torch.utils.data.DataLoader(train_set, batch_size=100,shuffle=True)  # num_workers=2\n",
        "        val_loader = torch.utils.data.DataLoader(val_set, batch_size=100, shuffle=False)\n",
        "        test_loader = torch.utils.data.DataLoader(test_set, batch_size=1, shuffle=False)    # num_workers=2\n",
        "        \n",
        "        model.load_state_dict(torch.load(PATH))\n",
        "        optimizer.load_state_dict(torch.load(PATH_optim))\n",
        "        scheduler.load_state_dict(torch.load(PATH_lr))\n",
        "\n",
        "        model.train()        \n",
        "\n",
        "        loss_fn = nn.BCEWithLogitsLoss()        \n",
        "\n",
        "        train(\n",
        "            n_epochs=n_epochs,\n",
        "            optimizer=optimizer,\n",
        "            lr_scheduler = scheduler,\n",
        "            model=model,\n",
        "            loss_fn=loss_fn,\n",
        "            train_loader=train_loader,\n",
        "            val_loader=val_loader\n",
        "        )\n",
        "\n",
        "        # prediction on test set        \n",
        "        test_score = list()\n",
        "        TP_TN_sum = 0\n",
        "        model.eval()\n",
        "        with torch.no_grad():\n",
        "            i = 0\n",
        "            for spec, label in test_loader:\n",
        "                spec = spec.float()\n",
        "                # spec = spec.squeeze()\n",
        "                pred = model(spec)\n",
        "                pred = torch.squeeze(pred,1)  \n",
        "                # test_score.append(pred.numpy())\n",
        "                test_score.append(pred)\n",
        "                if pred>0:\n",
        "                    pred = torch.tensor(1, dtype=torch.float64)\n",
        "                    y_pred[inds_test[i]] = 1\n",
        "                else:\n",
        "                    pred = torch.tensor(0, dtype=torch.float64)                \n",
        "                    y_pred[inds_test[i]] = 0                    \n",
        "                y_true[inds_test[i]] = label\n",
        "\n",
        "                if pred==label:\n",
        "                    TP_TN_sum +=1                \n",
        "                i +=1                 \n",
        "            print('Acc = ', TP_TN_sum/len(test_score))\n",
        "\n",
        "    acc_sk = metrics.accuracy_score(y_true, y_pred)\n",
        "    recall = metrics.recall_score(y_true, y_pred)\n",
        "    prec = metrics.precision_score(y_true, y_pred)\n",
        "    tn, fp, fn, tp = metrics.confusion_matrix(y_true, y_pred).ravel()\n",
        "    sensetivity = tp / (tp+fn)\n",
        "    specificity = tn / (tn+fp)\n",
        "    \n",
        "    print('Final results')\n",
        "    print(f'Acc_sk = {acc_sk:.2f}', )\n",
        "    print(f'Prec = {prec:.2f}')\n",
        "    print(f'Recall = {recall:.2f}')\n",
        "    print(f'Sens = {sensetivity:.2f}')\n",
        "    print(f'Spec = {specificity:.2f}')\n",
        "    \n",
        "    return acc_sk"
      ]
    },
    {
      "cell_type": "markdown",
      "metadata": {
        "id": "6UlDTK-eWlLP"
      },
      "source": [
        "#### Start script"
      ]
    },
    {
      "cell_type": "code",
      "execution_count": null,
      "metadata": {
        "id": "zTRTJU-DWlLQ"
      },
      "outputs": [],
      "source": [
        "# script with reset.parameters()\n",
        "dir_HC = 'drive/MyDrive/Colab Notebooks/wav'+ os.sep + 'HC' + os.sep\n",
        "dir_ALS = 'drive/MyDrive/Colab Notebooks/wav' + os.sep + 'ALS' + os.sep\n",
        "\n",
        "DataSet_ALS = ALSDataset(dir_HC, dir_ALS)\n",
        "model = ALS_CNN()\n",
        "\n",
        "# optimizer = optim.SGD(ALS_cnn.parameters(), lr=1e-3, momentum=0.10)\n",
        "optimizer = optim.Adam(model.parameters(),lr=1e-3, weight_decay=2e-3) # weight_decay is L2 regularization\n",
        "\n",
        "crossvalid(dataset=DataSet_ALS, model = model, train = training_loop, optimizer = optimizer, n_epochs=15, k_fold=5)"
      ]
    },
    {
      "cell_type": "markdown",
      "metadata": {
        "id": "GOl0udF4WlLR"
      },
      "source": [
        "#### Start k-fold CV"
      ]
    },
    {
      "cell_type": "code",
      "execution_count": 26,
      "metadata": {
        "colab": {
          "base_uri": "https://localhost:8080/"
        },
        "id": "ONhvz0nhWlLR",
        "outputId": "9c73fd19-6090-4066-8139-ae22dd3dca4f"
      },
      "outputs": [
        {
          "name": "stderr",
          "output_type": "stream",
          "text": [
            "Epoch 1: 100%|██████████| 125/125 [03:57<00:00,  1.90s/it]\n"
          ]
        },
        {
          "name": "stdout",
          "output_type": "stream",
          "text": [
            "2023-05-24 09:52:35.846619 Epoch 1, Train loss 0.753, Val loss 0.690, Acc_val = 0.68\n"
          ]
        },
        {
          "name": "stderr",
          "output_type": "stream",
          "text": [
            "Epoch 2: 100%|██████████| 125/125 [03:47<00:00,  1.82s/it]\n"
          ]
        },
        {
          "name": "stdout",
          "output_type": "stream",
          "text": [
            "2023-05-24 09:56:39.921311 Epoch 2, Train loss 0.697, Val loss 0.750, Acc_val = 0.37\n"
          ]
        },
        {
          "name": "stderr",
          "output_type": "stream",
          "text": [
            "Epoch 3: 100%|██████████| 125/125 [03:54<00:00,  1.87s/it]\n"
          ]
        },
        {
          "name": "stdout",
          "output_type": "stream",
          "text": [
            "2023-05-24 10:00:50.025284 Epoch 3, Train loss 0.524, Val loss 0.780, Acc_val = 0.65\n"
          ]
        },
        {
          "name": "stderr",
          "output_type": "stream",
          "text": [
            "Epoch 4: 100%|██████████| 125/125 [04:26<00:00,  2.13s/it]\n"
          ]
        },
        {
          "name": "stdout",
          "output_type": "stream",
          "text": [
            "2023-05-24 10:05:35.570332 Epoch 4, Train loss 0.335, Val loss 0.516, Acc_val = 0.72\n"
          ]
        },
        {
          "name": "stderr",
          "output_type": "stream",
          "text": [
            "Epoch 5: 100%|██████████| 125/125 [04:33<00:00,  2.19s/it]\n"
          ]
        },
        {
          "name": "stdout",
          "output_type": "stream",
          "text": [
            "2023-05-24 10:10:30.441918 Epoch 5, Train loss 0.267, Val loss 0.750, Acc_val = 0.65\n"
          ]
        },
        {
          "name": "stderr",
          "output_type": "stream",
          "text": [
            "Epoch 6: 100%|██████████| 125/125 [04:56<00:00,  2.37s/it]\n"
          ]
        },
        {
          "name": "stdout",
          "output_type": "stream",
          "text": [
            "2023-05-24 10:15:52.101001 Epoch 6, Train loss 0.214, Val loss 0.778, Acc_val = 0.56\n"
          ]
        },
        {
          "name": "stderr",
          "output_type": "stream",
          "text": [
            "Epoch 7: 100%|██████████| 125/125 [04:45<00:00,  2.29s/it]\n"
          ]
        },
        {
          "name": "stdout",
          "output_type": "stream",
          "text": [
            "2023-05-24 10:21:00.147629 Epoch 7, Train loss 0.191, Val loss 0.979, Acc_val = 0.53\n"
          ]
        },
        {
          "name": "stderr",
          "output_type": "stream",
          "text": [
            "Epoch 8: 100%|██████████| 125/125 [05:04<00:00,  2.44s/it]\n"
          ]
        },
        {
          "name": "stdout",
          "output_type": "stream",
          "text": [
            "2023-05-24 10:26:29.109579 Epoch 8, Train loss 0.187, Val loss 1.132, Acc_val = 0.64\n"
          ]
        },
        {
          "name": "stderr",
          "output_type": "stream",
          "text": [
            "Epoch 9: 100%|██████████| 125/125 [05:06<00:00,  2.45s/it]\n"
          ]
        },
        {
          "name": "stdout",
          "output_type": "stream",
          "text": [
            "2023-05-24 10:32:01.374570 Epoch 9, Train loss 0.172, Val loss 1.003, Acc_val = 0.54\n"
          ]
        },
        {
          "name": "stderr",
          "output_type": "stream",
          "text": [
            "Epoch 10: 100%|██████████| 125/125 [05:14<00:00,  2.52s/it]\n"
          ]
        },
        {
          "name": "stdout",
          "output_type": "stream",
          "text": [
            "2023-05-24 10:37:39.809037 Epoch 10, Train loss 0.221, Val loss 1.063, Acc_val = 0.58\n"
          ]
        },
        {
          "name": "stderr",
          "output_type": "stream",
          "text": [
            "Epoch 11: 100%|██████████| 125/125 [05:06<00:00,  2.45s/it]\n"
          ]
        },
        {
          "name": "stdout",
          "output_type": "stream",
          "text": [
            "2023-05-24 10:43:14.509105 Epoch 11, Train loss 0.149, Val loss 1.363, Acc_val = 0.64\n"
          ]
        },
        {
          "name": "stderr",
          "output_type": "stream",
          "text": [
            "Epoch 12: 100%|██████████| 125/125 [05:14<00:00,  2.51s/it]\n"
          ]
        },
        {
          "name": "stdout",
          "output_type": "stream",
          "text": [
            "2023-05-24 10:48:53.327557 Epoch 12, Train loss 0.127, Val loss 1.484, Acc_val = 0.63\n"
          ]
        },
        {
          "name": "stderr",
          "output_type": "stream",
          "text": [
            "Epoch 13: 100%|██████████| 125/125 [04:37<00:00,  2.22s/it]\n"
          ]
        },
        {
          "name": "stdout",
          "output_type": "stream",
          "text": [
            "2023-05-24 10:53:52.032429 Epoch 13, Train loss 0.198, Val loss 0.978, Acc_val = 0.42\n"
          ]
        },
        {
          "name": "stderr",
          "output_type": "stream",
          "text": [
            "Epoch 14: 100%|██████████| 125/125 [04:28<00:00,  2.15s/it]\n"
          ]
        },
        {
          "name": "stdout",
          "output_type": "stream",
          "text": [
            "2023-05-24 10:58:42.487469 Epoch 14, Train loss 0.134, Val loss 1.364, Acc_val = 0.62\n"
          ]
        },
        {
          "name": "stderr",
          "output_type": "stream",
          "text": [
            "Epoch 15: 100%|██████████| 125/125 [04:43<00:00,  2.27s/it]\n"
          ]
        },
        {
          "name": "stdout",
          "output_type": "stream",
          "text": [
            "2023-05-24 11:03:55.971200 Epoch 15, Train loss 0.201, Val loss 0.979, Acc_val = 0.64\n"
          ]
        },
        {
          "data": {
            "image/png": "[encoded data removed]",
            "text/plain": [
              "<Figure size 576x216 with 1 Axes>"
            ]
          },
          "metadata": {
            "needs_background": "light"
          },
          "output_type": "display_data"
        },
        {
          "name": "stdout",
          "output_type": "stream",
          "text": [
            "Acc =  0.5028814833375094\n"
          ]
        },
        {
          "name": "stderr",
          "output_type": "stream",
          "text": [
            "Epoch 1: 100%|██████████| 132/132 [04:07<00:00,  1.88s/it]\n"
          ]
        },
        {
          "name": "stdout",
          "output_type": "stream",
          "text": [
            "2023-05-24 11:09:21.034823 Epoch 1, Train loss 0.753, Val loss 0.688, Acc_val = 0.62\n"
          ]
        },
        {
          "name": "stderr",
          "output_type": "stream",
          "text": [
            "Epoch 2: 100%|██████████| 132/132 [05:12<00:00,  2.37s/it]\n"
          ]
        },
        {
          "name": "stdout",
          "output_type": "stream",
          "text": [
            "2023-05-24 11:14:49.176501 Epoch 2, Train loss 0.627, Val loss 0.838, Acc_val = 0.62\n"
          ]
        },
        {
          "name": "stderr",
          "output_type": "stream",
          "text": [
            "Epoch 3: 100%|██████████| 132/132 [05:34<00:00,  2.53s/it]\n"
          ]
        },
        {
          "name": "stdout",
          "output_type": "stream",
          "text": [
            "2023-05-24 11:20:36.220158 Epoch 3, Train loss 0.466, Val loss 0.716, Acc_val = 0.39\n"
          ]
        },
        {
          "name": "stderr",
          "output_type": "stream",
          "text": [
            "Epoch 4: 100%|██████████| 132/132 [04:54<00:00,  2.23s/it]\n"
          ]
        },
        {
          "name": "stdout",
          "output_type": "stream",
          "text": [
            "2023-05-24 11:25:43.495482 Epoch 4, Train loss 0.321, Val loss 0.726, Acc_val = 0.41\n"
          ]
        },
        {
          "name": "stderr",
          "output_type": "stream",
          "text": [
            "Epoch 5: 100%|██████████| 132/132 [04:36<00:00,  2.10s/it]\n"
          ]
        },
        {
          "name": "stdout",
          "output_type": "stream",
          "text": [
            "2023-05-24 11:30:32.889867 Epoch 5, Train loss 0.291, Val loss 0.887, Acc_val = 0.49\n"
          ]
        },
        {
          "name": "stderr",
          "output_type": "stream",
          "text": [
            "Epoch 6: 100%|██████████| 132/132 [05:07<00:00,  2.33s/it]\n"
          ]
        },
        {
          "name": "stdout",
          "output_type": "stream",
          "text": [
            "2023-05-24 11:35:52.291921 Epoch 6, Train loss 0.229, Val loss 1.330, Acc_val = 0.38\n"
          ]
        },
        {
          "name": "stderr",
          "output_type": "stream",
          "text": [
            "Epoch 7: 100%|██████████| 132/132 [05:15<00:00,  2.39s/it]\n"
          ]
        },
        {
          "name": "stdout",
          "output_type": "stream",
          "text": [
            "2023-05-24 11:41:26.905747 Epoch 7, Train loss 0.181, Val loss 1.361, Acc_val = 0.54\n"
          ]
        },
        {
          "name": "stderr",
          "output_type": "stream",
          "text": [
            "Epoch 8: 100%|██████████| 132/132 [05:42<00:00,  2.60s/it]\n"
          ]
        },
        {
          "name": "stdout",
          "output_type": "stream",
          "text": [
            "2023-05-24 11:47:24.191184 Epoch 8, Train loss 0.157, Val loss 0.958, Acc_val = 0.50\n"
          ]
        },
        {
          "name": "stderr",
          "output_type": "stream",
          "text": [
            "Epoch 9: 100%|██████████| 132/132 [04:56<00:00,  2.25s/it]\n"
          ]
        },
        {
          "name": "stdout",
          "output_type": "stream",
          "text": [
            "2023-05-24 11:52:31.613697 Epoch 9, Train loss 0.238, Val loss 1.312, Acc_val = 0.62\n"
          ]
        },
        {
          "name": "stderr",
          "output_type": "stream",
          "text": [
            "Epoch 10: 100%|██████████| 132/132 [04:58<00:00,  2.26s/it]\n"
          ]
        },
        {
          "name": "stdout",
          "output_type": "stream",
          "text": [
            "2023-05-24 11:57:41.050100 Epoch 10, Train loss 0.222, Val loss 0.787, Acc_val = 0.50\n"
          ]
        },
        {
          "name": "stderr",
          "output_type": "stream",
          "text": [
            "Epoch 11: 100%|██████████| 132/132 [05:09<00:00,  2.34s/it]\n"
          ]
        },
        {
          "name": "stdout",
          "output_type": "stream",
          "text": [
            "2023-05-24 12:03:01.945905 Epoch 11, Train loss 0.127, Val loss 0.827, Acc_val = 0.70\n"
          ]
        },
        {
          "name": "stderr",
          "output_type": "stream",
          "text": [
            "Epoch 12: 100%|██████████| 132/132 [04:43<00:00,  2.15s/it]\n"
          ]
        },
        {
          "name": "stdout",
          "output_type": "stream",
          "text": [
            "2023-05-24 12:07:57.259565 Epoch 12, Train loss 0.184, Val loss 1.044, Acc_val = 0.53\n"
          ]
        },
        {
          "name": "stderr",
          "output_type": "stream",
          "text": [
            "Epoch 13: 100%|██████████| 132/132 [04:56<00:00,  2.25s/it]\n"
          ]
        },
        {
          "name": "stdout",
          "output_type": "stream",
          "text": [
            "2023-05-24 12:13:07.557627 Epoch 13, Train loss 0.133, Val loss 1.100, Acc_val = 0.69\n"
          ]
        },
        {
          "name": "stderr",
          "output_type": "stream",
          "text": [
            "Epoch 14: 100%|██████████| 132/132 [04:48<00:00,  2.18s/it]\n"
          ]
        },
        {
          "name": "stdout",
          "output_type": "stream",
          "text": [
            "2023-05-24 12:18:12.351631 Epoch 14, Train loss 0.130, Val loss 1.031, Acc_val = 0.69\n"
          ]
        },
        {
          "name": "stderr",
          "output_type": "stream",
          "text": [
            "Epoch 15: 100%|██████████| 132/132 [04:39<00:00,  2.12s/it]\n"
          ]
        },
        {
          "name": "stdout",
          "output_type": "stream",
          "text": [
            "2023-05-24 12:23:02.377631 Epoch 15, Train loss 0.113, Val loss 0.822, Acc_val = 0.61\n"
          ]
        },
        {
          "data": {
            "image/png": "[encoded data removed]",
            "text/plain": [
              "<Figure size 576x216 with 1 Axes>"
            ]
          },
          "metadata": {
            "needs_background": "light"
          },
          "output_type": "display_data"
        },
        {
          "name": "stdout",
          "output_type": "stream",
          "text": [
            "Acc =  0.4261403923422359\n"
          ]
        },
        {
          "name": "stderr",
          "output_type": "stream",
          "text": [
            "Epoch 1: 100%|██████████| 127/127 [04:23<00:00,  2.08s/it]\n"
          ]
        },
        {
          "name": "stdout",
          "output_type": "stream",
          "text": [
            "2023-05-24 12:28:35.043062 Epoch 1, Train loss 0.731, Val loss 0.811, Acc_val = 0.40\n"
          ]
        },
        {
          "name": "stderr",
          "output_type": "stream",
          "text": [
            "Epoch 2: 100%|██████████| 127/127 [04:19<00:00,  2.04s/it]\n"
          ]
        },
        {
          "name": "stdout",
          "output_type": "stream",
          "text": [
            "2023-05-24 12:33:07.988710 Epoch 2, Train loss 0.695, Val loss 0.695, Acc_val = 0.40\n"
          ]
        },
        {
          "name": "stderr",
          "output_type": "stream",
          "text": [
            "Epoch 3: 100%|██████████| 127/127 [04:20<00:00,  2.05s/it]\n"
          ]
        },
        {
          "name": "stdout",
          "output_type": "stream",
          "text": [
            "2023-05-24 12:37:42.575589 Epoch 3, Train loss 0.576, Val loss 0.744, Acc_val = 0.43\n"
          ]
        },
        {
          "name": "stderr",
          "output_type": "stream",
          "text": [
            "Epoch 4: 100%|██████████| 127/127 [04:20<00:00,  2.05s/it]\n"
          ]
        },
        {
          "name": "stdout",
          "output_type": "stream",
          "text": [
            "2023-05-24 12:42:19.373369 Epoch 4, Train loss 0.431, Val loss 0.723, Acc_val = 0.62\n"
          ]
        },
        {
          "name": "stderr",
          "output_type": "stream",
          "text": [
            "Epoch 5: 100%|██████████| 127/127 [04:30<00:00,  2.13s/it]\n"
          ]
        },
        {
          "name": "stdout",
          "output_type": "stream",
          "text": [
            "2023-05-24 12:47:03.516298 Epoch 5, Train loss 0.361, Val loss 1.045, Acc_val = 0.60\n"
          ]
        },
        {
          "name": "stderr",
          "output_type": "stream",
          "text": [
            "Epoch 6: 100%|██████████| 127/127 [04:34<00:00,  2.16s/it]\n"
          ]
        },
        {
          "name": "stdout",
          "output_type": "stream",
          "text": [
            "2023-05-24 12:51:55.388813 Epoch 6, Train loss 0.329, Val loss 1.364, Acc_val = 0.40\n"
          ]
        },
        {
          "name": "stderr",
          "output_type": "stream",
          "text": [
            "Epoch 7: 100%|██████████| 127/127 [04:34<00:00,  2.16s/it]\n"
          ]
        },
        {
          "name": "stdout",
          "output_type": "stream",
          "text": [
            "2023-05-24 12:56:47.355058 Epoch 7, Train loss 0.317, Val loss 0.525, Acc_val = 0.62\n"
          ]
        },
        {
          "name": "stderr",
          "output_type": "stream",
          "text": [
            "Epoch 8: 100%|██████████| 127/127 [04:52<00:00,  2.30s/it]\n"
          ]
        },
        {
          "name": "stdout",
          "output_type": "stream",
          "text": [
            "2023-05-24 13:01:57.170629 Epoch 8, Train loss 0.302, Val loss 0.819, Acc_val = 0.61\n"
          ]
        },
        {
          "name": "stderr",
          "output_type": "stream",
          "text": [
            "Epoch 9: 100%|██████████| 127/127 [05:19<00:00,  2.52s/it]\n"
          ]
        },
        {
          "name": "stdout",
          "output_type": "stream",
          "text": [
            "2023-05-24 13:07:34.458550 Epoch 9, Train loss 0.436, Val loss 0.847, Acc_val = 0.63\n"
          ]
        },
        {
          "name": "stderr",
          "output_type": "stream",
          "text": [
            "Epoch 10: 100%|██████████| 127/127 [05:07<00:00,  2.42s/it]\n"
          ]
        },
        {
          "name": "stdout",
          "output_type": "stream",
          "text": [
            "2023-05-24 13:13:00.640418 Epoch 10, Train loss 0.362, Val loss 0.811, Acc_val = 0.65\n"
          ]
        },
        {
          "name": "stderr",
          "output_type": "stream",
          "text": [
            "Epoch 11: 100%|██████████| 127/127 [04:54<00:00,  2.32s/it]\n"
          ]
        },
        {
          "name": "stdout",
          "output_type": "stream",
          "text": [
            "2023-05-24 13:18:13.303571 Epoch 11, Train loss 0.276, Val loss 0.886, Acc_val = 0.55\n"
          ]
        },
        {
          "name": "stderr",
          "output_type": "stream",
          "text": [
            "Epoch 12: 100%|██████████| 127/127 [04:54<00:00,  2.32s/it]\n"
          ]
        },
        {
          "name": "stdout",
          "output_type": "stream",
          "text": [
            "2023-05-24 13:23:25.230524 Epoch 12, Train loss 0.434, Val loss 0.727, Acc_val = 0.40\n"
          ]
        },
        {
          "name": "stderr",
          "output_type": "stream",
          "text": [
            "Epoch 13: 100%|██████████| 127/127 [05:00<00:00,  2.37s/it]\n"
          ]
        },
        {
          "name": "stdout",
          "output_type": "stream",
          "text": [
            "2023-05-24 13:28:44.975685 Epoch 13, Train loss 0.403, Val loss 0.942, Acc_val = 0.41\n"
          ]
        },
        {
          "name": "stderr",
          "output_type": "stream",
          "text": [
            "Epoch 14: 100%|██████████| 127/127 [04:45<00:00,  2.25s/it]\n"
          ]
        },
        {
          "name": "stdout",
          "output_type": "stream",
          "text": [
            "2023-05-24 13:33:49.216492 Epoch 14, Train loss 0.285, Val loss 1.043, Acc_val = 0.61\n"
          ]
        },
        {
          "name": "stderr",
          "output_type": "stream",
          "text": [
            "Epoch 15: 100%|██████████| 127/127 [04:48<00:00,  2.27s/it]\n"
          ]
        },
        {
          "name": "stdout",
          "output_type": "stream",
          "text": [
            "2023-05-24 13:38:53.304017 Epoch 15, Train loss 0.293, Val loss 1.019, Acc_val = 0.61\n"
          ]
        },
        {
          "data": {
            "image/png": "[encoded data removed]",
            "text/plain": [
              "<Figure size 576x216 with 1 Axes>"
            ]
          },
          "metadata": {
            "needs_background": "light"
          },
          "output_type": "display_data"
        },
        {
          "name": "stdout",
          "output_type": "stream",
          "text": [
            "Acc =  0.7120165745856354\n"
          ]
        },
        {
          "name": "stderr",
          "output_type": "stream",
          "text": [
            "Epoch 1: 100%|██████████| 137/137 [04:40<00:00,  2.05s/it]\n"
          ]
        },
        {
          "name": "stdout",
          "output_type": "stream",
          "text": [
            "2023-05-24 13:44:56.357413 Epoch 1, Train loss 0.747, Val loss 0.734, Acc_val = 0.41\n"
          ]
        },
        {
          "name": "stderr",
          "output_type": "stream",
          "text": [
            "Epoch 2: 100%|██████████| 137/137 [04:21<00:00,  1.91s/it]\n"
          ]
        },
        {
          "name": "stdout",
          "output_type": "stream",
          "text": [
            "2023-05-24 13:49:28.693173 Epoch 2, Train loss 0.653, Val loss 0.493, Acc_val = 0.72\n"
          ]
        },
        {
          "name": "stderr",
          "output_type": "stream",
          "text": [
            "Epoch 3: 100%|██████████| 137/137 [05:01<00:00,  2.20s/it]\n"
          ]
        },
        {
          "name": "stdout",
          "output_type": "stream",
          "text": [
            "2023-05-24 13:54:40.385118 Epoch 3, Train loss 0.473, Val loss 0.765, Acc_val = 0.49\n"
          ]
        },
        {
          "name": "stderr",
          "output_type": "stream",
          "text": [
            "Epoch 4: 100%|██████████| 137/137 [05:04<00:00,  2.22s/it]\n"
          ]
        },
        {
          "name": "stdout",
          "output_type": "stream",
          "text": [
            "2023-05-24 13:59:59.202657 Epoch 4, Train loss 0.378, Val loss 0.085, Acc_val = 1.00\n"
          ]
        },
        {
          "name": "stderr",
          "output_type": "stream",
          "text": [
            "Epoch 5: 100%|██████████| 137/137 [05:18<00:00,  2.33s/it]\n"
          ]
        },
        {
          "name": "stdout",
          "output_type": "stream",
          "text": [
            "2023-05-24 14:05:33.909758 Epoch 5, Train loss 0.273, Val loss 0.094, Acc_val = 1.00\n"
          ]
        },
        {
          "name": "stderr",
          "output_type": "stream",
          "text": [
            "Epoch 6: 100%|██████████| 137/137 [05:19<00:00,  2.33s/it]\n"
          ]
        },
        {
          "name": "stdout",
          "output_type": "stream",
          "text": [
            "2023-05-24 14:11:06.004501 Epoch 6, Train loss 0.278, Val loss 0.144, Acc_val = 1.00\n"
          ]
        },
        {
          "name": "stderr",
          "output_type": "stream",
          "text": [
            "Epoch 7: 100%|██████████| 137/137 [05:14<00:00,  2.30s/it]\n"
          ]
        },
        {
          "name": "stdout",
          "output_type": "stream",
          "text": [
            "2023-05-24 14:16:35.889408 Epoch 7, Train loss 0.262, Val loss 0.061, Acc_val = 1.00\n"
          ]
        },
        {
          "name": "stderr",
          "output_type": "stream",
          "text": [
            "Epoch 8: 100%|██████████| 137/137 [05:41<00:00,  2.49s/it]\n"
          ]
        },
        {
          "name": "stdout",
          "output_type": "stream",
          "text": [
            "2023-05-24 14:22:32.600637 Epoch 8, Train loss 0.214, Val loss 0.307, Acc_val = 0.85\n"
          ]
        },
        {
          "name": "stderr",
          "output_type": "stream",
          "text": [
            "Epoch 9: 100%|██████████| 137/137 [05:14<00:00,  2.29s/it]\n"
          ]
        },
        {
          "name": "stdout",
          "output_type": "stream",
          "text": [
            "2023-05-24 14:28:00.838870 Epoch 9, Train loss 0.245, Val loss 0.036, Acc_val = 1.00\n"
          ]
        },
        {
          "name": "stderr",
          "output_type": "stream",
          "text": [
            "Epoch 10: 100%|██████████| 137/137 [05:15<00:00,  2.30s/it]\n"
          ]
        },
        {
          "name": "stdout",
          "output_type": "stream",
          "text": [
            "2023-05-24 14:33:27.731927 Epoch 10, Train loss 0.175, Val loss 0.068, Acc_val = 1.00\n"
          ]
        },
        {
          "name": "stderr",
          "output_type": "stream",
          "text": [
            "Epoch 11: 100%|██████████| 137/137 [04:51<00:00,  2.13s/it]\n"
          ]
        },
        {
          "name": "stdout",
          "output_type": "stream",
          "text": [
            "2023-05-24 14:38:31.864581 Epoch 11, Train loss 0.195, Val loss 0.043, Acc_val = 1.00\n"
          ]
        },
        {
          "name": "stderr",
          "output_type": "stream",
          "text": [
            "Epoch 12: 100%|██████████| 137/137 [05:00<00:00,  2.20s/it]\n"
          ]
        },
        {
          "name": "stdout",
          "output_type": "stream",
          "text": [
            "2023-05-24 14:43:46.693829 Epoch 12, Train loss 0.225, Val loss 0.125, Acc_val = 0.94\n"
          ]
        },
        {
          "name": "stderr",
          "output_type": "stream",
          "text": [
            "Epoch 13: 100%|██████████| 137/137 [05:12<00:00,  2.28s/it]\n"
          ]
        },
        {
          "name": "stdout",
          "output_type": "stream",
          "text": [
            "2023-05-24 14:49:12.968304 Epoch 13, Train loss 0.194, Val loss 0.093, Acc_val = 0.96\n"
          ]
        },
        {
          "name": "stderr",
          "output_type": "stream",
          "text": [
            "Epoch 14: 100%|██████████| 137/137 [05:00<00:00,  2.19s/it]\n"
          ]
        },
        {
          "name": "stdout",
          "output_type": "stream",
          "text": [
            "2023-05-24 14:54:24.598703 Epoch 14, Train loss 0.224, Val loss 0.062, Acc_val = 0.99\n"
          ]
        },
        {
          "name": "stderr",
          "output_type": "stream",
          "text": [
            "Epoch 15: 100%|██████████| 137/137 [04:59<00:00,  2.18s/it]\n"
          ]
        },
        {
          "name": "stdout",
          "output_type": "stream",
          "text": [
            "2023-05-24 14:59:36.106870 Epoch 15, Train loss 0.167, Val loss 0.532, Acc_val = 0.80\n"
          ]
        },
        {
          "data": {
            "image/png": "[encoded data removed]",
            "text/plain": [
              "<Figure size 576x216 with 1 Axes>"
            ]
          },
          "metadata": {
            "needs_background": "light"
          },
          "output_type": "display_data"
        },
        {
          "name": "stdout",
          "output_type": "stream",
          "text": [
            "Acc =  0.6210496613995485\n"
          ]
        },
        {
          "name": "stderr",
          "output_type": "stream",
          "text": [
            "Epoch 1: 100%|██████████| 125/125 [04:27<00:00,  2.14s/it]\n"
          ]
        },
        {
          "name": "stdout",
          "output_type": "stream",
          "text": [
            "2023-05-24 15:05:17.949781 Epoch 1, Train loss 0.751, Val loss 0.675, Acc_val = 0.56\n"
          ]
        },
        {
          "name": "stderr",
          "output_type": "stream",
          "text": [
            "Epoch 2: 100%|██████████| 125/125 [04:40<00:00,  2.24s/it]\n"
          ]
        },
        {
          "name": "stdout",
          "output_type": "stream",
          "text": [
            "2023-05-24 15:10:24.923252 Epoch 2, Train loss 0.690, Val loss 0.634, Acc_val = 0.67\n"
          ]
        },
        {
          "name": "stderr",
          "output_type": "stream",
          "text": [
            "Epoch 3: 100%|██████████| 125/125 [05:11<00:00,  2.50s/it]\n"
          ]
        },
        {
          "name": "stdout",
          "output_type": "stream",
          "text": [
            "2023-05-24 15:16:05.757937 Epoch 3, Train loss 0.540, Val loss 0.589, Acc_val = 0.72\n"
          ]
        },
        {
          "name": "stderr",
          "output_type": "stream",
          "text": [
            "Epoch 4: 100%|██████████| 125/125 [04:52<00:00,  2.34s/it]\n"
          ]
        },
        {
          "name": "stdout",
          "output_type": "stream",
          "text": [
            "2023-05-24 15:21:28.550365 Epoch 4, Train loss 0.449, Val loss 0.849, Acc_val = 0.52\n"
          ]
        },
        {
          "name": "stderr",
          "output_type": "stream",
          "text": [
            "Epoch 5: 100%|██████████| 125/125 [04:56<00:00,  2.37s/it]\n"
          ]
        },
        {
          "name": "stdout",
          "output_type": "stream",
          "text": [
            "2023-05-24 15:26:56.025873 Epoch 5, Train loss 0.368, Val loss 0.733, Acc_val = 0.60\n"
          ]
        },
        {
          "name": "stderr",
          "output_type": "stream",
          "text": [
            "Epoch 6: 100%|██████████| 125/125 [05:10<00:00,  2.48s/it]\n"
          ]
        },
        {
          "name": "stdout",
          "output_type": "stream",
          "text": [
            "2023-05-24 15:32:26.331067 Epoch 6, Train loss 0.361, Val loss 0.771, Acc_val = 0.44\n"
          ]
        },
        {
          "name": "stderr",
          "output_type": "stream",
          "text": [
            "Epoch 7: 100%|██████████| 125/125 [04:51<00:00,  2.33s/it]\n"
          ]
        },
        {
          "name": "stdout",
          "output_type": "stream",
          "text": [
            "2023-05-24 15:37:44.245509 Epoch 7, Train loss 0.523, Val loss 0.623, Acc_val = 0.73\n"
          ]
        },
        {
          "name": "stderr",
          "output_type": "stream",
          "text": [
            "Epoch 8: 100%|██████████| 125/125 [05:16<00:00,  2.53s/it]\n"
          ]
        },
        {
          "name": "stdout",
          "output_type": "stream",
          "text": [
            "2023-05-24 15:43:20.481326 Epoch 8, Train loss 0.347, Val loss 0.863, Acc_val = 0.65\n"
          ]
        },
        {
          "name": "stderr",
          "output_type": "stream",
          "text": [
            "Epoch 9: 100%|██████████| 125/125 [04:42<00:00,  2.26s/it]\n"
          ]
        },
        {
          "name": "stdout",
          "output_type": "stream",
          "text": [
            "2023-05-24 15:48:30.698472 Epoch 9, Train loss 0.323, Val loss 0.721, Acc_val = 0.76\n"
          ]
        },
        {
          "name": "stderr",
          "output_type": "stream",
          "text": [
            "Epoch 10: 100%|██████████| 125/125 [05:06<00:00,  2.45s/it]\n"
          ]
        },
        {
          "name": "stdout",
          "output_type": "stream",
          "text": [
            "2023-05-24 15:53:56.975845 Epoch 10, Train loss 0.319, Val loss 1.850, Acc_val = 0.47\n"
          ]
        },
        {
          "name": "stderr",
          "output_type": "stream",
          "text": [
            "Epoch 11: 100%|██████████| 125/125 [04:44<00:00,  2.28s/it]\n"
          ]
        },
        {
          "name": "stdout",
          "output_type": "stream",
          "text": [
            "2023-05-24 15:59:04.632561 Epoch 11, Train loss 0.380, Val loss 0.883, Acc_val = 0.72\n"
          ]
        },
        {
          "name": "stderr",
          "output_type": "stream",
          "text": [
            "Epoch 12: 100%|██████████| 125/125 [04:54<00:00,  2.36s/it]\n"
          ]
        },
        {
          "name": "stdout",
          "output_type": "stream",
          "text": [
            "2023-05-24 16:04:21.321844 Epoch 12, Train loss 0.286, Val loss 0.822, Acc_val = 0.70\n"
          ]
        },
        {
          "name": "stderr",
          "output_type": "stream",
          "text": [
            "Epoch 13: 100%|██████████| 125/125 [04:46<00:00,  2.29s/it]\n"
          ]
        },
        {
          "name": "stdout",
          "output_type": "stream",
          "text": [
            "2023-05-24 16:09:31.501953 Epoch 13, Train loss 0.278, Val loss 0.828, Acc_val = 0.71\n"
          ]
        },
        {
          "name": "stderr",
          "output_type": "stream",
          "text": [
            "Epoch 14: 100%|██████████| 125/125 [04:56<00:00,  2.37s/it]\n"
          ]
        },
        {
          "name": "stdout",
          "output_type": "stream",
          "text": [
            "2023-05-24 16:14:58.271795 Epoch 14, Train loss 0.270, Val loss 0.935, Acc_val = 0.66\n"
          ]
        },
        {
          "name": "stderr",
          "output_type": "stream",
          "text": [
            "Epoch 15: 100%|██████████| 125/125 [05:18<00:00,  2.54s/it]\n"
          ]
        },
        {
          "name": "stdout",
          "output_type": "stream",
          "text": [
            "2023-05-24 16:20:43.802670 Epoch 15, Train loss 0.271, Val loss 0.947, Acc_val = 0.49\n"
          ]
        },
        {
          "data": {
            "image/png": "[encoded data removed]",
            "text/plain": [
              "<Figure size 576x216 with 1 Axes>"
            ]
          },
          "metadata": {
            "needs_background": "light"
          },
          "output_type": "display_data"
        },
        {
          "name": "stdout",
          "output_type": "stream",
          "text": [
            "Acc =  0.5572916666666666\n",
            "Final results\n",
            "Acc_sk = 0.55\n",
            "Prec = 0.56\n",
            "Recall = 0.56\n",
            "Sens = 0.56\n",
            "Spec = 0.54\n"
          ]
        },
        {
          "data": {
            "text/plain": [
              "0.5508766180566934"
            ]
          },
          "execution_count": 26,
          "metadata": {},
          "output_type": "execute_result"
        }
      ],
      "source": [
        "model_dir = 'model_backup'\n",
        "if not os.path.exists(model_dir):  \n",
        "  os.makedirs(model_dir)\n",
        "\n",
        "DataSet_ALS = ALSDataset(dir_HC, dir_ALS)\n",
        "# model = ALS_CNN().to(device)\n",
        "model = time_CNN().to(device)\n",
        "\n",
        "# one-layer conv->fc convs:(36,24,12)\n",
        "# optimizer = optim.SGD(model.parameters(),lr=1e-3, weight_decay=1e-2) # good results (ACC = 0.64)\n",
        "# optimizer = optim.SGD(model.parameters(),lr=1e-3, weight_decay=1e-2) # good results (60 epoch. ACC = 0.71 (Sens = 0.75 / Spec = 0.67))\n",
        "# optimizer = optim.SGD(model.parameters(),lr=1e-3, weight_decay=1e-3) # (100 epoch. ACC = 0.68 (Sens = 0.72 / Spec = 0.63))\n",
        "# optimizer = optim.SGD(model.parameters(),lr=1e-3, weight_decay=2e-2) # (100 epoch. ACC = 0.69 (Sens = 0.73 / Spec = 0.65))\n",
        "# optimizer = optim.SGD(model.parameters(),lr=1e-3, weight_decay=1e-2) # (120 epoch. ACC = 0.68 (Sens = 0.72 / Spec = 0.65))\n",
        "\n",
        "# optimizer = optim.Adam(model.parameters(),lr=1e-3, weight_decay=1e-1) # weight_decay is L2 regularization\n",
        "# optimizer = optim.SGD(model.parameters(),lr=1e-3, weight_decay=1e-2) #(30 epoch. ACC = 0.65 (Sens = 0.74 / Spec = 0.56))\n",
        "# optimizer = optim.SGD(model.parameters(),lr=1e-3,momentum = 0.2, weight_decay=1e-2) #(30 epoch. ACC = 0.65 (Sens = 0.74 / Spec = 0.56))\n",
        "\n",
        "# timeCNN\n",
        "# optimizer = optim.SGD(model.parameters(),lr=1e-3,momentum = 0.2, weight_decay=1e-2) #(30 epoch. ACC = 0.71 (Sens = 0.68 / Spec = 0.75))\n",
        "# optimizer = optim.SGD(model.parameters(),lr=1e-3,momentum = 0.9, weight_decay=1e-2) #(30 epoch. ACC = 0.69 (Sens = 0.66 / Spec = 0.72))\n",
        "# optimizer = optim.Adam(model.parameters(),lr=5e-3, weight_decay=1e-1) # #(20 epoch. Acc = 0.75 (Sens = 0.75 / Spec = 0.74))\n",
        "# optimizer = optim.Adam(model.parameters(),lr=1e-2, weight_decay=2e-1) # #(20 epoch. Acc = 0.71 (Sens = 0.73 / Spec = 0.69))\n",
        "# optimizer = optim.SGD(model.parameters(),lr=5e-3,momentum = 0.1, weight_decay=1e-1) #(20 epoch. ACC = 0.71 (Sens = 0.70 / Spec = 0.71))\n",
        "# optimizer = optim.SGD(model.parameters(),lr=5e-3,momentum = 0.5, weight_decay=1e-1) #(20 epoch. ACC = 0.70 (Sens = 0.68 / Spec = 0.73))\n",
        "# dropout = 0.6\n",
        "# optimizer = optim.Adam(model.parameters(),lr=5e-3, weight_decay=1e-1) # (20 epoch. Acc = 0.73 (Sens = 0.69 / Spec = 0.77))\n",
        "# dropout = 0.1\n",
        "# optimizer = optim.Adam(model.parameters(),lr=5e-3, weight_decay=1e-1) # (20 epoch. Acc = 0.70 (Sens = 0.66 / Spec = 0.73))\n",
        "# fc2 with 16 neurons\n",
        "# optimizer = optim.Adam(model.parameters(),lr=5e-3, weight_decay=1e-1) # (20 epoch. Acc = 0.71 (Sens = 0.65 / Spec = 0.78))\n",
        "# optimizer = optim.RMSprop(model.parameters(), lr=1e-1, weight_decay=1e-1) # (20 epoch. Acc = 0.54 (1-st fold))\n",
        "# optimizer = optim.RMSprop(model.parameters(), lr=1e-3, weight_decay=1e-1) # (20 epoch. Acc = 0.63 (Sens = 0.51 / Spec = 0.75))\n",
        "# tanh adter fc1 added\n",
        "# optimizer = optim.RMSprop(model.parameters(), lr=5e-3, weight_decay=1e-1) # (15 epoch. Acc = 0.43 (Sens = 0.71 / Spec = 0.14))\n",
        "# kaiming_normal_ changed\n",
        "# optimizer = optim.RMSprop(model.parameters(), lr=5e-3, weight_decay=1e-2) # (15 epoch. Acc = 0.65 (Sens = 0.60 / Spec = 0.70)) 0.763 / 0.694 / 0.653 / 0.649 / 0.541\n",
        "# dropout-1 = 0.05\n",
        "optimizer = optim.RMSprop(model.parameters(), lr=5e-3, weight_decay=1e-2) # (15 epoch. Acc = 0.55 (Sens = 0.56 / Spec = 0.54)) 0.502 / 0.426 / 0.712 / 0.621 / 0.557\n",
        "\n",
        "\n",
        "k_fold_CV(dataset=DataSet_ALS, model = model, optimizer=optimizer, train = training_loop, n_epochs=15, k_fold=5)"
      ]
    },
    {
      "cell_type": "code",
      "execution_count": null,
      "metadata": {
        "id": "yAO8Em4VWlLS",
        "outputId": "bfe7a19e-7509-435a-b4cc-d4b47f622288"
      },
      "outputs": [
        {
          "name": "stdout",
          "output_type": "stream",
          "text": [
            "torch.Size([64, 86])\n",
            "torch.Size([1, 5504])\n",
            "torch.Size([1, 10])\n",
            "torch.Size([10])\n",
            "(2, 3)\n",
            "(1, 2, 3)\n"
          ]
        }
      ],
      "source": [
        "# Test 1\n",
        "test_img = torch.rand(64,86)\n",
        "test_img_row = test_img.view(-1,64*86)\n",
        "print(test_img.shape)\n",
        "print(test_img_row.shape)\n",
        "\n",
        "# Test 2\n",
        "test_img = torch.rand(1,10)\n",
        "test_img_row = test_img.squeeze()\n",
        "print(test_img.shape)\n",
        "print(test_img_row.shape)\n",
        "\n",
        "#Test 3\n",
        "# print(torch.sigmoid(torch.tensor(-1)), torch.sigmoid(torch.tensor(0)), torch.sigmoid(torch.tensor(1)))\n",
        "\n",
        "#Test 4\n",
        "# x = torch.randn(3)\n",
        "# x3 = torch.cat((x, x, x), 0)\n",
        "# print(x3)\n",
        "\n",
        "#Test 5\n",
        "A = np.random.random((2,3))\n",
        "print(A.shape)\n",
        "A = A.reshape((1,A.shape[0],A.shape[1]))\n",
        "print(A.shape)"
      ]
    },
    {
      "cell_type": "markdown",
      "metadata": {
        "id": "f1NHpBO-WlLS"
      },
      "source": [
        "### CV-Fold selection"
      ]
    },
    {
      "cell_type": "code",
      "execution_count": null,
      "metadata": {
        "id": "d-L-9U8NWlLT",
        "outputId": "d38df17c-f12f-413b-8fb0-2a859cee9c51"
      },
      "outputs": [
        {
          "name": "stdout",
          "output_type": "stream",
          "text": [
            "[ 26  97 117  85  53  86 127  92 102  27  32  72  39]\n",
            "Fold 1 HC age mean = 52.43, mens = 3, womens = 4\n",
            "Fold 1 ALS age mean = 56.83, mens = 3, womens = 3\n",
            "[ 28 123  63  99  81 125 129  68  21  55  48  78  42]\n",
            "Fold 2 HC age mean = 53.71, mens = 3, womens = 4\n",
            "Fold 2 ALS age mean = 58.33, mens = 4, womens = 2\n",
            "[ 61  16 115 109 111   2 107  46  84  64  52  24  76]\n",
            "Fold 3 HC age mean = 55.43, mens = 2, womens = 5\n",
            "Fold 3 ALS age mean = 59.67, mens = 4, womens = 2\n",
            "[ 77   6  65  24 131 119  25  94  62  28   8  98  22]\n",
            "Fold 4 HC age mean = 53.00, mens = 3, womens = 3\n",
            "Fold 4 ALS age mean = 60.86, mens = 5, womens = 2\n",
            "[ 49  89   4  42 113 121  96  20  58  80  31 100]\n",
            "Fold 5 HC age mean = 54.17, mens = 2, womens = 4\n",
            "Fold 5 ALS age mean = 61.00, mens = 4, womens = 2\n"
          ]
        }
      ],
      "source": [
        "file_name =  'HC_ALS_table.xlsx' # path to file + file name\n",
        "\n",
        "xls_file = pd.ExcelFile(file_name)\n",
        "# print(xls_file.sheet_names)\n",
        "\n",
        "# https://stackoverflow.com/questions/17071871/how-do-i-select-rows-from-a-dataframe-based-on-column-values\n",
        "\n",
        "df_HC = xls_file.parse('Control')\n",
        "df_ALS = xls_file.parse('ALS')\n",
        "# print(df_HC['fold']==1)\n",
        "for fold_num in range(1,6):\n",
        "    HC_fold = df_HC.loc[df_HC['fold']==fold_num]\n",
        "    ALS_fold = df_ALS.loc[df_ALS['fold']==fold_num]\n",
        "    # print(HC_fold)\n",
        "    # print(ALS_fold)\n",
        "    print(np.hstack((HC_fold['Subject code'].to_numpy(), ALS_fold['Subject code'].to_numpy())))\n",
        "    HC_age = (float)(HC_fold.loc[:, 'Age'].mean())\n",
        "    HC_m = (HC_fold.loc[HC_fold['Sex']=='m'])\n",
        "    HC_f = (HC_fold.loc[HC_fold['Sex']=='f'])\n",
        "    ALS_age = (float)(ALS_fold.loc[:, 'Age'].mean())\n",
        "    ALS_m = (ALS_fold.loc[ALS_fold['Sex']=='m'])\n",
        "    ALS_f = (ALS_fold.loc[ALS_fold['Sex']=='f'])\n",
        "    print(f'Fold {fold_num} HC age mean = {HC_age:.2f}, mens = {len(HC_m.index)}, womens = {len(HC_f.index)}')\n",
        "    print(f'Fold {fold_num} ALS age mean = {ALS_age:.2f}, mens = {len(ALS_m.index)}, womens = {len(ALS_f.index)}')"
      ]
    }
  ],
  "metadata": {
    "accelerator": "GPU",
    "colab": {
      "collapsed_sections": [
        "obe3TfzOWlK4",
        "-DOiQJHaWlLF",
        "utBoAGosWlLM"
      ],
      "gpuType": "T4",
      "provenance": [],
      "toc_visible": true
    },
    "gpuClass": "standard",
    "kernelspec": {
      "display_name": "Python 3.10.5 64-bit",
      "language": "python",
      "name": "python3"
    },
    "language_info": {
      "codemirror_mode": {
        "name": "ipython",
        "version": 3
      },
      "file_extension": ".py",
      "mimetype": "text/x-python",
      "name": "python",
      "nbconvert_exporter": "python",
      "pygments_lexer": "ipython3",
      "version": "3.10.5"
    },
    "orig_nbformat": 4,
    "vscode": {
      "interpreter": {
        "hash": "a42ccb73e7d9bfdf27e036f1d2b8b681e55fc0743cc5586bc2474d4a60f4b886"
      }
    }
  },
  "nbformat": 4,
  "nbformat_minor": 0
}
