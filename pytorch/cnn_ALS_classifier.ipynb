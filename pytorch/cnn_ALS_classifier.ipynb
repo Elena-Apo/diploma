{
 "cells": [
  {
   "cell_type": "code",
   "execution_count": 38,
   "metadata": {},
   "outputs": [],
   "source": [
    "import numpy as np\n",
    "import matplotlib.pyplot as plt\n",
    "import librosa\n",
    "import json\n",
    "import os\n",
    "import datetime\n",
    "import torch\n",
    "import torch.nn as nn\n",
    "import torch.optim as optim\n",
    "from torch.utils.data import Dataset\n",
    "import pandas as pd\n",
    "from sklearn import metrics\n",
    "# import tqdm\n",
    "from tqdm import tqdm\n",
    "import lightning as L"
   ]
  },
  {
   "cell_type": "code",
   "execution_count": 39,
   "metadata": {},
   "outputs": [
    {
     "name": "stderr",
     "output_type": "stream",
     "text": [
      "Global seed set to 42\n"
     ]
    },
    {
     "data": {
      "text/plain": [
       "42"
      ]
     },
     "execution_count": 39,
     "metadata": {},
     "output_type": "execute_result"
    }
   ],
   "source": [
    "# torch.version.cuda\n",
    "# print(torch.version.cuda)\n",
    "L.seed_everything(42)"
   ]
  },
  {
   "cell_type": "markdown",
   "metadata": {},
   "source": [
    "### Feature extraction"
   ]
  },
  {
   "cell_type": "code",
   "execution_count": 2,
   "metadata": {},
   "outputs": [
    {
     "name": "stdout",
     "output_type": "stream",
     "text": [
      "512\n"
     ]
    }
   ],
   "source": [
    "file = open(\"config.json\")\n",
    "config = json.load(file)\n",
    "# print(config.keys())\n",
    "print(config['data']['frame_size'])"
   ]
  },
  {
   "cell_type": "code",
   "execution_count": 3,
   "metadata": {},
   "outputs": [],
   "source": [
    "fs = 44100              # Hz, sampling frequency\n",
    "f_size = config['data']['frame_size']\n",
    "h_size = config['data']['hop_size']\n",
    "n_mel_channels = config['data']['n_mel_channels']\n",
    "\n",
    "supra_frame_duration = 0.5  # seconds\n",
    "supra_frame_length = round(supra_frame_duration / (h_size/fs)) # need to read from config.json / \n",
    "\n",
    "dir_HC = '../wav'+ os.sep + 'HC' + os.sep\n",
    "dir_ALS = '../wav' + os.sep + 'ALS' + os.sep\n",
    "directory_ALS = os.listdir(dir_ALS)\n",
    "directory_HC = os.listdir(dir_HC)"
   ]
  },
  {
   "cell_type": "markdown",
   "metadata": {},
   "source": [
    "### Pre-analysis (transform wav-file to mel-spectrogramms)"
   ]
  },
  {
   "cell_type": "code",
   "execution_count": 5,
   "metadata": {},
   "outputs": [],
   "source": [
    "X = np.zeros((20000,n_mel_channels, supra_frame_length))   # data\n",
    "y = np.zeros((20000,1))                     # labels\n",
    "X_global_index = 0\n",
    "X_ids = list([])\n",
    "# Cycle for HC (helthy controls)\n",
    "for i in range(len(directory_HC)):    \n",
    "    if directory_HC[i][-5:]=='a.wav':\n",
    "        # print(directory_HC[i][-5:])\n",
    "        fileName = dir_HC + directory_HC[i]\n",
    "        x, sr = librosa.load(fileName, sr=None, mono=True, offset=0.0, duration=None)\n",
    "\n",
    "        X_melspec = librosa.feature.melspectrogram(y=x, sr=sr, n_mels=64, n_fft=f_size, hop_length=h_size, window='hann', center=False, power=1.0)\n",
    "        X_melspec = 20*np.log10(X_melspec)\n",
    "            \n",
    "        frame_num = X_melspec.shape[1]    \n",
    "\n",
    "        X_melspec = X_melspec.astype(np.half)\n",
    "        X_melspec.tofile(dir_HC + directory_HC[i][:-4] +'_mel.dat')\n",
    "\n",
    "# #       #Запись фрагметов спектра в трехмерный массив \n",
    "#         N_supra_frames = frame_num - supra_frame_length + 1\n",
    "\n",
    "#         # generator comprehension\n",
    "#         gen_range = (n * 2 for n in range(0, np.floor(N_supra_frames/2).astype(int)))\n",
    "#         for n in gen_range:\n",
    "#             X[X_global_index,:,:] = X_melspec[:,n:n+supra_frame_length]\n",
    "#             X_ids.append(int(directory_HC[i][0:3]))\n",
    "#             y[X_global_index] = 0\n",
    "#             X_global_index = X_global_index +1\n",
    "    \n",
    "# Cycle for ALS (pathology)\n",
    "for i in range(len(directory_ALS)):\n",
    "    if directory_ALS[i][-5:]=='a.wav':\n",
    "        fileName = dir_ALS + directory_ALS[i]\n",
    "        x, sr = librosa.load(fileName, sr=None, mono=True, offset=0.0, duration=None)\n",
    "\n",
    "        X_melspec = librosa.feature.melspectrogram(y=x, sr=sr, n_mels=64, n_fft=f_size, hop_length=h_size, window='hann', center=False, power=1.0)\n",
    "        X_melspec = 20*np.log10(X_melspec)\n",
    "            \n",
    "        frame_num = X_melspec.shape[1]\n",
    "     \n",
    "        X_melspec = X_melspec.astype(np.half)\n",
    "        X_melspec.tofile(dir_ALS + directory_ALS[i][:-4] +'_mel.dat')\n",
    "\n",
    "# #       #Запись фрагметов спектра в трехмерный массив \n",
    "#         N_supra_frames = frame_num - supra_frame_length + 1\n",
    "\n",
    "#         # generator comprehension\n",
    "#         gen_range = (n * 2 for n in range(0, np.floor(N_supra_frames/2).astype(int)))\n",
    "#         for n in gen_range:\n",
    "#             X[X_global_index,:,:] = X_melspec[:,n:n+supra_frame_length]\n",
    "#             X_ids.append(int(directory_ALS[i][0:3]))\n",
    "#             y[X_global_index] = 1\n",
    "#             X_global_index = X_global_index + 1\n"
   ]
  },
  {
   "cell_type": "markdown",
   "metadata": {},
   "source": [
    "### Dataset and Dataloader"
   ]
  },
  {
   "cell_type": "code",
   "execution_count": 4,
   "metadata": {},
   "outputs": [],
   "source": [
    "class ALSDataset(Dataset):\n",
    "    def __init__(self, dir_HC_path, dir_ALS_path):\n",
    "        \"\"\"\n",
    "        Аргументы:\n",
    "            dir_HC_path -- путь к папке с записями здоровых голосов\n",
    "            dir_ALS_path -- путь к папке с записями голосов пациентов с БАС\n",
    "        \"\"\"\n",
    "        # self.dir_HC_path = []\n",
    "        # self.dir_ALS_path = []\n",
    "        self._ids = list([])    # speaker IDs\n",
    "        # 5-fold CV: 13+13+13+13+12\n",
    "        # ALS: 8,20,21, 22, 24, 25,27,28,31,32,39, 42,46,48,52,55,58,62,64,68,72,76,78,80,84,92,94,96,98,100,102\n",
    "        # HC : 131, 129, 127, 125, 123, 121, 119, 117, 115, 113, 111, 109, 107, 99, 97, 89, 86, 85, 81, 77, 65, 63, 61, 53, 49, 42, 28, 26, 24, 16, 6, 4, 2 \n",
    "        \n",
    "                                                                                        # HC men+women / ALS men+women\n",
    "        self.folds = list(([26,   97, 117,  85,  53,  86, 127,  92, 102,  27,  32,  72,  39], # 3+4 HC / 3+3 ALS\n",
    "                           [28,  123,  63,  99,  81, 125, 129,  68,  21,  55,  48,  78,  42], # 3+4 HC / 4+2 ALS\n",
    "                           [61,   16, 115, 109, 111,   2, 107,  46,  84,  64,  52,  24,  76], # 2+5 HC / 4+2 ALS\n",
    "                           [77,    6,  65,  24, 131, 119,  25,  94,  62,  28,   8,  98,  22], # 3+3 HC / 5+2 ALS\n",
    "                           [49,   89,   4,  42, 113, 121,  96,  20,  58,  80,  31, 100]))     # 2+4 HC / 4+2 ALS\n",
    "        \n",
    "        self.folds_val = list(([49, 42, 20, 31],\n",
    "                              [97, 53,  92, 32],\n",
    "                              [28, 99, 129, 55],  \n",
    "                              [61, 111, 84, 76],  \n",
    "                              [77, 24, 94, 8]))\n",
    "                              \n",
    "        f_size = 512            # need to read from config.json\n",
    "        h_size = 256            # need to read from config.json\n",
    "        n_mel_channels = 64     # need to read from config.json\n",
    "        supra_frame_length = 86 # need to read from config.json\n",
    "        self.X = np.zeros((20000, n_mel_channels, supra_frame_length))   # data\n",
    "        self.y = np.zeros((20000,1))                         # labels\n",
    "        X_global_index = 0\n",
    "        self.X_ids = list([])\n",
    "\n",
    "        # Cycle for HC (helthy controls)        \n",
    "        directory_HC = os.listdir(dir_HC_path)       \n",
    "        for i in range(len(directory_HC)):\n",
    "            if directory_HC[i][-9:]=='a_mel.dat':\n",
    "                fileName = dir_HC + directory_HC[i]\n",
    "            \n",
    "                X_spec = np.fromfile(dir_HC + directory_HC[i], dtype=np.half)\n",
    "                X_spec = np.reshape(X_spec,(n_mel_channels, np.floor(len(X_spec)/n_mel_channels).astype(int)))        \n",
    "\n",
    "                #Запись фрагметов спектра в трехмерный массив \n",
    "                frame_num = X_spec.shape[1]\n",
    "                N_supra_frames = frame_num - supra_frame_length + 1\n",
    "\n",
    "                # generator comprehension\n",
    "                gen_range = (n * 2 for n in range(0, np.floor(N_supra_frames/2).astype(int)))\n",
    "                for n in gen_range:\n",
    "                    self.X[X_global_index,:,:] = X_spec[:,n:n+supra_frame_length]\n",
    "                    self.X_ids.append(int(directory_HC[i][0:3]))\n",
    "                    self.y[X_global_index] = 0\n",
    "                    X_global_index = X_global_index +1\n",
    "\n",
    "        # Cycle for ALS (pathology)\n",
    "        directory_ALS = os.listdir(dir_ALS_path)       \n",
    "        for i in range(len(directory_ALS)):\n",
    "            if directory_ALS[i][-9:]=='a_mel.dat':\n",
    "                fileName = dir_ALS + directory_ALS[i]        \n",
    "\n",
    "                # print(fileName)\n",
    "\n",
    "                X_spec = np.fromfile(dir_ALS + directory_ALS[i], dtype=np.half)\n",
    "                X_spec = np.reshape(X_spec,(n_mel_channels, np.floor(len(X_spec)/n_mel_channels).astype(int)))\n",
    "\n",
    "        #       #Запись фрагметов спектра в трехмерный массив\n",
    "                frame_num = X_spec.shape[1]\n",
    "                N_supra_frames = frame_num - supra_frame_length + 1\n",
    "\n",
    "                # generator comprehension\n",
    "                gen_range = (n * 2 for n in range(0, np.floor(N_supra_frames/2).astype(int)))\n",
    "                for n in gen_range:\n",
    "                    self.X[X_global_index,:,:] = X_spec[:,n:n+supra_frame_length]\n",
    "                    self.X_ids.append(int(directory_ALS[i][0:3]))\n",
    "                    self.y[X_global_index] = 1\n",
    "                    X_global_index = X_global_index + 1\n",
    "            \n",
    "        inds_to_delete = np.array(range(self.y.shape[0]))>=X_global_index\n",
    "        self.y = np.delete(self.y,inds_to_delete)\n",
    "        self.X = np.delete(self.X,inds_to_delete, axis=0)\n",
    "\n",
    "    def __len__(self):\n",
    "        return self.X.shape[0]\n",
    "\n",
    "    def __getitem__(self, index):\n",
    "        return self.X[index,:,:], self.y[index]\n",
    "\n",
    "    def get_kth_fold_inds(self, fold_num):\n",
    "        ids_train = list([])\n",
    "        ids_val  = list([])\n",
    "        ids_test = list([])\n",
    "        for i in range(len(self.X_ids)):\n",
    "            if self.X_ids[i] in self.folds[fold_num]:\n",
    "                ids_test.append(i)\n",
    "            elif self.X_ids[i] in self.folds_val[fold_num]:\n",
    "                ids_val.append(i)\n",
    "            else:\n",
    "                ids_train.append(i)\n",
    "        return (ids_train,ids_val, ids_test)"
   ]
  },
  {
   "cell_type": "code",
   "execution_count": 6,
   "metadata": {},
   "outputs": [
    {
     "name": "stdout",
     "output_type": "stream",
     "text": [
      "label =  1.0\n"
     ]
    },
    {
     "data": {
      "image/png": "[encoded data removed]",
      "text/plain": [
       "<Figure size 432x288 with 1 Axes>"
      ]
     },
     "metadata": {
      "needs_background": "light"
     },
     "output_type": "display_data"
    }
   ],
   "source": [
    "dir_HC = '../wav'+ os.sep + 'HC' + os.sep\n",
    "dir_ALS = '../wav' + os.sep + 'ALS' + os.sep\n",
    "\n",
    "DataSet_ALS = ALSDataset(dir_HC, dir_ALS)\n",
    "# print(len(DataSet_ALS))\n",
    "X_generic, y_label = DataSet_ALS.__getitem__(16200)\n",
    "\n",
    "plt.pcolor(X_generic, cmap='jet')\n",
    "print('label = ', y_label)\n",
    "fold_0_train,fold_0_val,fold_0_test = DataSet_ALS.get_kth_fold_inds(0)\n",
    "# print(fold_0_train)\n",
    "# print(fold_0_val)\n",
    "# print(fold_0_test)"
   ]
  },
  {
   "cell_type": "markdown",
   "metadata": {},
   "source": [
    "### NN-model"
   ]
  },
  {
   "cell_type": "code",
   "execution_count": 22,
   "metadata": {},
   "outputs": [],
   "source": [
    "class ALS_FFNN(nn.Module):\n",
    "    def __init__(self):\n",
    "        super(ALS_FFNN,self).__init__() \n",
    "        # parameters\n",
    "        file = open(\"config.json\")\n",
    "        config = json.load(file)            \n",
    "        self.n_mel = config['data']['n_mel_channels']\n",
    "        self.frames_in_segment = config['data']['supra_frame_length']\n",
    "        self.drop1 = nn.Dropout(p=0.5)\n",
    "        self.fc = nn.Linear(self.n_mel*self.frames_in_segment,1)\n",
    "        nn.init.xavier_uniform_(self.fc.weight, gain=1.0,)\n",
    "    \n",
    "    def forward(self, x):\n",
    "        out = x.view(-1,self.n_mel*self.frames_in_segment)\n",
    "        out = self.drop1(out)\n",
    "        out = self.fc(out)\n",
    "        return out    "
   ]
  },
  {
   "cell_type": "code",
   "execution_count": 41,
   "metadata": {},
   "outputs": [],
   "source": [
    "def training_loop(n_epochs, optimizer, model, loss_fn, train_loader, val_loader):    \n",
    "    MODEL_PATH = \"model_backup/entire_model.pt\"\n",
    "    loss_train_history = np.ndarray((n_epochs))\n",
    "    loss_val_history = np.ndarray((n_epochs))\n",
    "    for epoch in range(1,n_epochs+1):\n",
    "        loss_train = 0.0\n",
    "        model.train()\n",
    "        best_acc = 0\n",
    "        for specs, labels in tqdm(train_loader, desc=f\"Epoch {epoch}\", leave=True): #train_loader:\n",
    "            specs = specs.float()\n",
    "            outputs = model(specs)\n",
    "            outputs = outputs.squeeze()            \n",
    "            loss = loss_fn(outputs, labels)\n",
    "            optimizer.zero_grad()\n",
    "            loss.backward()\n",
    "            optimizer.step()\n",
    "            loss_train += loss.item()\n",
    "        \n",
    "        # prediction on val set        \n",
    "        val_score = list()\n",
    "        loss_val = 0.0\n",
    "        TP_TN_sum = 0\n",
    "        model.eval()\n",
    "        with torch.no_grad():\n",
    "            for spec, label in val_loader:\n",
    "                spec = spec.float()                    \n",
    "                pred = model(spec)\n",
    "                pred = torch.squeeze(pred,1)                \n",
    "                loss = loss_fn(pred, label)\n",
    "                loss_val += loss.item()\n",
    "                val_score.append(pred.numpy())\n",
    "                if pred>0:\n",
    "                    pred = torch.tensor(1, dtype=torch.float64)                        \n",
    "                else:\n",
    "                    pred = torch.tensor(0, dtype=torch.float64)\n",
    "                if pred==label:\n",
    "                    TP_TN_sum +=1\n",
    "        acc_val = TP_TN_sum/len(val_score)    \n",
    "        \n",
    "        loss_train_history[epoch-1] = loss_train\n",
    "        loss_val_history[epoch-1] = loss_val\n",
    "\n",
    "        if acc_val>best_acc:\n",
    "            torch.save(model, MODEL_PATH)\n",
    "\n",
    "        if epoch==1 or epoch%2==0:                                                            \n",
    "            print(f'{datetime.datetime.now()} Epoch {epoch}, Train loss {loss_train / len(train_loader):.3f}, Val loss {loss_val / len(val_loader):.3f}, Acc_val = {acc_val:.2f}')\n",
    "    model = torch.load(MODEL_PATH)\n",
    "\n",
    "    fig, ax = plt.subplots(figsize=(10,4))\n",
    "    plt.rcParams.update({'font.size': 14})\n",
    "    plt.plot(range(n_epochs), loss_train_history, label='Обучающий набор')\n",
    "    plt.plot(range(n_epochs), loss_val_history, label='Проверочный набор')\n",
    "    plt.legend()\n",
    "    plt.xlabel('Эпоха')\n",
    "    plt.ylabel('Ошибка обучения')\n",
    "    plt.show()\n",
    "    # Saving results\n",
    "    # image_name = f'figures/loss_NN.jpg'\n",
    "    # fig.savefig(image_name, format='jpg', dpi=110, bbox_inches='tight', pad_inches = 0.2)"
   ]
  },
  {
   "cell_type": "markdown",
   "metadata": {},
   "source": [
    "### Single NN training & evaluation"
   ]
  },
  {
   "cell_type": "code",
   "execution_count": 37,
   "metadata": {},
   "outputs": [
    {
     "name": "stderr",
     "output_type": "stream",
     "text": [
      "                                                           \r"
     ]
    },
    {
     "name": "stdout",
     "output_type": "stream",
     "text": [
      "2023-05-16 10:51:32.257961 Epoch 1, Train loss 34.347, Val loss 2.987, Acc_val = 0.63\n"
     ]
    },
    {
     "name": "stderr",
     "output_type": "stream",
     "text": [
      "                                                           \r"
     ]
    },
    {
     "name": "stdout",
     "output_type": "stream",
     "text": [
      "2023-05-16 10:51:34.010378 Epoch 2, Train loss 28.216, Val loss 0.468, Acc_val = 0.92\n"
     ]
    },
    {
     "name": "stderr",
     "output_type": "stream",
     "text": [
      "                                                           \r"
     ]
    },
    {
     "name": "stdout",
     "output_type": "stream",
     "text": [
      "2023-05-16 10:51:37.539434 Epoch 4, Train loss 21.095, Val loss 1.258, Acc_val = 0.88\n"
     ]
    },
    {
     "name": "stderr",
     "output_type": "stream",
     "text": [
      "                                                           \r"
     ]
    },
    {
     "name": "stdout",
     "output_type": "stream",
     "text": [
      "2023-05-16 10:51:41.158165 Epoch 6, Train loss 17.555, Val loss 0.174, Acc_val = 0.97\n"
     ]
    },
    {
     "name": "stderr",
     "output_type": "stream",
     "text": [
      "                                                           \r"
     ]
    },
    {
     "name": "stdout",
     "output_type": "stream",
     "text": [
      "2023-05-16 10:51:44.654821 Epoch 8, Train loss 14.781, Val loss 1.885, Acc_val = 0.87\n"
     ]
    },
    {
     "name": "stderr",
     "output_type": "stream",
     "text": [
      "                                                            \r"
     ]
    },
    {
     "name": "stdout",
     "output_type": "stream",
     "text": [
      "2023-05-16 10:51:48.323796 Epoch 10, Train loss 13.449, Val loss 2.240, Acc_val = 0.88\n"
     ]
    },
    {
     "name": "stderr",
     "output_type": "stream",
     "text": [
      "                                                            \r"
     ]
    },
    {
     "name": "stdout",
     "output_type": "stream",
     "text": [
      "2023-05-16 10:51:51.888036 Epoch 12, Train loss 10.972, Val loss 0.715, Acc_val = 0.91\n"
     ]
    },
    {
     "name": "stderr",
     "output_type": "stream",
     "text": [
      "                                                            \r"
     ]
    },
    {
     "name": "stdout",
     "output_type": "stream",
     "text": [
      "2023-05-16 10:51:55.598764 Epoch 14, Train loss 10.094, Val loss 0.044, Acc_val = 0.98\n"
     ]
    },
    {
     "name": "stderr",
     "output_type": "stream",
     "text": [
      "                                                            \r"
     ]
    },
    {
     "name": "stdout",
     "output_type": "stream",
     "text": [
      "2023-05-16 10:51:59.316159 Epoch 16, Train loss 8.723, Val loss 1.682, Acc_val = 0.87\n"
     ]
    },
    {
     "name": "stderr",
     "output_type": "stream",
     "text": [
      "                                                            \r"
     ]
    },
    {
     "name": "stdout",
     "output_type": "stream",
     "text": [
      "2023-05-16 10:52:02.765205 Epoch 18, Train loss 7.697, Val loss 2.592, Acc_val = 0.84\n"
     ]
    },
    {
     "name": "stderr",
     "output_type": "stream",
     "text": [
      "                                                            \r"
     ]
    },
    {
     "name": "stdout",
     "output_type": "stream",
     "text": [
      "2023-05-16 10:52:06.102076 Epoch 20, Train loss 6.879, Val loss 0.923, Acc_val = 0.89\n"
     ]
    },
    {
     "data": {
      "image/png": "[encoded data removed]",
      "text/plain": [
       "<Figure size 720x288 with 1 Axes>"
      ]
     },
     "metadata": {
      "needs_background": "light"
     },
     "output_type": "display_data"
    }
   ],
   "source": [
    "fold_0_train_inds,fold_0_val_inds,fold_0_test_inds = DataSet_ALS.get_kth_fold_inds(0)\n",
    "train_set = torch.utils.data.dataset.Subset(DataSet_ALS, fold_0_train_inds)\n",
    "val_set = torch.utils.data.dataset.Subset(DataSet_ALS, fold_0_val_inds)\n",
    "\n",
    "train_loader = torch.utils.data.DataLoader(train_set, batch_size=50, shuffle=True) # num_workers=1\n",
    "val_loader = torch.utils.data.DataLoader(val_set, batch_size=1, shuffle=False) # num_workers=1\n",
    "\n",
    "ALS_ffnn = ALS_FFNN()\n",
    "ALS_ffnn.train()\n",
    "\n",
    "# summary(ALS_cnn,(64*86))\n",
    "# optimizer = optim.SGD(ALS_cnn.parameters(), lr=1e-3, momentum=0.10)\n",
    "optimizer = optim.Adam(ALS_ffnn.parameters(),lr=1e-4)\n",
    "\n",
    "# loss_fn = nn.CrossEntropyLoss()\n",
    "# pos_weight = torch.ones([1])\n",
    "# loss_fn = nn.BCEWithLogitsLoss(pos_weight = pos_weight)\n",
    "\n",
    "loss_fn = nn.BCEWithLogitsLoss()\n",
    "\n",
    "training_loop(\n",
    "    n_epochs=20,\n",
    "    optimizer=optimizer,\n",
    "    model=ALS_ffnn,\n",
    "    loss_fn=loss_fn,\n",
    "    train_loader=train_loader,\n",
    "    val_loader = val_loader\n",
    ")"
   ]
  },
  {
   "cell_type": "code",
   "execution_count": null,
   "metadata": {},
   "outputs": [],
   "source": [
    "ALS_ffnn.eval()\n",
    "\n",
    "test_set = torch.utils.data.dataset.Subset(DataSet_ALS, fold_0_test_inds)\n",
    "test_loader = torch.utils.data.DataLoader(test_set, batch_size=1, shuffle=False) # num_workers=1\n",
    "\n",
    "test_score = list()\n",
    "TP_TN_sum = 0\n",
    "with torch.no_grad():\n",
    "    for spec, label in test_loader:\n",
    "        spec = spec.float()\n",
    "        spec = spec.squeeze()\n",
    "        pred = ALS_ffnn(spec)\n",
    "        test_score.append(pred.numpy())\n",
    "        if pred>0:\n",
    "            pred = torch.tensor(1, dtype=torch.float64)\n",
    "        else:\n",
    "            pred = torch.tensor(0, dtype=torch.float64)\n",
    "            # print('Neg example')    \n",
    "        if pred==label:\n",
    "            TP_TN_sum +=1\n",
    "\n",
    "print('Acc = ', TP_TN_sum/len(test_score))\n",
    "\n",
    "test_score = np.array(test_score).squeeze()\n",
    "plt.plot(test_score)"
   ]
  },
  {
   "cell_type": "markdown",
   "metadata": {},
   "source": [
    "### Train with 5-fold CV"
   ]
  },
  {
   "cell_type": "code",
   "execution_count": 19,
   "metadata": {},
   "outputs": [],
   "source": [
    "def crossvalid(dataset=None, model = None, train = None, optimizer = None, n_epochs = 20, k_fold=5):    \n",
    "    \n",
    "    total_size = len(dataset)\n",
    "    y_pred = np.ndarray(total_size)\n",
    "    y_true = np.ndarray(total_size)\n",
    "\n",
    "    for i in range(k_fold):\n",
    "        \n",
    "        inds_train,inds_val,inds_test = dataset.get_kth_fold_inds(i)                \n",
    "        \n",
    "        train_set = torch.utils.data.dataset.Subset(dataset,inds_train)\n",
    "        val_set = torch.utils.data.dataset.Subset(dataset,inds_val)\n",
    "        test_set = torch.utils.data.dataset.Subset(dataset,inds_test)\n",
    "                \n",
    "        train_loader = torch.utils.data.DataLoader(train_set, batch_size=50,shuffle=True)  # num_workers=2\n",
    "        val_loader = torch.utils.data.DataLoader(val_set, batch_size=1, shuffle=False)\n",
    "        test_loader = torch.utils.data.DataLoader(test_set, batch_size=1, shuffle=False)    # num_workers=2\n",
    "        \n",
    "        with torch.no_grad():\n",
    "            for layer in model.children():\n",
    "                if hasattr(layer, 'reset_parameters'):\n",
    "                    layer.reset_parameters()\n",
    "        \n",
    "        model.train()        \n",
    "\n",
    "        loss_fn = nn.BCEWithLogitsLoss()\n",
    "\n",
    "        train(\n",
    "            n_epochs=n_epochs,\n",
    "            optimizer=optimizer,\n",
    "            model=model,\n",
    "            loss_fn=loss_fn,\n",
    "            train_loader=train_loader,\n",
    "            val_loader=val_loader\n",
    "        )\n",
    "\n",
    "        # prediction on test set        \n",
    "        test_score = list()\n",
    "        TP_TN_sum = 0\n",
    "        model.eval()\n",
    "        with torch.no_grad():\n",
    "            i = 0\n",
    "            for spec, label in test_loader:\n",
    "                spec = spec.float()\n",
    "                spec = spec.squeeze()\n",
    "                pred = model(spec)\n",
    "                test_score.append(pred.numpy())\n",
    "                if pred>0:\n",
    "                    pred = torch.tensor(1, dtype=torch.float64)\n",
    "                    y_pred[inds_test[i]] = 1\n",
    "                else:\n",
    "                    pred = torch.tensor(0, dtype=torch.float64)                \n",
    "                    y_pred[inds_test[i]] = 0\n",
    "                y_true[inds_test[i]] = label\n",
    "                if pred==label:\n",
    "                    TP_TN_sum +=1                \n",
    "                i +=1                 \n",
    "            print('Acc = ', TP_TN_sum/len(test_score))\n",
    "\n",
    "    acc_sk = metrics.accuracy_score(y_true, y_pred)\n",
    "    recall = metrics.recall_score(y_true, y_pred)\n",
    "    prec = metrics.precision_score(y_true, y_pred)\n",
    "    tn, fp, fn, tp = metrics.confusion_matrix(y_true, y_pred).ravel()\n",
    "    sensetivity = tp / (tp+fn)\n",
    "    specificity = tn / (tn+fp)\n",
    "    print('Final results')\n",
    "    print(f'Acc_sk = {acc_sk:.2f}', )\n",
    "    print(f'Prec = {prec:.2f}')\n",
    "    print(f'Recall = {recall:.2f}')\n",
    "    print(f'Sens = {sensetivity:.2f}')\n",
    "    print(f'Spec = {specificity:.2f}')\n",
    "\n",
    "        # val_acc = valid(res_model,criterion,optimizer,val_loader)\n",
    "        # val_score.at[i] = val_acc\n",
    "    \n",
    "    return acc_sk\n",
    "        \n",
    "# https://stackoverflow.com/questions/60883696/k-fold-cross-validation-using-dataloaders-in-pytorch"
   ]
  },
  {
   "cell_type": "markdown",
   "metadata": {},
   "source": [
    "#### Start script"
   ]
  },
  {
   "cell_type": "code",
   "execution_count": 42,
   "metadata": {},
   "outputs": [
    {
     "name": "stderr",
     "output_type": "stream",
     "text": [
      "Epoch 1: 100%|██████████| 250/250 [00:01<00:00, 197.33it/s]\n"
     ]
    },
    {
     "name": "stdout",
     "output_type": "stream",
     "text": [
      "2023-05-16 11:17:21.941363 Epoch 1, Train loss 14.767, Val loss 1.923, Acc_val = 0.57\n"
     ]
    },
    {
     "name": "stderr",
     "output_type": "stream",
     "text": [
      "Epoch 2: 100%|██████████| 250/250 [00:01<00:00, 196.47it/s]\n"
     ]
    },
    {
     "name": "stdout",
     "output_type": "stream",
     "text": [
      "2023-05-16 11:17:23.797091 Epoch 2, Train loss 12.615, Val loss 0.148, Acc_val = 0.94\n"
     ]
    },
    {
     "name": "stderr",
     "output_type": "stream",
     "text": [
      "Epoch 3: 100%|██████████| 250/250 [00:01<00:00, 201.53it/s]\n",
      "Epoch 4: 100%|██████████| 250/250 [00:01<00:00, 201.59it/s]\n"
     ]
    },
    {
     "name": "stdout",
     "output_type": "stream",
     "text": [
      "2023-05-16 11:17:27.379611 Epoch 4, Train loss 10.427, Val loss 0.345, Acc_val = 0.89\n"
     ]
    },
    {
     "name": "stderr",
     "output_type": "stream",
     "text": [
      "Epoch 5: 100%|██████████| 250/250 [00:01<00:00, 197.25it/s]\n",
      "Epoch 6: 100%|██████████| 250/250 [00:01<00:00, 199.94it/s]\n"
     ]
    },
    {
     "name": "stdout",
     "output_type": "stream",
     "text": [
      "2023-05-16 11:17:31.058756 Epoch 6, Train loss 9.156, Val loss 0.270, Acc_val = 0.91\n"
     ]
    },
    {
     "name": "stderr",
     "output_type": "stream",
     "text": [
      "Epoch 7: 100%|██████████| 250/250 [00:01<00:00, 201.52it/s]\n",
      "Epoch 8: 100%|██████████| 250/250 [00:01<00:00, 193.38it/s]\n"
     ]
    },
    {
     "name": "stdout",
     "output_type": "stream",
     "text": [
      "2023-05-16 11:17:34.723038 Epoch 8, Train loss 7.991, Val loss 0.669, Acc_val = 0.87\n"
     ]
    },
    {
     "name": "stderr",
     "output_type": "stream",
     "text": [
      "Epoch 9: 100%|██████████| 250/250 [00:01<00:00, 199.43it/s]\n",
      "Epoch 10: 100%|██████████| 250/250 [00:01<00:00, 193.52it/s]\n"
     ]
    },
    {
     "name": "stdout",
     "output_type": "stream",
     "text": [
      "2023-05-16 11:17:38.350274 Epoch 10, Train loss 7.048, Val loss 0.501, Acc_val = 0.89\n"
     ]
    },
    {
     "name": "stderr",
     "output_type": "stream",
     "text": [
      "Epoch 11: 100%|██████████| 250/250 [00:01<00:00, 197.74it/s]\n",
      "Epoch 12: 100%|██████████| 250/250 [00:01<00:00, 195.73it/s]\n"
     ]
    },
    {
     "name": "stdout",
     "output_type": "stream",
     "text": [
      "2023-05-16 11:17:42.024832 Epoch 12, Train loss 6.607, Val loss 0.366, Acc_val = 0.90\n"
     ]
    },
    {
     "name": "stderr",
     "output_type": "stream",
     "text": [
      "Epoch 13: 100%|██████████| 250/250 [00:01<00:00, 202.73it/s]\n",
      "Epoch 14: 100%|██████████| 250/250 [00:01<00:00, 200.27it/s]\n"
     ]
    },
    {
     "name": "stdout",
     "output_type": "stream",
     "text": [
      "2023-05-16 11:17:45.590799 Epoch 14, Train loss 6.101, Val loss 0.870, Acc_val = 0.87\n"
     ]
    },
    {
     "name": "stderr",
     "output_type": "stream",
     "text": [
      "Epoch 15: 100%|██████████| 250/250 [00:01<00:00, 184.59it/s]\n"
     ]
    },
    {
     "data": {
      "image/png": "[encoded data removed]",
      "text/plain": [
       "<Figure size 720x288 with 1 Axes>"
      ]
     },
     "metadata": {
      "needs_background": "light"
     },
     "output_type": "display_data"
    },
    {
     "name": "stdout",
     "output_type": "stream",
     "text": [
      "Acc =  0.8444940476190477\n"
     ]
    },
    {
     "name": "stderr",
     "output_type": "stream",
     "text": [
      "Epoch 1: 100%|██████████| 274/274 [00:01<00:00, 201.55it/s]\n"
     ]
    },
    {
     "name": "stdout",
     "output_type": "stream",
     "text": [
      "2023-05-16 11:17:50.164065 Epoch 1, Train loss 14.138, Val loss 0.661, Acc_val = 0.78\n"
     ]
    },
    {
     "name": "stderr",
     "output_type": "stream",
     "text": [
      "Epoch 2: 100%|██████████| 274/274 [00:01<00:00, 188.86it/s]\n"
     ]
    },
    {
     "name": "stdout",
     "output_type": "stream",
     "text": [
      "2023-05-16 11:17:51.966301 Epoch 2, Train loss 11.492, Val loss 0.078, Acc_val = 0.97\n"
     ]
    },
    {
     "name": "stderr",
     "output_type": "stream",
     "text": [
      "Epoch 3: 100%|██████████| 274/274 [00:01<00:00, 198.66it/s]\n",
      "Epoch 4: 100%|██████████| 274/274 [00:01<00:00, 195.70it/s]\n"
     ]
    },
    {
     "name": "stdout",
     "output_type": "stream",
     "text": [
      "2023-05-16 11:17:55.447893 Epoch 4, Train loss 9.174, Val loss 0.582, Acc_val = 0.83\n"
     ]
    },
    {
     "name": "stderr",
     "output_type": "stream",
     "text": [
      "Epoch 5: 100%|██████████| 274/274 [00:01<00:00, 200.53it/s]\n",
      "Epoch 6: 100%|██████████| 274/274 [00:01<00:00, 197.96it/s]\n"
     ]
    },
    {
     "name": "stdout",
     "output_type": "stream",
     "text": [
      "2023-05-16 11:17:58.930563 Epoch 6, Train loss 7.597, Val loss 0.545, Acc_val = 0.90\n"
     ]
    },
    {
     "name": "stderr",
     "output_type": "stream",
     "text": [
      "Epoch 7: 100%|██████████| 274/274 [00:01<00:00, 209.39it/s]\n",
      "Epoch 8: 100%|██████████| 274/274 [00:01<00:00, 198.51it/s]\n"
     ]
    },
    {
     "name": "stdout",
     "output_type": "stream",
     "text": [
      "2023-05-16 11:18:02.309327 Epoch 8, Train loss 6.620, Val loss 0.776, Acc_val = 0.89\n"
     ]
    },
    {
     "name": "stderr",
     "output_type": "stream",
     "text": [
      "Epoch 9: 100%|██████████| 274/274 [00:01<00:00, 190.53it/s]\n",
      "Epoch 10: 100%|██████████| 274/274 [00:01<00:00, 199.81it/s]\n"
     ]
    },
    {
     "name": "stdout",
     "output_type": "stream",
     "text": [
      "2023-05-16 11:18:05.825828 Epoch 10, Train loss 5.761, Val loss 2.051, Acc_val = 0.76\n"
     ]
    },
    {
     "name": "stderr",
     "output_type": "stream",
     "text": [
      "Epoch 11: 100%|██████████| 274/274 [00:01<00:00, 196.28it/s]\n",
      "Epoch 12: 100%|██████████| 274/274 [00:01<00:00, 183.59it/s]\n"
     ]
    },
    {
     "name": "stdout",
     "output_type": "stream",
     "text": [
      "2023-05-16 11:18:09.399220 Epoch 12, Train loss 5.403, Val loss 0.875, Acc_val = 0.82\n"
     ]
    },
    {
     "name": "stderr",
     "output_type": "stream",
     "text": [
      "Epoch 13: 100%|██████████| 274/274 [00:01<00:00, 199.64it/s]\n",
      "Epoch 14: 100%|██████████| 274/274 [00:01<00:00, 196.75it/s]\n"
     ]
    },
    {
     "name": "stdout",
     "output_type": "stream",
     "text": [
      "2023-05-16 11:18:12.867238 Epoch 14, Train loss 4.791, Val loss 1.254, Acc_val = 0.88\n"
     ]
    },
    {
     "name": "stderr",
     "output_type": "stream",
     "text": [
      "Epoch 15: 100%|██████████| 274/274 [00:01<00:00, 191.62it/s]\n"
     ]
    },
    {
     "data": {
      "image/png": "[encoded data removed]",
      "text/plain": [
       "<Figure size 720x288 with 1 Axes>"
      ]
     },
     "metadata": {
      "needs_background": "light"
     },
     "output_type": "display_data"
    },
    {
     "name": "stdout",
     "output_type": "stream",
     "text": [
      "Acc =  0.7378668171557562\n"
     ]
    },
    {
     "name": "stderr",
     "output_type": "stream",
     "text": [
      "Epoch 1: 100%|██████████| 254/254 [00:01<00:00, 195.40it/s]\n"
     ]
    },
    {
     "name": "stdout",
     "output_type": "stream",
     "text": [
      "2023-05-16 11:18:17.229712 Epoch 1, Train loss 14.453, Val loss 4.518, Acc_val = 0.41\n"
     ]
    },
    {
     "name": "stderr",
     "output_type": "stream",
     "text": [
      "Epoch 2: 100%|██████████| 254/254 [00:01<00:00, 204.52it/s]\n"
     ]
    },
    {
     "name": "stdout",
     "output_type": "stream",
     "text": [
      "2023-05-16 11:18:18.877666 Epoch 2, Train loss 11.534, Val loss 1.803, Acc_val = 0.66\n"
     ]
    },
    {
     "name": "stderr",
     "output_type": "stream",
     "text": [
      "Epoch 3: 100%|██████████| 254/254 [00:01<00:00, 188.29it/s]\n",
      "Epoch 4: 100%|██████████| 254/254 [00:01<00:00, 196.06it/s]\n"
     ]
    },
    {
     "name": "stdout",
     "output_type": "stream",
     "text": [
      "2023-05-16 11:18:22.314517 Epoch 4, Train loss 9.094, Val loss 1.998, Acc_val = 0.84\n"
     ]
    },
    {
     "name": "stderr",
     "output_type": "stream",
     "text": [
      "Epoch 5: 100%|██████████| 254/254 [00:01<00:00, 194.85it/s]\n",
      "Epoch 6: 100%|██████████| 254/254 [00:01<00:00, 193.17it/s]\n"
     ]
    },
    {
     "name": "stdout",
     "output_type": "stream",
     "text": [
      "2023-05-16 11:18:25.744018 Epoch 6, Train loss 7.464, Val loss 2.804, Acc_val = 0.85\n"
     ]
    },
    {
     "name": "stderr",
     "output_type": "stream",
     "text": [
      "Epoch 7: 100%|██████████| 254/254 [00:01<00:00, 196.51it/s]\n",
      "Epoch 8: 100%|██████████| 254/254 [00:01<00:00, 206.58it/s]\n"
     ]
    },
    {
     "name": "stdout",
     "output_type": "stream",
     "text": [
      "2023-05-16 11:18:29.058664 Epoch 8, Train loss 6.752, Val loss 1.842, Acc_val = 0.84\n"
     ]
    },
    {
     "name": "stderr",
     "output_type": "stream",
     "text": [
      "Epoch 9: 100%|██████████| 254/254 [00:01<00:00, 204.67it/s]\n",
      "Epoch 10: 100%|██████████| 254/254 [00:01<00:00, 187.75it/s]\n"
     ]
    },
    {
     "name": "stdout",
     "output_type": "stream",
     "text": [
      "2023-05-16 11:18:32.503654 Epoch 10, Train loss 6.098, Val loss 2.071, Acc_val = 0.85\n"
     ]
    },
    {
     "name": "stderr",
     "output_type": "stream",
     "text": [
      "Epoch 11: 100%|██████████| 254/254 [00:01<00:00, 203.83it/s]\n",
      "Epoch 12: 100%|██████████| 254/254 [00:01<00:00, 203.20it/s]\n"
     ]
    },
    {
     "name": "stdout",
     "output_type": "stream",
     "text": [
      "2023-05-16 11:18:35.811760 Epoch 12, Train loss 5.265, Val loss 1.712, Acc_val = 0.84\n"
     ]
    },
    {
     "name": "stderr",
     "output_type": "stream",
     "text": [
      "Epoch 13: 100%|██████████| 254/254 [00:01<00:00, 193.12it/s]\n",
      "Epoch 14: 100%|██████████| 254/254 [00:01<00:00, 196.38it/s]\n"
     ]
    },
    {
     "name": "stdout",
     "output_type": "stream",
     "text": [
      "2023-05-16 11:18:39.230747 Epoch 14, Train loss 4.877, Val loss 1.818, Acc_val = 0.85\n"
     ]
    },
    {
     "name": "stderr",
     "output_type": "stream",
     "text": [
      "Epoch 15: 100%|██████████| 254/254 [00:01<00:00, 204.73it/s]\n"
     ]
    },
    {
     "data": {
      "image/png": "[encoded data removed]",
      "text/plain": [
       "<Figure size 720x288 with 1 Axes>"
      ]
     },
     "metadata": {
      "needs_background": "light"
     },
     "output_type": "display_data"
    },
    {
     "name": "stdout",
     "output_type": "stream",
     "text": [
      "Acc =  0.5379834254143646\n"
     ]
    },
    {
     "name": "stderr",
     "output_type": "stream",
     "text": [
      "Epoch 1: 100%|██████████| 263/263 [00:01<00:00, 187.35it/s]\n"
     ]
    },
    {
     "name": "stdout",
     "output_type": "stream",
     "text": [
      "2023-05-16 11:18:43.631506 Epoch 1, Train loss 14.280, Val loss 4.830, Acc_val = 0.38\n"
     ]
    },
    {
     "name": "stderr",
     "output_type": "stream",
     "text": [
      "Epoch 2: 100%|██████████| 263/263 [00:01<00:00, 204.45it/s]\n"
     ]
    },
    {
     "name": "stdout",
     "output_type": "stream",
     "text": [
      "2023-05-16 11:18:45.241792 Epoch 2, Train loss 12.200, Val loss 0.552, Acc_val = 0.82\n"
     ]
    },
    {
     "name": "stderr",
     "output_type": "stream",
     "text": [
      "Epoch 3: 100%|██████████| 263/263 [00:01<00:00, 195.89it/s]\n",
      "Epoch 4: 100%|██████████| 263/263 [00:01<00:00, 192.01it/s]\n"
     ]
    },
    {
     "name": "stdout",
     "output_type": "stream",
     "text": [
      "2023-05-16 11:18:48.589423 Epoch 4, Train loss 10.016, Val loss 2.861, Acc_val = 0.69\n"
     ]
    },
    {
     "name": "stderr",
     "output_type": "stream",
     "text": [
      "Epoch 5: 100%|██████████| 263/263 [00:01<00:00, 204.57it/s]\n",
      "Epoch 6: 100%|██████████| 263/263 [00:01<00:00, 199.61it/s]\n"
     ]
    },
    {
     "name": "stdout",
     "output_type": "stream",
     "text": [
      "2023-05-16 11:18:51.852587 Epoch 6, Train loss 8.330, Val loss 3.650, Acc_val = 0.69\n"
     ]
    },
    {
     "name": "stderr",
     "output_type": "stream",
     "text": [
      "Epoch 7: 100%|██████████| 263/263 [00:01<00:00, 191.96it/s]\n",
      "Epoch 8: 100%|██████████| 263/263 [00:01<00:00, 191.18it/s]\n"
     ]
    },
    {
     "name": "stdout",
     "output_type": "stream",
     "text": [
      "2023-05-16 11:18:55.250371 Epoch 8, Train loss 7.231, Val loss 10.120, Acc_val = 0.42\n"
     ]
    },
    {
     "name": "stderr",
     "output_type": "stream",
     "text": [
      "Epoch 9: 100%|██████████| 263/263 [00:01<00:00, 200.12it/s]\n",
      "Epoch 10: 100%|██████████| 263/263 [00:01<00:00, 205.60it/s]\n"
     ]
    },
    {
     "name": "stdout",
     "output_type": "stream",
     "text": [
      "2023-05-16 11:18:58.478688 Epoch 10, Train loss 6.431, Val loss 8.800, Acc_val = 0.61\n"
     ]
    },
    {
     "name": "stderr",
     "output_type": "stream",
     "text": [
      "Epoch 11: 100%|██████████| 263/263 [00:01<00:00, 185.30it/s]\n",
      "Epoch 12: 100%|██████████| 263/263 [00:01<00:00, 201.80it/s]\n"
     ]
    },
    {
     "name": "stdout",
     "output_type": "stream",
     "text": [
      "2023-05-16 11:19:01.847919 Epoch 12, Train loss 5.809, Val loss 8.392, Acc_val = 0.69\n"
     ]
    },
    {
     "name": "stderr",
     "output_type": "stream",
     "text": [
      "Epoch 13: 100%|██████████| 263/263 [00:01<00:00, 211.95it/s]\n",
      "Epoch 14: 100%|██████████| 263/263 [00:01<00:00, 190.05it/s]\n"
     ]
    },
    {
     "name": "stdout",
     "output_type": "stream",
     "text": [
      "2023-05-16 11:19:05.122144 Epoch 14, Train loss 5.311, Val loss 8.593, Acc_val = 0.69\n"
     ]
    },
    {
     "name": "stderr",
     "output_type": "stream",
     "text": [
      "Epoch 15: 100%|██████████| 263/263 [00:01<00:00, 189.54it/s]\n"
     ]
    },
    {
     "data": {
      "image/png": "[encoded data removed]",
      "text/plain": [
       "<Figure size 720x288 with 1 Axes>"
      ]
     },
     "metadata": {
      "needs_background": "light"
     },
     "output_type": "display_data"
    },
    {
     "name": "stdout",
     "output_type": "stream",
     "text": [
      "Acc =  0.8073741432285512\n"
     ]
    },
    {
     "name": "stderr",
     "output_type": "stream",
     "text": [
      "Epoch 1: 100%|██████████| 250/250 [00:01<00:00, 203.48it/s]\n"
     ]
    },
    {
     "name": "stdout",
     "output_type": "stream",
     "text": [
      "2023-05-16 11:19:09.640775 Epoch 1, Train loss 14.296, Val loss 1.515, Acc_val = 0.61\n"
     ]
    },
    {
     "name": "stderr",
     "output_type": "stream",
     "text": [
      "Epoch 2: 100%|██████████| 250/250 [00:01<00:00, 190.70it/s]\n"
     ]
    },
    {
     "name": "stdout",
     "output_type": "stream",
     "text": [
      "2023-05-16 11:19:11.701187 Epoch 2, Train loss 11.756, Val loss 2.028, Acc_val = 0.83\n"
     ]
    },
    {
     "name": "stderr",
     "output_type": "stream",
     "text": [
      "Epoch 3: 100%|██████████| 250/250 [00:01<00:00, 201.94it/s]\n",
      "Epoch 4: 100%|██████████| 250/250 [00:01<00:00, 194.95it/s]\n"
     ]
    },
    {
     "name": "stdout",
     "output_type": "stream",
     "text": [
      "2023-05-16 11:19:15.345519 Epoch 4, Train loss 9.397, Val loss 2.520, Acc_val = 0.81\n"
     ]
    },
    {
     "name": "stderr",
     "output_type": "stream",
     "text": [
      "Epoch 5: 100%|██████████| 250/250 [00:01<00:00, 184.53it/s]\n",
      "Epoch 6: 100%|██████████| 250/250 [00:01<00:00, 204.40it/s]\n"
     ]
    },
    {
     "name": "stdout",
     "output_type": "stream",
     "text": [
      "2023-05-16 11:19:19.018563 Epoch 6, Train loss 7.885, Val loss 2.725, Acc_val = 0.70\n"
     ]
    },
    {
     "name": "stderr",
     "output_type": "stream",
     "text": [
      "Epoch 7: 100%|██████████| 250/250 [00:01<00:00, 204.15it/s]\n",
      "Epoch 8: 100%|██████████| 250/250 [00:01<00:00, 189.64it/s]\n"
     ]
    },
    {
     "name": "stdout",
     "output_type": "stream",
     "text": [
      "2023-05-16 11:19:22.681458 Epoch 8, Train loss 7.163, Val loss 3.439, Acc_val = 0.75\n"
     ]
    },
    {
     "name": "stderr",
     "output_type": "stream",
     "text": [
      "Epoch 9: 100%|██████████| 250/250 [00:01<00:00, 195.70it/s]\n",
      "Epoch 10: 100%|██████████| 250/250 [00:01<00:00, 201.70it/s]\n"
     ]
    },
    {
     "name": "stdout",
     "output_type": "stream",
     "text": [
      "2023-05-16 11:19:26.321632 Epoch 10, Train loss 6.356, Val loss 4.378, Acc_val = 0.81\n"
     ]
    },
    {
     "name": "stderr",
     "output_type": "stream",
     "text": [
      "Epoch 11: 100%|██████████| 250/250 [00:01<00:00, 193.76it/s]\n",
      "Epoch 12: 100%|██████████| 250/250 [00:01<00:00, 206.58it/s]\n"
     ]
    },
    {
     "name": "stdout",
     "output_type": "stream",
     "text": [
      "2023-05-16 11:19:29.943259 Epoch 12, Train loss 5.782, Val loss 5.382, Acc_val = 0.83\n"
     ]
    },
    {
     "name": "stderr",
     "output_type": "stream",
     "text": [
      "Epoch 13: 100%|██████████| 250/250 [00:01<00:00, 190.94it/s]\n",
      "Epoch 14: 100%|██████████| 250/250 [00:01<00:00, 206.24it/s]\n"
     ]
    },
    {
     "name": "stdout",
     "output_type": "stream",
     "text": [
      "2023-05-16 11:19:33.613251 Epoch 14, Train loss 5.481, Val loss 4.302, Acc_val = 0.66\n"
     ]
    },
    {
     "name": "stderr",
     "output_type": "stream",
     "text": [
      "Epoch 15: 100%|██████████| 250/250 [00:01<00:00, 198.96it/s]\n"
     ]
    },
    {
     "data": {
      "image/png": "[encoded data removed]",
      "text/plain": [
       "<Figure size 720x288 with 1 Axes>"
      ]
     },
     "metadata": {
      "needs_background": "light"
     },
     "output_type": "display_data"
    },
    {
     "name": "stdout",
     "output_type": "stream",
     "text": [
      "Acc =  0.7774993735905789\n",
      "Final results\n",
      "Acc_sk = 0.74\n",
      "Prec = 0.72\n",
      "Recall = 0.80\n",
      "Sens = 0.80\n",
      "Spec = 0.67\n"
     ]
    },
    {
     "data": {
      "text/plain": [
       "0.7365230214648534"
      ]
     },
     "execution_count": 42,
     "metadata": {},
     "output_type": "execute_result"
    }
   ],
   "source": [
    "dir_HC = '../wav'+ os.sep + 'HC' + os.sep\n",
    "dir_ALS = '../wav' + os.sep + 'ALS' + os.sep\n",
    "\n",
    "DataSet_ALS = ALSDataset(dir_HC, dir_ALS)\n",
    "ALS_ffnn = ALS_FFNN()\n",
    "\n",
    "# optimizer = optim.SGD(ALS_cnn.parameters(), lr=1e-3, momentum=0.10)\n",
    "optimizer = optim.Adam(ALS_ffnn.parameters(),lr=2e-5, weight_decay=2e-1) # weight_decay is L2 regularization\n",
    "\n",
    "crossvalid(dataset=DataSet_ALS, model = ALS_ffnn, train = training_loop, optimizer = optimizer, n_epochs=15, k_fold=5)"
   ]
  },
  {
   "cell_type": "code",
   "execution_count": 18,
   "metadata": {},
   "outputs": [
    {
     "name": "stdout",
     "output_type": "stream",
     "text": [
      "torch.Size([64, 86])\n",
      "torch.Size([1, 5504])\n",
      "torch.Size([1, 10])\n",
      "torch.Size([10])\n"
     ]
    }
   ],
   "source": [
    "# Test 1\n",
    "test_img = torch.rand(64,86)\n",
    "test_img_row = test_img.view(-1,64*86)\n",
    "print(test_img.shape)\n",
    "print(test_img_row.shape)\n",
    "\n",
    "# Test 2\n",
    "test_img = torch.rand(1,10)\n",
    "test_img_row = test_img.squeeze()\n",
    "print(test_img.shape)\n",
    "print(test_img_row.shape)\n",
    "\n",
    "#Test 3\n",
    "# print(torch.sigmoid(torch.tensor(-1)), torch.sigmoid(torch.tensor(0)), torch.sigmoid(torch.tensor(1)))\n"
   ]
  },
  {
   "cell_type": "markdown",
   "metadata": {},
   "source": [
    "### CV-Fold selection"
   ]
  },
  {
   "cell_type": "code",
   "execution_count": 2,
   "metadata": {},
   "outputs": [
    {
     "name": "stdout",
     "output_type": "stream",
     "text": [
      "[ 26  97 117  85  53  86 127  92 102  27  32  72  39]\n",
      "Fold 1 HC age mean = 52.43, mens = 3, womens = 4\n",
      "Fold 1 ALS age mean = 56.83, mens = 3, womens = 3\n",
      "[ 28 123  63  99  81 125 129  68  21  55  48  78  42]\n",
      "Fold 2 HC age mean = 53.71, mens = 3, womens = 4\n",
      "Fold 2 ALS age mean = 58.33, mens = 4, womens = 2\n",
      "[ 61  16 115 109 111   2 107  46  84  64  52  24  76]\n",
      "Fold 3 HC age mean = 55.43, mens = 2, womens = 5\n",
      "Fold 3 ALS age mean = 59.67, mens = 4, womens = 2\n",
      "[ 77   6  65  24 131 119  25  94  62  28   8  98  22]\n",
      "Fold 4 HC age mean = 53.00, mens = 3, womens = 3\n",
      "Fold 4 ALS age mean = 60.86, mens = 5, womens = 2\n",
      "[ 49  89   4  42 113 121  96  20  58  80  31 100]\n",
      "Fold 5 HC age mean = 54.17, mens = 2, womens = 4\n",
      "Fold 5 ALS age mean = 61.00, mens = 4, womens = 2\n"
     ]
    }
   ],
   "source": [
    "file_name =  'HC_ALS_table.xlsx' # path to file + file name\n",
    "\n",
    "xls_file = pd.ExcelFile(file_name)\n",
    "# print(xls_file.sheet_names)\n",
    "\n",
    "# https://stackoverflow.com/questions/17071871/how-do-i-select-rows-from-a-dataframe-based-on-column-values\n",
    "\n",
    "df_HC = xls_file.parse('Control')\n",
    "df_ALS = xls_file.parse('ALS')\n",
    "# print(df_HC['fold']==1)\n",
    "for fold_num in range(1,6):\n",
    "    HC_fold = df_HC.loc[df_HC['fold']==fold_num]\n",
    "    ALS_fold = df_ALS.loc[df_ALS['fold']==fold_num]\n",
    "    # print(HC_fold)\n",
    "    # print(ALS_fold)\n",
    "    print(np.hstack((HC_fold['Subject code'].to_numpy(), ALS_fold['Subject code'].to_numpy())))\n",
    "    HC_age = (float)(HC_fold.loc[:, 'Age'].mean())\n",
    "    HC_m = (HC_fold.loc[HC_fold['Sex']=='m'])\n",
    "    HC_f = (HC_fold.loc[HC_fold['Sex']=='f'])\n",
    "    ALS_age = (float)(ALS_fold.loc[:, 'Age'].mean())\n",
    "    ALS_m = (ALS_fold.loc[ALS_fold['Sex']=='m'])\n",
    "    ALS_f = (ALS_fold.loc[ALS_fold['Sex']=='f'])\n",
    "    print(f'Fold {fold_num} HC age mean = {HC_age:.2f}, mens = {len(HC_m.index)}, womens = {len(HC_f.index)}')\n",
    "    print(f'Fold {fold_num} ALS age mean = {ALS_age:.2f}, mens = {len(ALS_m.index)}, womens = {len(ALS_f.index)}')"
   ]
  }
 ],
 "metadata": {
  "kernelspec": {
   "display_name": "Python 3.10.5 64-bit",
   "language": "python",
   "name": "python3"
  },
  "language_info": {
   "codemirror_mode": {
    "name": "ipython",
    "version": 3
   },
   "file_extension": ".py",
   "mimetype": "text/x-python",
   "name": "python",
   "nbconvert_exporter": "python",
   "pygments_lexer": "ipython3",
   "version": "3.10.5"
  },
  "orig_nbformat": 4,
  "vscode": {
   "interpreter": {
    "hash": "a42ccb73e7d9bfdf27e036f1d2b8b681e55fc0743cc5586bc2474d4a60f4b886"
   }
  }
 },
 "nbformat": 4,
 "nbformat_minor": 2
}
