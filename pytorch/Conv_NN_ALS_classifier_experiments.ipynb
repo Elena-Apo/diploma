{
 "cells": [
  {
   "cell_type": "code",
   "execution_count": 2,
   "metadata": {},
   "outputs": [],
   "source": [
    "import numpy as np\n",
    "import matplotlib.pyplot as plt\n",
    "import librosa\n",
    "import json\n",
    "import os\n",
    "import datetime\n",
    "import torch\n",
    "import torch.nn as nn\n",
    "import torch.optim as optim\n",
    "from torch.utils.data import Dataset\n",
    "import pandas as pd\n",
    "from sklearn import metrics\n",
    "# import tqdm\n",
    "from tqdm import tqdm\n",
    "import torch\n",
    "import copy\n",
    "# import torch_directml\n",
    "# import lightning as L"
   ]
  },
  {
   "cell_type": "code",
   "execution_count": 2,
   "metadata": {},
   "outputs": [
    {
     "name": "stdout",
     "output_type": "stream",
     "text": [
      "None\n"
     ]
    }
   ],
   "source": [
    "torch.version.cuda\n",
    "print(torch.version.cuda)"
   ]
  },
  {
   "attachments": {},
   "cell_type": "markdown",
   "metadata": {},
   "source": [
    "### Feature extraction"
   ]
  },
  {
   "cell_type": "code",
   "execution_count": 3,
   "metadata": {},
   "outputs": [],
   "source": [
    "file = open(\"config.json\")\n",
    "config = json.load(file)\n",
    "# print(config.keys())\n",
    "# print(config['data']['frame_size'])\n",
    "\n",
    "fs = 44100              # Hz, sampling frequency\n",
    "f_size = config['data']['frame_size']\n",
    "h_size = config['data']['hop_size']\n",
    "n_mel_channels = config['data']['n_mel_channels']\n",
    "\n",
    "supra_frame_duration = 0.5  # seconds\n",
    "supra_frame_length = round(supra_frame_duration / (h_size/fs)) # need to read from config.json / \n",
    "\n",
    "dir_HC = '../wav'+ os.sep + 'HC' + os.sep\n",
    "dir_ALS = '../wav' + os.sep + 'ALS' + os.sep\n",
    "directory_ALS = os.listdir(dir_ALS)\n",
    "directory_HC = os.listdir(dir_HC)"
   ]
  },
  {
   "attachments": {},
   "cell_type": "markdown",
   "metadata": {},
   "source": [
    "### Pre-analysis (transform wav-file to mel-spectrogramms)"
   ]
  },
  {
   "cell_type": "code",
   "execution_count": 5,
   "metadata": {},
   "outputs": [],
   "source": [
    "X = np.zeros((20000,n_mel_channels, supra_frame_length))   # data\n",
    "y = np.zeros((20000,1))                     # labels\n",
    "X_global_index = 0\n",
    "X_ids = list([])\n",
    "# Cycle for HC (helthy controls)\n",
    "for i in range(len(directory_HC)):    \n",
    "    if directory_HC[i][-5:]=='a.wav':\n",
    "        # print(directory_HC[i][-5:])\n",
    "        fileName = dir_HC + directory_HC[i]\n",
    "        x, sr = librosa.load(fileName, sr=None, mono=True, offset=0.0, duration=None)\n",
    "\n",
    "        X_melspec = librosa.feature.melspectrogram(y=x, sr=sr, n_mels=64, n_fft=f_size, hop_length=h_size, window='hann', center=False, power=1.0)\n",
    "        X_melspec = 20*np.log10(X_melspec)\n",
    "            \n",
    "        frame_num = X_melspec.shape[1]    \n",
    "\n",
    "        X_melspec = X_melspec.astype(np.half)\n",
    "        X_melspec.tofile(dir_HC + directory_HC[i][:-4] +'_mel.dat')\n",
    "\n",
    "# #       #Запись фрагметов спектра в трехмерный массив \n",
    "#         N_supra_frames = frame_num - supra_frame_length + 1\n",
    "\n",
    "#         # generator comprehension\n",
    "#         gen_range = (n * 2 for n in range(0, np.floor(N_supra_frames/2).astype(int)))\n",
    "#         for n in gen_range:\n",
    "#             X[X_global_index,:,:] = X_melspec[:,n:n+supra_frame_length]\n",
    "#             X_ids.append(int(directory_HC[i][0:3]))\n",
    "#             y[X_global_index] = 0\n",
    "#             X_global_index = X_global_index +1\n",
    "    \n",
    "# Cycle for ALS (pathology)\n",
    "for i in range(len(directory_ALS)):\n",
    "    if directory_ALS[i][-5:]=='a.wav':\n",
    "        fileName = dir_ALS + directory_ALS[i]\n",
    "        x, sr = librosa.load(fileName, sr=None, mono=True, offset=0.0, duration=None)\n",
    "\n",
    "        X_melspec = librosa.feature.melspectrogram(y=x, sr=sr, n_mels=64, n_fft=f_size, hop_length=h_size, window='hann', center=False, power=1.0)\n",
    "        X_melspec = 20*np.log10(X_melspec)\n",
    "            \n",
    "        frame_num = X_melspec.shape[1]\n",
    "     \n",
    "        X_melspec = X_melspec.astype(np.half)\n",
    "        X_melspec.tofile(dir_ALS + directory_ALS[i][:-4] +'_mel.dat')\n",
    "\n",
    "# #       #Запись фрагметов спектра в трехмерный массив \n",
    "#         N_supra_frames = frame_num - supra_frame_length + 1\n",
    "\n",
    "#         # generator comprehension\n",
    "#         gen_range = (n * 2 for n in range(0, np.floor(N_supra_frames/2).astype(int)))\n",
    "#         for n in gen_range:\n",
    "#             X[X_global_index,:,:] = X_melspec[:,n:n+supra_frame_length]\n",
    "#             X_ids.append(int(directory_ALS[i][0:3]))\n",
    "#             y[X_global_index] = 1\n",
    "#             X_global_index = X_global_index + 1\n"
   ]
  },
  {
   "attachments": {},
   "cell_type": "markdown",
   "metadata": {},
   "source": [
    "### Dataset and Dataloader"
   ]
  },
  {
   "cell_type": "code",
   "execution_count": 4,
   "metadata": {},
   "outputs": [],
   "source": [
    "class ALSDataset(Dataset):\n",
    "    def __init__(self, dir_HC_path, dir_ALS_path):\n",
    "        \"\"\"\n",
    "        Аргументы:\n",
    "            dir_HC_path -- путь к папке с записями здоровых голосов\n",
    "            dir_ALS_path -- путь к папке с записями голосов пациентов с БАС\n",
    "        \"\"\"\n",
    "        # self.dir_HC_path = []\n",
    "        # self.dir_ALS_path = []\n",
    "        self._ids = list([])    # speaker IDs\n",
    "        # 5-fold CV: 13+13+13+13+12\n",
    "        # ALS: 8,20,21, 22, 24, 25,27,28,31,32,39, 42,46,48,52,55,58,62,64,68,72,76,78,80,84,92,94,96,98,100,102\n",
    "        # HC : 131, 129, 127, 125, 123, 121, 119, 117, 115, 113, 111, 109, 107, 99, 97, 89, 86, 85, 81, 77, 65, 63, 61, 53, 49, 42, 28, 26, 24, 16, 6, 4, 2 \n",
    "        \n",
    "                                                                                        # HC men+women / ALS men+women\n",
    "        self.folds = list(([26,   97, 117,  85,  53,  86, 127,  92, 102,  27,  32,  72,  39], # 3+4 HC / 3+3 ALS\n",
    "                           [28,  123,  63,  99,  81, 125, 129,  68,  21,  55,  48,  78,  42], # 3+4 HC / 4+2 ALS\n",
    "                           [61,   16, 115, 109, 111,   2, 107,  46,  84,  64,  52,  24,  76], # 2+5 HC / 4+2 ALS\n",
    "                           [77,    6,  65,  24, 131, 119,  25,  94,  62,  28,   8,  98,  22], # 3+3 HC / 5+2 ALS\n",
    "                           [49,   89,   4,  42, 113, 121,  96,  20,  58,  80,  31, 100]))     # 2+4 HC / 4+2 ALS\n",
    "        \n",
    "        self.folds_val = list(([49, 42, 20, 31],\n",
    "                              [97, 53,  92, 32],\n",
    "                              [28, 99, 129, 55],  \n",
    "                              [61, 111, 84, 76],  \n",
    "                              [77, 24, 94, 8]))\n",
    "                              \n",
    "        f_size = 512            # need to read from config.json\n",
    "        h_size = 256            # need to read from config.json\n",
    "        n_mel_channels = 64     # need to read from config.json\n",
    "        supra_frame_length = 86 # need to read from config.json\n",
    "        n_input_channel = 1        \n",
    "        self.X = np.zeros((20000, n_input_channel, n_mel_channels, supra_frame_length))   # data\n",
    "        self.y = np.zeros((20000,2))                         # labels\n",
    "        X_global_index = 0\n",
    "        self.X_ids = list([])\n",
    "\n",
    "        # Cycle for HC (helthy controls)        \n",
    "        directory_HC = os.listdir(dir_HC_path)       \n",
    "        for i in range(len(directory_HC)):\n",
    "            if directory_HC[i][-9:]=='a_mel.dat':\n",
    "                fileName = dir_HC + directory_HC[i]\n",
    "            \n",
    "                X_spec = np.fromfile(dir_HC + directory_HC[i], dtype=np.half)\n",
    "                X_spec = np.reshape(X_spec,(n_mel_channels, np.floor(len(X_spec)/n_mel_channels).astype(int)))        \n",
    "\n",
    "                #Запись фрагметов спектра в трехмерный массив \n",
    "                frame_num = X_spec.shape[1]\n",
    "                N_supra_frames = frame_num - supra_frame_length + 1\n",
    "\n",
    "                # generator comprehension\n",
    "                gen_range = (n * 2 for n in range(0, np.floor(N_supra_frames/2).astype(int)))\n",
    "                for n in gen_range:\n",
    "                    self.X[X_global_index,:,:,:] = np.reshape(X_spec[:,n:n+supra_frame_length],(n_input_channel,n_mel_channels,supra_frame_length))\n",
    "                    self.X_ids.append(int(directory_HC[i][0:3]))\n",
    "                    self.y[X_global_index,:] = torch.nn.functional.one_hot(torch.tensor(0),num_classes=2)\n",
    "                    X_global_index = X_global_index +1\n",
    "\n",
    "        # Cycle for ALS (pathology)\n",
    "        directory_ALS = os.listdir(dir_ALS_path)       \n",
    "        for i in range(len(directory_ALS)):\n",
    "            if directory_ALS[i][-9:]=='a_mel.dat':\n",
    "                fileName = dir_ALS + directory_ALS[i]        \n",
    "\n",
    "                # print(fileName)\n",
    "\n",
    "                X_spec = np.fromfile(dir_ALS + directory_ALS[i], dtype=np.half)\n",
    "                X_spec = np.reshape(X_spec,(n_mel_channels, np.floor(len(X_spec)/n_mel_channels).astype(int)))\n",
    "\n",
    "        #       #Запись фрагметов спектра в трехмерный массив\n",
    "                frame_num = X_spec.shape[1]\n",
    "                N_supra_frames = frame_num - supra_frame_length + 1\n",
    "\n",
    "                # generator comprehension\n",
    "                gen_range = (n * 2 for n in range(0, np.floor(N_supra_frames/2).astype(int)))\n",
    "                for n in gen_range:\n",
    "                    self.X[X_global_index,:,:,:] = np.reshape(X_spec[:,n:n+supra_frame_length],(n_input_channel,n_mel_channels,supra_frame_length))\n",
    "                    self.X_ids.append(int(directory_ALS[i][0:3]))\n",
    "                    self.y[X_global_index,:] = torch.nn.functional.one_hot(torch.tensor(1),num_classes=2)\n",
    "                    X_global_index = X_global_index + 1\n",
    "            \n",
    "        inds_to_delete = np.array(range(self.y.shape[0]))>=X_global_index\n",
    "        self.y = np.delete(self.y,inds_to_delete, axis=0)\n",
    "        self.X = np.delete(self.X,inds_to_delete, axis=0)\n",
    "\n",
    "        self.y = torch.from_numpy(self.y)\n",
    "        self.X = torch.from_numpy(self.X)\n",
    "\n",
    "        device = torch.device(\"cuda\" if torch.cuda.is_available() else \"cpu\")\n",
    "        \n",
    "        self.X = self.X.to(device)\n",
    "        self.y = self.y.to(device)\n",
    "\n",
    "    def __len__(self):\n",
    "        return self.X.shape[0]\n",
    "\n",
    "    def __getitem__(self, index):\n",
    "        return self.X[index,:,:], self.y[index,:]\n",
    "\n",
    "    def get_kth_fold_inds(self, fold_num):\n",
    "        ids_train = list([])\n",
    "        ids_val  = list([])\n",
    "        ids_test = list([])\n",
    "        for i in range(len(self.X_ids)):\n",
    "            if self.X_ids[i] in self.folds[fold_num]:\n",
    "                ids_test.append(i)\n",
    "            elif self.X_ids[i] in self.folds_val[fold_num]:\n",
    "                ids_val.append(i)\n",
    "            else:\n",
    "                ids_train.append(i)\n",
    "        return (ids_train,ids_val, ids_test)"
   ]
  },
  {
   "cell_type": "code",
   "execution_count": 5,
   "metadata": {},
   "outputs": [
    {
     "name": "stdout",
     "output_type": "stream",
     "text": [
      "label =  1.0\n"
     ]
    },
    {
     "data": {
      "text/plain": [
       "<matplotlib.collections.PolyCollection at 0x1bb8387bd00>"
      ]
     },
     "execution_count": 5,
     "metadata": {},
     "output_type": "execute_result"
    },
    {
     "data": {
      "image/png": "[encoded data removed]",
      "text/plain": [
       "<Figure size 432x288 with 4 Axes>"
      ]
     },
     "metadata": {
      "needs_background": "light"
     },
     "output_type": "display_data"
    }
   ],
   "source": [
    "dir_HC = '../wav'+ os.sep + 'HC' + os.sep\n",
    "dir_ALS = '../wav' + os.sep + 'ALS' + os.sep\n",
    "\n",
    "DataSet_ALS = ALSDataset(dir_HC, dir_ALS)\n",
    "# print(len(DataSet_ALS))\n",
    "X_generic, y_label = DataSet_ALS.__getitem__(13202)\n",
    "\n",
    "fig,ax = plt.subplots()\n",
    "plt.subplot(141)\n",
    "plt.pcolor(X_generic[0,:,:], cmap='jet')\n",
    "print('label = ', y_label)\n",
    "fold_0_train,fold_0_val,fold_0_test = DataSet_ALS.get_kth_fold_inds(0)\n",
    "\n",
    "## NN\n",
    "conv_lf = torch.nn.Conv2d(1,3,(32,10),padding='valid',dtype=torch.float)\n",
    "\n",
    "input = torch.tensor(X_generic,dtype=torch.float)\n",
    "output = conv_lf(input)\n",
    "output_np = output.detach().numpy()\n",
    "plt.subplot(142)\n",
    "plt.pcolor(output_np[0,:,:], cmap='jet')\n",
    "plt.subplot(143)\n",
    "plt.pcolor(output_np[1,:,:], cmap='jet')\n",
    "plt.subplot(144)\n",
    "plt.pcolor(output_np[2,:,:], cmap='jet')"
   ]
  },
  {
   "attachments": {},
   "cell_type": "markdown",
   "metadata": {},
   "source": [
    "#### CNN1-model"
   ]
  },
  {
   "cell_type": "code",
   "execution_count": 39,
   "metadata": {},
   "outputs": [],
   "source": [
    "class ALS_CNN1(nn.Module):\n",
    "    def __init__(self):\n",
    "        super(ALS_CNN1,self).__init__() \n",
    "        # parameters\n",
    "        # file = open(\"drive/MyDrive/Colab Notebooks/config.json\")\n",
    "        file = open(\"config.json\")\n",
    "        config = json.load(file)            \n",
    "        self.n_mel = config['data']['n_mel_channels']\n",
    "        frames_in_segment = config['data']['supra_frame_length']\n",
    "        self.layer1_filt = 2\n",
    "        \n",
    "        self.lf_num = 32    # low-frequency\n",
    "        self.mf_num = 16    # medium-frequency\n",
    "        self.hf_num = 16    # high-frequency\n",
    "        \n",
    "        # low/medium/high-frequency frequency span\n",
    "        # low/medium/high-frequency time span\n",
    "        lf1_height, lf1_width = 13,27\n",
    "        lf2_height, lf2_width = 7,15\n",
    "        lf3_height, lf3_width = 3,7\n",
    "\n",
    "        mf_height,mf_width = 3,3\n",
    "        mf2_height,mf2_width = 15,17\n",
    "\n",
    "        hf_height,hf_width = 3,3     \n",
    "        hf2_height,hf2_width = 7,7\n",
    "        hf3_height,hf3_width = 11,11\n",
    "        hf4_height,hf4_width = 15,15\n",
    "\n",
    "        mf_h_stride, hf_h_stride = 2,1\n",
    "        mf_w_stride, hf_w_stride = mf_width//2, hf_width//2\n",
    "        \n",
    "        lf1_h_stride, lf1_w_stride = lf1_height//2, lf1_width//2\n",
    "        lf2_h_stride, lf2_w_stride = lf2_height//2, lf2_width//2\n",
    "        lf3_h_stride, lf3_w_stride = lf3_height//2, lf3_width//2\n",
    "\n",
    "        mf2_h_stride, mf2_w_stride = hf_height//2, mf2_width//2\n",
    "\n",
    "        hf2_h_stride, hf2_w_stride = hf2_height//2, hf2_width//2\n",
    "        hf3_h_stride, hf3_w_stride = hf3_height//2, hf3_width//2\n",
    "        hf4_h_stride, hf4_w_stride = hf4_height//2, hf4_width//2\n",
    "\n",
    "        self.batch_norm1 = nn.BatchNorm2d(1)    # device='cuda'\n",
    "        \n",
    "        # self.conv_lf = torch.nn.Conv2d(1,self.layer1_filt,(self.lf_num, lf_width),padding='valid',stride=(1,lf_width//2))\n",
    "        # self.conv_mf = torch.nn.Conv2d(1,self.layer1_filt,(self.mf_num, mf_width),padding='valid',stride=(1,mf_width//2))\n",
    "        # self.conv_hf = torch.nn.Conv2d(1,self.layer1_filt,(self.hf_num, hf_width),padding='valid',stride=(1,hf_width//2))\n",
    "\n",
    "        self.conv_lf1 = torch.nn.Conv2d(1,self.layer1_filt,(lf1_height, lf1_width),padding='valid',stride=(lf1_h_stride, lf1_w_stride))\n",
    "        self.conv_lf2 = torch.nn.Conv2d(1,self.layer1_filt,(lf2_height, lf2_width),padding='valid',stride=(lf2_h_stride,lf2_w_stride))\n",
    "        self.conv_lf3 = torch.nn.Conv2d(1,self.layer1_filt,(lf3_height, lf3_width),padding='valid',stride=(lf3_h_stride,lf3_w_stride))\n",
    "\n",
    "        self.conv_mf = torch.nn.Conv2d(1,self.layer1_filt,(mf_height, mf_width),padding='valid',stride=(mf_h_stride,mf_w_stride))\n",
    "        self.conv_mf2= torch.nn.Conv2d(1,self.layer1_filt,(mf2_height, mf2_width),padding='valid',stride=(mf2_h_stride,mf2_w_stride))\n",
    "\n",
    "        self.conv_hf = torch.nn.Conv2d(1,self.layer1_filt,(hf_height, hf_width),padding='valid',stride=(hf_h_stride,hf_w_stride))\n",
    "        self.conv_hf2 = torch.nn.Conv2d(1,self.layer1_filt,(hf2_height, hf2_width),padding='valid',stride=(hf2_h_stride,hf2_w_stride))\n",
    "        self.conv_hf3 = torch.nn.Conv2d(1,self.layer1_filt,(hf3_height, hf3_width),padding='valid',stride=(hf3_h_stride,hf3_w_stride))\n",
    "        self.conv_hf4 = torch.nn.Conv2d(1,self.layer1_filt,(hf4_height, hf4_width),padding='valid',stride=(hf4_h_stride,hf4_w_stride))\n",
    "\n",
    "        max_pool_width = 4\n",
    "        self.maxpool_lf1 = nn.MaxPool2d(((self.lf_num - lf1_height)//lf1_h_stride + 1,max_pool_width))        \n",
    "        self.maxpool_lf2 = nn.MaxPool2d(((self.lf_num - lf2_height)//lf2_h_stride + 1,max_pool_width))\n",
    "        self.maxpool_lf3 = nn.MaxPool2d(((self.lf_num - lf3_height)//lf3_h_stride + 1,max_pool_width))\n",
    "\n",
    "        self.maxpool_mf = nn.MaxPool2d(((self.mf_num - mf_height)//mf_h_stride + 1,max_pool_width))\n",
    "        self.maxpool_mf2= nn.MaxPool2d(((self.mf_num - mf2_height)//mf2_h_stride + 1,max_pool_width))\n",
    "\n",
    "        self.maxpool_hf = nn.MaxPool2d(((self.hf_num - hf_height)//hf_h_stride + 1,max_pool_width))\n",
    "        self.maxpool_hf2 = nn.MaxPool2d(((self.hf_num - hf2_height)//hf2_h_stride + 1,max_pool_width))\n",
    "        self.maxpool_hf3 = nn.MaxPool2d(((self.hf_num - hf3_height)//hf3_h_stride + 1,max_pool_width))\n",
    "        self.maxpool_hf4 = nn.MaxPool2d(((self.hf_num - hf4_height)//hf4_h_stride + 1,max_pool_width))\n",
    "\n",
    "        self.drop1 = nn.Dropout(p=0.1)\n",
    "        \n",
    "        self.fc = nn.Linear(self.layer1_filt*((1+(frames_in_segment-lf1_width)//lf1_w_stride)//max_pool_width ) + # *(1+(self.lf_num-lf_height)//lf_height)\n",
    "                            self.layer1_filt*((1+(frames_in_segment-lf2_width)//lf2_w_stride)//max_pool_width ) +\n",
    "                            self.layer1_filt*((1+(frames_in_segment-lf3_width)//lf3_w_stride)//max_pool_width) +\n",
    "                            self.layer1_filt*((1+(frames_in_segment-mf_width)//mf_w_stride)//max_pool_width) + #*(1+(self.mf_num-mf_height)//mf_height) + \n",
    "                            self.layer1_filt*((1+(frames_in_segment-mf2_width)//mf2_w_stride)//max_pool_width) +\n",
    "                            self.layer1_filt*((1+(frames_in_segment-hf_width)//hf_w_stride)//max_pool_width) + #*(1+(self.hf_num-hf_height)//hf_height)\n",
    "                            self.layer1_filt*((1+(frames_in_segment-hf2_width)//hf2_w_stride)//max_pool_width) + \n",
    "                            self.layer1_filt*((1+(frames_in_segment-hf3_width)//hf3_w_stride)//max_pool_width) +\n",
    "                            self.layer1_filt*((1+(frames_in_segment-hf4_width)//hf4_w_stride)//max_pool_width)\n",
    "                            ,2)                               \n",
    "\n",
    "        torch.manual_seed(151)\n",
    "        nn.init.xavier_uniform_(self.conv_lf1.weight)\n",
    "        nn.init.xavier_uniform_(self.conv_lf2.weight)\n",
    "        nn.init.xavier_uniform_(self.conv_lf3.weight)\n",
    "        nn.init.xavier_uniform_(self.conv_mf.weight)\n",
    "        nn.init.xavier_uniform_(self.conv_mf2.weight)\n",
    "        nn.init.xavier_uniform_(self.conv_hf.weight)\n",
    "        nn.init.xavier_uniform_(self.conv_hf2.weight)\n",
    "        nn.init.xavier_uniform_(self.conv_hf3.weight)\n",
    "        nn.init.xavier_uniform_(self.conv_hf4.weight)\n",
    "        nn.init.xavier_uniform_(self.fc.weight)\n",
    "\n",
    "    def forward(self, x): \n",
    "        \n",
    "        # print('x size', x.shape)\n",
    "        out = self.batch_norm1(x)\n",
    "\n",
    "        out1 = out[:,:,:self.lf_num,:]\n",
    "        out2 = out[:,:,self.lf_num:self.lf_num+self.mf_num,:]\n",
    "        out3 = out[:,:,self.lf_num+self.mf_num:self.lf_num+self.mf_num+self.hf_num,:]\n",
    "        \n",
    "        out_lf2 = out1.detach()\n",
    "        out_lf3 = out1.detach()\n",
    "\n",
    "        out_mf2 = out2.detach()\n",
    "        \n",
    "        out_hf2 = out3.detach()\n",
    "        out_hf3 = out3.detach()\n",
    "        out_hf4 = out3.detach()\n",
    "\n",
    "        # for param in self.conv_lf.parameters():\n",
    "        #     print(param.data)\n",
    "        #     print(param.data.shape)\n",
    "        # print(self.conv_lf.weight())        \n",
    "        \n",
    "        \n",
    "        out1 = torch.nn.functional.elu(self.conv_lf1(out1))\n",
    "        out_lf2 = torch.nn.functional.elu(self.conv_lf2(out_lf2))\n",
    "        out_lf3 = torch.nn.functional.elu(self.conv_lf3(out_lf3))\n",
    "        out2 = torch.nn.functional.elu(self.conv_mf(out2))\n",
    "        out_mf2 = torch.nn.functional.elu(self.conv_mf2(out_mf2))\n",
    "        out3 = torch.nn.functional.elu(self.conv_hf(out3))\n",
    "        out_hf2 = torch.nn.functional.elu(self.conv_hf2(out_hf2))\n",
    "        out_hf3 = torch.nn.functional.elu(self.conv_hf3(out_hf3))\n",
    "        out_hf4 = torch.nn.functional.elu(self.conv_hf4(out_hf4))\n",
    "\n",
    "        out1 = self.maxpool_lf1(out1)        \n",
    "        out_lf2 = self.maxpool_lf2(out_lf2)\n",
    "        out_lf3 = self.maxpool_lf3(out_lf3)\n",
    "\n",
    "        out2 = self.maxpool_mf(out2)\n",
    "        out_mf2 = self.maxpool_mf2(out_mf2)\n",
    "\n",
    "        out3 = self.maxpool_hf(out3)\n",
    "        out_hf2 = self.maxpool_hf2(out_hf2)\n",
    "        out_hf3 = self.maxpool_hf3(out_hf3)\n",
    "        out_hf4 = self.maxpool_hf4(out_hf4)\n",
    "\n",
    "        out1 = out1.view(-1, out1.shape[1]*out1.shape[2]*out1.shape[3])\n",
    "        out_lf2 = out_lf2.view(-1, out_lf2.shape[1]*out_lf2.shape[2]*out_lf2.shape[3])\n",
    "        out_lf3 = out_lf3.view(-1, out_lf3.shape[1]*out_lf3.shape[2]*out_lf3.shape[3])\n",
    "        out2 = out2.view(-1, out2.shape[1]*out2.shape[2]*out2.shape[3])\n",
    "        out_mf2 = out_mf2.view(-1, out_mf2.shape[1]*out_mf2.shape[2]*out_mf2.shape[3])\n",
    "        out3 = out3.view(-1, out3.shape[1]*out3.shape[2]*out3.shape[3])\n",
    "        out_hf2 = out_hf2.view(-1, out_hf2.shape[1]*out_hf2.shape[2]*out_hf2.shape[3])\n",
    "        out_hf3 = out_hf3.view(-1, out_hf3.shape[1]*out_hf3.shape[2]*out_hf3.shape[3])\n",
    "        out_hf4 = out_hf4.view(-1, out_hf4.shape[1]*out_hf4.shape[2]*out_hf4.shape[3])\n",
    "\n",
    "        out = torch.cat((out1, out_lf2, out_lf3, out2, out_mf2, out3, out_hf2, out_hf3, out_hf4), 1)  \n",
    "\n",
    "        out = self.drop1(out)\n",
    "        \n",
    "        # print('fc.weight: ', self.fc.weight.shape)\n",
    "        # print('out: ', out.shape)\n",
    "\n",
    "        out = self.fc(out)\n",
    "        return out  "
   ]
  },
  {
   "attachments": {},
   "cell_type": "markdown",
   "metadata": {},
   "source": [
    "#### CNN2-model"
   ]
  },
  {
   "cell_type": "code",
   "execution_count": 5,
   "metadata": {},
   "outputs": [],
   "source": [
    "class ALS_CNN(nn.Module):\n",
    "    def __init__(self):\n",
    "        super(ALS_CNN,self).__init__() \n",
    "        # parameters\n",
    "        file = open(\"drive/MyDrive/Colab Notebooks/config.json\")\n",
    "        config = json.load(file)            \n",
    "        self.n_mel = config['data']['n_mel_channels']\n",
    "        frames_in_segment = config['data']['supra_frame_length']\n",
    "        layer1_filt = 18\n",
    "        layer2_filt = 8\n",
    "        \n",
    "        self.lf_num = 32    # low-frequency\n",
    "        self.mf_num = 16    # medium-frequency\n",
    "        self.hf_num = 16    # high-frequency\n",
    "        \n",
    "        lf_width,  mf_width,  hf_width  = 48,36,16      # low/medium/high-frequency time span\n",
    "        lf_height, mf_height, hf_height = 16,8,8      # low/medium/high-frequency frequency span\n",
    "\n",
    "        l2_kernel_size = 5\n",
    "\n",
    "        lf_h_stride, mf_h_stride, hf_h_stride = 2,1,1\n",
    "        lf_w_stride, mf_w_stride, hf_w_stride = 4, 4, 4\n",
    "\n",
    "        self.batch_norm1 = nn.BatchNorm2d(1)\n",
    "        \n",
    "        self.batch_norm_lf = nn.BatchNorm2d(layer1_filt)\n",
    "        self.batch_norm_mf = nn.BatchNorm2d(layer1_filt)\n",
    "        self.batch_norm_hf = nn.BatchNorm2d(layer1_filt)\n",
    "\n",
    "        # self.conv_lf = torch.nn.Conv2d(1,self.layer1_filt,(self.lf_num, lf_width),padding='valid',stride=(1,lf_width//2))\n",
    "        # self.conv_mf = torch.nn.Conv2d(1,self.layer1_filt,(self.mf_num, mf_width),padding='valid',stride=(1,mf_width//2))\n",
    "        # self.conv_hf = torch.nn.Conv2d(1,self.layer1_filt,(self.hf_num, hf_width),padding='valid',stride=(1,hf_width//2))\n",
    "\n",
    "        self.conv_lf = torch.nn.Conv2d(1,layer1_filt,(lf_height, lf_width),padding='valid',stride=(lf_h_stride,lf_w_stride))\n",
    "        self.conv_mf = torch.nn.Conv2d(1,layer1_filt,(mf_height, mf_width),padding='valid',stride=(mf_h_stride,mf_w_stride))\n",
    "        self.conv_hf = torch.nn.Conv2d(1,layer1_filt,(hf_height, hf_width),padding='valid',stride=(hf_h_stride,hf_w_stride))\n",
    "\n",
    "        self.conv2_lf = torch.nn.Conv2d(layer1_filt, layer2_filt,l2_kernel_size,padding='valid',stride=(1,1))\n",
    "        self.conv2_mf = torch.nn.Conv2d(layer1_filt, layer2_filt,l2_kernel_size,padding='valid',stride=(1,1))\n",
    "        self.conv2_hf = torch.nn.Conv2d(layer1_filt, layer2_filt,l2_kernel_size,padding='valid',stride=(1,1))\n",
    "\n",
    "        self.maxpool_lf = nn.MaxPool2d(((self.lf_num - lf_height)//lf_h_stride + 1 - (l2_kernel_size-1),1))\n",
    "        self.maxpool_mf = nn.MaxPool2d(((self.mf_num - mf_height)//mf_h_stride + 1 - (l2_kernel_size-1),1))\n",
    "        self.maxpool_hf = nn.MaxPool2d(((self.hf_num - hf_height)//hf_h_stride + 1 - (l2_kernel_size-1),1))\n",
    "\n",
    "        self.drop1 = nn.Dropout(p=0.05)\n",
    "        \n",
    "        self.fc = nn.Linear(layer2_filt*(1+((frames_in_segment-lf_width)//lf_w_stride) - (l2_kernel_size-1)) + # *(1+(self.lf_num-lf_height)//lf_height)\n",
    "                            layer2_filt*(1+((frames_in_segment-mf_width)//mf_w_stride) - (l2_kernel_size-1)) + #*(1+(self.mf_num-mf_height)//mf_height) + \n",
    "                            layer2_filt*(1+((frames_in_segment-hf_width)//hf_w_stride) - (l2_kernel_size-1)) #*(1+(self.hf_num-hf_height)//hf_height)\n",
    "                            ,1)    # 16 = np.round(()/5).astype(int)                                  \n",
    "\n",
    "        torch.manual_seed(151)\n",
    "        # nn.init.xavier_uniform_(self.conv_lf.weight, gain=1.0)\n",
    "        # nn.init.xavier_uniform_(self.conv_mf.weight, gain=1.0)\n",
    "        # nn.init.xavier_uniform_(self.conv_hf.weight, gain=1.0)\n",
    "\n",
    "        nn.init.kaiming_normal_(self.conv_lf.weight)\n",
    "        nn.init.kaiming_normal_(self.conv_mf.weight)\n",
    "        nn.init.kaiming_normal_(self.conv_hf.weight)\n",
    "\n",
    "        nn.init.kaiming_normal_(self.conv2_lf.weight)\n",
    "        nn.init.kaiming_normal_(self.conv2_mf.weight)\n",
    "        nn.init.kaiming_normal_(self.conv2_hf.weight)\n",
    "\n",
    "        nn.init.xavier_normal_(self.fc.weight)\n",
    "    \n",
    "    def forward(self, x): \n",
    "        \n",
    "        out = self.batch_norm1(x)\n",
    "\n",
    "        out1 = out[:,:,:self.lf_num,:]\n",
    "        out2 = out[:,:,self.lf_num:self.lf_num+self.mf_num,:]\n",
    "        out3 = out[:,:,self.lf_num+self.mf_num:self.lf_num+self.mf_num+self.hf_num,:]\n",
    "\n",
    "        out1 = torch.relu(self.conv_lf(out1))\n",
    "        out2 = torch.relu(self.conv_mf(out2))\n",
    "        out3 = torch.relu(self.conv_hf(out3))\n",
    "        \n",
    "        out1 = self.batch_norm_lf(out1)\n",
    "        out2 = self.batch_norm_mf(out2)\n",
    "        out3 = self.batch_norm_hf(out3)\n",
    "\n",
    "        out1 = torch.relu(self.conv2_lf(out1))\n",
    "        out2 = torch.relu(self.conv2_mf(out2))\n",
    "        out3 = torch.relu(self.conv2_hf(out3))\n",
    "\n",
    "        out1 = self.maxpool_lf(out1)        \n",
    "        out2 = self.maxpool_mf(out2)\n",
    "        out3 = self.maxpool_hf(out3)\n",
    "\n",
    "        out1 = out1.view(-1, out1.shape[1]*out1.shape[2]*out1.shape[3])\n",
    "        out2 = out2.view(-1, out2.shape[1]*out2.shape[2]*out2.shape[3])\n",
    "        out3 = out3.view(-1, out3.shape[1]*out3.shape[2]*out3.shape[3])\n",
    "\n",
    "        # print('After view 1:', out1.shape)\n",
    "\n",
    "        out = torch.cat((out1,out2,out3), 1)  \n",
    "\n",
    "        # print('After cat:', out.shape)\n",
    "\n",
    "        out = self.drop1(out)\n",
    "\n",
    "        out = self.fc(out)\n",
    "        return out"
   ]
  },
  {
   "attachments": {},
   "cell_type": "markdown",
   "metadata": {},
   "source": [
    "#### training_loop"
   ]
  },
  {
   "cell_type": "code",
   "execution_count": 6,
   "metadata": {},
   "outputs": [],
   "source": [
    "def training_loop(n_epochs, optimizer, lr_scheduler, model, loss_fn, train_loader, val_loader):    \n",
    "    MODEL_PATH = \"model_backup/model_cnn.pt\"\n",
    "    loss_train_history = np.ndarray((n_epochs))\n",
    "    loss_val_history = np.ndarray((n_epochs))\n",
    "    lrs = []\n",
    "    for epoch in range(1,n_epochs+1):        \n",
    "        model.train()\n",
    "        loss_val_best = 0\n",
    "        loss_train = 0.0\n",
    "        for specs, labels in tqdm(train_loader, desc=f\"Epoch {epoch}\", leave=True): #train_loader:\n",
    "            specs = specs.float()\n",
    "            outputs = model(specs)                        \n",
    "            outputs = outputs.squeeze(dim=1) # for batch train_loader \n",
    "            # print('output:',outputs)\n",
    "            # print('labels:',labels)\n",
    "            loss = loss_fn(outputs, labels)\n",
    "            optimizer.zero_grad()\n",
    "            loss.backward()\n",
    "            optimizer.step()\n",
    "            loss_train += loss.item()            \n",
    "        \n",
    "        # prediction on val set        \n",
    "        loss_val = 0.0\n",
    "        TP_TN_sum = 0\n",
    "        total = 0\n",
    "        model.eval()\n",
    "        with torch.no_grad():            \n",
    "            for spec, label in val_loader:\n",
    "                spec = spec.float()                    \n",
    "                pred = model(spec)                                \n",
    "                pred = torch.squeeze(pred,1)                \n",
    "\n",
    "                loss = loss_fn(pred, label)\n",
    "                loss_val += loss.item()\n",
    "\n",
    "                _,pred = torch.max(pred, dim=1)\n",
    "                _,label = torch.max(label, dim=1)\n",
    "                        \n",
    "                total += len(label)\n",
    "\n",
    "                TP_TN_sum = TP_TN_sum + torch.sum(label==pred)\n",
    "\n",
    "        acc_val = TP_TN_sum/total\n",
    "        \n",
    "        loss_train_history[epoch-1] = loss_train / len(train_loader)\n",
    "        loss_val_history[epoch-1] = loss_val / len(val_loader)\n",
    "\n",
    "\n",
    "        if loss_val > loss_val_best:\n",
    "            torch.save(model.state_dict(), MODEL_PATH)            \n",
    "            loss_val_best = loss_val\n",
    "\n",
    "        # if epoch==1 or epoch%2==0:                                                            \n",
    "        print(f'{datetime.datetime.now()} Epoch {epoch}, Train loss {loss_train / len(train_loader):.3f}, Val loss {loss_val / len(val_loader):.3f}, Acc_val = {acc_val:.2f}')\n",
    "        \n",
    "        lrs.append(optimizer.param_groups[0][\"lr\"])\n",
    "        lr_scheduler.step()\n",
    "        \n",
    "    # model = torch.load(MODEL_PATH)\n",
    "    model.load_state_dict(torch.load(MODEL_PATH))\n",
    "\n",
    "    fig, ax = plt.subplots(figsize=(6,2.5))\n",
    "    plt.rcParams.update({'font.size': 12})\n",
    "    # plt.subplot(1,2,1)\n",
    "    plt.plot(range(n_epochs), loss_train_history, label='Обучающий набор')\n",
    "    plt.plot(range(n_epochs), loss_val_history, label='Проверочный набор')\n",
    "    plt.legend()\n",
    "    plt.xlabel('Эпоха')\n",
    "    plt.ylabel('Ошибка обучения')\n",
    "    # plt.subplot(1,2,2)\n",
    "    # plt.plot(range(len(lrs)),lrs)\n",
    "    # plt.xlabel('step')\n",
    "    # plt.ylabel('lr')    \n",
    "    plt.show()\n",
    "    # Saving results\n",
    "    # image_name = f'figures/loss_NN.jpg'\n",
    "    # fig.savefig(image_name, format='jpg', dpi=110, bbox_inches='tight', pad_inches = 0.2)\n",
    "    return (loss_train_history,loss_val_history)"
   ]
  },
  {
   "attachments": {},
   "cell_type": "markdown",
   "metadata": {},
   "source": [
    "### Single NN training & evaluation"
   ]
  },
  {
   "cell_type": "code",
   "execution_count": 48,
   "metadata": {},
   "outputs": [
    {
     "name": "stdout",
     "output_type": "stream",
     "text": [
      "torch.Size([1, 1, 64, 86])\n"
     ]
    }
   ],
   "source": [
    "# Test inference\n",
    "model = ALS_CNN()\n",
    "X, y = DataSet_ALS.__getitem__(13202)\n",
    "input = torch.tensor(X, dtype=torch.float)\n",
    "input = input.unsqueeze(0)  # add chanel dimension\n",
    "input = input.unsqueeze(0)  # add batch dimension\n",
    "print(input.shape)\n",
    "y_out = model(input)"
   ]
  },
  {
   "cell_type": "code",
   "execution_count": null,
   "metadata": {},
   "outputs": [],
   "source": [
    "fold_0_train_inds,fold_0_val_inds,fold_0_test_inds = DataSet_ALS.get_kth_fold_inds(0)\n",
    "train_set = torch.utils.data.dataset.Subset(DataSet_ALS, fold_0_train_inds)\n",
    "val_set = torch.utils.data.dataset.Subset(DataSet_ALS, fold_0_val_inds)\n",
    "\n",
    "train_loader = torch.utils.data.DataLoader(train_set, batch_size=50, shuffle=True) # num_workers=1\n",
    "val_loader = torch.utils.data.DataLoader(val_set, batch_size=1, shuffle=False) # num_workers=1\n",
    "\n",
    "# model = ALS_FFNN()\n",
    "model = ALS_CNN()\n",
    "model.train()\n",
    "\n",
    "# summary(ALS_cnn,(64*86))\n",
    "# optimizer = optim.SGD(ALS_cnn.parameters(), lr=1e-3, momentum=0.10)\n",
    "optimizer = optim.Adam(model.parameters(),lr=2e-5, weight_decay=2e-1)\n",
    "\n",
    "# loss_fn = nn.CrossEntropyLoss()\n",
    "# pos_weight = torch.ones([1])\n",
    "# loss_fn = nn.BCEWithLogitsLoss(pos_weight = pos_weight)\n",
    "\n",
    "loss_fn = nn.BCEWithLogitsLoss()\n",
    "scheduler = optim.lr_scheduler.ExponentialLR(optimizer, gamma=0.9)\n",
    "\n",
    "training_loop(\n",
    "    n_epochs=20,\n",
    "    optimizer=optimizer,\n",
    "    lr_scheduler = scheduler,\n",
    "    model=model,\n",
    "    loss_fn=loss_fn,\n",
    "    train_loader=train_loader,\n",
    "    val_loader = val_loader\n",
    ")"
   ]
  },
  {
   "attachments": {},
   "cell_type": "markdown",
   "metadata": {},
   "source": [
    "### Train with 5-fold CV"
   ]
  },
  {
   "attachments": {},
   "cell_type": "markdown",
   "metadata": {},
   "source": [
    "#### crossvalid"
   ]
  },
  {
   "cell_type": "code",
   "execution_count": 24,
   "metadata": {},
   "outputs": [],
   "source": [
    "def crossvalid(dataset=None, model = None, train = None, optimizer = None, n_epochs = 20, k_fold=5):    \n",
    "    \n",
    "    total_size = len(dataset)\n",
    "    y_pred = np.ndarray(total_size)\n",
    "    y_true = np.ndarray(total_size)\n",
    "    folds = list([4,3,2,1,0])\n",
    "\n",
    "    for i in folds: #range(k_fold):\n",
    "        \n",
    "        inds_train,inds_val,inds_test = dataset.get_kth_fold_inds(i)                \n",
    "        \n",
    "        train_set = torch.utils.data.dataset.Subset(dataset,inds_train)\n",
    "        val_set = torch.utils.data.dataset.Subset(dataset,inds_val)\n",
    "        test_set = torch.utils.data.dataset.Subset(dataset,inds_test)\n",
    "                \n",
    "        train_loader = torch.utils.data.DataLoader(train_set, batch_size=100,shuffle=True)  # num_workers=2\n",
    "        val_loader = torch.utils.data.DataLoader(val_set, batch_size=1, shuffle=False)\n",
    "        test_loader = torch.utils.data.DataLoader(test_set, batch_size=1, shuffle=False)    # num_workers=2\n",
    "        \n",
    "        torch.manual_seed(707)\n",
    "        with torch.no_grad():\n",
    "            for layer in model.children():\n",
    "                if hasattr(layer, 'reset_parameters'):\n",
    "                    # print(layer.weight())\n",
    "                    layer.reset_parameters()\n",
    "                    # print(layer.weight())\n",
    "        \n",
    "        model.train()        \n",
    "\n",
    "        loss_fn = nn.BCEWithLogitsLoss()\n",
    "        scheduler = optim.lr_scheduler.ExponentialLR(optimizer, gamma=0.9)\n",
    "\n",
    "        train(\n",
    "            n_epochs=n_epochs,\n",
    "            optimizer=optimizer,\n",
    "            lr_scheduler = scheduler,\n",
    "            model=model,\n",
    "            loss_fn=loss_fn,\n",
    "            train_loader=train_loader,\n",
    "            val_loader=val_loader\n",
    "        )\n",
    "\n",
    "        # prediction on test set        \n",
    "        test_score = list()\n",
    "        TP_TN_sum = 0\n",
    "        model.eval()\n",
    "        with torch.no_grad():\n",
    "            i = 0\n",
    "            for spec, label in test_loader:\n",
    "                spec = spec.float()\n",
    "                # spec = spec.squeeze()\n",
    "                pred = model(spec)\n",
    "                pred = torch.squeeze(pred,1)  \n",
    "                test_score.append(pred.numpy())\n",
    "                if pred>0:\n",
    "                    pred = torch.tensor(1, dtype=torch.float64)\n",
    "                    y_pred[inds_test[i]] = 1\n",
    "                else:\n",
    "                    pred = torch.tensor(0, dtype=torch.float64)                \n",
    "                    y_pred[inds_test[i]] = 0\n",
    "                y_true[inds_test[i]] = label\n",
    "                if pred==label:\n",
    "                    TP_TN_sum +=1                \n",
    "                i +=1                 \n",
    "            print('Acc = ', TP_TN_sum/len(test_score))\n",
    "\n",
    "    acc_sk = metrics.accuracy_score(y_true, y_pred)\n",
    "    recall = metrics.recall_score(y_true, y_pred)\n",
    "    prec = metrics.precision_score(y_true, y_pred)\n",
    "    tn, fp, fn, tp = metrics.confusion_matrix(y_true, y_pred).ravel()\n",
    "    sensetivity = tp / (tp+fn)\n",
    "    specificity = tn / (tn+fp)\n",
    "    print('Final results')\n",
    "    print(f'Acc_sk = {acc_sk:.2f}', )\n",
    "    print(f'Prec = {prec:.2f}')\n",
    "    print(f'Recall = {recall:.2f}')\n",
    "    print(f'Sens = {sensetivity:.2f}')\n",
    "    print(f'Spec = {specificity:.2f}')\n",
    "\n",
    "        # val_acc = valid(res_model,criterion,optimizer,val_loader)\n",
    "        # val_score.at[i] = val_acc\n",
    "    \n",
    "    return acc_sk\n",
    "        \n",
    "# https://stackoverflow.com/questions/60883696/k-fold-cross-validation-using-dataloaders-in-pytorch"
   ]
  },
  {
   "attachments": {},
   "cell_type": "markdown",
   "metadata": {},
   "source": [
    "#### k_fold_CV"
   ]
  },
  {
   "cell_type": "code",
   "execution_count": 11,
   "metadata": {},
   "outputs": [],
   "source": [
    "def k_fold_CV(dataset=None, model = None, train = None, optimizer = None, n_epochs = 20, k_fold=5):    \n",
    "    \n",
    "    total_size = len(dataset)\n",
    "    y_pred = np.ndarray(total_size)\n",
    "    y_true = np.ndarray(total_size)\n",
    "    folds = list([4,3,2,1,0])\n",
    "\n",
    "    scheduler = optim.lr_scheduler.ExponentialLR(optimizer, gamma=0.99)\n",
    "\n",
    "    PATH = 'model_backup' + os.sep + 'cnn_init.pt'\n",
    "    PATH_optim = 'model_backup'+os.sep+'cnn_optim_init.pt'\n",
    "    PATH_lr = 'model_backup' + os.sep + 'cnn_lr_schedule_init.pt'\n",
    "\n",
    "    torch.save(model.state_dict(), PATH)\n",
    "    torch.save(optimizer.state_dict(), PATH_optim)\n",
    "    torch.save(scheduler.state_dict(), PATH_lr)\n",
    "\n",
    "    loss_train_history_list = list()\n",
    "    loss_val_history_list = list()\n",
    "    fold_acc = list()\n",
    "    for i in folds: #range(k_fold):\n",
    "        \n",
    "        inds_train,inds_val,inds_test = dataset.get_kth_fold_inds(i)                \n",
    "        \n",
    "        train_set = torch.utils.data.dataset.Subset(dataset,inds_train)\n",
    "        val_set = torch.utils.data.dataset.Subset(dataset,inds_val)\n",
    "        test_set = torch.utils.data.dataset.Subset(dataset,inds_test)\n",
    "                \n",
    "        train_loader = torch.utils.data.DataLoader(train_set, batch_size=100,shuffle=True)  # num_workers=2\n",
    "        val_loader = torch.utils.data.DataLoader(val_set, batch_size=100, shuffle=False)\n",
    "        test_loader = torch.utils.data.DataLoader(test_set, batch_size=1, shuffle=False)    # num_workers=2\n",
    "        \n",
    "        model.load_state_dict(torch.load(PATH))\n",
    "        optimizer.load_state_dict(torch.load(PATH_optim))\n",
    "        scheduler.load_state_dict(torch.load(PATH_lr))\n",
    "\n",
    "        model.train()        \n",
    "\n",
    "        loss_fn = nn.BCEWithLogitsLoss()        \n",
    "\n",
    "        loss_train_history, loss_val_history = train(\n",
    "            n_epochs=n_epochs,\n",
    "            optimizer=optimizer,\n",
    "            lr_scheduler = scheduler,\n",
    "            model=model,\n",
    "            loss_fn=loss_fn,\n",
    "            train_loader=train_loader,\n",
    "            val_loader=val_loader\n",
    "        )\n",
    "\n",
    "        loss_train_history_list.append(loss_train_history)\n",
    "        loss_val_history_list.append(loss_val_history)\n",
    "\n",
    "        # prediction on test set        \n",
    "        test_score = list()\n",
    "        TP_TN_sum = 0\n",
    "        model.eval()\n",
    "        with torch.no_grad():\n",
    "            i = 0\n",
    "            for spec, label in test_loader:\n",
    "                spec = spec.float()\n",
    "                pred = model(spec)\n",
    "                # pred = torch.squeeze(pred,1)\n",
    "                pred = torch.squeeze(pred)\n",
    "                pred = torch.squeeze(pred)  \n",
    "                label = torch.squeeze(label,0)\n",
    "                \n",
    "                # print('pred.shape', pred.shape)\n",
    "                # print('pred', pred)\n",
    "                # print('label.shape', label.shape)\n",
    "                # print('label', label)\n",
    "\n",
    "                # test_score.append(pred.numpy())\n",
    "                test_score.append(pred[1].numpy())\n",
    "                if pred[1]>pred[0]: #pred>0:\n",
    "                    pred = torch.tensor(1, dtype=torch.float64)\n",
    "                    y_pred[inds_test[i]] = 1\n",
    "                    if label[1]>label[0]:\n",
    "                        TP_TN_sum +=1    # TP\n",
    "                else:\n",
    "                    pred = torch.tensor(0, dtype=torch.float64)                \n",
    "                    y_pred[inds_test[i]] = 0 \n",
    "                    if label[0]>label[1]:\n",
    "                        TP_TN_sum +=1    # TN                   \n",
    "                y_true[inds_test[i]] = 1*(label[1]>label[0]) #label\n",
    "\n",
    "                # if pred==label:\n",
    "                #     TP_TN_sum +=1                \n",
    "                i +=1\n",
    "            fold_acc.append(TP_TN_sum/len(test_score))\n",
    "            print('Acc = ', TP_TN_sum/len(test_score))\n",
    "\n",
    "    fig, ax = plt.subplots(figsize=(12,2.5))\n",
    "    plt.rcParams.update({'font.size': 10})    \n",
    "\n",
    "    for i in folds:\n",
    "        plt.subplot(1,len(folds),i+1)\n",
    "        plt.plot(range(n_epochs), loss_train_history_list[i], label='Обучающий набор')\n",
    "        plt.plot(range(n_epochs), loss_val_history_list[i], label='Проверочный набор')\n",
    "        plt.legend()\n",
    "        plt.xlabel('Эпоха')\n",
    "        plt.ylabel('Ошибка обучения')\n",
    "    \n",
    "\n",
    "    acc_sk = metrics.accuracy_score(y_true, y_pred)\n",
    "    recall = metrics.recall_score(y_true, y_pred)\n",
    "    prec = metrics.precision_score(y_true, y_pred)\n",
    "    tn, fp, fn, tp = metrics.confusion_matrix(y_true, y_pred).ravel()\n",
    "    sensetivity = tp / (tp+fn)\n",
    "    specificity = tn / (tn+fp)\n",
    "    \n",
    "    print('Final results')\n",
    "    print(f'{n_epochs} epochs. Acc_sk = {acc_sk:.2f} (Sens = {sensetivity:.2f} / Spec = {specificity:.2f}) {fold_acc[0]:.2f} / {fold_acc[1]:.2f} / {fold_acc[2]:.2f} / {fold_acc[3]:.2f} / {fold_acc[4]:.2f}')\n",
    "    # print(f'Prec = {prec:.2f}')\n",
    "    # print(f'Recall = {recall:.2f}')\n",
    "    # print(f'')    \n",
    "    \n",
    "    # return acc_sk"
   ]
  },
  {
   "attachments": {},
   "cell_type": "markdown",
   "metadata": {},
   "source": [
    "#### Start script"
   ]
  },
  {
   "cell_type": "code",
   "execution_count": null,
   "metadata": {},
   "outputs": [],
   "source": [
    "# script with reset.parameters()\n",
    "dir_HC = '../wav'+ os.sep + 'HC' + os.sep\n",
    "dir_ALS = '../wav' + os.sep + 'ALS' + os.sep\n",
    "\n",
    "DataSet_ALS = ALSDataset(dir_HC, dir_ALS)\n",
    "model = ALS_CNN()\n",
    "\n",
    "# optimizer = optim.SGD(ALS_cnn.parameters(), lr=1e-3, momentum=0.10)\n",
    "optimizer = optim.Adam(model.parameters(),lr=1e-3, weight_decay=2e-3) # weight_decay is L2 regularization\n",
    "\n",
    "crossvalid(dataset=DataSet_ALS, model = model, train = training_loop, optimizer = optimizer, n_epochs=15, k_fold=5)"
   ]
  },
  {
   "attachments": {},
   "cell_type": "markdown",
   "metadata": {},
   "source": [
    "#### Start k-fold CV"
   ]
  },
  {
   "cell_type": "code",
   "execution_count": null,
   "metadata": {},
   "outputs": [],
   "source": [
    "# dir_HC = '../wav'+ os.sep + 'HC' + os.sep\n",
    "# dir_ALS = '../wav' + os.sep + 'ALS' + os.sep\n",
    "\n",
    "DataSet_ALS = ALSDataset(dir_HC, dir_ALS)\n",
    "model = ALS_CNN1()\n",
    "\n",
    "# Start parameters\n",
    "# layer1_filt = 64\n",
    "# lf_num, mf_num, hf_num = 32,16,16    # low-frequency / medium-frequency / high-frequency       \n",
    "# lf_width,  mf_width,  hf_width  = 12,8,4      # low/medium/high-frequency time span\n",
    "# lf_height, mf_height, hf_height = 16,8,8      # low/medium/high-frequency frequency span\n",
    "# lf_h_stride, mf_h_stride, hf_h_stride = 4,2,1\n",
    "# lf_w_stride, mf_w_stride, hf_w_stride = lf_width//2, mf_width//2, hf_width//2\n",
    "# optimizer = optim.Adam(model.parameters(),lr=1e-2, weight_decay=1e-1) # 30 epochs. Acc_sk = 0.56 (Sens = 0.47 / Spec = 0.65) 0.66 / 0.37 / 0.64 / 0.62 / 0.55\n",
    "# optimizer = optim.SGD(model.parameters(),lr=1e-2, weight_decay=1e-1) # 15 epochs. Acc_sk = 0.71 (Sens = 0.75 / Spec = 0.66) 0.65 / 0.82 / 0.72 / 0.78 / 0.61\n",
    "# lf_height = 24\n",
    "# optimizer = optim.SGD(model.parameters(),lr=1e-2, weight_decay=1e-1) # 15 epochs. Acc_sk = 0.63 (Sens = 0.75 / Spec = 0.51) 0.72 / 0.71 / 0.59 / 0.63 / 0.57\n",
    "# optimizer = optim.SGD(model.parameters(),lr=1e-3, weight_decay=1e-1, momentum=0.2) # 15 epochs. Acc_sk = 0.61 (Sens = 0.73 / Spec = 0.49) 0.62 / 0.68 / 0.57 / 0.64 / 0.57\n",
    "# optimizer = optim.SGD(model.parameters(),lr=1e-3, weight_decay=1e-1, momentum=0.2) # 15 epochs. Acc_sk = 0.75 (Sens = 0.78 / Spec = 0.71) 0.68 / 0.85 / 0.66 / 0.68 / 0.87 (good behaviour)\n",
    "# optimizer = optim.SGD(model.parameters(),lr=1e-3, weight_decay=1e-1, momentum=0.2) # 30 epochs. Acc_sk = 0.76 (Sens = 0.79 / Spec = 0.72) 0.71 / 0.82 / 0.73 / 0.67 / 0.86\n",
    "# optimizer = optim.SGD(model.parameters(),lr=1e-3, weight_decay=1e-1, momentum=0.4) # 15 epochs. Acc_sk = 0.76 (Sens = 0.78 / Spec = 0.73) 0.73 / 0.88 / 0.67 / 0.65 / 0.87\n",
    "# mf_height = 12 (old val 8)\n",
    "# optimizer = optim.SGD(model.parameters(),lr=1e-3, weight_decay=1e-1, momentum=0.4) # 15 epochs. Acc_sk = 0.77 (Sens = 0.81 / Spec = 0.73) 0.80 / 0.88 / 0.70 / 0.65 / 0.84\n",
    "# optimizer = optim.SGD(model.parameters(),lr=1e-3, weight_decay=1e-1, momentum=0.6) # 15 epochs. Acc_sk = 0.74 (Sens = 0.78 / Spec = 0.69) 0.77 / 0.86 / 0.71 / 0.64 / 0.73\n",
    "# hf_height = 12 (old val 8) \n",
    "# optimizer = optim.SGD(model.parameters(),lr=1e-3, weight_decay=1e-1, momentum=0.4) # 15 epochs. Acc_sk = 0.73 (Sens = 0.75 / Spec = 0.70) 0.67 / 0.89 / 0.65 / 0.66 / 0.810\n",
    "# hf_height = 8 (return), mf_height = 16 (old val 12)\n",
    "# optimizer = optim.SGD(model.parameters(),lr=1e-3, weight_decay=1e-1, momentum=0.4) # 15 epochs. Acc_sk = 0.76 (Sens = 0.81 / Spec = 0.71) 0.83 / 0.92 / 0.58 / 0.65 / 0.90\n",
    "# optimizer = optim.SGD(model.parameters(),lr=1e-3, weight_decay=1e-1, momentum=0.4) # 100 epochs. Acc_sk = 0.65 (Sens = 0.64 / Spec = 0.66) 0.62 / 0.73 / 0.58 / 0.72 / 0.66\n",
    "# lf_width = 24 (old value 12)\n",
    "# optimizer = optim.SGD(model.parameters(),lr=1e-3, weight_decay=1e-1, momentum=0.4) # 15 epochs. Acc_sk = 0.76 (Sens = 0.82 / Spec = 0.70) 0.84 / 0.93 / 0.60 / 0.64 / 0.85\n",
    "# mf_width = 16 (old value 8)\n",
    "# optimizer = optim.SGD(model.parameters(),lr=1e-3, weight_decay=1e-1, momentum=0.4) # 15 epochs. Acc_sk = 0.76 (Sens = 0.80 / Spec = 0.70) 0.77 / 0.89 / 0.59 / 0.67 / 0.91\n",
    "# hf_height = 16 (old value 8)\n",
    "# optimizer = optim.SGD(model.parameters(),lr=1e-3, weight_decay=1e-1, momentum=0.4) # 15 epochs. Acc_sk = 0.76 (Sens = 0.79 / Spec = 0.73) 0.68 / 0.89 / 0.58 / 0.75 / 0.94\n",
    "# mf_height = 15 (old value 16)\n",
    "# optimizer = optim.SGD(model.parameters(),lr=1e-3, weight_decay=1e-1, momentum=0.4) # 15 epochs. Acc_sk = 0.76 (Sens = 0.80 / Spec = 0.70) 0.70 / 0.86 / 0.57 / 0.75 / 0.94\n",
    "# optimizer = optim.SGD(model.parameters(),lr=1e-3, weight_decay=1e-1, momentum=0.4) # 30 epochs. Acc_sk = 0.71 (Sens = 0.75 / Spec = 0.67) 0.64 / 0.84 / 0.55 / 0.75 / 0.85\n",
    "# lf_width = 48 (24 old value)\n",
    "# optimizer = optim.SGD(model.parameters(),lr=1e-3, weight_decay=1e-1, momentum=0.4) # 15 epochs. Acc_sk = 0.73 (Sens = 0.77 / Spec = 0.69) 0.68 / 0.84 / 0.55 / 0.74 / 0.89\n",
    "# lf_width = 32 (24 old value)\n",
    "# optimizer = optim.SGD(model.parameters(),lr=1e-3, weight_decay=1e-1, momentum=0.4) # 15 epochs. Acc_sk = 0.74 (Sens = 0.79 / Spec = 0.69) 0.69 / 0.87 / 0.54 / 0.75 / 0.90\n",
    "# lf_width = 32 (24 old value)\n",
    "# optimizer = optim.SGD(model.parameters(),lr=1e-3, weight_decay=1e-1, momentum=0.4) # 15 epochs. Acc_sk = 0.74 (Sens = 0.79 / Spec = 0.69) 0.69 / 0.87 / 0.54 / 0.75 / 0.90\n",
    "# lf_width = 24 (return) + hf_height = 8 (return)\n",
    "# optimizer = optim.SGD(model.parameters(),lr=1e-3, weight_decay=1e-1, momentum=0.4) # 15 epochs. Acc_sk = 0.74 (Sens = 0.80 / Spec = 0.68) 0.76 / 0.87 / 0.54 / 0.69 / 0.87\n",
    "# mf_height = 12 (before 16)\n",
    "# optimizer = optim.SGD(model.parameters(),lr=1e-3, weight_decay=1e-1, momentum=0.4) # 15 epochs. Acc_sk = 0.78 (Sens = 0.82 / Spec = 0.74) 0.80 / 0.85 / 0.68 / 0.65 / 0.89\n",
    "# optimizer = optim.SGD(model.parameters(),lr=1e-3, weight_decay=1e-1, momentum=0.5) # 15 epochs. Acc_sk = 0.74 (Sens = 0.80 / Spec = 0.68) 0.79 / 0.86 / 0.64 / 0.65 / 0.76\n",
    "# optimizer = optim.SGD(model.parameters(),lr=1e-3, weight_decay=1e-1, momentum=0.3) # 15 epochs. Acc_sk = 0.71 (Sens = 0.73 / Spec = 0.68) 0.69 / 0.67 / 0.64 / 0.67 / 0.85\n",
    "# hf_height = 12 (old value 8)\n",
    "# optimizer = optim.SGD(model.parameters(),lr=1e-3, weight_decay=1e-1, momentum=0.4) # 15 epochs. Acc_sk = 0.74 (Sens = 0.76 / Spec = 0.72) 0.65 / 0.86 / 0.65 / 0.68 / 0.88\n",
    "# hf_height = 8 (return)\n",
    "# optimizer = optim.SGD(model.parameters(),lr=1e-3, weight_decay=1e-1, momentum=0.4) # 15 epochs. Acc_sk = 0.77 (Sens = 0.81 / Spec = 0.72) 0.76 / 0.86 / 0.68 / 0.65 / 0.88\n",
    "# hf_height = 10 (8 before)\n",
    "# optimizer = optim.SGD(model.parameters(),lr=1e-3, weight_decay=1e-1, momentum=0.4) # 15 epochs. Acc_sk = 0.76 (Sens = 0.79 / Spec = 0.72) 0.75 / 0.85 / 0.64 / 0.66 / 0.87\n",
    "# hf_height = 8 (return) + hf_width = 8 (before 4)\n",
    "# optimizer = optim.SGD(model.parameters(),lr=1e-3, weight_decay=1e-1, momentum=0.4) # 15 epochs. Acc_sk = 0.74 (Sens = 0.81 / Spec = 0.66) 0.79 / 0.86 / 0.64 / 0.63 / 0.76\n",
    "# return to model with 78% Acc\n",
    "# optimizer = optim.SGD(model.parameters(),lr=1e-3, weight_decay=1e-1, momentum=0.4) # 15 epochs. Acc_sk = 0.75 (Sens = 0.80 / Spec = 0.70) 0.75 / 0.83 / 0.66 / 0.65 / 0.83\n",
    "# xavier_uniform changed to kaiming_normal_\n",
    "# optimizer = optim.SGD(model.parameters(),lr=1e-3, weight_decay=1e-1, momentum=0.4) # 15 epochs. Acc_sk = 0.74 (Sens = 0.78 / Spec = 0.69) 0.63 / 0.88 / 0.53 / 0.75 / 0.94 (good behaviour)\n",
    "# kaiming_normal_ changed to kaiming_uniform_\n",
    "# optimizer = optim.SGD(model.parameters(),lr=1e-3, weight_decay=1e-1, momentum=0.4) # 15 epochs. Acc_sk = 0.70 (Sens = 0.75 / Spec = 0.65) 0.62 / 0.87 / 0.53 / 0.77 / 0.79\n",
    "# kaiming_uniform_ \n",
    "# optimizer = optim.SGD(model.parameters(),lr=1e-3, weight_decay=1e-1, momentum=0.2) # 15 epochs. Acc_sk = 0.74 (Sens = 0.80 / Spec = 0.69) 0.65 / 0.88 / 0.53 / 0.75 / 0.95\n",
    "# optimizer = optim.SGD(model.parameters(),lr=5e-4, weight_decay=1e-1, momentum=0.2) # 15 epochs. Acc_sk = 0.74 (Sens = 0.80 / Spec = 0.68) 0.69 / 0.80 / 0.54 / 0.75 / 0.93\n",
    "# hf_width = 5 (before 4)\n",
    "# optimizer = optim.SGD(model.parameters(),lr=5e-4, weight_decay=1e-1, momentum=0.2) # 15 epochs. Acc_sk = 0.74 (Sens = 0.78 / Spec = 0.69) 0.65 / 0.84 / 0.58 / 0.74 / 0.90\n",
    "# xavier_uniform (return) + nn.init.xavier_uniform_(self.fc)\n",
    "# optimizer = optim.SGD(model.parameters(),lr=5e-4, weight_decay=1e-1, momentum=0.2) # 15 epochs. Acc_sk = 0.67 (Sens = 0.67 / Spec = 0.66) 0.60 / 0.65 / 0.62 / 0.64 / 0.82 (slow curves)\n",
    "# optimizer = optim.SGD(model.parameters(),lr=2e-3, weight_decay=1e-1, momentum=0.2) # 15 epochs. Acc_sk = 0.71 (Sens = 0.73 / Spec = 0.69) 0.75 / 0.83 / 0.58 / 0.66 / 0.79 \n",
    "# optimizer = optim.SGD(model.parameters(),lr=2e-3, weight_decay=1e-1, momentum=0.4) # 15 epochs. Acc_sk = 0.69 (Sens = 0.72 / Spec = 0.67) 0.74 / 0.79 / 0.60 / 0.66 / 0.73\n",
    "# optimizer = optim.SGD(model.parameters(),lr=1e-3, weight_decay=1e-1, momentum=0.4) # 15 epochs. Acc_sk = 0.73 (Sens = 0.75 / Spec = 0.71) 0.72 / 0.88 / 0.60 / 0.66 / 0.84\n",
    "# lf_width = 27 (before 24)\n",
    "# optimizer = optim.SGD(model.parameters(),lr=1e-3, weight_decay=1e-1, momentum=0.4) # 15 epochs. Acc_sk = 0.76 (Sens = 0.78 / Spec = 0.73) 0.77 / 0.86 / 0.67 / 0.65 / 0.83\n",
    "# lf_height = 27 (before 24)\n",
    "# optimizer = optim.SGD(model.parameters(),lr=1e-3, weight_decay=1e-1, momentum=0.4) # 15 epochs. Acc_sk = 0.75 (Sens = 0.80 / Spec = 0.70) 0.79 / 0.90 / 0.73 / 0.65 / 0.74\n",
    "# optimizer = optim.SGD(model.parameters(),lr=1e-3, weight_decay=1e-1, momentum=0.4) # 15 epochs. Acc_sk = 0.75 (Sens = 0.79 / Spec = 0.70) 0.78 / 0.90 / 0.73 / 0.65 / 0.74\n",
    "# lf_height = 27 (before 24)\n",
    "# optimizer = optim.SGD(model.parameters(),lr=1e-3, weight_decay=1e-1, momentum=0.4)\n",
    "# mf_height = 15 (before 12)\n",
    "# optimizer = optim.SGD(model.parameters(),lr=1e-3, weight_decay=1e-1, momentum=0.4) # 15 epochs. Acc_sk = 0.75 (Sens = 0.80 / Spec = 0.70) 0.79 / 0.90 / 0.71 / 0.65 / 0.75\n",
    "# mf_width, mf_height = 13,13\n",
    "# optimizer = optim.SGD(model.parameters(),lr=1e-3, weight_decay=1e-1, momentum=0.4) # 15 epochs. Acc_sk = 0.74 (Sens = 0.81 / Spec = 0.66) 0.81 / 0.94 / 0.65 / 0.65 / 0.74\n",
    "# mf_width, mf_height = 15,15 (return)\n",
    "# optimizer = optim.Adam(model.parameters(),lr=1e-4, weight_decay=1e-1) # 15 epochs. Acc_sk = 0.62 (Sens = 0.60 / Spec = 0.65) 0.50 / 0.74 / 0.59 / 0.72 / 0.63\n",
    "# hf_width,hf_height = 5,5\n",
    "# optimizer = optim.SGD(model.parameters(),lr=1e-3, weight_decay=1e-1, momentum=0.4) # 15 epochs. Acc_sk = 0.71 (Sens = 0.82 / Spec = 0.59) 0.76 / 0.91 / 0.55 / 0.65 / 0.75\n",
    "# mf_height,mf_width = 15,17 (before 15x15)\n",
    "# optimizer = optim.SGD(model.parameters(),lr=1e-3, weight_decay=1e-1, momentum=0.4) # 15 epochs. Acc_sk = 0.71 (Sens = 0.76 / Spec = 0.66) 0.68 / 0.74 / 0.56 / 0.67 / 0.87\n",
    "# optimizer = optim.SGD(model.parameters(),lr=1e-3, weight_decay=1e-1, momentum=0.6) # 15 epochs. Acc_sk = 0.73 (Sens = 0.80 / Spec = 0.65) 0.70 / 0.77 / 0.59 / 0.67 / 0.87\n",
    "# self.layer1_filt = 3 (before 4)\n",
    "# optimizer = optim.SGD(model.parameters(),lr=1e-3, weight_decay=1e-1, momentum=0.6) # 15 epochs. Acc_sk = 0.74 (Sens = 0.82 / Spec = 0.65) 0.72 / 0.82 / 0.57 / 0.74 / 0.84\n",
    "# self.layer1_filt = 2 (before 3)\n",
    "# optimizer = optim.SGD(model.parameters(),lr=1e-3, weight_decay=1e-1, momentum=0.6) # 15 epochs. Acc_sk = 0.71 (Sens = 0.73 / Spec = 0.70) 0.70 / 0.71 / 0.60 / 0.64 / 0.89\n",
    "# optimizer = optim.SGD(model.parameters(),lr=1e-3, weight_decay=1e-1, momentum=0.6) # 30 epochs. Acc_sk = 0.73 (Sens = 0.77 / Spec = 0.69) 0.75 / 0.79 / 0.60 / 0.65 / 0.84\n",
    "# optimizer = optim.Adam(model.parameters(),lr=1e-3, weight_decay=1e-1) # 15 epochs. Acc_sk = 0.65 (Sens = 0.69 / Spec = 0.61) 0.62 / 0.81 / 0.57 / 0.71 / 0.62\n",
    "# optimizer = optim.SGD(model.parameters(),lr=1e-3, weight_decay=1e-1, momentum=0.8) # 15 epochs. Acc_sk = 0.72 (Sens = 0.74 / Spec = 0.70) 0.73 / 0.80 / 0.58 / 0.65 / 0.83\n",
    "# optimizer = optim.SGD(model.parameters(),lr=1e-3, weight_decay=1e-1, momentum=0.4) # 15 epochs. Acc_sk = 0.69 (Sens = 0.69 / Spec = 0.69) 0.68 / 0.62 / 0.63 / 0.66 / 0.83\n",
    "# add second convolution with middle freq mf_height,mf_width = 7,7\n",
    "# optimizer = optim.SGD(model.parameters(),lr=1e-3, weight_decay=1e-1, momentum=0.6) # 15 epochs. Acc_sk = 0.71 (Sens = 0.75 / Spec = 0.67) 0.68 / 0.85 / 0.59 / 0.64 / 0.84\n",
    "# dropout = 0.1\n",
    "# optimizer = optim.SGD(model.parameters(),lr=1e-3, weight_decay=1e-1, momentum=0.6) # 15 epochs. Acc_sk = 0.71 (Sens = 0.75 / Spec = 0.68) 0.69 / 0.87 / 0.58 / 0.67 / 0.84\n",
    "# mf_height,mf_width = 7,33\n",
    "optimizer = optim.SGD(model.parameters(),lr=1e-3, weight_decay=1e-1, momentum=0.6) # 15 epochs. Acc_sk = 0.70 (Sens = 0.78 / Spec = 0.62) 0.75 / 0.69 / 0.56 / 0.73 / 0.76 (good curves. need more iterations)\n",
    "\n",
    "k_fold_CV(dataset=DataSet_ALS, model = model, optimizer=optimizer, train = training_loop, n_epochs=15)\n"
   ]
  },
  {
   "cell_type": "markdown",
   "metadata": {},
   "source": [
    "#### Test CNN1 (5-fold CV)"
   ]
  },
  {
   "cell_type": "code",
   "execution_count": 40,
   "metadata": {},
   "outputs": [
    {
     "name": "stderr",
     "output_type": "stream",
     "text": [
      "Epoch 1: 100%|██████████| 125/125 [00:07<00:00, 16.52it/s]\n"
     ]
    },
    {
     "name": "stdout",
     "output_type": "stream",
     "text": [
      "2023-06-02 19:17:16.774015 Epoch 1, Train loss 0.713, Val loss 0.710, Acc_val = 0.36\n"
     ]
    },
    {
     "name": "stderr",
     "output_type": "stream",
     "text": [
      "Epoch 2: 100%|██████████| 125/125 [00:07<00:00, 16.37it/s]\n"
     ]
    },
    {
     "name": "stdout",
     "output_type": "stream",
     "text": [
      "2023-06-02 19:17:24.780427 Epoch 2, Train loss 0.682, Val loss 0.706, Acc_val = 0.24\n"
     ]
    },
    {
     "name": "stderr",
     "output_type": "stream",
     "text": [
      "Epoch 3: 100%|██████████| 125/125 [00:07<00:00, 16.45it/s]\n"
     ]
    },
    {
     "name": "stdout",
     "output_type": "stream",
     "text": [
      "2023-06-02 19:17:32.733660 Epoch 3, Train loss 0.673, Val loss 0.712, Acc_val = 0.21\n"
     ]
    },
    {
     "name": "stderr",
     "output_type": "stream",
     "text": [
      "Epoch 4: 100%|██████████| 125/125 [00:07<00:00, 16.49it/s]\n"
     ]
    },
    {
     "name": "stdout",
     "output_type": "stream",
     "text": [
      "2023-06-02 19:17:40.647300 Epoch 4, Train loss 0.671, Val loss 0.710, Acc_val = 0.21\n"
     ]
    },
    {
     "name": "stderr",
     "output_type": "stream",
     "text": [
      "Epoch 5: 100%|██████████| 125/125 [00:07<00:00, 16.53it/s]\n"
     ]
    },
    {
     "name": "stdout",
     "output_type": "stream",
     "text": [
      "2023-06-02 19:17:48.551730 Epoch 5, Train loss 0.669, Val loss 0.710, Acc_val = 0.21\n"
     ]
    },
    {
     "name": "stderr",
     "output_type": "stream",
     "text": [
      "Epoch 6: 100%|██████████| 125/125 [00:07<00:00, 16.51it/s]\n"
     ]
    },
    {
     "name": "stdout",
     "output_type": "stream",
     "text": [
      "2023-06-02 19:17:56.474823 Epoch 6, Train loss 0.668, Val loss 0.712, Acc_val = 0.27\n"
     ]
    },
    {
     "name": "stderr",
     "output_type": "stream",
     "text": [
      "Epoch 7: 100%|██████████| 125/125 [00:07<00:00, 16.77it/s]\n"
     ]
    },
    {
     "name": "stdout",
     "output_type": "stream",
     "text": [
      "2023-06-02 19:18:04.372962 Epoch 7, Train loss 0.668, Val loss 0.707, Acc_val = 0.32\n"
     ]
    },
    {
     "name": "stderr",
     "output_type": "stream",
     "text": [
      "Epoch 8: 100%|██████████| 125/125 [00:07<00:00, 17.41it/s]\n"
     ]
    },
    {
     "name": "stdout",
     "output_type": "stream",
     "text": [
      "2023-06-02 19:18:11.841619 Epoch 8, Train loss 0.668, Val loss 0.699, Acc_val = 0.37\n"
     ]
    },
    {
     "name": "stderr",
     "output_type": "stream",
     "text": [
      "Epoch 9: 100%|██████████| 125/125 [00:06<00:00, 20.57it/s]\n"
     ]
    },
    {
     "name": "stdout",
     "output_type": "stream",
     "text": [
      "2023-06-02 19:18:18.229558 Epoch 9, Train loss 0.668, Val loss 0.695, Acc_val = 0.43\n"
     ]
    },
    {
     "name": "stderr",
     "output_type": "stream",
     "text": [
      "Epoch 10: 100%|██████████| 125/125 [00:05<00:00, 20.94it/s]\n"
     ]
    },
    {
     "name": "stdout",
     "output_type": "stream",
     "text": [
      "2023-06-02 19:18:24.471509 Epoch 10, Train loss 0.669, Val loss 0.693, Acc_val = 0.47\n"
     ]
    },
    {
     "name": "stderr",
     "output_type": "stream",
     "text": [
      "Epoch 11: 100%|██████████| 125/125 [00:05<00:00, 21.00it/s]\n"
     ]
    },
    {
     "name": "stdout",
     "output_type": "stream",
     "text": [
      "2023-06-02 19:18:30.716928 Epoch 11, Train loss 0.670, Val loss 0.692, Acc_val = 0.47\n"
     ]
    },
    {
     "name": "stderr",
     "output_type": "stream",
     "text": [
      "Epoch 12: 100%|██████████| 125/125 [00:05<00:00, 21.17it/s]\n"
     ]
    },
    {
     "name": "stdout",
     "output_type": "stream",
     "text": [
      "2023-06-02 19:18:36.894884 Epoch 12, Train loss 0.671, Val loss 0.692, Acc_val = 0.49\n"
     ]
    },
    {
     "name": "stderr",
     "output_type": "stream",
     "text": [
      "Epoch 13: 100%|██████████| 125/125 [00:06<00:00, 20.53it/s]\n"
     ]
    },
    {
     "name": "stdout",
     "output_type": "stream",
     "text": [
      "2023-06-02 19:18:43.284451 Epoch 13, Train loss 0.672, Val loss 0.690, Acc_val = 0.57\n"
     ]
    },
    {
     "name": "stderr",
     "output_type": "stream",
     "text": [
      "Epoch 14: 100%|██████████| 125/125 [00:06<00:00, 19.19it/s]\n"
     ]
    },
    {
     "name": "stdout",
     "output_type": "stream",
     "text": [
      "2023-06-02 19:18:50.189187 Epoch 14, Train loss 0.673, Val loss 0.690, Acc_val = 0.59\n"
     ]
    },
    {
     "name": "stderr",
     "output_type": "stream",
     "text": [
      "Epoch 15: 100%|██████████| 125/125 [00:06<00:00, 20.15it/s]\n"
     ]
    },
    {
     "name": "stdout",
     "output_type": "stream",
     "text": [
      "2023-06-02 19:18:56.709264 Epoch 15, Train loss 0.674, Val loss 0.691, Acc_val = 0.55\n"
     ]
    },
    {
     "data": {
      "image/png": "[encoded data removed]",
      "text/plain": [
       "<Figure size 432x180 with 1 Axes>"
      ]
     },
     "metadata": {
      "needs_background": "light"
     },
     "output_type": "display_data"
    },
    {
     "name": "stdout",
     "output_type": "stream",
     "text": [
      "Acc =  0.6502129792032072\n"
     ]
    },
    {
     "name": "stderr",
     "output_type": "stream",
     "text": [
      "Epoch 1: 100%|██████████| 132/132 [00:06<00:00, 20.92it/s]\n"
     ]
    },
    {
     "name": "stdout",
     "output_type": "stream",
     "text": [
      "2023-06-02 19:19:09.450447 Epoch 1, Train loss 0.706, Val loss 0.815, Acc_val = 0.00\n"
     ]
    },
    {
     "name": "stderr",
     "output_type": "stream",
     "text": [
      "Epoch 2: 100%|██████████| 132/132 [00:06<00:00, 20.40it/s]\n"
     ]
    },
    {
     "name": "stdout",
     "output_type": "stream",
     "text": [
      "2023-06-02 19:19:16.074193 Epoch 2, Train loss 0.665, Val loss 0.818, Acc_val = 0.05\n"
     ]
    },
    {
     "name": "stderr",
     "output_type": "stream",
     "text": [
      "Epoch 3: 100%|██████████| 132/132 [00:06<00:00, 20.40it/s]\n"
     ]
    },
    {
     "name": "stdout",
     "output_type": "stream",
     "text": [
      "2023-06-02 19:19:22.721559 Epoch 3, Train loss 0.655, Val loss 0.823, Acc_val = 0.00\n"
     ]
    },
    {
     "name": "stderr",
     "output_type": "stream",
     "text": [
      "Epoch 4: 100%|██████████| 132/132 [00:06<00:00, 20.74it/s]\n"
     ]
    },
    {
     "name": "stdout",
     "output_type": "stream",
     "text": [
      "2023-06-02 19:19:29.241080 Epoch 4, Train loss 0.652, Val loss 0.812, Acc_val = 0.07\n"
     ]
    },
    {
     "name": "stderr",
     "output_type": "stream",
     "text": [
      "Epoch 5: 100%|██████████| 132/132 [00:06<00:00, 20.52it/s]\n"
     ]
    },
    {
     "name": "stdout",
     "output_type": "stream",
     "text": [
      "2023-06-02 19:19:35.831798 Epoch 5, Train loss 0.647, Val loss 0.800, Acc_val = 0.05\n"
     ]
    },
    {
     "name": "stderr",
     "output_type": "stream",
     "text": [
      "Epoch 6: 100%|██████████| 132/132 [00:06<00:00, 20.09it/s]\n"
     ]
    },
    {
     "name": "stdout",
     "output_type": "stream",
     "text": [
      "2023-06-02 19:19:42.563382 Epoch 6, Train loss 0.644, Val loss 0.797, Acc_val = 0.00\n"
     ]
    },
    {
     "name": "stderr",
     "output_type": "stream",
     "text": [
      "Epoch 7: 100%|██████████| 132/132 [00:06<00:00, 20.43it/s]\n"
     ]
    },
    {
     "name": "stdout",
     "output_type": "stream",
     "text": [
      "2023-06-02 19:19:49.194014 Epoch 7, Train loss 0.641, Val loss 0.780, Acc_val = 0.18\n"
     ]
    },
    {
     "name": "stderr",
     "output_type": "stream",
     "text": [
      "Epoch 8: 100%|██████████| 132/132 [00:06<00:00, 20.14it/s]\n"
     ]
    },
    {
     "name": "stdout",
     "output_type": "stream",
     "text": [
      "2023-06-02 19:19:55.909332 Epoch 8, Train loss 0.639, Val loss 0.760, Acc_val = 0.31\n"
     ]
    },
    {
     "name": "stderr",
     "output_type": "stream",
     "text": [
      "Epoch 9: 100%|██████████| 132/132 [00:06<00:00, 20.90it/s]\n"
     ]
    },
    {
     "name": "stdout",
     "output_type": "stream",
     "text": [
      "2023-06-02 19:20:02.384122 Epoch 9, Train loss 0.635, Val loss 0.751, Acc_val = 0.31\n"
     ]
    },
    {
     "name": "stderr",
     "output_type": "stream",
     "text": [
      "Epoch 10: 100%|██████████| 132/132 [00:06<00:00, 20.17it/s]\n"
     ]
    },
    {
     "name": "stdout",
     "output_type": "stream",
     "text": [
      "2023-06-02 19:20:09.106584 Epoch 10, Train loss 0.632, Val loss 0.737, Acc_val = 0.31\n"
     ]
    },
    {
     "name": "stderr",
     "output_type": "stream",
     "text": [
      "Epoch 11: 100%|██████████| 132/132 [00:06<00:00, 20.91it/s]\n"
     ]
    },
    {
     "name": "stdout",
     "output_type": "stream",
     "text": [
      "2023-06-02 19:20:15.580642 Epoch 11, Train loss 0.629, Val loss 0.727, Acc_val = 0.39\n"
     ]
    },
    {
     "name": "stderr",
     "output_type": "stream",
     "text": [
      "Epoch 12: 100%|██████████| 132/132 [00:06<00:00, 19.66it/s]\n"
     ]
    },
    {
     "name": "stdout",
     "output_type": "stream",
     "text": [
      "2023-06-02 19:20:22.509259 Epoch 12, Train loss 0.627, Val loss 0.717, Acc_val = 0.44\n"
     ]
    },
    {
     "name": "stderr",
     "output_type": "stream",
     "text": [
      "Epoch 13: 100%|██████████| 132/132 [00:06<00:00, 19.70it/s]\n"
     ]
    },
    {
     "name": "stdout",
     "output_type": "stream",
     "text": [
      "2023-06-02 19:20:29.389007 Epoch 13, Train loss 0.624, Val loss 0.709, Acc_val = 0.55\n"
     ]
    },
    {
     "name": "stderr",
     "output_type": "stream",
     "text": [
      "Epoch 14: 100%|██████████| 132/132 [00:07<00:00, 17.78it/s]\n"
     ]
    },
    {
     "name": "stdout",
     "output_type": "stream",
     "text": [
      "2023-06-02 19:20:36.985808 Epoch 14, Train loss 0.624, Val loss 0.700, Acc_val = 0.56\n"
     ]
    },
    {
     "name": "stderr",
     "output_type": "stream",
     "text": [
      "Epoch 15: 100%|██████████| 132/132 [00:07<00:00, 18.05it/s]\n"
     ]
    },
    {
     "name": "stdout",
     "output_type": "stream",
     "text": [
      "2023-06-02 19:20:44.493460 Epoch 15, Train loss 0.623, Val loss 0.699, Acc_val = 0.57\n"
     ]
    },
    {
     "data": {
      "image/png": "[encoded data removed]",
      "text/plain": [
       "<Figure size 432x180 with 1 Axes>"
      ]
     },
     "metadata": {
      "needs_background": "light"
     },
     "output_type": "display_data"
    },
    {
     "name": "stdout",
     "output_type": "stream",
     "text": [
      "Acc =  0.4979910186717088\n"
     ]
    },
    {
     "name": "stderr",
     "output_type": "stream",
     "text": [
      "Epoch 1: 100%|██████████| 127/127 [00:06<00:00, 19.80it/s]\n"
     ]
    },
    {
     "name": "stdout",
     "output_type": "stream",
     "text": [
      "2023-06-02 19:20:58.566519 Epoch 1, Train loss 0.705, Val loss 0.732, Acc_val = 0.40\n"
     ]
    },
    {
     "name": "stderr",
     "output_type": "stream",
     "text": [
      "Epoch 2: 100%|██████████| 127/127 [00:06<00:00, 19.52it/s]\n"
     ]
    },
    {
     "name": "stdout",
     "output_type": "stream",
     "text": [
      "2023-06-02 19:21:05.290456 Epoch 2, Train loss 0.660, Val loss 0.736, Acc_val = 0.40\n"
     ]
    },
    {
     "name": "stderr",
     "output_type": "stream",
     "text": [
      "Epoch 3: 100%|██████████| 127/127 [00:06<00:00, 20.66it/s]\n"
     ]
    },
    {
     "name": "stdout",
     "output_type": "stream",
     "text": [
      "2023-06-02 19:21:11.677561 Epoch 3, Train loss 0.644, Val loss 0.747, Acc_val = 0.40\n"
     ]
    },
    {
     "name": "stderr",
     "output_type": "stream",
     "text": [
      "Epoch 4: 100%|██████████| 127/127 [00:07<00:00, 17.62it/s]\n"
     ]
    },
    {
     "name": "stdout",
     "output_type": "stream",
     "text": [
      "2023-06-02 19:21:19.084877 Epoch 4, Train loss 0.632, Val loss 0.750, Acc_val = 0.34\n"
     ]
    },
    {
     "name": "stderr",
     "output_type": "stream",
     "text": [
      "Epoch 5: 100%|██████████| 127/127 [00:07<00:00, 17.06it/s]\n"
     ]
    },
    {
     "name": "stdout",
     "output_type": "stream",
     "text": [
      "2023-06-02 19:21:26.840864 Epoch 5, Train loss 0.621, Val loss 0.758, Acc_val = 0.36\n"
     ]
    },
    {
     "name": "stderr",
     "output_type": "stream",
     "text": [
      "Epoch 6: 100%|██████████| 127/127 [00:08<00:00, 15.29it/s]\n"
     ]
    },
    {
     "name": "stdout",
     "output_type": "stream",
     "text": [
      "2023-06-02 19:21:35.449603 Epoch 6, Train loss 0.612, Val loss 0.760, Acc_val = 0.52\n"
     ]
    },
    {
     "name": "stderr",
     "output_type": "stream",
     "text": [
      "Epoch 7: 100%|██████████| 127/127 [00:08<00:00, 15.33it/s]\n"
     ]
    },
    {
     "name": "stdout",
     "output_type": "stream",
     "text": [
      "2023-06-02 19:21:43.991037 Epoch 7, Train loss 0.604, Val loss 0.760, Acc_val = 0.55\n"
     ]
    },
    {
     "name": "stderr",
     "output_type": "stream",
     "text": [
      "Epoch 8: 100%|██████████| 127/127 [00:07<00:00, 16.36it/s]\n"
     ]
    },
    {
     "name": "stdout",
     "output_type": "stream",
     "text": [
      "2023-06-02 19:21:52.018181 Epoch 8, Train loss 0.598, Val loss 0.759, Acc_val = 0.55\n"
     ]
    },
    {
     "name": "stderr",
     "output_type": "stream",
     "text": [
      "Epoch 9: 100%|██████████| 127/127 [00:07<00:00, 16.45it/s]\n"
     ]
    },
    {
     "name": "stdout",
     "output_type": "stream",
     "text": [
      "2023-06-02 19:21:59.985637 Epoch 9, Train loss 0.592, Val loss 0.757, Acc_val = 0.56\n"
     ]
    },
    {
     "name": "stderr",
     "output_type": "stream",
     "text": [
      "Epoch 10: 100%|██████████| 127/127 [00:07<00:00, 16.43it/s]\n"
     ]
    },
    {
     "name": "stdout",
     "output_type": "stream",
     "text": [
      "2023-06-02 19:22:07.984890 Epoch 10, Train loss 0.587, Val loss 0.753, Acc_val = 0.56\n"
     ]
    },
    {
     "name": "stderr",
     "output_type": "stream",
     "text": [
      "Epoch 11: 100%|██████████| 127/127 [00:07<00:00, 16.79it/s]\n"
     ]
    },
    {
     "name": "stdout",
     "output_type": "stream",
     "text": [
      "2023-06-02 19:22:15.796093 Epoch 11, Train loss 0.582, Val loss 0.749, Acc_val = 0.55\n"
     ]
    },
    {
     "name": "stderr",
     "output_type": "stream",
     "text": [
      "Epoch 12: 100%|██████████| 127/127 [00:07<00:00, 16.68it/s]\n"
     ]
    },
    {
     "name": "stdout",
     "output_type": "stream",
     "text": [
      "2023-06-02 19:22:23.678689 Epoch 12, Train loss 0.579, Val loss 0.743, Acc_val = 0.55\n"
     ]
    },
    {
     "name": "stderr",
     "output_type": "stream",
     "text": [
      "Epoch 13: 100%|██████████| 127/127 [00:07<00:00, 16.31it/s]\n"
     ]
    },
    {
     "name": "stdout",
     "output_type": "stream",
     "text": [
      "2023-06-02 19:22:31.755628 Epoch 13, Train loss 0.577, Val loss 0.742, Acc_val = 0.56\n"
     ]
    },
    {
     "name": "stderr",
     "output_type": "stream",
     "text": [
      "Epoch 14: 100%|██████████| 127/127 [00:07<00:00, 16.81it/s]\n"
     ]
    },
    {
     "name": "stdout",
     "output_type": "stream",
     "text": [
      "2023-06-02 19:22:39.578279 Epoch 14, Train loss 0.574, Val loss 0.743, Acc_val = 0.55\n"
     ]
    },
    {
     "name": "stderr",
     "output_type": "stream",
     "text": [
      "Epoch 15: 100%|██████████| 127/127 [00:07<00:00, 16.81it/s]\n"
     ]
    },
    {
     "name": "stdout",
     "output_type": "stream",
     "text": [
      "2023-06-02 19:22:47.393249 Epoch 15, Train loss 0.573, Val loss 0.739, Acc_val = 0.55\n"
     ]
    },
    {
     "data": {
      "image/png": "[encoded data removed]",
      "text/plain": [
       "<Figure size 432x180 with 1 Axes>"
      ]
     },
     "metadata": {
      "needs_background": "light"
     },
     "output_type": "display_data"
    },
    {
     "name": "stdout",
     "output_type": "stream",
     "text": [
      "Acc =  0.5607734806629834\n"
     ]
    },
    {
     "name": "stderr",
     "output_type": "stream",
     "text": [
      "Epoch 1: 100%|██████████| 137/137 [00:08<00:00, 17.02it/s]\n"
     ]
    },
    {
     "name": "stdout",
     "output_type": "stream",
     "text": [
      "2023-06-02 19:23:04.757393 Epoch 1, Train loss 0.715, Val loss 0.687, Acc_val = 0.41\n"
     ]
    },
    {
     "name": "stderr",
     "output_type": "stream",
     "text": [
      "Epoch 2: 100%|██████████| 137/137 [00:08<00:00, 16.64it/s]\n"
     ]
    },
    {
     "name": "stdout",
     "output_type": "stream",
     "text": [
      "2023-06-02 19:23:13.192087 Epoch 2, Train loss 0.679, Val loss 0.674, Acc_val = 0.42\n"
     ]
    },
    {
     "name": "stderr",
     "output_type": "stream",
     "text": [
      "Epoch 3: 100%|██████████| 137/137 [00:07<00:00, 17.65it/s]\n"
     ]
    },
    {
     "name": "stdout",
     "output_type": "stream",
     "text": [
      "2023-06-02 19:23:21.120506 Epoch 3, Train loss 0.664, Val loss 0.656, Acc_val = 0.99\n"
     ]
    },
    {
     "name": "stderr",
     "output_type": "stream",
     "text": [
      "Epoch 4: 100%|██████████| 137/137 [00:06<00:00, 20.28it/s]\n"
     ]
    },
    {
     "name": "stdout",
     "output_type": "stream",
     "text": [
      "2023-06-02 19:23:28.055073 Epoch 4, Train loss 0.653, Val loss 0.642, Acc_val = 1.00\n"
     ]
    },
    {
     "name": "stderr",
     "output_type": "stream",
     "text": [
      "Epoch 5: 100%|██████████| 137/137 [00:06<00:00, 20.94it/s]\n"
     ]
    },
    {
     "name": "stdout",
     "output_type": "stream",
     "text": [
      "2023-06-02 19:23:34.771068 Epoch 5, Train loss 0.642, Val loss 0.626, Acc_val = 1.00\n"
     ]
    },
    {
     "name": "stderr",
     "output_type": "stream",
     "text": [
      "Epoch 6: 100%|██████████| 137/137 [00:06<00:00, 20.21it/s]\n"
     ]
    },
    {
     "name": "stdout",
     "output_type": "stream",
     "text": [
      "2023-06-02 19:23:41.752778 Epoch 6, Train loss 0.634, Val loss 0.615, Acc_val = 1.00\n"
     ]
    },
    {
     "name": "stderr",
     "output_type": "stream",
     "text": [
      "Epoch 7: 100%|██████████| 137/137 [00:06<00:00, 19.84it/s]\n"
     ]
    },
    {
     "name": "stdout",
     "output_type": "stream",
     "text": [
      "2023-06-02 19:23:48.864077 Epoch 7, Train loss 0.628, Val loss 0.609, Acc_val = 1.00\n"
     ]
    },
    {
     "name": "stderr",
     "output_type": "stream",
     "text": [
      "Epoch 8: 100%|██████████| 137/137 [00:06<00:00, 19.70it/s]\n"
     ]
    },
    {
     "name": "stdout",
     "output_type": "stream",
     "text": [
      "2023-06-02 19:23:56.031352 Epoch 8, Train loss 0.623, Val loss 0.606, Acc_val = 1.00\n"
     ]
    },
    {
     "name": "stderr",
     "output_type": "stream",
     "text": [
      "Epoch 9: 100%|██████████| 137/137 [00:06<00:00, 20.56it/s]\n"
     ]
    },
    {
     "name": "stdout",
     "output_type": "stream",
     "text": [
      "2023-06-02 19:24:02.865089 Epoch 9, Train loss 0.618, Val loss 0.602, Acc_val = 1.00\n"
     ]
    },
    {
     "name": "stderr",
     "output_type": "stream",
     "text": [
      "Epoch 10: 100%|██████████| 137/137 [00:06<00:00, 20.88it/s]\n"
     ]
    },
    {
     "name": "stdout",
     "output_type": "stream",
     "text": [
      "2023-06-02 19:24:09.623047 Epoch 10, Train loss 0.615, Val loss 0.598, Acc_val = 1.00\n"
     ]
    },
    {
     "name": "stderr",
     "output_type": "stream",
     "text": [
      "Epoch 11: 100%|██████████| 137/137 [00:06<00:00, 20.28it/s]\n"
     ]
    },
    {
     "name": "stdout",
     "output_type": "stream",
     "text": [
      "2023-06-02 19:24:16.547563 Epoch 11, Train loss 0.615, Val loss 0.605, Acc_val = 1.00\n"
     ]
    },
    {
     "name": "stderr",
     "output_type": "stream",
     "text": [
      "Epoch 12: 100%|██████████| 137/137 [00:06<00:00, 19.98it/s]\n"
     ]
    },
    {
     "name": "stdout",
     "output_type": "stream",
     "text": [
      "2023-06-02 19:24:23.585358 Epoch 12, Train loss 0.613, Val loss 0.604, Acc_val = 1.00\n"
     ]
    },
    {
     "name": "stderr",
     "output_type": "stream",
     "text": [
      "Epoch 13: 100%|██████████| 137/137 [00:06<00:00, 20.30it/s]\n"
     ]
    },
    {
     "name": "stdout",
     "output_type": "stream",
     "text": [
      "2023-06-02 19:24:30.496456 Epoch 13, Train loss 0.612, Val loss 0.600, Acc_val = 1.00\n"
     ]
    },
    {
     "name": "stderr",
     "output_type": "stream",
     "text": [
      "Epoch 14: 100%|██████████| 137/137 [00:06<00:00, 21.21it/s]\n"
     ]
    },
    {
     "name": "stdout",
     "output_type": "stream",
     "text": [
      "2023-06-02 19:24:37.123306 Epoch 14, Train loss 0.612, Val loss 0.600, Acc_val = 1.00\n"
     ]
    },
    {
     "name": "stderr",
     "output_type": "stream",
     "text": [
      "Epoch 15: 100%|██████████| 137/137 [00:06<00:00, 20.85it/s]\n"
     ]
    },
    {
     "name": "stdout",
     "output_type": "stream",
     "text": [
      "2023-06-02 19:24:43.900347 Epoch 15, Train loss 0.612, Val loss 0.602, Acc_val = 1.00\n"
     ]
    },
    {
     "data": {
      "image/png": "[encoded data removed]",
      "text/plain": [
       "<Figure size 432x180 with 1 Axes>"
      ]
     },
     "metadata": {
      "needs_background": "light"
     },
     "output_type": "display_data"
    },
    {
     "name": "stdout",
     "output_type": "stream",
     "text": [
      "Acc =  0.6142776523702032\n"
     ]
    },
    {
     "name": "stderr",
     "output_type": "stream",
     "text": [
      "Epoch 1: 100%|██████████| 125/125 [00:06<00:00, 20.62it/s]\n"
     ]
    },
    {
     "name": "stdout",
     "output_type": "stream",
     "text": [
      "2023-06-02 19:24:55.919790 Epoch 1, Train loss 0.716, Val loss 0.654, Acc_val = 0.56\n"
     ]
    },
    {
     "name": "stderr",
     "output_type": "stream",
     "text": [
      "Epoch 2: 100%|██████████| 125/125 [00:06<00:00, 20.51it/s]\n"
     ]
    },
    {
     "name": "stdout",
     "output_type": "stream",
     "text": [
      "2023-06-02 19:25:02.318853 Epoch 2, Train loss 0.681, Val loss 0.649, Acc_val = 0.56\n"
     ]
    },
    {
     "name": "stderr",
     "output_type": "stream",
     "text": [
      "Epoch 3: 100%|██████████| 125/125 [00:06<00:00, 20.02it/s]\n"
     ]
    },
    {
     "name": "stdout",
     "output_type": "stream",
     "text": [
      "2023-06-02 19:25:08.868403 Epoch 3, Train loss 0.672, Val loss 0.643, Acc_val = 0.73\n"
     ]
    },
    {
     "name": "stderr",
     "output_type": "stream",
     "text": [
      "Epoch 4: 100%|██████████| 125/125 [00:06<00:00, 19.73it/s]\n"
     ]
    },
    {
     "name": "stdout",
     "output_type": "stream",
     "text": [
      "2023-06-02 19:25:15.487249 Epoch 4, Train loss 0.665, Val loss 0.640, Acc_val = 0.91\n"
     ]
    },
    {
     "name": "stderr",
     "output_type": "stream",
     "text": [
      "Epoch 5: 100%|██████████| 125/125 [00:06<00:00, 20.15it/s]\n"
     ]
    },
    {
     "name": "stdout",
     "output_type": "stream",
     "text": [
      "2023-06-02 19:25:21.996345 Epoch 5, Train loss 0.661, Val loss 0.642, Acc_val = 0.94\n"
     ]
    },
    {
     "name": "stderr",
     "output_type": "stream",
     "text": [
      "Epoch 6: 100%|██████████| 125/125 [00:06<00:00, 20.29it/s]\n"
     ]
    },
    {
     "name": "stdout",
     "output_type": "stream",
     "text": [
      "2023-06-02 19:25:28.448065 Epoch 6, Train loss 0.658, Val loss 0.643, Acc_val = 0.93\n"
     ]
    },
    {
     "name": "stderr",
     "output_type": "stream",
     "text": [
      "Epoch 7: 100%|██████████| 125/125 [00:06<00:00, 19.91it/s]\n"
     ]
    },
    {
     "name": "stdout",
     "output_type": "stream",
     "text": [
      "2023-06-02 19:25:35.027130 Epoch 7, Train loss 0.656, Val loss 0.640, Acc_val = 0.94\n"
     ]
    },
    {
     "name": "stderr",
     "output_type": "stream",
     "text": [
      "Epoch 8: 100%|██████████| 125/125 [00:06<00:00, 20.49it/s]\n"
     ]
    },
    {
     "name": "stdout",
     "output_type": "stream",
     "text": [
      "2023-06-02 19:25:41.392703 Epoch 8, Train loss 0.654, Val loss 0.637, Acc_val = 0.94\n"
     ]
    },
    {
     "name": "stderr",
     "output_type": "stream",
     "text": [
      "Epoch 9: 100%|██████████| 125/125 [00:05<00:00, 20.84it/s]\n"
     ]
    },
    {
     "name": "stdout",
     "output_type": "stream",
     "text": [
      "2023-06-02 19:25:47.667224 Epoch 9, Train loss 0.652, Val loss 0.640, Acc_val = 0.92\n"
     ]
    },
    {
     "name": "stderr",
     "output_type": "stream",
     "text": [
      "Epoch 10: 100%|██████████| 125/125 [00:06<00:00, 20.45it/s]\n"
     ]
    },
    {
     "name": "stdout",
     "output_type": "stream",
     "text": [
      "2023-06-02 19:25:54.067804 Epoch 10, Train loss 0.651, Val loss 0.640, Acc_val = 0.92\n"
     ]
    },
    {
     "name": "stderr",
     "output_type": "stream",
     "text": [
      "Epoch 11: 100%|██████████| 125/125 [00:06<00:00, 20.54it/s]\n"
     ]
    },
    {
     "name": "stdout",
     "output_type": "stream",
     "text": [
      "2023-06-02 19:26:00.428419 Epoch 11, Train loss 0.650, Val loss 0.641, Acc_val = 0.91\n"
     ]
    },
    {
     "name": "stderr",
     "output_type": "stream",
     "text": [
      "Epoch 12: 100%|██████████| 125/125 [00:06<00:00, 20.11it/s]\n"
     ]
    },
    {
     "name": "stdout",
     "output_type": "stream",
     "text": [
      "2023-06-02 19:26:06.938274 Epoch 12, Train loss 0.650, Val loss 0.639, Acc_val = 0.93\n"
     ]
    },
    {
     "name": "stderr",
     "output_type": "stream",
     "text": [
      "Epoch 13: 100%|██████████| 125/125 [00:06<00:00, 20.56it/s]\n"
     ]
    },
    {
     "name": "stdout",
     "output_type": "stream",
     "text": [
      "2023-06-02 19:26:13.324343 Epoch 13, Train loss 0.650, Val loss 0.642, Acc_val = 0.92\n"
     ]
    },
    {
     "name": "stderr",
     "output_type": "stream",
     "text": [
      "Epoch 14: 100%|██████████| 125/125 [00:06<00:00, 19.58it/s]\n"
     ]
    },
    {
     "name": "stdout",
     "output_type": "stream",
     "text": [
      "2023-06-02 19:26:19.986387 Epoch 14, Train loss 0.650, Val loss 0.644, Acc_val = 0.91\n"
     ]
    },
    {
     "name": "stderr",
     "output_type": "stream",
     "text": [
      "Epoch 15: 100%|██████████| 125/125 [00:06<00:00, 19.99it/s]\n"
     ]
    },
    {
     "name": "stdout",
     "output_type": "stream",
     "text": [
      "2023-06-02 19:26:26.518876 Epoch 15, Train loss 0.651, Val loss 0.643, Acc_val = 0.92\n"
     ]
    },
    {
     "data": {
      "image/png": "[encoded data removed]",
      "text/plain": [
       "<Figure size 432x180 with 1 Axes>"
      ]
     },
     "metadata": {
      "needs_background": "light"
     },
     "output_type": "display_data"
    },
    {
     "name": "stdout",
     "output_type": "stream",
     "text": [
      "Acc =  0.6307043650793651\n",
      "Final results\n",
      "15 epochs. Acc_sk = 0.59 (Sens = 0.53 / Spec = 0.65) 0.65 / 0.50 / 0.56 / 0.61 / 0.63\n"
     ]
    },
    {
     "data": {
      "image/png": "[encoded data removed]",
      "text/plain": [
       "<Figure size 864x180 with 5 Axes>"
      ]
     },
     "metadata": {
      "needs_background": "light"
     },
     "output_type": "display_data"
    }
   ],
   "source": [
    "import os\n",
    "model_dir = 'model_backup'\n",
    "if not os.path.exists(model_dir):  \n",
    "  os.makedirs(model_dir)\n",
    "\n",
    "DataSet_ALS = ALSDataset(dir_HC, dir_ALS)\n",
    "model = ALS_CNN1()\n",
    "\n",
    "# optimizer = optim.SGD(model.parameters(),lr=1e-3, weight_decay=1e-1, momentum=0.9) # 40 epochs. Acc_sk = 0.70 (Sens = 0.74 / Spec = 0.66) 0.68 / 0.86 / 0.52 / 0.76 / 0.77\n",
    "# self.layer1_filt = 2 (before 8)\n",
    "# optimizer = optim.SGD(model.parameters(),lr=1e-3, weight_decay=1e-1, momentum=0.9) # 15 epochs. Acc_sk = 0.66 (Sens = 0.62 / Spec = 0.70) 0.68 / 0.55 / 0.57 / 0.62 / 0.88\n",
    "# max_pool_width = 4 (before 1)\n",
    "# optimizer = optim.SGD(model.parameters(),lr=1e-3, weight_decay=1e-1, momentum=0.9) # 15 epochs. Acc_sk = 0.59 (Sens = 0.53 / Spec = 0.65) 0.65 / 0.50 / 0.56 / 0.61 / 0.63\n",
    "optimizer = optim.SGD(model.parameters(),lr=1e-3, weight_decay=1e-1, momentum=0.9)\n",
    "\n",
    "k_fold_CV(dataset=DataSet_ALS, model = model, optimizer=optimizer, train = training_loop, n_epochs=15)"
   ]
  },
  {
   "cell_type": "code",
   "execution_count": 60,
   "metadata": {},
   "outputs": [
    {
     "name": "stdout",
     "output_type": "stream",
     "text": [
      "torch.Size([64, 86])\n",
      "torch.Size([1, 5504])\n",
      "torch.Size([1, 10])\n",
      "torch.Size([10])\n",
      "(2, 3)\n",
      "(1, 2, 3)\n"
     ]
    }
   ],
   "source": [
    "# Test 1\n",
    "test_img = torch.rand(64,86)\n",
    "test_img_row = test_img.view(-1,64*86)\n",
    "print(test_img.shape)\n",
    "print(test_img_row.shape)\n",
    "\n",
    "# Test 2\n",
    "test_img = torch.rand(1,10)\n",
    "test_img_row = test_img.squeeze()\n",
    "print(test_img.shape)\n",
    "print(test_img_row.shape)\n",
    "\n",
    "#Test 3\n",
    "# print(torch.sigmoid(torch.tensor(-1)), torch.sigmoid(torch.tensor(0)), torch.sigmoid(torch.tensor(1)))\n",
    "\n",
    "#Test 4\n",
    "# x = torch.randn(3)\n",
    "# x3 = torch.cat((x, x, x), 0)\n",
    "# print(x3)\n",
    "\n",
    "#Test 5\n",
    "A = np.random.random((2,3))\n",
    "print(A.shape)\n",
    "A = A.reshape((1,A.shape[0],A.shape[1]))\n",
    "print(A.shape)"
   ]
  },
  {
   "attachments": {},
   "cell_type": "markdown",
   "metadata": {},
   "source": [
    "### CV-Fold selection"
   ]
  },
  {
   "cell_type": "code",
   "execution_count": 2,
   "metadata": {},
   "outputs": [
    {
     "name": "stdout",
     "output_type": "stream",
     "text": [
      "[ 26  97 117  85  53  86 127  92 102  27  32  72  39]\n",
      "Fold 1 HC age mean = 52.43, mens = 3, womens = 4\n",
      "Fold 1 ALS age mean = 56.83, mens = 3, womens = 3\n",
      "[ 28 123  63  99  81 125 129  68  21  55  48  78  42]\n",
      "Fold 2 HC age mean = 53.71, mens = 3, womens = 4\n",
      "Fold 2 ALS age mean = 58.33, mens = 4, womens = 2\n",
      "[ 61  16 115 109 111   2 107  46  84  64  52  24  76]\n",
      "Fold 3 HC age mean = 55.43, mens = 2, womens = 5\n",
      "Fold 3 ALS age mean = 59.67, mens = 4, womens = 2\n",
      "[ 77   6  65  24 131 119  25  94  62  28   8  98  22]\n",
      "Fold 4 HC age mean = 53.00, mens = 3, womens = 3\n",
      "Fold 4 ALS age mean = 60.86, mens = 5, womens = 2\n",
      "[ 49  89   4  42 113 121  96  20  58  80  31 100]\n",
      "Fold 5 HC age mean = 54.17, mens = 2, womens = 4\n",
      "Fold 5 ALS age mean = 61.00, mens = 4, womens = 2\n"
     ]
    }
   ],
   "source": [
    "file_name =  'HC_ALS_table.xlsx' # path to file + file name\n",
    "\n",
    "xls_file = pd.ExcelFile(file_name)\n",
    "# print(xls_file.sheet_names)\n",
    "\n",
    "# https://stackoverflow.com/questions/17071871/how-do-i-select-rows-from-a-dataframe-based-on-column-values\n",
    "\n",
    "df_HC = xls_file.parse('Control')\n",
    "df_ALS = xls_file.parse('ALS')\n",
    "# print(df_HC['fold']==1)\n",
    "for fold_num in range(1,6):\n",
    "    HC_fold = df_HC.loc[df_HC['fold']==fold_num]\n",
    "    ALS_fold = df_ALS.loc[df_ALS['fold']==fold_num]\n",
    "    # print(HC_fold)\n",
    "    # print(ALS_fold)\n",
    "    print(np.hstack((HC_fold['Subject code'].to_numpy(), ALS_fold['Subject code'].to_numpy())))\n",
    "    HC_age = (float)(HC_fold.loc[:, 'Age'].mean())\n",
    "    HC_m = (HC_fold.loc[HC_fold['Sex']=='m'])\n",
    "    HC_f = (HC_fold.loc[HC_fold['Sex']=='f'])\n",
    "    ALS_age = (float)(ALS_fold.loc[:, 'Age'].mean())\n",
    "    ALS_m = (ALS_fold.loc[ALS_fold['Sex']=='m'])\n",
    "    ALS_f = (ALS_fold.loc[ALS_fold['Sex']=='f'])\n",
    "    print(f'Fold {fold_num} HC age mean = {HC_age:.2f}, mens = {len(HC_m.index)}, womens = {len(HC_f.index)}')\n",
    "    print(f'Fold {fold_num} ALS age mean = {ALS_age:.2f}, mens = {len(ALS_m.index)}, womens = {len(ALS_f.index)}')"
   ]
  }
 ],
 "metadata": {
  "kernelspec": {
   "display_name": "Python 3.10.5 64-bit",
   "language": "python",
   "name": "python3"
  },
  "language_info": {
   "codemirror_mode": {
    "name": "ipython",
    "version": 3
   },
   "file_extension": ".py",
   "mimetype": "text/x-python",
   "name": "python",
   "nbconvert_exporter": "python",
   "pygments_lexer": "ipython3",
   "version": "3.10.5"
  },
  "orig_nbformat": 4,
  "vscode": {
   "interpreter": {
    "hash": "a42ccb73e7d9bfdf27e036f1d2b8b681e55fc0743cc5586bc2474d4a60f4b886"
   }
  }
 },
 "nbformat": 4,
 "nbformat_minor": 2
}
