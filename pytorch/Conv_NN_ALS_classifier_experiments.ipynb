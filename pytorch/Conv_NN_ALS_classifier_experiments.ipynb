{
 "cells": [
  {
   "cell_type": "code",
   "execution_count": 1,
   "metadata": {},
   "outputs": [],
   "source": [
    "import numpy as np\n",
    "import matplotlib.pyplot as plt\n",
    "import librosa\n",
    "import json\n",
    "import os\n",
    "import datetime\n",
    "import torch\n",
    "import torch.nn as nn\n",
    "import torch.optim as optim\n",
    "from torch.utils.data import Dataset\n",
    "import pandas as pd\n",
    "from sklearn import metrics\n",
    "# import tqdm\n",
    "from tqdm import tqdm\n",
    "import torch\n",
    "import copy\n",
    "# import torch_directml\n",
    "# import lightning as L"
   ]
  },
  {
   "cell_type": "code",
   "execution_count": 2,
   "metadata": {},
   "outputs": [
    {
     "name": "stdout",
     "output_type": "stream",
     "text": [
      "None\n"
     ]
    }
   ],
   "source": [
    "torch.version.cuda\n",
    "print(torch.version.cuda)"
   ]
  },
  {
   "attachments": {},
   "cell_type": "markdown",
   "metadata": {},
   "source": [
    "### Feature extraction"
   ]
  },
  {
   "cell_type": "code",
   "execution_count": 2,
   "metadata": {},
   "outputs": [],
   "source": [
    "file = open(\"config.json\")\n",
    "config = json.load(file)\n",
    "# print(config.keys())\n",
    "# print(config['data']['frame_size'])\n",
    "\n",
    "fs = 44100              # Hz, sampling frequency\n",
    "f_size = config['data']['frame_size']\n",
    "h_size = config['data']['hop_size']\n",
    "n_mel_channels = config['data']['n_mel_channels']\n",
    "\n",
    "supra_frame_duration = 0.5  # seconds\n",
    "supra_frame_length = round(supra_frame_duration / (h_size/fs)) # need to read from config.json / \n",
    "\n",
    "dir_HC = '../wav'+ os.sep + 'HC' + os.sep\n",
    "dir_ALS = '../wav' + os.sep + 'ALS' + os.sep\n",
    "directory_ALS = os.listdir(dir_ALS)\n",
    "directory_HC = os.listdir(dir_HC)"
   ]
  },
  {
   "attachments": {},
   "cell_type": "markdown",
   "metadata": {},
   "source": [
    "### Pre-analysis (transform wav-file to mel-spectrogramms)"
   ]
  },
  {
   "cell_type": "code",
   "execution_count": 5,
   "metadata": {},
   "outputs": [],
   "source": [
    "X = np.zeros((20000,n_mel_channels, supra_frame_length))   # data\n",
    "y = np.zeros((20000,1))                     # labels\n",
    "X_global_index = 0\n",
    "X_ids = list([])\n",
    "# Cycle for HC (helthy controls)\n",
    "for i in range(len(directory_HC)):    \n",
    "    if directory_HC[i][-5:]=='a.wav':\n",
    "        # print(directory_HC[i][-5:])\n",
    "        fileName = dir_HC + directory_HC[i]\n",
    "        x, sr = librosa.load(fileName, sr=None, mono=True, offset=0.0, duration=None)\n",
    "\n",
    "        X_melspec = librosa.feature.melspectrogram(y=x, sr=sr, n_mels=64, n_fft=f_size, hop_length=h_size, window='hann', center=False, power=1.0)\n",
    "        X_melspec = 20*np.log10(X_melspec)\n",
    "            \n",
    "        frame_num = X_melspec.shape[1]    \n",
    "\n",
    "        X_melspec = X_melspec.astype(np.half)\n",
    "        X_melspec.tofile(dir_HC + directory_HC[i][:-4] +'_mel.dat')\n",
    "\n",
    "# #       #Запись фрагметов спектра в трехмерный массив \n",
    "#         N_supra_frames = frame_num - supra_frame_length + 1\n",
    "\n",
    "#         # generator comprehension\n",
    "#         gen_range = (n * 2 for n in range(0, np.floor(N_supra_frames/2).astype(int)))\n",
    "#         for n in gen_range:\n",
    "#             X[X_global_index,:,:] = X_melspec[:,n:n+supra_frame_length]\n",
    "#             X_ids.append(int(directory_HC[i][0:3]))\n",
    "#             y[X_global_index] = 0\n",
    "#             X_global_index = X_global_index +1\n",
    "    \n",
    "# Cycle for ALS (pathology)\n",
    "for i in range(len(directory_ALS)):\n",
    "    if directory_ALS[i][-5:]=='a.wav':\n",
    "        fileName = dir_ALS + directory_ALS[i]\n",
    "        x, sr = librosa.load(fileName, sr=None, mono=True, offset=0.0, duration=None)\n",
    "\n",
    "        X_melspec = librosa.feature.melspectrogram(y=x, sr=sr, n_mels=64, n_fft=f_size, hop_length=h_size, window='hann', center=False, power=1.0)\n",
    "        X_melspec = 20*np.log10(X_melspec)\n",
    "            \n",
    "        frame_num = X_melspec.shape[1]\n",
    "     \n",
    "        X_melspec = X_melspec.astype(np.half)\n",
    "        X_melspec.tofile(dir_ALS + directory_ALS[i][:-4] +'_mel.dat')\n",
    "\n",
    "# #       #Запись фрагметов спектра в трехмерный массив \n",
    "#         N_supra_frames = frame_num - supra_frame_length + 1\n",
    "\n",
    "#         # generator comprehension\n",
    "#         gen_range = (n * 2 for n in range(0, np.floor(N_supra_frames/2).astype(int)))\n",
    "#         for n in gen_range:\n",
    "#             X[X_global_index,:,:] = X_melspec[:,n:n+supra_frame_length]\n",
    "#             X_ids.append(int(directory_ALS[i][0:3]))\n",
    "#             y[X_global_index] = 1\n",
    "#             X_global_index = X_global_index + 1\n"
   ]
  },
  {
   "attachments": {},
   "cell_type": "markdown",
   "metadata": {},
   "source": [
    "### Dataset and Dataloader"
   ]
  },
  {
   "cell_type": "code",
   "execution_count": 3,
   "metadata": {},
   "outputs": [],
   "source": [
    "class ALSDataset(Dataset):\n",
    "    def __init__(self, dir_HC_path, dir_ALS_path):\n",
    "        \"\"\"\n",
    "        Аргументы:\n",
    "            dir_HC_path -- путь к папке с записями здоровых голосов\n",
    "            dir_ALS_path -- путь к папке с записями голосов пациентов с БАС\n",
    "        \"\"\"\n",
    "        # self.dir_HC_path = []\n",
    "        # self.dir_ALS_path = []\n",
    "        self._ids = list([])    # speaker IDs\n",
    "        # 5-fold CV: 13+13+13+13+12\n",
    "        # ALS: 8,20,21, 22, 24, 25,27,28,31,32,39, 42,46,48,52,55,58,62,64,68,72,76,78,80,84,92,94,96,98,100,102\n",
    "        # HC : 131, 129, 127, 125, 123, 121, 119, 117, 115, 113, 111, 109, 107, 99, 97, 89, 86, 85, 81, 77, 65, 63, 61, 53, 49, 42, 28, 26, 24, 16, 6, 4, 2 \n",
    "        \n",
    "                                                                                        # HC men+women / ALS men+women\n",
    "        self.folds = list(([26,   97, 117,  85,  53,  86, 127,  92, 102,  27,  32,  72,  39], # 3+4 HC / 3+3 ALS\n",
    "                           [28,  123,  63,  99,  81, 125, 129,  68,  21,  55,  48,  78,  42], # 3+4 HC / 4+2 ALS\n",
    "                           [61,   16, 115, 109, 111,   2, 107,  46,  84,  64,  52,  24,  76], # 2+5 HC / 4+2 ALS\n",
    "                           [77,    6,  65,  24, 131, 119,  25,  94,  62,  28,   8,  98,  22], # 3+3 HC / 5+2 ALS\n",
    "                           [49,   89,   4,  42, 113, 121,  96,  20,  58,  80,  31, 100]))     # 2+4 HC / 4+2 ALS\n",
    "        \n",
    "        self.folds_val = list(([49, 42, 20, 31],\n",
    "                              [97, 53,  92, 32],\n",
    "                              [28, 99, 129, 55],  \n",
    "                              [61, 111, 84, 76],  \n",
    "                              [77, 24, 94, 8]))\n",
    "                              \n",
    "        f_size = 512            # need to read from config.json\n",
    "        h_size = 256            # need to read from config.json\n",
    "        n_mel_channels = 64     # need to read from config.json\n",
    "        supra_frame_length = 86 # need to read from config.json\n",
    "        n_input_channel = 1        \n",
    "        self.X = np.zeros((20000, n_input_channel, n_mel_channels, supra_frame_length))   # data\n",
    "        self.y = np.zeros((20000,2))                         # labels\n",
    "        X_global_index = 0\n",
    "        self.X_ids = list([])\n",
    "\n",
    "        # Cycle for HC (helthy controls)        \n",
    "        directory_HC = os.listdir(dir_HC_path)       \n",
    "        for i in range(len(directory_HC)):\n",
    "            if directory_HC[i][-9:]=='a_mel.dat':\n",
    "                fileName = dir_HC + directory_HC[i]\n",
    "            \n",
    "                X_spec = np.fromfile(dir_HC + directory_HC[i], dtype=np.half)\n",
    "                X_spec = np.reshape(X_spec,(n_mel_channels, np.floor(len(X_spec)/n_mel_channels).astype(int)))        \n",
    "\n",
    "                #Запись фрагметов спектра в трехмерный массив \n",
    "                frame_num = X_spec.shape[1]\n",
    "                N_supra_frames = frame_num - supra_frame_length + 1\n",
    "\n",
    "                # generator comprehension\n",
    "                gen_range = (n * 2 for n in range(0, np.floor(N_supra_frames/2).astype(int)))\n",
    "                for n in gen_range:\n",
    "                    self.X[X_global_index,:,:,:] = np.reshape(X_spec[:,n:n+supra_frame_length],(n_input_channel,n_mel_channels,supra_frame_length))\n",
    "                    self.X_ids.append(int(directory_HC[i][0:3]))\n",
    "                    self.y[X_global_index,:] = torch.nn.functional.one_hot(torch.tensor(0),num_classes=2)\n",
    "                    X_global_index = X_global_index +1\n",
    "\n",
    "        # Cycle for ALS (pathology)\n",
    "        directory_ALS = os.listdir(dir_ALS_path)       \n",
    "        for i in range(len(directory_ALS)):\n",
    "            if directory_ALS[i][-9:]=='a_mel.dat':\n",
    "                fileName = dir_ALS + directory_ALS[i]        \n",
    "\n",
    "                # print(fileName)\n",
    "\n",
    "                X_spec = np.fromfile(dir_ALS + directory_ALS[i], dtype=np.half)\n",
    "                X_spec = np.reshape(X_spec,(n_mel_channels, np.floor(len(X_spec)/n_mel_channels).astype(int)))\n",
    "\n",
    "        #       #Запись фрагметов спектра в трехмерный массив\n",
    "                frame_num = X_spec.shape[1]\n",
    "                N_supra_frames = frame_num - supra_frame_length + 1\n",
    "\n",
    "                # generator comprehension\n",
    "                gen_range = (n * 2 for n in range(0, np.floor(N_supra_frames/2).astype(int)))\n",
    "                for n in gen_range:\n",
    "                    self.X[X_global_index,:,:,:] = np.reshape(X_spec[:,n:n+supra_frame_length],(n_input_channel,n_mel_channels,supra_frame_length))\n",
    "                    self.X_ids.append(int(directory_ALS[i][0:3]))\n",
    "                    self.y[X_global_index,:] = torch.nn.functional.one_hot(torch.tensor(1),num_classes=2)\n",
    "                    X_global_index = X_global_index + 1\n",
    "            \n",
    "        inds_to_delete = np.array(range(self.y.shape[0]))>=X_global_index\n",
    "        self.y = np.delete(self.y,inds_to_delete, axis=0)\n",
    "        self.X = np.delete(self.X,inds_to_delete, axis=0)\n",
    "\n",
    "        self.y = torch.from_numpy(self.y)\n",
    "        self.X = torch.from_numpy(self.X)\n",
    "\n",
    "        device = torch.device(\"cuda\" if torch.cuda.is_available() else \"cpu\")\n",
    "        \n",
    "        self.X = self.X.to(device)\n",
    "        self.y = self.y.to(device)\n",
    "\n",
    "    def __len__(self):\n",
    "        return self.X.shape[0]\n",
    "\n",
    "    def __getitem__(self, index):\n",
    "        return self.X[index,:,:], self.y[index,:]\n",
    "\n",
    "    def get_kth_fold_inds(self, fold_num):\n",
    "        ids_train = list([])\n",
    "        ids_val  = list([])\n",
    "        ids_test = list([])\n",
    "        for i in range(len(self.X_ids)):\n",
    "            if self.X_ids[i] in self.folds[fold_num]:\n",
    "                ids_test.append(i)\n",
    "            elif self.X_ids[i] in self.folds_val[fold_num]:\n",
    "                ids_val.append(i)\n",
    "            else:\n",
    "                ids_train.append(i)\n",
    "        return (ids_train,ids_val, ids_test)"
   ]
  },
  {
   "cell_type": "code",
   "execution_count": 5,
   "metadata": {},
   "outputs": [
    {
     "name": "stdout",
     "output_type": "stream",
     "text": [
      "label =  1.0\n"
     ]
    },
    {
     "data": {
      "text/plain": [
       "<matplotlib.collections.PolyCollection at 0x1bb8387bd00>"
      ]
     },
     "execution_count": 5,
     "metadata": {},
     "output_type": "execute_result"
    },
    {
     "data": {
      "image/png": "[encoded data removed]",
      "text/plain": [
       "<Figure size 432x288 with 4 Axes>"
      ]
     },
     "metadata": {
      "needs_background": "light"
     },
     "output_type": "display_data"
    }
   ],
   "source": [
    "dir_HC = '../wav'+ os.sep + 'HC' + os.sep\n",
    "dir_ALS = '../wav' + os.sep + 'ALS' + os.sep\n",
    "\n",
    "DataSet_ALS = ALSDataset(dir_HC, dir_ALS)\n",
    "# print(len(DataSet_ALS))\n",
    "X_generic, y_label = DataSet_ALS.__getitem__(13202)\n",
    "\n",
    "fig,ax = plt.subplots()\n",
    "plt.subplot(141)\n",
    "plt.pcolor(X_generic[0,:,:], cmap='jet')\n",
    "print('label = ', y_label)\n",
    "fold_0_train,fold_0_val,fold_0_test = DataSet_ALS.get_kth_fold_inds(0)\n",
    "\n",
    "## NN\n",
    "conv_lf = torch.nn.Conv2d(1,3,(32,10),padding='valid',dtype=torch.float)\n",
    "\n",
    "input = torch.tensor(X_generic,dtype=torch.float)\n",
    "output = conv_lf(input)\n",
    "output_np = output.detach().numpy()\n",
    "plt.subplot(142)\n",
    "plt.pcolor(output_np[0,:,:], cmap='jet')\n",
    "plt.subplot(143)\n",
    "plt.pcolor(output_np[1,:,:], cmap='jet')\n",
    "plt.subplot(144)\n",
    "plt.pcolor(output_np[2,:,:], cmap='jet')"
   ]
  },
  {
   "attachments": {},
   "cell_type": "markdown",
   "metadata": {},
   "source": [
    "#### CNN1-model"
   ]
  },
  {
   "cell_type": "code",
   "execution_count": 60,
   "metadata": {},
   "outputs": [],
   "source": [
    "class ALS_CNN1(nn.Module):\n",
    "    def __init__(self):\n",
    "        super(ALS_CNN1,self).__init__() \n",
    "        # parameters\n",
    "        # file = open(\"drive/MyDrive/Colab Notebooks/config.json\")\n",
    "        file = open(\"config.json\")\n",
    "        config = json.load(file)            \n",
    "        self.n_mel = config['data']['n_mel_channels']\n",
    "        frames_in_segment = config['data']['supra_frame_length']\n",
    "        input_chan = 2\n",
    "        frames_in_segment = frames_in_segment - 1 # only for model with diff input\n",
    "        self.layer1_filt = 6\n",
    "        \n",
    "        self.lf_num = 32    # low-frequency\n",
    "        self.mf_num = 16    # medium-frequency\n",
    "        self.hf_num = 16    # high-frequency\n",
    "        \n",
    "        # low/medium/high-frequency frequency span\n",
    "        # low/medium/high-frequency time span\n",
    "        lf1_height, lf1_width = 29,43\n",
    "        lf2_height, lf2_width = 13,27\n",
    "        lf3_height, lf3_width = 5,11\n",
    "\n",
    "        mf_height,mf_width = 13,27\n",
    "        mf2_height,mf2_width = 15,43\n",
    "\n",
    "        hf_height,hf_width = 3,3    \n",
    "        hf2_height,hf2_width = 7,7\n",
    "        hf3_height,hf3_width = 13,27\n",
    "        hf4_height,hf4_width = 15,31\n",
    "\n",
    "        mf_h_stride, hf_h_stride = 2,1\n",
    "        mf_w_stride, hf_w_stride = mf_width//2, hf_width//2\n",
    "        \n",
    "        lf1_h_stride, lf1_w_stride = lf1_height//2, lf1_width//2\n",
    "        lf2_h_stride, lf2_w_stride = lf2_height//2, lf2_width//2\n",
    "        lf3_h_stride, lf3_w_stride = lf3_height//2, lf3_width//2\n",
    "\n",
    "        mf2_h_stride, mf2_w_stride = hf_height//2, mf2_width//2\n",
    "\n",
    "        hf2_h_stride, hf2_w_stride = hf2_height//2, hf2_width//2\n",
    "        hf3_h_stride, hf3_w_stride = hf3_height//2, hf3_width//2\n",
    "        hf4_h_stride, hf4_w_stride = hf4_height//2, hf4_width//2\n",
    "\n",
    "        self.batch_norm1 = nn.BatchNorm2d(input_chan)    # device='cuda'\n",
    "        \n",
    "        # self.conv_lf = torch.nn.Conv2d(1,self.layer1_filt,(self.lf_num, lf_width),padding='valid',stride=(1,lf_width//2))\n",
    "        # self.conv_mf = torch.nn.Conv2d(1,self.layer1_filt,(self.mf_num, mf_width),padding='valid',stride=(1,mf_width//2))\n",
    "        # self.conv_hf = torch.nn.Conv2d(1,self.layer1_filt,(self.hf_num, hf_width),padding='valid',stride=(1,hf_width//2))\n",
    "\n",
    "        self.conv_lf1 = torch.nn.Conv2d(input_chan,self.layer1_filt,(lf1_height, lf1_width),padding='valid',stride=(lf1_h_stride, lf1_w_stride))\n",
    "        self.conv_lf2 = torch.nn.Conv2d(input_chan,self.layer1_filt,(lf2_height, lf2_width),padding='valid',stride=(lf2_h_stride,lf2_w_stride))\n",
    "        self.conv_lf3 = torch.nn.Conv2d(input_chan,self.layer1_filt,(lf3_height, lf3_width),padding='valid',stride=(lf3_h_stride,lf3_w_stride))\n",
    "\n",
    "        self.conv_mf = torch.nn.Conv2d(input_chan,self.layer1_filt,(mf_height, mf_width),padding='valid',stride=(mf_h_stride,mf_w_stride))\n",
    "        self.conv_mf2= torch.nn.Conv2d(input_chan,self.layer1_filt,(mf2_height, mf2_width),padding='valid',stride=(mf2_h_stride,mf2_w_stride))\n",
    "\n",
    "        self.conv_hf = torch.nn.Conv2d(input_chan,self.layer1_filt,(hf_height, hf_width),padding='valid',stride=(hf_h_stride,hf_w_stride))\n",
    "        self.conv_hf2 = torch.nn.Conv2d(input_chan,self.layer1_filt,(hf2_height, hf2_width),padding='valid',stride=(hf2_h_stride,hf2_w_stride))\n",
    "        self.conv_hf3 = torch.nn.Conv2d(input_chan,self.layer1_filt,(hf3_height, hf3_width),padding='valid',stride=(hf3_h_stride,hf3_w_stride))\n",
    "        self.conv_hf4 = torch.nn.Conv2d(input_chan,self.layer1_filt,(hf4_height, hf4_width),padding='valid',stride=(hf4_h_stride,hf4_w_stride))\n",
    "\n",
    "        max_pool_width = 1\n",
    "        self.maxpool_lf1 = nn.MaxPool2d(((self.lf_num - lf1_height)//lf1_h_stride + 1,max_pool_width))        \n",
    "        self.maxpool_lf2 = nn.MaxPool2d(((self.lf_num - lf2_height)//lf2_h_stride + 1,max_pool_width))\n",
    "        self.maxpool_lf3 = nn.MaxPool2d(((self.lf_num - lf3_height)//lf3_h_stride + 1,max_pool_width))\n",
    "\n",
    "        self.maxpool_mf = nn.MaxPool2d(((self.mf_num - mf_height)//mf_h_stride + 1,max_pool_width))\n",
    "        self.maxpool_mf2= nn.MaxPool2d(((self.mf_num - mf2_height)//mf2_h_stride + 1,max_pool_width))\n",
    "\n",
    "        self.maxpool_hf = nn.MaxPool2d(((self.hf_num - hf_height)//hf_h_stride + 1,max_pool_width))\n",
    "        self.maxpool_hf2 = nn.MaxPool2d(((self.hf_num - hf2_height)//hf2_h_stride + 1,max_pool_width))\n",
    "        self.maxpool_hf3 = nn.MaxPool2d(((self.hf_num - hf3_height)//hf3_h_stride + 1,max_pool_width))\n",
    "        self.maxpool_hf4 = nn.MaxPool2d(((self.hf_num - hf4_height)//hf4_h_stride + 1,max_pool_width))\n",
    "\n",
    "        self.drop1 = nn.Dropout(p=0.1)\n",
    "        \n",
    "        self.fc = nn.Linear(\n",
    "                            self.layer1_filt*((1+(frames_in_segment-lf1_width)//lf1_w_stride)//max_pool_width ) + # *(1+(self.lf_num-lf_height)//lf_height)\n",
    "                            self.layer1_filt*((1+(frames_in_segment-lf2_width)//lf2_w_stride)//max_pool_width ) +\n",
    "                            self.layer1_filt*((1+(frames_in_segment-lf3_width)//lf3_w_stride)//max_pool_width) +\n",
    "                            self.layer1_filt*((1+(frames_in_segment-mf_width)//mf_w_stride)//max_pool_width) + #*(1+(self.mf_num-mf_height)//mf_height) + \n",
    "                            self.layer1_filt*((1+(frames_in_segment-mf2_width)//mf2_w_stride)//max_pool_width) +\n",
    "                            self.layer1_filt*((1+(frames_in_segment-hf_width)//hf_w_stride)//max_pool_width) + #*(1+(self.hf_num-hf_height)//hf_height)\n",
    "                            self.layer1_filt*((1+(frames_in_segment-hf2_width)//hf2_w_stride)//max_pool_width) + \n",
    "                            self.layer1_filt*((1+(frames_in_segment-hf3_width)//hf3_w_stride)//max_pool_width) +\n",
    "                            self.layer1_filt*((1+(frames_in_segment-hf4_width)//hf4_w_stride)//max_pool_width)\n",
    "                            ,2)                               \n",
    "\n",
    "        torch.manual_seed(151)\n",
    "        nn.init.xavier_uniform_(self.conv_lf1.weight)\n",
    "        nn.init.xavier_uniform_(self.conv_lf2.weight)\n",
    "        nn.init.xavier_uniform_(self.conv_lf3.weight)\n",
    "        nn.init.xavier_uniform_(self.conv_mf.weight)\n",
    "        nn.init.xavier_uniform_(self.conv_mf2.weight)\n",
    "        nn.init.xavier_uniform_(self.conv_hf.weight)\n",
    "        nn.init.xavier_uniform_(self.conv_hf2.weight)\n",
    "        nn.init.xavier_uniform_(self.conv_hf3.weight)\n",
    "        nn.init.xavier_uniform_(self.conv_hf4.weight)\n",
    "        nn.init.xavier_uniform_(self.fc.weight)\n",
    "\n",
    "    def forward(self, x): \n",
    "        \n",
    "        # print('x size', x.shape)\n",
    "        x_diff = x[:,:,:,1:] - x[:,:,:,0:-1]\n",
    "        # print('x_diff', x_diff.shape)\n",
    "        # print('x', x[:,:,:,1:].shape)\n",
    "        out = torch.cat((x[:,:,:,1:],x_diff), dim=1)\n",
    "        # print('x merge', out.shape)\n",
    "\n",
    "        out = self.batch_norm1(out)\n",
    "\n",
    "        out1 = out[:,:,:self.lf_num,:]\n",
    "        out2 = out[:,:,self.lf_num:self.lf_num+self.mf_num,:]\n",
    "        out3 = out[:,:,self.lf_num+self.mf_num:self.lf_num+self.mf_num+self.hf_num,:]\n",
    "        \n",
    "        out_lf2 = out1.detach()\n",
    "        out_lf3 = out1.detach()\n",
    "\n",
    "        out_mf2 = out2.detach()\n",
    "        \n",
    "        out_hf2 = out3.detach()\n",
    "        out_hf3 = out3.detach()\n",
    "        out_hf4 = out3.detach()\n",
    "\n",
    "        # for param in self.conv_lf.parameters():\n",
    "        #     print(param.data)\n",
    "        #     print(param.data.shape)\n",
    "        # print(self.conv_lf.weight())        \n",
    "        \n",
    "        \n",
    "        out1 = torch.nn.functional.elu(self.conv_lf1(out1))\n",
    "        out_lf2 = torch.nn.functional.elu(self.conv_lf2(out_lf2))\n",
    "        out_lf3 = torch.nn.functional.elu(self.conv_lf3(out_lf3))\n",
    "        out2 = torch.nn.functional.elu(self.conv_mf(out2))\n",
    "        out_mf2 = torch.nn.functional.elu(self.conv_mf2(out_mf2))\n",
    "        out3 = torch.nn.functional.elu(self.conv_hf(out3))\n",
    "        out_hf2 = torch.nn.functional.elu(self.conv_hf2(out_hf2))\n",
    "        out_hf3 = torch.nn.functional.elu(self.conv_hf3(out_hf3))\n",
    "        out_hf4 = torch.nn.functional.elu(self.conv_hf4(out_hf4))\n",
    "\n",
    "        out1 = self.maxpool_lf1(out1)        \n",
    "        out_lf2 = self.maxpool_lf2(out_lf2)\n",
    "        out_lf3 = self.maxpool_lf3(out_lf3)\n",
    "\n",
    "        out2 = self.maxpool_mf(out2)\n",
    "        out_mf2 = self.maxpool_mf2(out_mf2)\n",
    "\n",
    "        out3 = self.maxpool_hf(out3)\n",
    "        out_hf2 = self.maxpool_hf2(out_hf2)\n",
    "        out_hf3 = self.maxpool_hf3(out_hf3)\n",
    "        out_hf4 = self.maxpool_hf4(out_hf4)\n",
    "\n",
    "        out1 = out1.view(-1, out1.shape[1]*out1.shape[2]*out1.shape[3])\n",
    "        out_lf2 = out_lf2.view(-1, out_lf2.shape[1]*out_lf2.shape[2]*out_lf2.shape[3])\n",
    "        out_lf3 = out_lf3.view(-1, out_lf3.shape[1]*out_lf3.shape[2]*out_lf3.shape[3])\n",
    "        out2 = out2.view(-1, out2.shape[1]*out2.shape[2]*out2.shape[3])\n",
    "        out_mf2 = out_mf2.view(-1, out_mf2.shape[1]*out_mf2.shape[2]*out_mf2.shape[3])\n",
    "        out3 = out3.view(-1, out3.shape[1]*out3.shape[2]*out3.shape[3])\n",
    "        out_hf2 = out_hf2.view(-1, out_hf2.shape[1]*out_hf2.shape[2]*out_hf2.shape[3])\n",
    "        out_hf3 = out_hf3.view(-1, out_hf3.shape[1]*out_hf3.shape[2]*out_hf3.shape[3])\n",
    "        out_hf4 = out_hf4.view(-1, out_hf4.shape[1]*out_hf4.shape[2]*out_hf4.shape[3])\n",
    "\n",
    "        out = torch.cat((out1, out_lf2, out_lf3, out2, out_mf2, out3, out_hf2, out_hf3, out_hf4), 1)  \n",
    "\n",
    "        out = self.drop1(out)\n",
    "        \n",
    "        # print('fc.weight: ', self.fc.weight.shape)\n",
    "        # print('out: ', out.shape)\n",
    "\n",
    "        out = self.fc(out)\n",
    "        return out  "
   ]
  },
  {
   "attachments": {},
   "cell_type": "markdown",
   "metadata": {},
   "source": [
    "#### CNN2-model"
   ]
  },
  {
   "cell_type": "code",
   "execution_count": 5,
   "metadata": {},
   "outputs": [],
   "source": [
    "class ALS_CNN(nn.Module):\n",
    "    def __init__(self):\n",
    "        super(ALS_CNN,self).__init__() \n",
    "        # parameters\n",
    "        file = open(\"drive/MyDrive/Colab Notebooks/config.json\")\n",
    "        config = json.load(file)            \n",
    "        self.n_mel = config['data']['n_mel_channels']\n",
    "        frames_in_segment = config['data']['supra_frame_length']\n",
    "        layer1_filt = 18\n",
    "        layer2_filt = 8\n",
    "        \n",
    "        self.lf_num = 32    # low-frequency\n",
    "        self.mf_num = 16    # medium-frequency\n",
    "        self.hf_num = 16    # high-frequency\n",
    "        \n",
    "        lf_width,  mf_width,  hf_width  = 48,36,16      # low/medium/high-frequency time span\n",
    "        lf_height, mf_height, hf_height = 16,8,8      # low/medium/high-frequency frequency span\n",
    "\n",
    "        l2_kernel_size = 5\n",
    "\n",
    "        lf_h_stride, mf_h_stride, hf_h_stride = 2,1,1\n",
    "        lf_w_stride, mf_w_stride, hf_w_stride = 4, 4, 4\n",
    "\n",
    "        self.batch_norm1 = nn.BatchNorm2d(1)\n",
    "        \n",
    "        self.batch_norm_lf = nn.BatchNorm2d(layer1_filt)\n",
    "        self.batch_norm_mf = nn.BatchNorm2d(layer1_filt)\n",
    "        self.batch_norm_hf = nn.BatchNorm2d(layer1_filt)\n",
    "\n",
    "        # self.conv_lf = torch.nn.Conv2d(1,self.layer1_filt,(self.lf_num, lf_width),padding='valid',stride=(1,lf_width//2))\n",
    "        # self.conv_mf = torch.nn.Conv2d(1,self.layer1_filt,(self.mf_num, mf_width),padding='valid',stride=(1,mf_width//2))\n",
    "        # self.conv_hf = torch.nn.Conv2d(1,self.layer1_filt,(self.hf_num, hf_width),padding='valid',stride=(1,hf_width//2))\n",
    "\n",
    "        self.conv_lf = torch.nn.Conv2d(1,layer1_filt,(lf_height, lf_width),padding='valid',stride=(lf_h_stride,lf_w_stride))\n",
    "        self.conv_mf = torch.nn.Conv2d(1,layer1_filt,(mf_height, mf_width),padding='valid',stride=(mf_h_stride,mf_w_stride))\n",
    "        self.conv_hf = torch.nn.Conv2d(1,layer1_filt,(hf_height, hf_width),padding='valid',stride=(hf_h_stride,hf_w_stride))\n",
    "\n",
    "        self.conv2_lf = torch.nn.Conv2d(layer1_filt, layer2_filt,l2_kernel_size,padding='valid',stride=(1,1))\n",
    "        self.conv2_mf = torch.nn.Conv2d(layer1_filt, layer2_filt,l2_kernel_size,padding='valid',stride=(1,1))\n",
    "        self.conv2_hf = torch.nn.Conv2d(layer1_filt, layer2_filt,l2_kernel_size,padding='valid',stride=(1,1))\n",
    "\n",
    "        self.maxpool_lf = nn.MaxPool2d(((self.lf_num - lf_height)//lf_h_stride + 1 - (l2_kernel_size-1),1))\n",
    "        self.maxpool_mf = nn.MaxPool2d(((self.mf_num - mf_height)//mf_h_stride + 1 - (l2_kernel_size-1),1))\n",
    "        self.maxpool_hf = nn.MaxPool2d(((self.hf_num - hf_height)//hf_h_stride + 1 - (l2_kernel_size-1),1))\n",
    "\n",
    "        self.drop1 = nn.Dropout(p=0.05)\n",
    "        \n",
    "        self.fc = nn.Linear(layer2_filt*(1+((frames_in_segment-lf_width)//lf_w_stride) - (l2_kernel_size-1)) + # *(1+(self.lf_num-lf_height)//lf_height)\n",
    "                            layer2_filt*(1+((frames_in_segment-mf_width)//mf_w_stride) - (l2_kernel_size-1)) + #*(1+(self.mf_num-mf_height)//mf_height) + \n",
    "                            layer2_filt*(1+((frames_in_segment-hf_width)//hf_w_stride) - (l2_kernel_size-1)) #*(1+(self.hf_num-hf_height)//hf_height)\n",
    "                            ,1)    # 16 = np.round(()/5).astype(int)                                  \n",
    "\n",
    "        torch.manual_seed(151)\n",
    "        # nn.init.xavier_uniform_(self.conv_lf.weight, gain=1.0)\n",
    "        # nn.init.xavier_uniform_(self.conv_mf.weight, gain=1.0)\n",
    "        # nn.init.xavier_uniform_(self.conv_hf.weight, gain=1.0)\n",
    "\n",
    "        nn.init.kaiming_normal_(self.conv_lf.weight)\n",
    "        nn.init.kaiming_normal_(self.conv_mf.weight)\n",
    "        nn.init.kaiming_normal_(self.conv_hf.weight)\n",
    "\n",
    "        nn.init.kaiming_normal_(self.conv2_lf.weight)\n",
    "        nn.init.kaiming_normal_(self.conv2_mf.weight)\n",
    "        nn.init.kaiming_normal_(self.conv2_hf.weight)\n",
    "\n",
    "        nn.init.xavier_normal_(self.fc.weight)\n",
    "    \n",
    "    def forward(self, x): \n",
    "        \n",
    "        out = self.batch_norm1(x)\n",
    "\n",
    "        out1 = out[:,:,:self.lf_num,:]\n",
    "        out2 = out[:,:,self.lf_num:self.lf_num+self.mf_num,:]\n",
    "        out3 = out[:,:,self.lf_num+self.mf_num:self.lf_num+self.mf_num+self.hf_num,:]\n",
    "\n",
    "        out1 = torch.relu(self.conv_lf(out1))\n",
    "        out2 = torch.relu(self.conv_mf(out2))\n",
    "        out3 = torch.relu(self.conv_hf(out3))\n",
    "        \n",
    "        out1 = self.batch_norm_lf(out1)\n",
    "        out2 = self.batch_norm_mf(out2)\n",
    "        out3 = self.batch_norm_hf(out3)\n",
    "\n",
    "        out1 = torch.relu(self.conv2_lf(out1))\n",
    "        out2 = torch.relu(self.conv2_mf(out2))\n",
    "        out3 = torch.relu(self.conv2_hf(out3))\n",
    "\n",
    "        out1 = self.maxpool_lf(out1)        \n",
    "        out2 = self.maxpool_mf(out2)\n",
    "        out3 = self.maxpool_hf(out3)\n",
    "\n",
    "        out1 = out1.view(-1, out1.shape[1]*out1.shape[2]*out1.shape[3])\n",
    "        out2 = out2.view(-1, out2.shape[1]*out2.shape[2]*out2.shape[3])\n",
    "        out3 = out3.view(-1, out3.shape[1]*out3.shape[2]*out3.shape[3])\n",
    "\n",
    "        # print('After view 1:', out1.shape)\n",
    "\n",
    "        out = torch.cat((out1,out2,out3), 1)  \n",
    "\n",
    "        # print('After cat:', out.shape)\n",
    "\n",
    "        out = self.drop1(out)\n",
    "\n",
    "        out = self.fc(out)\n",
    "        return out"
   ]
  },
  {
   "attachments": {},
   "cell_type": "markdown",
   "metadata": {},
   "source": [
    "#### training_loop"
   ]
  },
  {
   "cell_type": "code",
   "execution_count": 5,
   "metadata": {},
   "outputs": [],
   "source": [
    "def training_loop(n_epochs, optimizer, lr_scheduler, model, loss_fn, train_loader, val_loader):    \n",
    "    MODEL_PATH = \"model_backup/model_cnn.pt\"\n",
    "    loss_train_history = np.ndarray((n_epochs))\n",
    "    loss_val_history = np.ndarray((n_epochs))\n",
    "    lrs = []\n",
    "    for epoch in range(1,n_epochs+1):        \n",
    "        model.train()\n",
    "        loss_val_best = 0\n",
    "        loss_train = 0.0\n",
    "        for specs, labels in tqdm(train_loader, desc=f\"Epoch {epoch}\", leave=True): #train_loader:\n",
    "            specs = specs.float()\n",
    "            outputs = model(specs)                        \n",
    "            outputs = outputs.squeeze(dim=1) # for batch train_loader \n",
    "            # print('output:',outputs)\n",
    "            # print('labels:',labels)\n",
    "            loss = loss_fn(outputs, labels)\n",
    "            optimizer.zero_grad()\n",
    "            loss.backward()\n",
    "            optimizer.step()\n",
    "            loss_train += loss.item()            \n",
    "        \n",
    "        # prediction on val set        \n",
    "        loss_val = 0.0\n",
    "        TP_TN_sum = 0\n",
    "        total = 0\n",
    "        model.eval()\n",
    "        with torch.no_grad():            \n",
    "            for spec, label in val_loader:\n",
    "                spec = spec.float()                    \n",
    "                pred = model(spec)                                \n",
    "                pred = torch.squeeze(pred,1)                \n",
    "\n",
    "                loss = loss_fn(pred, label)\n",
    "                loss_val += loss.item()\n",
    "\n",
    "                _,pred = torch.max(pred, dim=1)\n",
    "                _,label = torch.max(label, dim=1)\n",
    "                        \n",
    "                total += len(label)\n",
    "\n",
    "                TP_TN_sum = TP_TN_sum + torch.sum(label==pred)\n",
    "\n",
    "        acc_val = TP_TN_sum/total\n",
    "        \n",
    "        loss_train_history[epoch-1] = loss_train / len(train_loader)\n",
    "        loss_val_history[epoch-1] = loss_val / len(val_loader)\n",
    "\n",
    "\n",
    "        if loss_val > loss_val_best:\n",
    "            torch.save(model.state_dict(), MODEL_PATH)            \n",
    "            loss_val_best = loss_val\n",
    "\n",
    "        # if epoch==1 or epoch%2==0:                                                            \n",
    "        print(f'{datetime.datetime.now()} Epoch {epoch}, Train loss {loss_train / len(train_loader):.3f}, Val loss {loss_val / len(val_loader):.3f}, Acc_val = {acc_val:.2f}')\n",
    "        \n",
    "        lrs.append(optimizer.param_groups[0][\"lr\"])\n",
    "        lr_scheduler.step()\n",
    "        \n",
    "    # model = torch.load(MODEL_PATH)\n",
    "    model.load_state_dict(torch.load(MODEL_PATH))\n",
    "\n",
    "    fig, ax = plt.subplots(figsize=(6,2.5))\n",
    "    plt.rcParams.update({'font.size': 12})\n",
    "    # plt.subplot(1,2,1)\n",
    "    plt.plot(range(n_epochs), loss_train_history, label='Обучающий набор')\n",
    "    plt.plot(range(n_epochs), loss_val_history, label='Проверочный набор')\n",
    "    plt.legend()\n",
    "    plt.xlabel('Эпоха')\n",
    "    plt.ylabel('Ошибка обучения')\n",
    "    # plt.subplot(1,2,2)\n",
    "    # plt.plot(range(len(lrs)),lrs)\n",
    "    # plt.xlabel('step')\n",
    "    # plt.ylabel('lr')    \n",
    "    plt.show()\n",
    "    # Saving results\n",
    "    # image_name = f'figures/loss_NN.jpg'\n",
    "    # fig.savefig(image_name, format='jpg', dpi=110, bbox_inches='tight', pad_inches = 0.2)\n",
    "    return (loss_train_history,loss_val_history)"
   ]
  },
  {
   "attachments": {},
   "cell_type": "markdown",
   "metadata": {},
   "source": [
    "### Single NN training & evaluation"
   ]
  },
  {
   "cell_type": "code",
   "execution_count": 45,
   "metadata": {},
   "outputs": [
    {
     "name": "stdout",
     "output_type": "stream",
     "text": [
      "torch.Size([1, 1, 64, 86])\n",
      "fc.weight:  torch.Size([2, 600])\n",
      "out:  torch.Size([1, 600])\n"
     ]
    },
    {
     "name": "stderr",
     "output_type": "stream",
     "text": [
      "C:\\Users\\Tanya\\AppData\\Local\\Temp\\ipykernel_13004\\2400804641.py:4: UserWarning: To copy construct from a tensor, it is recommended to use sourceTensor.clone().detach() or sourceTensor.clone().detach().requires_grad_(True), rather than torch.tensor(sourceTensor).\n",
      "  input = torch.tensor(X, dtype=torch.float)\n"
     ]
    }
   ],
   "source": [
    "# Test inference\n",
    "model = ALS_CNN1()\n",
    "X, y = DataSet_ALS.__getitem__(13202)\n",
    "input = torch.tensor(X, dtype=torch.float)\n",
    "input = input.unsqueeze(0)  # add batch dimension\n",
    "print(input.shape)\n",
    "y_out = model(input)"
   ]
  },
  {
   "cell_type": "code",
   "execution_count": null,
   "metadata": {},
   "outputs": [],
   "source": [
    "fold_0_train_inds,fold_0_val_inds,fold_0_test_inds = DataSet_ALS.get_kth_fold_inds(0)\n",
    "train_set = torch.utils.data.dataset.Subset(DataSet_ALS, fold_0_train_inds)\n",
    "val_set = torch.utils.data.dataset.Subset(DataSet_ALS, fold_0_val_inds)\n",
    "\n",
    "train_loader = torch.utils.data.DataLoader(train_set, batch_size=50, shuffle=True) # num_workers=1\n",
    "val_loader = torch.utils.data.DataLoader(val_set, batch_size=1, shuffle=False) # num_workers=1\n",
    "\n",
    "# model = ALS_FFNN()\n",
    "model = ALS_CNN()\n",
    "model.train()\n",
    "\n",
    "# summary(ALS_cnn,(64*86))\n",
    "# optimizer = optim.SGD(ALS_cnn.parameters(), lr=1e-3, momentum=0.10)\n",
    "optimizer = optim.Adam(model.parameters(),lr=2e-5, weight_decay=2e-1)\n",
    "\n",
    "# loss_fn = nn.CrossEntropyLoss()\n",
    "# pos_weight = torch.ones([1])\n",
    "# loss_fn = nn.BCEWithLogitsLoss(pos_weight = pos_weight)\n",
    "\n",
    "loss_fn = nn.BCEWithLogitsLoss()\n",
    "scheduler = optim.lr_scheduler.ExponentialLR(optimizer, gamma=0.9)\n",
    "\n",
    "training_loop(\n",
    "    n_epochs=20,\n",
    "    optimizer=optimizer,\n",
    "    lr_scheduler = scheduler,\n",
    "    model=model,\n",
    "    loss_fn=loss_fn,\n",
    "    train_loader=train_loader,\n",
    "    val_loader = val_loader\n",
    ")"
   ]
  },
  {
   "attachments": {},
   "cell_type": "markdown",
   "metadata": {},
   "source": [
    "### Train with 5-fold CV"
   ]
  },
  {
   "attachments": {},
   "cell_type": "markdown",
   "metadata": {},
   "source": [
    "#### crossvalid"
   ]
  },
  {
   "cell_type": "code",
   "execution_count": 24,
   "metadata": {},
   "outputs": [],
   "source": [
    "def crossvalid(dataset=None, model = None, train = None, optimizer = None, n_epochs = 20, k_fold=5):    \n",
    "    \n",
    "    total_size = len(dataset)\n",
    "    y_pred = np.ndarray(total_size)\n",
    "    y_true = np.ndarray(total_size)\n",
    "    folds = list([4,3,2,1,0])\n",
    "\n",
    "    for i in folds: #range(k_fold):\n",
    "        \n",
    "        inds_train,inds_val,inds_test = dataset.get_kth_fold_inds(i)                \n",
    "        \n",
    "        train_set = torch.utils.data.dataset.Subset(dataset,inds_train)\n",
    "        val_set = torch.utils.data.dataset.Subset(dataset,inds_val)\n",
    "        test_set = torch.utils.data.dataset.Subset(dataset,inds_test)\n",
    "                \n",
    "        train_loader = torch.utils.data.DataLoader(train_set, batch_size=100,shuffle=True)  # num_workers=2\n",
    "        val_loader = torch.utils.data.DataLoader(val_set, batch_size=1, shuffle=False)\n",
    "        test_loader = torch.utils.data.DataLoader(test_set, batch_size=1, shuffle=False)    # num_workers=2\n",
    "        \n",
    "        torch.manual_seed(707)\n",
    "        with torch.no_grad():\n",
    "            for layer in model.children():\n",
    "                if hasattr(layer, 'reset_parameters'):\n",
    "                    # print(layer.weight())\n",
    "                    layer.reset_parameters()\n",
    "                    # print(layer.weight())\n",
    "        \n",
    "        model.train()        \n",
    "\n",
    "        loss_fn = nn.BCEWithLogitsLoss()\n",
    "        scheduler = optim.lr_scheduler.ExponentialLR(optimizer, gamma=0.9)\n",
    "\n",
    "        train(\n",
    "            n_epochs=n_epochs,\n",
    "            optimizer=optimizer,\n",
    "            lr_scheduler = scheduler,\n",
    "            model=model,\n",
    "            loss_fn=loss_fn,\n",
    "            train_loader=train_loader,\n",
    "            val_loader=val_loader\n",
    "        )\n",
    "\n",
    "        # prediction on test set        \n",
    "        test_score = list()\n",
    "        TP_TN_sum = 0\n",
    "        model.eval()\n",
    "        with torch.no_grad():\n",
    "            i = 0\n",
    "            for spec, label in test_loader:\n",
    "                spec = spec.float()\n",
    "                # spec = spec.squeeze()\n",
    "                pred = model(spec)\n",
    "                pred = torch.squeeze(pred,1)  \n",
    "                test_score.append(pred.numpy())\n",
    "                if pred>0:\n",
    "                    pred = torch.tensor(1, dtype=torch.float64)\n",
    "                    y_pred[inds_test[i]] = 1\n",
    "                else:\n",
    "                    pred = torch.tensor(0, dtype=torch.float64)                \n",
    "                    y_pred[inds_test[i]] = 0\n",
    "                y_true[inds_test[i]] = label\n",
    "                if pred==label:\n",
    "                    TP_TN_sum +=1                \n",
    "                i +=1                 \n",
    "            print('Acc = ', TP_TN_sum/len(test_score))\n",
    "\n",
    "    acc_sk = metrics.accuracy_score(y_true, y_pred)\n",
    "    recall = metrics.recall_score(y_true, y_pred)\n",
    "    prec = metrics.precision_score(y_true, y_pred)\n",
    "    tn, fp, fn, tp = metrics.confusion_matrix(y_true, y_pred).ravel()\n",
    "    sensetivity = tp / (tp+fn)\n",
    "    specificity = tn / (tn+fp)\n",
    "    print('Final results')\n",
    "    print(f'Acc_sk = {acc_sk:.2f}', )\n",
    "    print(f'Prec = {prec:.2f}')\n",
    "    print(f'Recall = {recall:.2f}')\n",
    "    print(f'Sens = {sensetivity:.2f}')\n",
    "    print(f'Spec = {specificity:.2f}')\n",
    "\n",
    "        # val_acc = valid(res_model,criterion,optimizer,val_loader)\n",
    "        # val_score.at[i] = val_acc\n",
    "    \n",
    "    return acc_sk\n",
    "        \n",
    "# https://stackoverflow.com/questions/60883696/k-fold-cross-validation-using-dataloaders-in-pytorch"
   ]
  },
  {
   "attachments": {},
   "cell_type": "markdown",
   "metadata": {},
   "source": [
    "#### k_fold_CV"
   ]
  },
  {
   "cell_type": "code",
   "execution_count": 6,
   "metadata": {},
   "outputs": [],
   "source": [
    "def k_fold_CV(dataset=None, model = None, train = None, optimizer = None, n_epochs = 20, k_fold=5):    \n",
    "    \n",
    "    total_size = len(dataset)\n",
    "    y_pred = np.ndarray(total_size)\n",
    "    y_true = np.ndarray(total_size)\n",
    "    folds = list([4,3,2,1,0])\n",
    "\n",
    "    scheduler = optim.lr_scheduler.ExponentialLR(optimizer, gamma=0.99)\n",
    "\n",
    "    PATH = 'model_backup' + os.sep + 'cnn_init.pt'\n",
    "    PATH_optim = 'model_backup'+os.sep+'cnn_optim_init.pt'\n",
    "    PATH_lr = 'model_backup' + os.sep + 'cnn_lr_schedule_init.pt'\n",
    "\n",
    "    torch.save(model.state_dict(), PATH)\n",
    "    torch.save(optimizer.state_dict(), PATH_optim)\n",
    "    torch.save(scheduler.state_dict(), PATH_lr)\n",
    "\n",
    "    loss_train_history_list = list()\n",
    "    loss_val_history_list = list()\n",
    "    fold_acc = list()\n",
    "    for i in folds: #range(k_fold):\n",
    "        \n",
    "        inds_train,inds_val,inds_test = dataset.get_kth_fold_inds(i)                \n",
    "        \n",
    "        train_set = torch.utils.data.dataset.Subset(dataset,inds_train)\n",
    "        val_set = torch.utils.data.dataset.Subset(dataset,inds_val)\n",
    "        test_set = torch.utils.data.dataset.Subset(dataset,inds_test)\n",
    "                \n",
    "        train_loader = torch.utils.data.DataLoader(train_set, batch_size=100,shuffle=True)  # num_workers=2\n",
    "        val_loader = torch.utils.data.DataLoader(val_set, batch_size=100, shuffle=False)\n",
    "        test_loader = torch.utils.data.DataLoader(test_set, batch_size=1, shuffle=False)    # num_workers=2\n",
    "        \n",
    "        model.load_state_dict(torch.load(PATH))\n",
    "        optimizer.load_state_dict(torch.load(PATH_optim))\n",
    "        scheduler.load_state_dict(torch.load(PATH_lr))\n",
    "\n",
    "        model.train()        \n",
    "\n",
    "        loss_fn = nn.BCEWithLogitsLoss()        \n",
    "\n",
    "        loss_train_history, loss_val_history = train(\n",
    "            n_epochs=n_epochs,\n",
    "            optimizer=optimizer,\n",
    "            lr_scheduler = scheduler,\n",
    "            model=model,\n",
    "            loss_fn=loss_fn,\n",
    "            train_loader=train_loader,\n",
    "            val_loader=val_loader\n",
    "        )\n",
    "\n",
    "        loss_train_history_list.append(loss_train_history)\n",
    "        loss_val_history_list.append(loss_val_history)\n",
    "\n",
    "        # prediction on test set        \n",
    "        test_score = list()\n",
    "        TP_TN_sum = 0\n",
    "        model.eval()\n",
    "        with torch.no_grad():\n",
    "            i = 0\n",
    "            for spec, label in test_loader:\n",
    "                spec = spec.float()\n",
    "                pred = model(spec)\n",
    "                # pred = torch.squeeze(pred,1)\n",
    "                pred = torch.squeeze(pred)\n",
    "                pred = torch.squeeze(pred)  \n",
    "                label = torch.squeeze(label,0)\n",
    "                \n",
    "                # print('pred.shape', pred.shape)\n",
    "                # print('pred', pred)\n",
    "                # print('label.shape', label.shape)\n",
    "                # print('label', label)\n",
    "\n",
    "                # test_score.append(pred.numpy())\n",
    "                test_score.append(pred[1].numpy())\n",
    "                if pred[1]>pred[0]: #pred>0:\n",
    "                    pred = torch.tensor(1, dtype=torch.float64)\n",
    "                    y_pred[inds_test[i]] = 1\n",
    "                    if label[1]>label[0]:\n",
    "                        TP_TN_sum +=1    # TP\n",
    "                else:\n",
    "                    pred = torch.tensor(0, dtype=torch.float64)                \n",
    "                    y_pred[inds_test[i]] = 0 \n",
    "                    if label[0]>label[1]:\n",
    "                        TP_TN_sum +=1    # TN                   \n",
    "                y_true[inds_test[i]] = 1*(label[1]>label[0]) #label\n",
    "\n",
    "                # if pred==label:\n",
    "                #     TP_TN_sum +=1                \n",
    "                i +=1\n",
    "            fold_acc.append(TP_TN_sum/len(test_score))\n",
    "            print('Acc = ', TP_TN_sum/len(test_score))\n",
    "\n",
    "    fig, ax = plt.subplots(figsize=(12,2.5))\n",
    "    plt.rcParams.update({'font.size': 10})    \n",
    "\n",
    "    for i in folds:\n",
    "        plt.subplot(1,len(folds),i+1)\n",
    "        plt.plot(range(n_epochs), loss_train_history_list[i], label='Обучающий набор')\n",
    "        plt.plot(range(n_epochs), loss_val_history_list[i], label='Проверочный набор')\n",
    "        plt.legend()\n",
    "        plt.xlabel('Эпоха')\n",
    "        plt.ylabel('Ошибка обучения')\n",
    "    \n",
    "\n",
    "    acc_sk = metrics.accuracy_score(y_true, y_pred)\n",
    "    recall = metrics.recall_score(y_true, y_pred)\n",
    "    prec = metrics.precision_score(y_true, y_pred)\n",
    "    tn, fp, fn, tp = metrics.confusion_matrix(y_true, y_pred).ravel()\n",
    "    sensetivity = tp / (tp+fn)\n",
    "    specificity = tn / (tn+fp)\n",
    "    \n",
    "    print('Final results')\n",
    "    print(f'{n_epochs} epochs. Acc_sk = {acc_sk:.2f} (Sens = {sensetivity:.2f} / Spec = {specificity:.2f}) {fold_acc[0]:.2f} / {fold_acc[1]:.2f} / {fold_acc[2]:.2f} / {fold_acc[3]:.2f} / {fold_acc[4]:.2f}')\n",
    "    # print(f'Prec = {prec:.2f}')\n",
    "    # print(f'Recall = {recall:.2f}')\n",
    "    # print(f'')    \n",
    "    \n",
    "    # return acc_sk"
   ]
  },
  {
   "attachments": {},
   "cell_type": "markdown",
   "metadata": {},
   "source": [
    "#### Start script"
   ]
  },
  {
   "cell_type": "code",
   "execution_count": null,
   "metadata": {},
   "outputs": [],
   "source": [
    "# script with reset.parameters()\n",
    "dir_HC = '../wav'+ os.sep + 'HC' + os.sep\n",
    "dir_ALS = '../wav' + os.sep + 'ALS' + os.sep\n",
    "\n",
    "DataSet_ALS = ALSDataset(dir_HC, dir_ALS)\n",
    "model = ALS_CNN()\n",
    "\n",
    "# optimizer = optim.SGD(ALS_cnn.parameters(), lr=1e-3, momentum=0.10)\n",
    "optimizer = optim.Adam(model.parameters(),lr=1e-3, weight_decay=2e-3) # weight_decay is L2 regularization\n",
    "\n",
    "crossvalid(dataset=DataSet_ALS, model = model, train = training_loop, optimizer = optimizer, n_epochs=15, k_fold=5)"
   ]
  },
  {
   "attachments": {},
   "cell_type": "markdown",
   "metadata": {},
   "source": [
    "#### Start k-fold CV"
   ]
  },
  {
   "cell_type": "code",
   "execution_count": null,
   "metadata": {},
   "outputs": [],
   "source": [
    "# dir_HC = '../wav'+ os.sep + 'HC' + os.sep\n",
    "# dir_ALS = '../wav' + os.sep + 'ALS' + os.sep\n",
    "\n",
    "DataSet_ALS = ALSDataset(dir_HC, dir_ALS)\n",
    "model = ALS_CNN1()\n",
    "\n",
    "# Start parameters\n",
    "# layer1_filt = 64\n",
    "# lf_num, mf_num, hf_num = 32,16,16    # low-frequency / medium-frequency / high-frequency       \n",
    "# lf_width,  mf_width,  hf_width  = 12,8,4      # low/medium/high-frequency time span\n",
    "# lf_height, mf_height, hf_height = 16,8,8      # low/medium/high-frequency frequency span\n",
    "# lf_h_stride, mf_h_stride, hf_h_stride = 4,2,1\n",
    "# lf_w_stride, mf_w_stride, hf_w_stride = lf_width//2, mf_width//2, hf_width//2\n",
    "# optimizer = optim.Adam(model.parameters(),lr=1e-2, weight_decay=1e-1) # 30 epochs. Acc_sk = 0.56 (Sens = 0.47 / Spec = 0.65) 0.66 / 0.37 / 0.64 / 0.62 / 0.55\n",
    "# optimizer = optim.SGD(model.parameters(),lr=1e-2, weight_decay=1e-1) # 15 epochs. Acc_sk = 0.71 (Sens = 0.75 / Spec = 0.66) 0.65 / 0.82 / 0.72 / 0.78 / 0.61\n",
    "# lf_height = 24\n",
    "# optimizer = optim.SGD(model.parameters(),lr=1e-2, weight_decay=1e-1) # 15 epochs. Acc_sk = 0.63 (Sens = 0.75 / Spec = 0.51) 0.72 / 0.71 / 0.59 / 0.63 / 0.57\n",
    "# optimizer = optim.SGD(model.parameters(),lr=1e-3, weight_decay=1e-1, momentum=0.2) # 15 epochs. Acc_sk = 0.61 (Sens = 0.73 / Spec = 0.49) 0.62 / 0.68 / 0.57 / 0.64 / 0.57\n",
    "# optimizer = optim.SGD(model.parameters(),lr=1e-3, weight_decay=1e-1, momentum=0.2) # 15 epochs. Acc_sk = 0.75 (Sens = 0.78 / Spec = 0.71) 0.68 / 0.85 / 0.66 / 0.68 / 0.87 (good behaviour)\n",
    "# optimizer = optim.SGD(model.parameters(),lr=1e-3, weight_decay=1e-1, momentum=0.2) # 30 epochs. Acc_sk = 0.76 (Sens = 0.79 / Spec = 0.72) 0.71 / 0.82 / 0.73 / 0.67 / 0.86\n",
    "# optimizer = optim.SGD(model.parameters(),lr=1e-3, weight_decay=1e-1, momentum=0.4) # 15 epochs. Acc_sk = 0.76 (Sens = 0.78 / Spec = 0.73) 0.73 / 0.88 / 0.67 / 0.65 / 0.87\n",
    "# mf_height = 12 (old val 8)\n",
    "# optimizer = optim.SGD(model.parameters(),lr=1e-3, weight_decay=1e-1, momentum=0.4) # 15 epochs. Acc_sk = 0.77 (Sens = 0.81 / Spec = 0.73) 0.80 / 0.88 / 0.70 / 0.65 / 0.84\n",
    "# optimizer = optim.SGD(model.parameters(),lr=1e-3, weight_decay=1e-1, momentum=0.6) # 15 epochs. Acc_sk = 0.74 (Sens = 0.78 / Spec = 0.69) 0.77 / 0.86 / 0.71 / 0.64 / 0.73\n",
    "# hf_height = 12 (old val 8) \n",
    "# optimizer = optim.SGD(model.parameters(),lr=1e-3, weight_decay=1e-1, momentum=0.4) # 15 epochs. Acc_sk = 0.73 (Sens = 0.75 / Spec = 0.70) 0.67 / 0.89 / 0.65 / 0.66 / 0.810\n",
    "# hf_height = 8 (return), mf_height = 16 (old val 12)\n",
    "# optimizer = optim.SGD(model.parameters(),lr=1e-3, weight_decay=1e-1, momentum=0.4) # 15 epochs. Acc_sk = 0.76 (Sens = 0.81 / Spec = 0.71) 0.83 / 0.92 / 0.58 / 0.65 / 0.90\n",
    "# optimizer = optim.SGD(model.parameters(),lr=1e-3, weight_decay=1e-1, momentum=0.4) # 100 epochs. Acc_sk = 0.65 (Sens = 0.64 / Spec = 0.66) 0.62 / 0.73 / 0.58 / 0.72 / 0.66\n",
    "# lf_width = 24 (old value 12)\n",
    "# optimizer = optim.SGD(model.parameters(),lr=1e-3, weight_decay=1e-1, momentum=0.4) # 15 epochs. Acc_sk = 0.76 (Sens = 0.82 / Spec = 0.70) 0.84 / 0.93 / 0.60 / 0.64 / 0.85\n",
    "# mf_width = 16 (old value 8)\n",
    "# optimizer = optim.SGD(model.parameters(),lr=1e-3, weight_decay=1e-1, momentum=0.4) # 15 epochs. Acc_sk = 0.76 (Sens = 0.80 / Spec = 0.70) 0.77 / 0.89 / 0.59 / 0.67 / 0.91\n",
    "# hf_height = 16 (old value 8)\n",
    "# optimizer = optim.SGD(model.parameters(),lr=1e-3, weight_decay=1e-1, momentum=0.4) # 15 epochs. Acc_sk = 0.76 (Sens = 0.79 / Spec = 0.73) 0.68 / 0.89 / 0.58 / 0.75 / 0.94\n",
    "# mf_height = 15 (old value 16)\n",
    "# optimizer = optim.SGD(model.parameters(),lr=1e-3, weight_decay=1e-1, momentum=0.4) # 15 epochs. Acc_sk = 0.76 (Sens = 0.80 / Spec = 0.70) 0.70 / 0.86 / 0.57 / 0.75 / 0.94\n",
    "# optimizer = optim.SGD(model.parameters(),lr=1e-3, weight_decay=1e-1, momentum=0.4) # 30 epochs. Acc_sk = 0.71 (Sens = 0.75 / Spec = 0.67) 0.64 / 0.84 / 0.55 / 0.75 / 0.85\n",
    "# lf_width = 48 (24 old value)\n",
    "# optimizer = optim.SGD(model.parameters(),lr=1e-3, weight_decay=1e-1, momentum=0.4) # 15 epochs. Acc_sk = 0.73 (Sens = 0.77 / Spec = 0.69) 0.68 / 0.84 / 0.55 / 0.74 / 0.89\n",
    "# lf_width = 32 (24 old value)\n",
    "# optimizer = optim.SGD(model.parameters(),lr=1e-3, weight_decay=1e-1, momentum=0.4) # 15 epochs. Acc_sk = 0.74 (Sens = 0.79 / Spec = 0.69) 0.69 / 0.87 / 0.54 / 0.75 / 0.90\n",
    "# lf_width = 32 (24 old value)\n",
    "# optimizer = optim.SGD(model.parameters(),lr=1e-3, weight_decay=1e-1, momentum=0.4) # 15 epochs. Acc_sk = 0.74 (Sens = 0.79 / Spec = 0.69) 0.69 / 0.87 / 0.54 / 0.75 / 0.90\n",
    "# lf_width = 24 (return) + hf_height = 8 (return)\n",
    "# optimizer = optim.SGD(model.parameters(),lr=1e-3, weight_decay=1e-1, momentum=0.4) # 15 epochs. Acc_sk = 0.74 (Sens = 0.80 / Spec = 0.68) 0.76 / 0.87 / 0.54 / 0.69 / 0.87\n",
    "# mf_height = 12 (before 16)\n",
    "# optimizer = optim.SGD(model.parameters(),lr=1e-3, weight_decay=1e-1, momentum=0.4) # 15 epochs. Acc_sk = 0.78 (Sens = 0.82 / Spec = 0.74) 0.80 / 0.85 / 0.68 / 0.65 / 0.89\n",
    "# optimizer = optim.SGD(model.parameters(),lr=1e-3, weight_decay=1e-1, momentum=0.5) # 15 epochs. Acc_sk = 0.74 (Sens = 0.80 / Spec = 0.68) 0.79 / 0.86 / 0.64 / 0.65 / 0.76\n",
    "# optimizer = optim.SGD(model.parameters(),lr=1e-3, weight_decay=1e-1, momentum=0.3) # 15 epochs. Acc_sk = 0.71 (Sens = 0.73 / Spec = 0.68) 0.69 / 0.67 / 0.64 / 0.67 / 0.85\n",
    "# hf_height = 12 (old value 8)\n",
    "# optimizer = optim.SGD(model.parameters(),lr=1e-3, weight_decay=1e-1, momentum=0.4) # 15 epochs. Acc_sk = 0.74 (Sens = 0.76 / Spec = 0.72) 0.65 / 0.86 / 0.65 / 0.68 / 0.88\n",
    "# hf_height = 8 (return)\n",
    "# optimizer = optim.SGD(model.parameters(),lr=1e-3, weight_decay=1e-1, momentum=0.4) # 15 epochs. Acc_sk = 0.77 (Sens = 0.81 / Spec = 0.72) 0.76 / 0.86 / 0.68 / 0.65 / 0.88\n",
    "# hf_height = 10 (8 before)\n",
    "# optimizer = optim.SGD(model.parameters(),lr=1e-3, weight_decay=1e-1, momentum=0.4) # 15 epochs. Acc_sk = 0.76 (Sens = 0.79 / Spec = 0.72) 0.75 / 0.85 / 0.64 / 0.66 / 0.87\n",
    "# hf_height = 8 (return) + hf_width = 8 (before 4)\n",
    "# optimizer = optim.SGD(model.parameters(),lr=1e-3, weight_decay=1e-1, momentum=0.4) # 15 epochs. Acc_sk = 0.74 (Sens = 0.81 / Spec = 0.66) 0.79 / 0.86 / 0.64 / 0.63 / 0.76\n",
    "# return to model with 78% Acc\n",
    "# optimizer = optim.SGD(model.parameters(),lr=1e-3, weight_decay=1e-1, momentum=0.4) # 15 epochs. Acc_sk = 0.75 (Sens = 0.80 / Spec = 0.70) 0.75 / 0.83 / 0.66 / 0.65 / 0.83\n",
    "# xavier_uniform changed to kaiming_normal_\n",
    "# optimizer = optim.SGD(model.parameters(),lr=1e-3, weight_decay=1e-1, momentum=0.4) # 15 epochs. Acc_sk = 0.74 (Sens = 0.78 / Spec = 0.69) 0.63 / 0.88 / 0.53 / 0.75 / 0.94 (good behaviour)\n",
    "# kaiming_normal_ changed to kaiming_uniform_\n",
    "# optimizer = optim.SGD(model.parameters(),lr=1e-3, weight_decay=1e-1, momentum=0.4) # 15 epochs. Acc_sk = 0.70 (Sens = 0.75 / Spec = 0.65) 0.62 / 0.87 / 0.53 / 0.77 / 0.79\n",
    "# kaiming_uniform_ \n",
    "# optimizer = optim.SGD(model.parameters(),lr=1e-3, weight_decay=1e-1, momentum=0.2) # 15 epochs. Acc_sk = 0.74 (Sens = 0.80 / Spec = 0.69) 0.65 / 0.88 / 0.53 / 0.75 / 0.95\n",
    "# optimizer = optim.SGD(model.parameters(),lr=5e-4, weight_decay=1e-1, momentum=0.2) # 15 epochs. Acc_sk = 0.74 (Sens = 0.80 / Spec = 0.68) 0.69 / 0.80 / 0.54 / 0.75 / 0.93\n",
    "# hf_width = 5 (before 4)\n",
    "# optimizer = optim.SGD(model.parameters(),lr=5e-4, weight_decay=1e-1, momentum=0.2) # 15 epochs. Acc_sk = 0.74 (Sens = 0.78 / Spec = 0.69) 0.65 / 0.84 / 0.58 / 0.74 / 0.90\n",
    "# xavier_uniform (return) + nn.init.xavier_uniform_(self.fc)\n",
    "# optimizer = optim.SGD(model.parameters(),lr=5e-4, weight_decay=1e-1, momentum=0.2) # 15 epochs. Acc_sk = 0.67 (Sens = 0.67 / Spec = 0.66) 0.60 / 0.65 / 0.62 / 0.64 / 0.82 (slow curves)\n",
    "# optimizer = optim.SGD(model.parameters(),lr=2e-3, weight_decay=1e-1, momentum=0.2) # 15 epochs. Acc_sk = 0.71 (Sens = 0.73 / Spec = 0.69) 0.75 / 0.83 / 0.58 / 0.66 / 0.79 \n",
    "# optimizer = optim.SGD(model.parameters(),lr=2e-3, weight_decay=1e-1, momentum=0.4) # 15 epochs. Acc_sk = 0.69 (Sens = 0.72 / Spec = 0.67) 0.74 / 0.79 / 0.60 / 0.66 / 0.73\n",
    "# optimizer = optim.SGD(model.parameters(),lr=1e-3, weight_decay=1e-1, momentum=0.4) # 15 epochs. Acc_sk = 0.73 (Sens = 0.75 / Spec = 0.71) 0.72 / 0.88 / 0.60 / 0.66 / 0.84\n",
    "# lf_width = 27 (before 24)\n",
    "# optimizer = optim.SGD(model.parameters(),lr=1e-3, weight_decay=1e-1, momentum=0.4) # 15 epochs. Acc_sk = 0.76 (Sens = 0.78 / Spec = 0.73) 0.77 / 0.86 / 0.67 / 0.65 / 0.83\n",
    "# lf_height = 27 (before 24)\n",
    "# optimizer = optim.SGD(model.parameters(),lr=1e-3, weight_decay=1e-1, momentum=0.4) # 15 epochs. Acc_sk = 0.75 (Sens = 0.80 / Spec = 0.70) 0.79 / 0.90 / 0.73 / 0.65 / 0.74\n",
    "# optimizer = optim.SGD(model.parameters(),lr=1e-3, weight_decay=1e-1, momentum=0.4) # 15 epochs. Acc_sk = 0.75 (Sens = 0.79 / Spec = 0.70) 0.78 / 0.90 / 0.73 / 0.65 / 0.74\n",
    "# lf_height = 27 (before 24)\n",
    "# optimizer = optim.SGD(model.parameters(),lr=1e-3, weight_decay=1e-1, momentum=0.4)\n",
    "# mf_height = 15 (before 12)\n",
    "# optimizer = optim.SGD(model.parameters(),lr=1e-3, weight_decay=1e-1, momentum=0.4) # 15 epochs. Acc_sk = 0.75 (Sens = 0.80 / Spec = 0.70) 0.79 / 0.90 / 0.71 / 0.65 / 0.75\n",
    "# mf_width, mf_height = 13,13\n",
    "# optimizer = optim.SGD(model.parameters(),lr=1e-3, weight_decay=1e-1, momentum=0.4) # 15 epochs. Acc_sk = 0.74 (Sens = 0.81 / Spec = 0.66) 0.81 / 0.94 / 0.65 / 0.65 / 0.74\n",
    "# mf_width, mf_height = 15,15 (return)\n",
    "# optimizer = optim.Adam(model.parameters(),lr=1e-4, weight_decay=1e-1) # 15 epochs. Acc_sk = 0.62 (Sens = 0.60 / Spec = 0.65) 0.50 / 0.74 / 0.59 / 0.72 / 0.63\n",
    "# hf_width,hf_height = 5,5\n",
    "# optimizer = optim.SGD(model.parameters(),lr=1e-3, weight_decay=1e-1, momentum=0.4) # 15 epochs. Acc_sk = 0.71 (Sens = 0.82 / Spec = 0.59) 0.76 / 0.91 / 0.55 / 0.65 / 0.75\n",
    "# mf_height,mf_width = 15,17 (before 15x15)\n",
    "# optimizer = optim.SGD(model.parameters(),lr=1e-3, weight_decay=1e-1, momentum=0.4) # 15 epochs. Acc_sk = 0.71 (Sens = 0.76 / Spec = 0.66) 0.68 / 0.74 / 0.56 / 0.67 / 0.87\n",
    "# optimizer = optim.SGD(model.parameters(),lr=1e-3, weight_decay=1e-1, momentum=0.6) # 15 epochs. Acc_sk = 0.73 (Sens = 0.80 / Spec = 0.65) 0.70 / 0.77 / 0.59 / 0.67 / 0.87\n",
    "# self.layer1_filt = 3 (before 4)\n",
    "# optimizer = optim.SGD(model.parameters(),lr=1e-3, weight_decay=1e-1, momentum=0.6) # 15 epochs. Acc_sk = 0.74 (Sens = 0.82 / Spec = 0.65) 0.72 / 0.82 / 0.57 / 0.74 / 0.84\n",
    "# self.layer1_filt = 2 (before 3)\n",
    "# optimizer = optim.SGD(model.parameters(),lr=1e-3, weight_decay=1e-1, momentum=0.6) # 15 epochs. Acc_sk = 0.71 (Sens = 0.73 / Spec = 0.70) 0.70 / 0.71 / 0.60 / 0.64 / 0.89\n",
    "# optimizer = optim.SGD(model.parameters(),lr=1e-3, weight_decay=1e-1, momentum=0.6) # 30 epochs. Acc_sk = 0.73 (Sens = 0.77 / Spec = 0.69) 0.75 / 0.79 / 0.60 / 0.65 / 0.84\n",
    "# optimizer = optim.Adam(model.parameters(),lr=1e-3, weight_decay=1e-1) # 15 epochs. Acc_sk = 0.65 (Sens = 0.69 / Spec = 0.61) 0.62 / 0.81 / 0.57 / 0.71 / 0.62\n",
    "# optimizer = optim.SGD(model.parameters(),lr=1e-3, weight_decay=1e-1, momentum=0.8) # 15 epochs. Acc_sk = 0.72 (Sens = 0.74 / Spec = 0.70) 0.73 / 0.80 / 0.58 / 0.65 / 0.83\n",
    "# optimizer = optim.SGD(model.parameters(),lr=1e-3, weight_decay=1e-1, momentum=0.4) # 15 epochs. Acc_sk = 0.69 (Sens = 0.69 / Spec = 0.69) 0.68 / 0.62 / 0.63 / 0.66 / 0.83\n",
    "# add second convolution with middle freq mf_height,mf_width = 7,7\n",
    "# optimizer = optim.SGD(model.parameters(),lr=1e-3, weight_decay=1e-1, momentum=0.6) # 15 epochs. Acc_sk = 0.71 (Sens = 0.75 / Spec = 0.67) 0.68 / 0.85 / 0.59 / 0.64 / 0.84\n",
    "# dropout = 0.1\n",
    "# optimizer = optim.SGD(model.parameters(),lr=1e-3, weight_decay=1e-1, momentum=0.6) # 15 epochs. Acc_sk = 0.71 (Sens = 0.75 / Spec = 0.68) 0.69 / 0.87 / 0.58 / 0.67 / 0.84\n",
    "# mf_height,mf_width = 7,33\n",
    "optimizer = optim.SGD(model.parameters(),lr=1e-3, weight_decay=1e-1, momentum=0.6) # 15 epochs. Acc_sk = 0.70 (Sens = 0.78 / Spec = 0.62) 0.75 / 0.69 / 0.56 / 0.73 / 0.76 (good curves. need more iterations)\n",
    "\n",
    "k_fold_CV(dataset=DataSet_ALS, model = model, optimizer=optimizer, train = training_loop, n_epochs=15)\n"
   ]
  },
  {
   "attachments": {},
   "cell_type": "markdown",
   "metadata": {},
   "source": [
    "#### Test CNN1 (5-fold CV)"
   ]
  },
  {
   "cell_type": "code",
   "execution_count": 61,
   "metadata": {},
   "outputs": [
    {
     "name": "stderr",
     "output_type": "stream",
     "text": [
      "Epoch 1: 100%|██████████| 125/125 [00:10<00:00, 11.75it/s]\n"
     ]
    },
    {
     "name": "stdout",
     "output_type": "stream",
     "text": [
      "2023-06-04 00:31:38.502902 Epoch 1, Train loss 0.752, Val loss 0.671, Acc_val = 0.60\n"
     ]
    },
    {
     "name": "stderr",
     "output_type": "stream",
     "text": [
      "Epoch 2: 100%|██████████| 125/125 [00:10<00:00, 11.59it/s]\n"
     ]
    },
    {
     "name": "stdout",
     "output_type": "stream",
     "text": [
      "2023-06-04 00:31:49.783295 Epoch 2, Train loss 0.707, Val loss 0.681, Acc_val = 0.59\n"
     ]
    },
    {
     "name": "stderr",
     "output_type": "stream",
     "text": [
      "Epoch 3: 100%|██████████| 125/125 [00:10<00:00, 12.13it/s]\n"
     ]
    },
    {
     "name": "stdout",
     "output_type": "stream",
     "text": [
      "2023-06-04 00:32:00.673811 Epoch 3, Train loss 0.676, Val loss 0.682, Acc_val = 0.64\n"
     ]
    },
    {
     "name": "stderr",
     "output_type": "stream",
     "text": [
      "Epoch 4: 100%|██████████| 125/125 [00:10<00:00, 12.34it/s]\n"
     ]
    },
    {
     "name": "stdout",
     "output_type": "stream",
     "text": [
      "2023-06-04 00:32:11.351396 Epoch 4, Train loss 0.651, Val loss 0.690, Acc_val = 0.67\n"
     ]
    },
    {
     "name": "stderr",
     "output_type": "stream",
     "text": [
      "Epoch 5: 100%|██████████| 125/125 [00:10<00:00, 12.45it/s]\n"
     ]
    },
    {
     "name": "stdout",
     "output_type": "stream",
     "text": [
      "2023-06-04 00:32:21.868032 Epoch 5, Train loss 0.630, Val loss 0.676, Acc_val = 0.69\n"
     ]
    },
    {
     "name": "stderr",
     "output_type": "stream",
     "text": [
      "Epoch 6: 100%|██████████| 125/125 [00:10<00:00, 11.99it/s]\n"
     ]
    },
    {
     "name": "stdout",
     "output_type": "stream",
     "text": [
      "2023-06-04 00:32:32.794538 Epoch 6, Train loss 0.614, Val loss 0.666, Acc_val = 0.69\n"
     ]
    },
    {
     "name": "stderr",
     "output_type": "stream",
     "text": [
      "Epoch 7: 100%|██████████| 125/125 [00:10<00:00, 12.32it/s]\n"
     ]
    },
    {
     "name": "stdout",
     "output_type": "stream",
     "text": [
      "2023-06-04 00:32:43.424138 Epoch 7, Train loss 0.594, Val loss 0.662, Acc_val = 0.69\n"
     ]
    },
    {
     "name": "stderr",
     "output_type": "stream",
     "text": [
      "Epoch 8: 100%|██████████| 125/125 [00:10<00:00, 12.20it/s]\n"
     ]
    },
    {
     "name": "stdout",
     "output_type": "stream",
     "text": [
      "2023-06-04 00:32:54.149707 Epoch 8, Train loss 0.578, Val loss 0.644, Acc_val = 0.68\n"
     ]
    },
    {
     "name": "stderr",
     "output_type": "stream",
     "text": [
      "Epoch 9: 100%|██████████| 125/125 [00:10<00:00, 12.24it/s]\n"
     ]
    },
    {
     "name": "stdout",
     "output_type": "stream",
     "text": [
      "2023-06-04 00:33:04.859282 Epoch 9, Train loss 0.562, Val loss 0.637, Acc_val = 0.67\n"
     ]
    },
    {
     "name": "stderr",
     "output_type": "stream",
     "text": [
      "Epoch 10: 100%|██████████| 125/125 [00:10<00:00, 12.24it/s]\n"
     ]
    },
    {
     "name": "stdout",
     "output_type": "stream",
     "text": [
      "2023-06-04 00:33:15.571855 Epoch 10, Train loss 0.545, Val loss 0.618, Acc_val = 0.65\n"
     ]
    },
    {
     "name": "stderr",
     "output_type": "stream",
     "text": [
      "Epoch 11: 100%|██████████| 125/125 [00:10<00:00, 12.30it/s]\n"
     ]
    },
    {
     "name": "stdout",
     "output_type": "stream",
     "text": [
      "2023-06-04 00:33:26.242442 Epoch 11, Train loss 0.530, Val loss 0.625, Acc_val = 0.65\n"
     ]
    },
    {
     "name": "stderr",
     "output_type": "stream",
     "text": [
      "Epoch 12: 100%|██████████| 125/125 [00:10<00:00, 12.23it/s]\n"
     ]
    },
    {
     "name": "stdout",
     "output_type": "stream",
     "text": [
      "2023-06-04 00:33:36.979008 Epoch 12, Train loss 0.516, Val loss 0.592, Acc_val = 0.62\n"
     ]
    },
    {
     "name": "stderr",
     "output_type": "stream",
     "text": [
      "Epoch 13: 100%|██████████| 125/125 [00:10<00:00, 12.32it/s]\n"
     ]
    },
    {
     "name": "stdout",
     "output_type": "stream",
     "text": [
      "2023-06-04 00:33:47.615607 Epoch 13, Train loss 0.501, Val loss 0.601, Acc_val = 0.63\n"
     ]
    },
    {
     "name": "stderr",
     "output_type": "stream",
     "text": [
      "Epoch 14: 100%|██████████| 125/125 [00:10<00:00, 12.27it/s]\n"
     ]
    },
    {
     "name": "stdout",
     "output_type": "stream",
     "text": [
      "2023-06-04 00:33:58.282195 Epoch 14, Train loss 0.488, Val loss 0.578, Acc_val = 0.61\n"
     ]
    },
    {
     "name": "stderr",
     "output_type": "stream",
     "text": [
      "Epoch 15: 100%|██████████| 125/125 [00:10<00:00, 12.35it/s]\n"
     ]
    },
    {
     "name": "stdout",
     "output_type": "stream",
     "text": [
      "2023-06-04 00:34:08.894800 Epoch 15, Train loss 0.474, Val loss 0.575, Acc_val = 0.61\n"
     ]
    },
    {
     "name": "stderr",
     "output_type": "stream",
     "text": [
      "Epoch 16: 100%|██████████| 125/125 [00:10<00:00, 12.20it/s]\n"
     ]
    },
    {
     "name": "stdout",
     "output_type": "stream",
     "text": [
      "2023-06-04 00:34:19.630367 Epoch 16, Train loss 0.463, Val loss 0.572, Acc_val = 0.58\n"
     ]
    },
    {
     "name": "stderr",
     "output_type": "stream",
     "text": [
      "Epoch 17: 100%|██████████| 125/125 [00:10<00:00, 12.33it/s]\n"
     ]
    },
    {
     "name": "stdout",
     "output_type": "stream",
     "text": [
      "2023-06-04 00:34:30.244971 Epoch 17, Train loss 0.454, Val loss 0.564, Acc_val = 0.57\n"
     ]
    },
    {
     "name": "stderr",
     "output_type": "stream",
     "text": [
      "Epoch 18: 100%|██████████| 125/125 [00:10<00:00, 12.26it/s]\n"
     ]
    },
    {
     "name": "stdout",
     "output_type": "stream",
     "text": [
      "2023-06-04 00:34:40.924555 Epoch 18, Train loss 0.444, Val loss 0.556, Acc_val = 0.57\n"
     ]
    },
    {
     "name": "stderr",
     "output_type": "stream",
     "text": [
      "Epoch 19: 100%|██████████| 125/125 [00:10<00:00, 12.36it/s]\n"
     ]
    },
    {
     "name": "stdout",
     "output_type": "stream",
     "text": [
      "2023-06-04 00:34:51.510170 Epoch 19, Train loss 0.437, Val loss 0.563, Acc_val = 0.56\n"
     ]
    },
    {
     "name": "stderr",
     "output_type": "stream",
     "text": [
      "Epoch 20: 100%|██████████| 125/125 [00:10<00:00, 12.26it/s]\n"
     ]
    },
    {
     "name": "stdout",
     "output_type": "stream",
     "text": [
      "2023-06-04 00:35:02.191753 Epoch 20, Train loss 0.428, Val loss 0.537, Acc_val = 0.57\n"
     ]
    },
    {
     "name": "stderr",
     "output_type": "stream",
     "text": [
      "Epoch 21: 100%|██████████| 125/125 [00:10<00:00, 12.31it/s]\n"
     ]
    },
    {
     "name": "stdout",
     "output_type": "stream",
     "text": [
      "2023-06-04 00:35:12.850345 Epoch 21, Train loss 0.421, Val loss 0.544, Acc_val = 0.56\n"
     ]
    },
    {
     "name": "stderr",
     "output_type": "stream",
     "text": [
      "Epoch 22: 100%|██████████| 125/125 [00:10<00:00, 12.33it/s]\n"
     ]
    },
    {
     "name": "stdout",
     "output_type": "stream",
     "text": [
      "2023-06-04 00:35:23.475945 Epoch 22, Train loss 0.414, Val loss 0.549, Acc_val = 0.57\n"
     ]
    },
    {
     "name": "stderr",
     "output_type": "stream",
     "text": [
      "Epoch 23: 100%|██████████| 125/125 [00:10<00:00, 12.32it/s]\n"
     ]
    },
    {
     "name": "stdout",
     "output_type": "stream",
     "text": [
      "2023-06-04 00:35:34.122540 Epoch 23, Train loss 0.409, Val loss 0.530, Acc_val = 0.57\n"
     ]
    },
    {
     "name": "stderr",
     "output_type": "stream",
     "text": [
      "Epoch 24: 100%|██████████| 125/125 [00:10<00:00, 12.20it/s]\n"
     ]
    },
    {
     "name": "stdout",
     "output_type": "stream",
     "text": [
      "2023-06-04 00:35:44.864104 Epoch 24, Train loss 0.403, Val loss 0.514, Acc_val = 0.59\n"
     ]
    },
    {
     "name": "stderr",
     "output_type": "stream",
     "text": [
      "Epoch 25: 100%|██████████| 125/125 [00:10<00:00, 12.35it/s]\n"
     ]
    },
    {
     "name": "stdout",
     "output_type": "stream",
     "text": [
      "2023-06-04 00:35:55.467713 Epoch 25, Train loss 0.399, Val loss 0.525, Acc_val = 0.59\n"
     ]
    },
    {
     "name": "stderr",
     "output_type": "stream",
     "text": [
      "Epoch 26: 100%|██████████| 125/125 [00:10<00:00, 12.26it/s]\n"
     ]
    },
    {
     "name": "stdout",
     "output_type": "stream",
     "text": [
      "2023-06-04 00:36:06.164292 Epoch 26, Train loss 0.394, Val loss 0.517, Acc_val = 0.60\n"
     ]
    },
    {
     "name": "stderr",
     "output_type": "stream",
     "text": [
      "Epoch 27: 100%|██████████| 125/125 [00:10<00:00, 12.07it/s]\n"
     ]
    },
    {
     "name": "stdout",
     "output_type": "stream",
     "text": [
      "2023-06-04 00:36:17.010823 Epoch 27, Train loss 0.390, Val loss 0.516, Acc_val = 0.60\n"
     ]
    },
    {
     "name": "stderr",
     "output_type": "stream",
     "text": [
      "Epoch 28: 100%|██████████| 125/125 [00:10<00:00, 12.26it/s]\n"
     ]
    },
    {
     "name": "stdout",
     "output_type": "stream",
     "text": [
      "2023-06-04 00:36:27.690406 Epoch 28, Train loss 0.387, Val loss 0.517, Acc_val = 0.61\n"
     ]
    },
    {
     "name": "stderr",
     "output_type": "stream",
     "text": [
      "Epoch 29: 100%|██████████| 125/125 [00:10<00:00, 12.35it/s]\n"
     ]
    },
    {
     "name": "stdout",
     "output_type": "stream",
     "text": [
      "2023-06-04 00:36:38.291016 Epoch 29, Train loss 0.382, Val loss 0.503, Acc_val = 0.59\n"
     ]
    },
    {
     "name": "stderr",
     "output_type": "stream",
     "text": [
      "Epoch 30: 100%|██████████| 125/125 [00:10<00:00, 12.33it/s]\n"
     ]
    },
    {
     "name": "stdout",
     "output_type": "stream",
     "text": [
      "2023-06-04 00:36:48.918617 Epoch 30, Train loss 0.380, Val loss 0.498, Acc_val = 0.60\n"
     ]
    },
    {
     "name": "stderr",
     "output_type": "stream",
     "text": [
      "Epoch 31: 100%|██████████| 125/125 [00:10<00:00, 12.40it/s]\n"
     ]
    },
    {
     "name": "stdout",
     "output_type": "stream",
     "text": [
      "2023-06-04 00:36:59.484237 Epoch 31, Train loss 0.376, Val loss 0.516, Acc_val = 0.63\n"
     ]
    },
    {
     "name": "stderr",
     "output_type": "stream",
     "text": [
      "Epoch 32: 100%|██████████| 125/125 [00:10<00:00, 12.33it/s]\n"
     ]
    },
    {
     "name": "stdout",
     "output_type": "stream",
     "text": [
      "2023-06-04 00:37:10.102841 Epoch 32, Train loss 0.374, Val loss 0.504, Acc_val = 0.63\n"
     ]
    },
    {
     "name": "stderr",
     "output_type": "stream",
     "text": [
      "Epoch 33: 100%|██████████| 125/125 [00:10<00:00, 12.48it/s]\n"
     ]
    },
    {
     "name": "stdout",
     "output_type": "stream",
     "text": [
      "2023-06-04 00:37:20.610480 Epoch 33, Train loss 0.371, Val loss 0.505, Acc_val = 0.64\n"
     ]
    },
    {
     "name": "stderr",
     "output_type": "stream",
     "text": [
      "Epoch 34: 100%|██████████| 125/125 [00:10<00:00, 12.26it/s]\n"
     ]
    },
    {
     "name": "stdout",
     "output_type": "stream",
     "text": [
      "2023-06-04 00:37:31.291064 Epoch 34, Train loss 0.368, Val loss 0.498, Acc_val = 0.64\n"
     ]
    },
    {
     "name": "stderr",
     "output_type": "stream",
     "text": [
      "Epoch 35: 100%|██████████| 125/125 [00:10<00:00, 12.36it/s]\n"
     ]
    },
    {
     "name": "stdout",
     "output_type": "stream",
     "text": [
      "2023-06-04 00:37:41.881677 Epoch 35, Train loss 0.366, Val loss 0.499, Acc_val = 0.65\n"
     ]
    },
    {
     "data": {
      "image/png": "[encoded data removed]",
      "text/plain": [
       "<Figure size 600x250 with 1 Axes>"
      ]
     },
     "metadata": {},
     "output_type": "display_data"
    },
    {
     "name": "stdout",
     "output_type": "stream",
     "text": [
      "Acc =  0.7005762966675019\n"
     ]
    },
    {
     "name": "stderr",
     "output_type": "stream",
     "text": [
      "Epoch 1: 100%|██████████| 132/132 [00:10<00:00, 12.38it/s]\n"
     ]
    },
    {
     "name": "stdout",
     "output_type": "stream",
     "text": [
      "2023-06-04 00:38:02.456096 Epoch 1, Train loss 0.736, Val loss 0.843, Acc_val = 0.17\n"
     ]
    },
    {
     "name": "stderr",
     "output_type": "stream",
     "text": [
      "Epoch 2: 100%|██████████| 132/132 [00:10<00:00, 12.27it/s]\n"
     ]
    },
    {
     "name": "stdout",
     "output_type": "stream",
     "text": [
      "2023-06-04 00:38:13.481571 Epoch 2, Train loss 0.689, Val loss 0.814, Acc_val = 0.30\n"
     ]
    },
    {
     "name": "stderr",
     "output_type": "stream",
     "text": [
      "Epoch 3: 100%|██████████| 132/132 [00:11<00:00, 11.05it/s]\n"
     ]
    },
    {
     "name": "stdout",
     "output_type": "stream",
     "text": [
      "2023-06-04 00:38:25.683667 Epoch 3, Train loss 0.659, Val loss 0.814, Acc_val = 0.29\n"
     ]
    },
    {
     "name": "stderr",
     "output_type": "stream",
     "text": [
      "Epoch 4: 100%|██████████| 132/132 [00:14<00:00,  9.29it/s]\n"
     ]
    },
    {
     "name": "stdout",
     "output_type": "stream",
     "text": [
      "2023-06-04 00:38:40.152039 Epoch 4, Train loss 0.641, Val loss 0.808, Acc_val = 0.31\n"
     ]
    },
    {
     "name": "stderr",
     "output_type": "stream",
     "text": [
      "Epoch 5: 100%|██████████| 132/132 [00:19<00:00,  6.91it/s]\n"
     ]
    },
    {
     "name": "stdout",
     "output_type": "stream",
     "text": [
      "2023-06-04 00:38:59.591821 Epoch 5, Train loss 0.623, Val loss 0.797, Acc_val = 0.34\n"
     ]
    },
    {
     "name": "stderr",
     "output_type": "stream",
     "text": [
      "Epoch 6: 100%|██████████| 132/132 [00:11<00:00, 11.22it/s]\n"
     ]
    },
    {
     "name": "stdout",
     "output_type": "stream",
     "text": [
      "2023-06-04 00:39:11.616975 Epoch 6, Train loss 0.608, Val loss 0.787, Acc_val = 0.38\n"
     ]
    },
    {
     "name": "stderr",
     "output_type": "stream",
     "text": [
      "Epoch 7: 100%|██████████| 132/132 [00:10<00:00, 12.41it/s]\n"
     ]
    },
    {
     "name": "stdout",
     "output_type": "stream",
     "text": [
      "2023-06-04 00:39:22.522487 Epoch 7, Train loss 0.597, Val loss 0.763, Acc_val = 0.39\n"
     ]
    },
    {
     "name": "stderr",
     "output_type": "stream",
     "text": [
      "Epoch 8: 100%|██████████| 132/132 [00:10<00:00, 12.36it/s]\n"
     ]
    },
    {
     "name": "stdout",
     "output_type": "stream",
     "text": [
      "2023-06-04 00:39:33.456989 Epoch 8, Train loss 0.583, Val loss 0.738, Acc_val = 0.39\n"
     ]
    },
    {
     "name": "stderr",
     "output_type": "stream",
     "text": [
      "Epoch 9: 100%|██████████| 132/132 [00:10<00:00, 12.44it/s]\n"
     ]
    },
    {
     "name": "stdout",
     "output_type": "stream",
     "text": [
      "2023-06-04 00:39:44.327512 Epoch 9, Train loss 0.573, Val loss 0.726, Acc_val = 0.46\n"
     ]
    },
    {
     "name": "stderr",
     "output_type": "stream",
     "text": [
      "Epoch 10: 100%|██████████| 132/132 [00:10<00:00, 12.31it/s]\n"
     ]
    },
    {
     "name": "stdout",
     "output_type": "stream",
     "text": [
      "2023-06-04 00:39:55.322995 Epoch 10, Train loss 0.561, Val loss 0.717, Acc_val = 0.51\n"
     ]
    },
    {
     "name": "stderr",
     "output_type": "stream",
     "text": [
      "Epoch 11: 100%|██████████| 132/132 [00:10<00:00, 12.42it/s]\n"
     ]
    },
    {
     "name": "stdout",
     "output_type": "stream",
     "text": [
      "2023-06-04 00:40:06.209514 Epoch 11, Train loss 0.553, Val loss 0.698, Acc_val = 0.54\n"
     ]
    },
    {
     "name": "stderr",
     "output_type": "stream",
     "text": [
      "Epoch 12: 100%|██████████| 132/132 [00:10<00:00, 12.28it/s]\n"
     ]
    },
    {
     "name": "stdout",
     "output_type": "stream",
     "text": [
      "2023-06-04 00:40:17.230988 Epoch 12, Train loss 0.543, Val loss 0.681, Acc_val = 0.57\n"
     ]
    },
    {
     "name": "stderr",
     "output_type": "stream",
     "text": [
      "Epoch 13: 100%|██████████| 132/132 [00:10<00:00, 12.29it/s]\n"
     ]
    },
    {
     "name": "stdout",
     "output_type": "stream",
     "text": [
      "2023-06-04 00:40:28.225472 Epoch 13, Train loss 0.534, Val loss 0.675, Acc_val = 0.60\n"
     ]
    },
    {
     "name": "stderr",
     "output_type": "stream",
     "text": [
      "Epoch 14: 100%|██████████| 132/132 [00:11<00:00, 11.94it/s]\n"
     ]
    },
    {
     "name": "stdout",
     "output_type": "stream",
     "text": [
      "2023-06-04 00:40:39.548851 Epoch 14, Train loss 0.525, Val loss 0.664, Acc_val = 0.63\n"
     ]
    },
    {
     "name": "stderr",
     "output_type": "stream",
     "text": [
      "Epoch 15: 100%|██████████| 132/132 [00:10<00:00, 12.30it/s]\n"
     ]
    },
    {
     "name": "stdout",
     "output_type": "stream",
     "text": [
      "2023-06-04 00:40:50.544334 Epoch 15, Train loss 0.518, Val loss 0.653, Acc_val = 0.66\n"
     ]
    },
    {
     "name": "stderr",
     "output_type": "stream",
     "text": [
      "Epoch 16: 100%|██████████| 132/132 [00:10<00:00, 12.36it/s]\n"
     ]
    },
    {
     "name": "stdout",
     "output_type": "stream",
     "text": [
      "2023-06-04 00:41:01.475837 Epoch 16, Train loss 0.508, Val loss 0.622, Acc_val = 0.66\n"
     ]
    },
    {
     "name": "stderr",
     "output_type": "stream",
     "text": [
      "Epoch 17: 100%|██████████| 132/132 [00:10<00:00, 12.43it/s]\n"
     ]
    },
    {
     "name": "stdout",
     "output_type": "stream",
     "text": [
      "2023-06-04 00:41:12.359356 Epoch 17, Train loss 0.504, Val loss 0.630, Acc_val = 0.69\n"
     ]
    },
    {
     "name": "stderr",
     "output_type": "stream",
     "text": [
      "Epoch 18: 100%|██████████| 132/132 [00:10<00:00, 12.43it/s]\n"
     ]
    },
    {
     "name": "stdout",
     "output_type": "stream",
     "text": [
      "2023-06-04 00:41:23.240875 Epoch 18, Train loss 0.496, Val loss 0.612, Acc_val = 0.73\n"
     ]
    },
    {
     "name": "stderr",
     "output_type": "stream",
     "text": [
      "Epoch 19: 100%|██████████| 132/132 [00:10<00:00, 12.17it/s]\n"
     ]
    },
    {
     "name": "stdout",
     "output_type": "stream",
     "text": [
      "2023-06-04 00:41:34.355321 Epoch 19, Train loss 0.487, Val loss 0.614, Acc_val = 0.71\n"
     ]
    },
    {
     "name": "stderr",
     "output_type": "stream",
     "text": [
      "Epoch 20: 100%|██████████| 132/132 [00:10<00:00, 12.43it/s]\n"
     ]
    },
    {
     "name": "stdout",
     "output_type": "stream",
     "text": [
      "2023-06-04 00:41:45.231841 Epoch 20, Train loss 0.484, Val loss 0.608, Acc_val = 0.72\n"
     ]
    },
    {
     "name": "stderr",
     "output_type": "stream",
     "text": [
      "Epoch 21: 100%|██████████| 132/132 [00:11<00:00, 11.23it/s]\n"
     ]
    },
    {
     "name": "stdout",
     "output_type": "stream",
     "text": [
      "2023-06-04 00:41:57.254996 Epoch 21, Train loss 0.476, Val loss 0.611, Acc_val = 0.68\n"
     ]
    },
    {
     "name": "stderr",
     "output_type": "stream",
     "text": [
      "Epoch 22: 100%|██████████| 132/132 [00:10<00:00, 12.40it/s]\n"
     ]
    },
    {
     "name": "stdout",
     "output_type": "stream",
     "text": [
      "2023-06-04 00:42:08.155509 Epoch 22, Train loss 0.470, Val loss 0.603, Acc_val = 0.69\n"
     ]
    },
    {
     "name": "stderr",
     "output_type": "stream",
     "text": [
      "Epoch 23: 100%|██████████| 132/132 [00:10<00:00, 12.48it/s]\n"
     ]
    },
    {
     "name": "stdout",
     "output_type": "stream",
     "text": [
      "2023-06-04 00:42:18.987045 Epoch 23, Train loss 0.464, Val loss 0.600, Acc_val = 0.69\n"
     ]
    },
    {
     "name": "stderr",
     "output_type": "stream",
     "text": [
      "Epoch 24: 100%|██████████| 132/132 [00:10<00:00, 12.68it/s]\n"
     ]
    },
    {
     "name": "stdout",
     "output_type": "stream",
     "text": [
      "2023-06-04 00:42:29.648635 Epoch 24, Train loss 0.458, Val loss 0.602, Acc_val = 0.66\n"
     ]
    },
    {
     "name": "stderr",
     "output_type": "stream",
     "text": [
      "Epoch 25: 100%|██████████| 132/132 [00:10<00:00, 12.63it/s]\n"
     ]
    },
    {
     "name": "stdout",
     "output_type": "stream",
     "text": [
      "2023-06-04 00:42:40.360209 Epoch 25, Train loss 0.450, Val loss 0.598, Acc_val = 0.67\n"
     ]
    },
    {
     "name": "stderr",
     "output_type": "stream",
     "text": [
      "Epoch 26: 100%|██████████| 132/132 [00:10<00:00, 12.67it/s]\n"
     ]
    },
    {
     "name": "stdout",
     "output_type": "stream",
     "text": [
      "2023-06-04 00:42:51.101774 Epoch 26, Train loss 0.446, Val loss 0.569, Acc_val = 0.80\n"
     ]
    },
    {
     "name": "stderr",
     "output_type": "stream",
     "text": [
      "Epoch 27: 100%|██████████| 132/132 [00:10<00:00, 12.67it/s]\n"
     ]
    },
    {
     "name": "stdout",
     "output_type": "stream",
     "text": [
      "2023-06-04 00:43:01.775360 Epoch 27, Train loss 0.440, Val loss 0.574, Acc_val = 0.76\n"
     ]
    },
    {
     "name": "stderr",
     "output_type": "stream",
     "text": [
      "Epoch 28: 100%|██████████| 132/132 [00:10<00:00, 12.58it/s]\n"
     ]
    },
    {
     "name": "stdout",
     "output_type": "stream",
     "text": [
      "2023-06-04 00:43:12.526920 Epoch 28, Train loss 0.433, Val loss 0.565, Acc_val = 0.79\n"
     ]
    },
    {
     "name": "stderr",
     "output_type": "stream",
     "text": [
      "Epoch 29: 100%|██████████| 132/132 [00:10<00:00, 12.73it/s]\n"
     ]
    },
    {
     "name": "stdout",
     "output_type": "stream",
     "text": [
      "2023-06-04 00:43:23.153521 Epoch 29, Train loss 0.432, Val loss 0.582, Acc_val = 0.69\n"
     ]
    },
    {
     "name": "stderr",
     "output_type": "stream",
     "text": [
      "Epoch 30: 100%|██████████| 132/132 [00:10<00:00, 12.62it/s]\n"
     ]
    },
    {
     "name": "stdout",
     "output_type": "stream",
     "text": [
      "2023-06-04 00:43:33.862096 Epoch 30, Train loss 0.423, Val loss 0.590, Acc_val = 0.64\n"
     ]
    },
    {
     "name": "stderr",
     "output_type": "stream",
     "text": [
      "Epoch 31: 100%|██████████| 132/132 [00:10<00:00, 12.70it/s]\n"
     ]
    },
    {
     "name": "stdout",
     "output_type": "stream",
     "text": [
      "2023-06-04 00:43:44.512690 Epoch 31, Train loss 0.419, Val loss 0.569, Acc_val = 0.76\n"
     ]
    },
    {
     "name": "stderr",
     "output_type": "stream",
     "text": [
      "Epoch 32: 100%|██████████| 132/132 [00:10<00:00, 12.57it/s]\n"
     ]
    },
    {
     "name": "stdout",
     "output_type": "stream",
     "text": [
      "2023-06-04 00:43:55.275248 Epoch 32, Train loss 0.412, Val loss 0.569, Acc_val = 0.75\n"
     ]
    },
    {
     "name": "stderr",
     "output_type": "stream",
     "text": [
      "Epoch 33: 100%|██████████| 132/132 [00:10<00:00, 12.70it/s]\n"
     ]
    },
    {
     "name": "stdout",
     "output_type": "stream",
     "text": [
      "2023-06-04 00:44:05.915844 Epoch 33, Train loss 0.408, Val loss 0.590, Acc_val = 0.60\n"
     ]
    },
    {
     "name": "stderr",
     "output_type": "stream",
     "text": [
      "Epoch 34: 100%|██████████| 132/132 [00:10<00:00, 12.68it/s]\n"
     ]
    },
    {
     "name": "stdout",
     "output_type": "stream",
     "text": [
      "2023-06-04 00:44:16.582432 Epoch 34, Train loss 0.402, Val loss 0.580, Acc_val = 0.67\n"
     ]
    },
    {
     "name": "stderr",
     "output_type": "stream",
     "text": [
      "Epoch 35: 100%|██████████| 132/132 [00:10<00:00, 12.68it/s]\n"
     ]
    },
    {
     "name": "stdout",
     "output_type": "stream",
     "text": [
      "2023-06-04 00:44:27.250020 Epoch 35, Train loss 0.397, Val loss 0.593, Acc_val = 0.54\n"
     ]
    },
    {
     "data": {
      "image/png": "[encoded data removed]",
      "text/plain": [
       "<Figure size 600x250 with 1 Axes>"
      ]
     },
     "metadata": {},
     "output_type": "display_data"
    },
    {
     "name": "stdout",
     "output_type": "stream",
     "text": [
      "Acc =  0.8222642401323564\n"
     ]
    },
    {
     "name": "stderr",
     "output_type": "stream",
     "text": [
      "Epoch 1: 100%|██████████| 127/127 [00:10<00:00, 12.50it/s]\n"
     ]
    },
    {
     "name": "stdout",
     "output_type": "stream",
     "text": [
      "2023-06-04 00:44:47.937403 Epoch 1, Train loss 0.727, Val loss 0.766, Acc_val = 0.40\n"
     ]
    },
    {
     "name": "stderr",
     "output_type": "stream",
     "text": [
      "Epoch 2: 100%|██████████| 127/127 [00:10<00:00, 12.51it/s]\n"
     ]
    },
    {
     "name": "stdout",
     "output_type": "stream",
     "text": [
      "2023-06-04 00:44:58.422050 Epoch 2, Train loss 0.676, Val loss 0.747, Acc_val = 0.43\n"
     ]
    },
    {
     "name": "stderr",
     "output_type": "stream",
     "text": [
      "Epoch 3: 100%|██████████| 127/127 [00:10<00:00, 12.62it/s]\n"
     ]
    },
    {
     "name": "stdout",
     "output_type": "stream",
     "text": [
      "2023-06-04 00:45:08.825722 Epoch 3, Train loss 0.644, Val loss 0.728, Acc_val = 0.49\n"
     ]
    },
    {
     "name": "stderr",
     "output_type": "stream",
     "text": [
      "Epoch 4: 100%|██████████| 127/127 [00:11<00:00, 11.21it/s]\n"
     ]
    },
    {
     "name": "stdout",
     "output_type": "stream",
     "text": [
      "2023-06-04 00:45:20.501987 Epoch 4, Train loss 0.618, Val loss 0.727, Acc_val = 0.53\n"
     ]
    },
    {
     "name": "stderr",
     "output_type": "stream",
     "text": [
      "Epoch 5: 100%|██████████| 127/127 [00:11<00:00, 11.00it/s]\n"
     ]
    },
    {
     "name": "stdout",
     "output_type": "stream",
     "text": [
      "2023-06-04 00:45:32.403181 Epoch 5, Train loss 0.590, Val loss 0.721, Acc_val = 0.59\n"
     ]
    },
    {
     "name": "stderr",
     "output_type": "stream",
     "text": [
      "Epoch 6: 100%|██████████| 127/127 [00:11<00:00, 11.19it/s]\n"
     ]
    },
    {
     "name": "stdout",
     "output_type": "stream",
     "text": [
      "2023-06-04 00:45:44.242395 Epoch 6, Train loss 0.567, Val loss 0.731, Acc_val = 0.61\n"
     ]
    },
    {
     "name": "stderr",
     "output_type": "stream",
     "text": [
      "Epoch 7: 100%|██████████| 127/127 [00:10<00:00, 12.32it/s]\n"
     ]
    },
    {
     "name": "stdout",
     "output_type": "stream",
     "text": [
      "2023-06-04 00:45:54.939973 Epoch 7, Train loss 0.544, Val loss 0.727, Acc_val = 0.63\n"
     ]
    },
    {
     "name": "stderr",
     "output_type": "stream",
     "text": [
      "Epoch 8: 100%|██████████| 127/127 [00:10<00:00, 12.07it/s]\n"
     ]
    },
    {
     "name": "stdout",
     "output_type": "stream",
     "text": [
      "2023-06-04 00:46:05.800499 Epoch 8, Train loss 0.525, Val loss 0.728, Acc_val = 0.65\n"
     ]
    },
    {
     "name": "stderr",
     "output_type": "stream",
     "text": [
      "Epoch 9: 100%|██████████| 127/127 [00:10<00:00, 12.13it/s]\n"
     ]
    },
    {
     "name": "stdout",
     "output_type": "stream",
     "text": [
      "2023-06-04 00:46:16.610042 Epoch 9, Train loss 0.511, Val loss 0.730, Acc_val = 0.67\n"
     ]
    },
    {
     "name": "stderr",
     "output_type": "stream",
     "text": [
      "Epoch 10: 100%|██████████| 127/127 [00:10<00:00, 12.35it/s]\n"
     ]
    },
    {
     "name": "stdout",
     "output_type": "stream",
     "text": [
      "2023-06-04 00:46:27.240642 Epoch 10, Train loss 0.495, Val loss 0.721, Acc_val = 0.65\n"
     ]
    },
    {
     "name": "stderr",
     "output_type": "stream",
     "text": [
      "Epoch 11: 100%|██████████| 127/127 [00:10<00:00, 12.14it/s]\n"
     ]
    },
    {
     "name": "stdout",
     "output_type": "stream",
     "text": [
      "2023-06-04 00:46:38.054183 Epoch 11, Train loss 0.483, Val loss 0.721, Acc_val = 0.67\n"
     ]
    },
    {
     "name": "stderr",
     "output_type": "stream",
     "text": [
      "Epoch 12: 100%|██████████| 127/127 [00:10<00:00, 12.40it/s]\n"
     ]
    },
    {
     "name": "stdout",
     "output_type": "stream",
     "text": [
      "2023-06-04 00:46:48.653792 Epoch 12, Train loss 0.471, Val loss 0.718, Acc_val = 0.68\n"
     ]
    },
    {
     "name": "stderr",
     "output_type": "stream",
     "text": [
      "Epoch 13: 100%|██████████| 127/127 [00:10<00:00, 12.06it/s]\n"
     ]
    },
    {
     "name": "stdout",
     "output_type": "stream",
     "text": [
      "2023-06-04 00:46:59.530314 Epoch 13, Train loss 0.460, Val loss 0.706, Acc_val = 0.67\n"
     ]
    },
    {
     "name": "stderr",
     "output_type": "stream",
     "text": [
      "Epoch 14: 100%|██████████| 127/127 [00:11<00:00, 11.18it/s]\n"
     ]
    },
    {
     "name": "stdout",
     "output_type": "stream",
     "text": [
      "2023-06-04 00:47:11.240568 Epoch 14, Train loss 0.450, Val loss 0.700, Acc_val = 0.67\n"
     ]
    },
    {
     "name": "stderr",
     "output_type": "stream",
     "text": [
      "Epoch 15: 100%|██████████| 127/127 [00:10<00:00, 11.77it/s]\n"
     ]
    },
    {
     "name": "stdout",
     "output_type": "stream",
     "text": [
      "2023-06-04 00:47:22.394000 Epoch 15, Train loss 0.443, Val loss 0.690, Acc_val = 0.67\n"
     ]
    },
    {
     "name": "stderr",
     "output_type": "stream",
     "text": [
      "Epoch 16: 100%|██████████| 127/127 [00:10<00:00, 12.37it/s]\n"
     ]
    },
    {
     "name": "stdout",
     "output_type": "stream",
     "text": [
      "2023-06-04 00:47:33.008605 Epoch 16, Train loss 0.433, Val loss 0.685, Acc_val = 0.68\n"
     ]
    },
    {
     "name": "stderr",
     "output_type": "stream",
     "text": [
      "Epoch 17: 100%|██████████| 127/127 [00:10<00:00, 12.25it/s]\n"
     ]
    },
    {
     "name": "stdout",
     "output_type": "stream",
     "text": [
      "2023-06-04 00:47:43.725178 Epoch 17, Train loss 0.427, Val loss 0.686, Acc_val = 0.70\n"
     ]
    },
    {
     "name": "stderr",
     "output_type": "stream",
     "text": [
      "Epoch 18: 100%|██████████| 127/127 [00:10<00:00, 11.92it/s]\n"
     ]
    },
    {
     "name": "stdout",
     "output_type": "stream",
     "text": [
      "2023-06-04 00:47:54.718662 Epoch 18, Train loss 0.421, Val loss 0.674, Acc_val = 0.70\n"
     ]
    },
    {
     "name": "stderr",
     "output_type": "stream",
     "text": [
      "Epoch 19: 100%|██████████| 127/127 [00:10<00:00, 12.09it/s]\n"
     ]
    },
    {
     "name": "stdout",
     "output_type": "stream",
     "text": [
      "2023-06-04 00:48:05.561194 Epoch 19, Train loss 0.415, Val loss 0.666, Acc_val = 0.70\n"
     ]
    },
    {
     "name": "stderr",
     "output_type": "stream",
     "text": [
      "Epoch 20: 100%|██████████| 127/127 [00:10<00:00, 12.37it/s]\n"
     ]
    },
    {
     "name": "stdout",
     "output_type": "stream",
     "text": [
      "2023-06-04 00:48:16.162804 Epoch 20, Train loss 0.410, Val loss 0.662, Acc_val = 0.70\n"
     ]
    },
    {
     "name": "stderr",
     "output_type": "stream",
     "text": [
      "Epoch 21: 100%|██████████| 127/127 [00:09<00:00, 12.74it/s]\n"
     ]
    },
    {
     "name": "stdout",
     "output_type": "stream",
     "text": [
      "2023-06-04 00:48:26.485501 Epoch 21, Train loss 0.403, Val loss 0.654, Acc_val = 0.70\n"
     ]
    },
    {
     "name": "stderr",
     "output_type": "stream",
     "text": [
      "Epoch 22: 100%|██████████| 127/127 [00:10<00:00, 12.45it/s]\n"
     ]
    },
    {
     "name": "stdout",
     "output_type": "stream",
     "text": [
      "2023-06-04 00:48:37.018132 Epoch 22, Train loss 0.401, Val loss 0.641, Acc_val = 0.69\n"
     ]
    },
    {
     "name": "stderr",
     "output_type": "stream",
     "text": [
      "Epoch 23: 100%|██████████| 127/127 [00:10<00:00, 12.23it/s]\n"
     ]
    },
    {
     "name": "stdout",
     "output_type": "stream",
     "text": [
      "2023-06-04 00:48:47.729707 Epoch 23, Train loss 0.395, Val loss 0.635, Acc_val = 0.70\n"
     ]
    },
    {
     "name": "stderr",
     "output_type": "stream",
     "text": [
      "Epoch 24: 100%|██████████| 127/127 [00:09<00:00, 13.00it/s]\n"
     ]
    },
    {
     "name": "stdout",
     "output_type": "stream",
     "text": [
      "2023-06-04 00:48:57.821479 Epoch 24, Train loss 0.392, Val loss 0.632, Acc_val = 0.71\n"
     ]
    },
    {
     "name": "stderr",
     "output_type": "stream",
     "text": [
      "Epoch 25: 100%|██████████| 127/127 [00:09<00:00, 13.01it/s]\n"
     ]
    },
    {
     "name": "stdout",
     "output_type": "stream",
     "text": [
      "2023-06-04 00:49:07.914250 Epoch 25, Train loss 0.388, Val loss 0.627, Acc_val = 0.71\n"
     ]
    },
    {
     "name": "stderr",
     "output_type": "stream",
     "text": [
      "Epoch 26: 100%|██████████| 127/127 [00:09<00:00, 12.85it/s]\n"
     ]
    },
    {
     "name": "stdout",
     "output_type": "stream",
     "text": [
      "2023-06-04 00:49:18.120986 Epoch 26, Train loss 0.384, Val loss 0.620, Acc_val = 0.72\n"
     ]
    },
    {
     "name": "stderr",
     "output_type": "stream",
     "text": [
      "Epoch 27: 100%|██████████| 127/127 [00:10<00:00, 12.69it/s]\n"
     ]
    },
    {
     "name": "stdout",
     "output_type": "stream",
     "text": [
      "2023-06-04 00:49:28.455680 Epoch 27, Train loss 0.380, Val loss 0.618, Acc_val = 0.73\n"
     ]
    },
    {
     "name": "stderr",
     "output_type": "stream",
     "text": [
      "Epoch 28: 100%|██████████| 127/127 [00:10<00:00, 12.01it/s]\n"
     ]
    },
    {
     "name": "stdout",
     "output_type": "stream",
     "text": [
      "2023-06-04 00:49:39.379187 Epoch 28, Train loss 0.376, Val loss 0.614, Acc_val = 0.74\n"
     ]
    },
    {
     "name": "stderr",
     "output_type": "stream",
     "text": [
      "Epoch 29: 100%|██████████| 127/127 [00:10<00:00, 12.30it/s]\n"
     ]
    },
    {
     "name": "stdout",
     "output_type": "stream",
     "text": [
      "2023-06-04 00:49:50.181731 Epoch 29, Train loss 0.375, Val loss 0.606, Acc_val = 0.74\n"
     ]
    },
    {
     "name": "stderr",
     "output_type": "stream",
     "text": [
      "Epoch 30: 100%|██████████| 127/127 [00:10<00:00, 12.53it/s]\n"
     ]
    },
    {
     "name": "stdout",
     "output_type": "stream",
     "text": [
      "2023-06-04 00:50:00.664378 Epoch 30, Train loss 0.372, Val loss 0.598, Acc_val = 0.73\n"
     ]
    },
    {
     "name": "stderr",
     "output_type": "stream",
     "text": [
      "Epoch 31: 100%|██████████| 127/127 [00:10<00:00, 12.45it/s]\n"
     ]
    },
    {
     "name": "stdout",
     "output_type": "stream",
     "text": [
      "2023-06-04 00:50:11.211005 Epoch 31, Train loss 0.368, Val loss 0.596, Acc_val = 0.75\n"
     ]
    },
    {
     "name": "stderr",
     "output_type": "stream",
     "text": [
      "Epoch 32: 100%|██████████| 127/127 [00:10<00:00, 12.57it/s]\n"
     ]
    },
    {
     "name": "stdout",
     "output_type": "stream",
     "text": [
      "2023-06-04 00:50:21.662662 Epoch 32, Train loss 0.365, Val loss 0.593, Acc_val = 0.75\n"
     ]
    },
    {
     "name": "stderr",
     "output_type": "stream",
     "text": [
      "Epoch 33: 100%|██████████| 127/127 [00:10<00:00, 12.48it/s]\n"
     ]
    },
    {
     "name": "stdout",
     "output_type": "stream",
     "text": [
      "2023-06-04 00:50:32.167302 Epoch 33, Train loss 0.363, Val loss 0.586, Acc_val = 0.76\n"
     ]
    },
    {
     "name": "stderr",
     "output_type": "stream",
     "text": [
      "Epoch 34: 100%|██████████| 127/127 [00:10<00:00, 12.57it/s]\n"
     ]
    },
    {
     "name": "stdout",
     "output_type": "stream",
     "text": [
      "2023-06-04 00:50:42.608963 Epoch 34, Train loss 0.361, Val loss 0.579, Acc_val = 0.74\n"
     ]
    },
    {
     "name": "stderr",
     "output_type": "stream",
     "text": [
      "Epoch 35: 100%|██████████| 127/127 [00:10<00:00, 12.50it/s]\n"
     ]
    },
    {
     "name": "stdout",
     "output_type": "stream",
     "text": [
      "2023-06-04 00:50:53.113603 Epoch 35, Train loss 0.359, Val loss 0.578, Acc_val = 0.77\n"
     ]
    },
    {
     "data": {
      "image/png": "[encoded data removed]",
      "text/plain": [
       "<Figure size 600x250 with 1 Axes>"
      ]
     },
     "metadata": {},
     "output_type": "display_data"
    },
    {
     "name": "stdout",
     "output_type": "stream",
     "text": [
      "Acc =  0.6641344383057091\n"
     ]
    },
    {
     "name": "stderr",
     "output_type": "stream",
     "text": [
      "Epoch 1: 100%|██████████| 137/137 [00:11<00:00, 11.87it/s]\n"
     ]
    },
    {
     "name": "stdout",
     "output_type": "stream",
     "text": [
      "2023-06-04 00:51:15.674386 Epoch 1, Train loss 0.748, Val loss 0.732, Acc_val = 0.44\n"
     ]
    },
    {
     "name": "stderr",
     "output_type": "stream",
     "text": [
      "Epoch 2: 100%|██████████| 137/137 [00:11<00:00, 11.97it/s]\n"
     ]
    },
    {
     "name": "stdout",
     "output_type": "stream",
     "text": [
      "2023-06-04 00:51:27.428630 Epoch 2, Train loss 0.698, Val loss 0.697, Acc_val = 0.54\n"
     ]
    },
    {
     "name": "stderr",
     "output_type": "stream",
     "text": [
      "Epoch 3: 100%|██████████| 137/137 [00:11<00:00, 11.97it/s]\n"
     ]
    },
    {
     "name": "stdout",
     "output_type": "stream",
     "text": [
      "2023-06-04 00:51:39.198864 Epoch 3, Train loss 0.665, Val loss 0.663, Acc_val = 0.62\n"
     ]
    },
    {
     "name": "stderr",
     "output_type": "stream",
     "text": [
      "Epoch 4: 100%|██████████| 137/137 [00:11<00:00, 11.92it/s]\n"
     ]
    },
    {
     "name": "stdout",
     "output_type": "stream",
     "text": [
      "2023-06-04 00:51:50.985092 Epoch 4, Train loss 0.640, Val loss 0.642, Acc_val = 0.67\n"
     ]
    },
    {
     "name": "stderr",
     "output_type": "stream",
     "text": [
      "Epoch 5: 100%|██████████| 137/137 [00:11<00:00, 11.47it/s]\n"
     ]
    },
    {
     "name": "stdout",
     "output_type": "stream",
     "text": [
      "2023-06-04 00:52:03.248170 Epoch 5, Train loss 0.615, Val loss 0.612, Acc_val = 0.71\n"
     ]
    },
    {
     "name": "stderr",
     "output_type": "stream",
     "text": [
      "Epoch 6: 100%|██████████| 137/137 [00:11<00:00, 11.74it/s]\n"
     ]
    },
    {
     "name": "stdout",
     "output_type": "stream",
     "text": [
      "2023-06-04 00:52:15.230339 Epoch 6, Train loss 0.595, Val loss 0.593, Acc_val = 0.72\n"
     ]
    },
    {
     "name": "stderr",
     "output_type": "stream",
     "text": [
      "Epoch 7: 100%|██████████| 137/137 [00:11<00:00, 11.63it/s]\n"
     ]
    },
    {
     "name": "stdout",
     "output_type": "stream",
     "text": [
      "2023-06-04 00:52:27.290481 Epoch 7, Train loss 0.578, Val loss 0.563, Acc_val = 0.74\n"
     ]
    },
    {
     "name": "stderr",
     "output_type": "stream",
     "text": [
      "Epoch 8: 100%|██████████| 137/137 [00:11<00:00, 12.42it/s]\n"
     ]
    },
    {
     "name": "stdout",
     "output_type": "stream",
     "text": [
      "2023-06-04 00:52:38.612859 Epoch 8, Train loss 0.560, Val loss 0.542, Acc_val = 0.75\n"
     ]
    },
    {
     "name": "stderr",
     "output_type": "stream",
     "text": [
      "Epoch 9: 100%|██████████| 137/137 [00:11<00:00, 12.31it/s]\n"
     ]
    },
    {
     "name": "stdout",
     "output_type": "stream",
     "text": [
      "2023-06-04 00:52:50.031206 Epoch 9, Train loss 0.541, Val loss 0.521, Acc_val = 0.76\n"
     ]
    },
    {
     "name": "stderr",
     "output_type": "stream",
     "text": [
      "Epoch 10: 100%|██████████| 137/137 [00:10<00:00, 12.46it/s]\n"
     ]
    },
    {
     "name": "stdout",
     "output_type": "stream",
     "text": [
      "2023-06-04 00:53:01.326594 Epoch 10, Train loss 0.526, Val loss 0.503, Acc_val = 0.77\n"
     ]
    },
    {
     "name": "stderr",
     "output_type": "stream",
     "text": [
      "Epoch 11: 100%|██████████| 137/137 [00:11<00:00, 12.45it/s]\n"
     ]
    },
    {
     "name": "stdout",
     "output_type": "stream",
     "text": [
      "2023-06-04 00:53:12.619981 Epoch 11, Train loss 0.513, Val loss 0.482, Acc_val = 0.80\n"
     ]
    },
    {
     "name": "stderr",
     "output_type": "stream",
     "text": [
      "Epoch 12: 100%|██████████| 137/137 [00:11<00:00, 12.39it/s]\n"
     ]
    },
    {
     "name": "stdout",
     "output_type": "stream",
     "text": [
      "2023-06-04 00:53:23.971351 Epoch 12, Train loss 0.499, Val loss 0.461, Acc_val = 0.84\n"
     ]
    },
    {
     "name": "stderr",
     "output_type": "stream",
     "text": [
      "Epoch 13: 100%|██████████| 137/137 [00:10<00:00, 12.46it/s]\n"
     ]
    },
    {
     "name": "stdout",
     "output_type": "stream",
     "text": [
      "2023-06-04 00:53:35.262739 Epoch 13, Train loss 0.487, Val loss 0.443, Acc_val = 0.87\n"
     ]
    },
    {
     "name": "stderr",
     "output_type": "stream",
     "text": [
      "Epoch 14: 100%|██████████| 137/137 [00:11<00:00, 12.41it/s]\n"
     ]
    },
    {
     "name": "stdout",
     "output_type": "stream",
     "text": [
      "2023-06-04 00:53:46.598114 Epoch 14, Train loss 0.475, Val loss 0.425, Acc_val = 0.90\n"
     ]
    },
    {
     "name": "stderr",
     "output_type": "stream",
     "text": [
      "Epoch 15: 100%|██████████| 137/137 [00:11<00:00, 12.37it/s]\n"
     ]
    },
    {
     "name": "stdout",
     "output_type": "stream",
     "text": [
      "2023-06-04 00:53:57.963478 Epoch 15, Train loss 0.465, Val loss 0.400, Acc_val = 0.95\n"
     ]
    },
    {
     "name": "stderr",
     "output_type": "stream",
     "text": [
      "Epoch 16: 100%|██████████| 137/137 [00:11<00:00, 12.36it/s]\n"
     ]
    },
    {
     "name": "stdout",
     "output_type": "stream",
     "text": [
      "2023-06-04 00:54:09.335841 Epoch 16, Train loss 0.454, Val loss 0.388, Acc_val = 0.95\n"
     ]
    },
    {
     "name": "stderr",
     "output_type": "stream",
     "text": [
      "Epoch 17: 100%|██████████| 137/137 [00:10<00:00, 12.47it/s]\n"
     ]
    },
    {
     "name": "stdout",
     "output_type": "stream",
     "text": [
      "2023-06-04 00:54:20.615233 Epoch 17, Train loss 0.443, Val loss 0.376, Acc_val = 0.96\n"
     ]
    },
    {
     "name": "stderr",
     "output_type": "stream",
     "text": [
      "Epoch 18: 100%|██████████| 137/137 [00:11<00:00, 12.41it/s]\n"
     ]
    },
    {
     "name": "stdout",
     "output_type": "stream",
     "text": [
      "2023-06-04 00:54:31.938612 Epoch 18, Train loss 0.433, Val loss 0.351, Acc_val = 0.99\n"
     ]
    },
    {
     "name": "stderr",
     "output_type": "stream",
     "text": [
      "Epoch 19: 100%|██████████| 137/137 [00:11<00:00, 12.30it/s]\n"
     ]
    },
    {
     "name": "stdout",
     "output_type": "stream",
     "text": [
      "2023-06-04 00:54:43.357959 Epoch 19, Train loss 0.425, Val loss 0.335, Acc_val = 1.00\n"
     ]
    },
    {
     "name": "stderr",
     "output_type": "stream",
     "text": [
      "Epoch 20: 100%|██████████| 137/137 [00:11<00:00, 12.45it/s]\n"
     ]
    },
    {
     "name": "stdout",
     "output_type": "stream",
     "text": [
      "2023-06-04 00:54:54.653346 Epoch 20, Train loss 0.415, Val loss 0.317, Acc_val = 1.00\n"
     ]
    },
    {
     "name": "stderr",
     "output_type": "stream",
     "text": [
      "Epoch 21: 100%|██████████| 137/137 [00:11<00:00, 12.44it/s]\n"
     ]
    },
    {
     "name": "stdout",
     "output_type": "stream",
     "text": [
      "2023-06-04 00:55:05.966728 Epoch 21, Train loss 0.407, Val loss 0.303, Acc_val = 1.00\n"
     ]
    },
    {
     "name": "stderr",
     "output_type": "stream",
     "text": [
      "Epoch 22: 100%|██████████| 137/137 [00:11<00:00, 12.38it/s]\n"
     ]
    },
    {
     "name": "stdout",
     "output_type": "stream",
     "text": [
      "2023-06-04 00:55:17.318097 Epoch 22, Train loss 0.398, Val loss 0.293, Acc_val = 1.00\n"
     ]
    },
    {
     "name": "stderr",
     "output_type": "stream",
     "text": [
      "Epoch 23: 100%|██████████| 137/137 [00:10<00:00, 12.55it/s]\n"
     ]
    },
    {
     "name": "stdout",
     "output_type": "stream",
     "text": [
      "2023-06-04 00:55:28.520514 Epoch 23, Train loss 0.388, Val loss 0.285, Acc_val = 1.00\n"
     ]
    },
    {
     "name": "stderr",
     "output_type": "stream",
     "text": [
      "Epoch 24: 100%|██████████| 137/137 [00:11<00:00, 12.37it/s]\n"
     ]
    },
    {
     "name": "stdout",
     "output_type": "stream",
     "text": [
      "2023-06-04 00:55:39.878881 Epoch 24, Train loss 0.380, Val loss 0.277, Acc_val = 1.00\n"
     ]
    },
    {
     "name": "stderr",
     "output_type": "stream",
     "text": [
      "Epoch 25: 100%|██████████| 137/137 [00:10<00:00, 12.53it/s]\n"
     ]
    },
    {
     "name": "stdout",
     "output_type": "stream",
     "text": [
      "2023-06-04 00:55:51.158273 Epoch 25, Train loss 0.373, Val loss 0.258, Acc_val = 1.00\n"
     ]
    },
    {
     "name": "stderr",
     "output_type": "stream",
     "text": [
      "Epoch 26: 100%|██████████| 137/137 [00:10<00:00, 12.56it/s]\n"
     ]
    },
    {
     "name": "stdout",
     "output_type": "stream",
     "text": [
      "2023-06-04 00:56:02.354692 Epoch 26, Train loss 0.366, Val loss 0.246, Acc_val = 1.00\n"
     ]
    },
    {
     "name": "stderr",
     "output_type": "stream",
     "text": [
      "Epoch 27: 100%|██████████| 137/137 [00:10<00:00, 12.46it/s]\n"
     ]
    },
    {
     "name": "stdout",
     "output_type": "stream",
     "text": [
      "2023-06-04 00:56:13.634084 Epoch 27, Train loss 0.357, Val loss 0.241, Acc_val = 1.00\n"
     ]
    },
    {
     "name": "stderr",
     "output_type": "stream",
     "text": [
      "Epoch 28: 100%|██████████| 137/137 [00:11<00:00, 12.25it/s]\n"
     ]
    },
    {
     "name": "stdout",
     "output_type": "stream",
     "text": [
      "2023-06-04 00:56:25.117412 Epoch 28, Train loss 0.350, Val loss 0.229, Acc_val = 1.00\n"
     ]
    },
    {
     "name": "stderr",
     "output_type": "stream",
     "text": [
      "Epoch 29: 100%|██████████| 137/137 [00:11<00:00, 12.12it/s]\n"
     ]
    },
    {
     "name": "stdout",
     "output_type": "stream",
     "text": [
      "2023-06-04 00:56:36.712702 Epoch 29, Train loss 0.343, Val loss 0.221, Acc_val = 1.00\n"
     ]
    },
    {
     "name": "stderr",
     "output_type": "stream",
     "text": [
      "Epoch 30: 100%|██████████| 137/137 [00:10<00:00, 12.53it/s]\n"
     ]
    },
    {
     "name": "stdout",
     "output_type": "stream",
     "text": [
      "2023-06-04 00:56:47.934113 Epoch 30, Train loss 0.337, Val loss 0.212, Acc_val = 1.00\n"
     ]
    },
    {
     "name": "stderr",
     "output_type": "stream",
     "text": [
      "Epoch 31: 100%|██████████| 137/137 [00:11<00:00, 12.20it/s]\n"
     ]
    },
    {
     "name": "stdout",
     "output_type": "stream",
     "text": [
      "2023-06-04 00:56:59.453430 Epoch 31, Train loss 0.330, Val loss 0.203, Acc_val = 1.00\n"
     ]
    },
    {
     "name": "stderr",
     "output_type": "stream",
     "text": [
      "Epoch 32: 100%|██████████| 137/137 [00:11<00:00, 12.43it/s]\n"
     ]
    },
    {
     "name": "stdout",
     "output_type": "stream",
     "text": [
      "2023-06-04 00:57:10.764811 Epoch 32, Train loss 0.326, Val loss 0.200, Acc_val = 1.00\n"
     ]
    },
    {
     "name": "stderr",
     "output_type": "stream",
     "text": [
      "Epoch 33: 100%|██████████| 137/137 [00:10<00:00, 12.51it/s]\n"
     ]
    },
    {
     "name": "stdout",
     "output_type": "stream",
     "text": [
      "2023-06-04 00:57:21.991220 Epoch 33, Train loss 0.319, Val loss 0.191, Acc_val = 1.00\n"
     ]
    },
    {
     "name": "stderr",
     "output_type": "stream",
     "text": [
      "Epoch 34: 100%|██████████| 137/137 [00:11<00:00, 12.40it/s]\n"
     ]
    },
    {
     "name": "stdout",
     "output_type": "stream",
     "text": [
      "2023-06-04 00:57:33.329594 Epoch 34, Train loss 0.312, Val loss 0.187, Acc_val = 1.00\n"
     ]
    },
    {
     "name": "stderr",
     "output_type": "stream",
     "text": [
      "Epoch 35: 100%|██████████| 137/137 [00:11<00:00, 12.43it/s]\n"
     ]
    },
    {
     "name": "stdout",
     "output_type": "stream",
     "text": [
      "2023-06-04 00:57:44.629979 Epoch 35, Train loss 0.309, Val loss 0.182, Acc_val = 1.00\n"
     ]
    },
    {
     "data": {
      "image/png": "[encoded data removed]",
      "text/plain": [
       "<Figure size 600x250 with 1 Axes>"
      ]
     },
     "metadata": {},
     "output_type": "display_data"
    },
    {
     "name": "stdout",
     "output_type": "stream",
     "text": [
      "Acc =  0.751410835214447\n"
     ]
    },
    {
     "name": "stderr",
     "output_type": "stream",
     "text": [
      "Epoch 1: 100%|██████████| 125/125 [00:09<00:00, 12.53it/s]\n"
     ]
    },
    {
     "name": "stdout",
     "output_type": "stream",
     "text": [
      "2023-06-04 00:58:03.504942 Epoch 1, Train loss 0.746, Val loss 0.645, Acc_val = 0.60\n"
     ]
    },
    {
     "name": "stderr",
     "output_type": "stream",
     "text": [
      "Epoch 2: 100%|██████████| 125/125 [00:10<00:00, 12.36it/s]\n"
     ]
    },
    {
     "name": "stdout",
     "output_type": "stream",
     "text": [
      "2023-06-04 00:58:14.099554 Epoch 2, Train loss 0.712, Val loss 0.632, Acc_val = 0.64\n"
     ]
    },
    {
     "name": "stderr",
     "output_type": "stream",
     "text": [
      "Epoch 3: 100%|██████████| 125/125 [00:10<00:00, 12.36it/s]\n"
     ]
    },
    {
     "name": "stdout",
     "output_type": "stream",
     "text": [
      "2023-06-04 00:58:24.690167 Epoch 3, Train loss 0.689, Val loss 0.625, Acc_val = 0.70\n"
     ]
    },
    {
     "name": "stderr",
     "output_type": "stream",
     "text": [
      "Epoch 4: 100%|██████████| 125/125 [00:10<00:00, 12.41it/s]\n"
     ]
    },
    {
     "name": "stdout",
     "output_type": "stream",
     "text": [
      "2023-06-04 00:58:35.269782 Epoch 4, Train loss 0.670, Val loss 0.625, Acc_val = 0.79\n"
     ]
    },
    {
     "name": "stderr",
     "output_type": "stream",
     "text": [
      "Epoch 5: 100%|██████████| 125/125 [00:10<00:00, 12.33it/s]\n"
     ]
    },
    {
     "name": "stdout",
     "output_type": "stream",
     "text": [
      "2023-06-04 00:58:45.885387 Epoch 5, Train loss 0.654, Val loss 0.608, Acc_val = 0.79\n"
     ]
    },
    {
     "name": "stderr",
     "output_type": "stream",
     "text": [
      "Epoch 6: 100%|██████████| 125/125 [00:10<00:00, 12.47it/s]\n"
     ]
    },
    {
     "name": "stdout",
     "output_type": "stream",
     "text": [
      "2023-06-04 00:58:56.396025 Epoch 6, Train loss 0.641, Val loss 0.604, Acc_val = 0.83\n"
     ]
    },
    {
     "name": "stderr",
     "output_type": "stream",
     "text": [
      "Epoch 7: 100%|██████████| 125/125 [00:10<00:00, 12.32it/s]\n"
     ]
    },
    {
     "name": "stdout",
     "output_type": "stream",
     "text": [
      "2023-06-04 00:59:07.013629 Epoch 7, Train loss 0.629, Val loss 0.603, Acc_val = 0.84\n"
     ]
    },
    {
     "name": "stderr",
     "output_type": "stream",
     "text": [
      "Epoch 8: 100%|██████████| 125/125 [00:09<00:00, 12.55it/s]\n"
     ]
    },
    {
     "name": "stdout",
     "output_type": "stream",
     "text": [
      "2023-06-04 00:59:17.454290 Epoch 8, Train loss 0.616, Val loss 0.608, Acc_val = 0.79\n"
     ]
    },
    {
     "name": "stderr",
     "output_type": "stream",
     "text": [
      "Epoch 9: 100%|██████████| 125/125 [00:10<00:00, 12.34it/s]\n"
     ]
    },
    {
     "name": "stdout",
     "output_type": "stream",
     "text": [
      "2023-06-04 00:59:28.078893 Epoch 9, Train loss 0.608, Val loss 0.589, Acc_val = 0.86\n"
     ]
    },
    {
     "name": "stderr",
     "output_type": "stream",
     "text": [
      "Epoch 10: 100%|██████████| 125/125 [00:10<00:00, 12.34it/s]\n"
     ]
    },
    {
     "name": "stdout",
     "output_type": "stream",
     "text": [
      "2023-06-04 00:59:38.678502 Epoch 10, Train loss 0.597, Val loss 0.589, Acc_val = 0.84\n"
     ]
    },
    {
     "name": "stderr",
     "output_type": "stream",
     "text": [
      "Epoch 11: 100%|██████████| 125/125 [00:10<00:00, 12.45it/s]\n"
     ]
    },
    {
     "name": "stdout",
     "output_type": "stream",
     "text": [
      "2023-06-04 00:59:49.199136 Epoch 11, Train loss 0.588, Val loss 0.579, Acc_val = 0.86\n"
     ]
    },
    {
     "name": "stderr",
     "output_type": "stream",
     "text": [
      "Epoch 12: 100%|██████████| 125/125 [00:10<00:00, 12.34it/s]\n"
     ]
    },
    {
     "name": "stdout",
     "output_type": "stream",
     "text": [
      "2023-06-04 00:59:59.809743 Epoch 12, Train loss 0.578, Val loss 0.571, Acc_val = 0.87\n"
     ]
    },
    {
     "name": "stderr",
     "output_type": "stream",
     "text": [
      "Epoch 13: 100%|██████████| 125/125 [00:10<00:00, 12.40it/s]\n"
     ]
    },
    {
     "name": "stdout",
     "output_type": "stream",
     "text": [
      "2023-06-04 01:00:10.364367 Epoch 13, Train loss 0.568, Val loss 0.568, Acc_val = 0.86\n"
     ]
    },
    {
     "name": "stderr",
     "output_type": "stream",
     "text": [
      "Epoch 14: 100%|██████████| 125/125 [00:10<00:00, 12.26it/s]\n"
     ]
    },
    {
     "name": "stdout",
     "output_type": "stream",
     "text": [
      "2023-06-04 01:00:21.031955 Epoch 14, Train loss 0.561, Val loss 0.565, Acc_val = 0.86\n"
     ]
    },
    {
     "name": "stderr",
     "output_type": "stream",
     "text": [
      "Epoch 15: 100%|██████████| 125/125 [00:10<00:00, 12.43it/s]\n"
     ]
    },
    {
     "name": "stdout",
     "output_type": "stream",
     "text": [
      "2023-06-04 01:00:31.635563 Epoch 15, Train loss 0.552, Val loss 0.552, Acc_val = 0.90\n"
     ]
    },
    {
     "name": "stderr",
     "output_type": "stream",
     "text": [
      "Epoch 16: 100%|██████████| 125/125 [00:10<00:00, 11.44it/s]\n"
     ]
    },
    {
     "name": "stdout",
     "output_type": "stream",
     "text": [
      "2023-06-04 01:00:43.029919 Epoch 16, Train loss 0.543, Val loss 0.549, Acc_val = 0.89\n"
     ]
    },
    {
     "name": "stderr",
     "output_type": "stream",
     "text": [
      "Epoch 17: 100%|██████████| 125/125 [00:10<00:00, 11.82it/s]\n"
     ]
    },
    {
     "name": "stdout",
     "output_type": "stream",
     "text": [
      "2023-06-04 01:00:54.261329 Epoch 17, Train loss 0.534, Val loss 0.541, Acc_val = 0.91\n"
     ]
    },
    {
     "name": "stderr",
     "output_type": "stream",
     "text": [
      "Epoch 18: 100%|██████████| 125/125 [00:11<00:00, 10.70it/s]\n"
     ]
    },
    {
     "name": "stdout",
     "output_type": "stream",
     "text": [
      "2023-06-04 01:01:06.439431 Epoch 18, Train loss 0.526, Val loss 0.536, Acc_val = 0.92\n"
     ]
    },
    {
     "name": "stderr",
     "output_type": "stream",
     "text": [
      "Epoch 19: 100%|██████████| 125/125 [00:10<00:00, 11.92it/s]\n"
     ]
    },
    {
     "name": "stdout",
     "output_type": "stream",
     "text": [
      "2023-06-04 01:01:17.396927 Epoch 19, Train loss 0.517, Val loss 0.525, Acc_val = 0.95\n"
     ]
    },
    {
     "name": "stderr",
     "output_type": "stream",
     "text": [
      "Epoch 20: 100%|██████████| 125/125 [00:10<00:00, 11.48it/s]\n"
     ]
    },
    {
     "name": "stdout",
     "output_type": "stream",
     "text": [
      "2023-06-04 01:01:28.770288 Epoch 20, Train loss 0.508, Val loss 0.525, Acc_val = 0.92\n"
     ]
    },
    {
     "name": "stderr",
     "output_type": "stream",
     "text": [
      "Epoch 21: 100%|██████████| 125/125 [00:11<00:00, 11.30it/s]\n"
     ]
    },
    {
     "name": "stdout",
     "output_type": "stream",
     "text": [
      "2023-06-04 01:01:40.288279 Epoch 21, Train loss 0.501, Val loss 0.521, Acc_val = 0.92\n"
     ]
    },
    {
     "name": "stderr",
     "output_type": "stream",
     "text": [
      "Epoch 22: 100%|██████████| 125/125 [00:10<00:00, 12.42it/s]\n"
     ]
    },
    {
     "name": "stdout",
     "output_type": "stream",
     "text": [
      "2023-06-04 01:01:50.831359 Epoch 22, Train loss 0.493, Val loss 0.508, Acc_val = 0.98\n"
     ]
    },
    {
     "name": "stderr",
     "output_type": "stream",
     "text": [
      "Epoch 23: 100%|██████████| 125/125 [00:10<00:00, 12.43it/s]\n"
     ]
    },
    {
     "name": "stdout",
     "output_type": "stream",
     "text": [
      "2023-06-04 01:02:01.370987 Epoch 23, Train loss 0.486, Val loss 0.507, Acc_val = 0.95\n"
     ]
    },
    {
     "name": "stderr",
     "output_type": "stream",
     "text": [
      "Epoch 24: 100%|██████████| 125/125 [00:10<00:00, 12.47it/s]\n"
     ]
    },
    {
     "name": "stdout",
     "output_type": "stream",
     "text": [
      "2023-06-04 01:02:11.858633 Epoch 24, Train loss 0.480, Val loss 0.496, Acc_val = 0.99\n"
     ]
    },
    {
     "name": "stderr",
     "output_type": "stream",
     "text": [
      "Epoch 25: 100%|██████████| 125/125 [00:09<00:00, 12.62it/s]\n"
     ]
    },
    {
     "name": "stdout",
     "output_type": "stream",
     "text": [
      "2023-06-04 01:02:22.235314 Epoch 25, Train loss 0.472, Val loss 0.498, Acc_val = 0.97\n"
     ]
    },
    {
     "name": "stderr",
     "output_type": "stream",
     "text": [
      "Epoch 26: 100%|██████████| 125/125 [00:09<00:00, 12.56it/s]\n"
     ]
    },
    {
     "name": "stdout",
     "output_type": "stream",
     "text": [
      "2023-06-04 01:02:32.657981 Epoch 26, Train loss 0.465, Val loss 0.500, Acc_val = 0.92\n"
     ]
    },
    {
     "name": "stderr",
     "output_type": "stream",
     "text": [
      "Epoch 27: 100%|██████████| 125/125 [00:10<00:00, 12.49it/s]\n"
     ]
    },
    {
     "name": "stdout",
     "output_type": "stream",
     "text": [
      "2023-06-04 01:02:43.148625 Epoch 27, Train loss 0.460, Val loss 0.487, Acc_val = 0.98\n"
     ]
    },
    {
     "name": "stderr",
     "output_type": "stream",
     "text": [
      "Epoch 28: 100%|██████████| 125/125 [00:09<00:00, 12.74it/s]\n"
     ]
    },
    {
     "name": "stdout",
     "output_type": "stream",
     "text": [
      "2023-06-04 01:02:53.422338 Epoch 28, Train loss 0.454, Val loss 0.482, Acc_val = 0.98\n"
     ]
    },
    {
     "name": "stderr",
     "output_type": "stream",
     "text": [
      "Epoch 29: 100%|██████████| 125/125 [00:09<00:00, 12.52it/s]\n"
     ]
    },
    {
     "name": "stdout",
     "output_type": "stream",
     "text": [
      "2023-06-04 01:03:03.869997 Epoch 29, Train loss 0.447, Val loss 0.479, Acc_val = 0.98\n"
     ]
    },
    {
     "name": "stderr",
     "output_type": "stream",
     "text": [
      "Epoch 30: 100%|██████████| 125/125 [00:09<00:00, 12.70it/s]\n"
     ]
    },
    {
     "name": "stdout",
     "output_type": "stream",
     "text": [
      "2023-06-04 01:03:14.184698 Epoch 30, Train loss 0.443, Val loss 0.480, Acc_val = 0.96\n"
     ]
    },
    {
     "name": "stderr",
     "output_type": "stream",
     "text": [
      "Epoch 31: 100%|██████████| 125/125 [00:09<00:00, 12.74it/s]\n"
     ]
    },
    {
     "name": "stdout",
     "output_type": "stream",
     "text": [
      "2023-06-04 01:03:24.472407 Epoch 31, Train loss 0.438, Val loss 0.466, Acc_val = 1.00\n"
     ]
    },
    {
     "name": "stderr",
     "output_type": "stream",
     "text": [
      "Epoch 32: 100%|██████████| 125/125 [00:09<00:00, 12.71it/s]\n"
     ]
    },
    {
     "name": "stdout",
     "output_type": "stream",
     "text": [
      "2023-06-04 01:03:34.762117 Epoch 32, Train loss 0.432, Val loss 0.468, Acc_val = 0.98\n"
     ]
    },
    {
     "name": "stderr",
     "output_type": "stream",
     "text": [
      "Epoch 33: 100%|██████████| 125/125 [00:09<00:00, 12.64it/s]\n"
     ]
    },
    {
     "name": "stdout",
     "output_type": "stream",
     "text": [
      "2023-06-04 01:03:45.154792 Epoch 33, Train loss 0.428, Val loss 0.467, Acc_val = 0.97\n"
     ]
    },
    {
     "name": "stderr",
     "output_type": "stream",
     "text": [
      "Epoch 34: 100%|██████████| 125/125 [00:10<00:00, 11.54it/s]\n"
     ]
    },
    {
     "name": "stdout",
     "output_type": "stream",
     "text": [
      "2023-06-04 01:03:56.429999 Epoch 34, Train loss 0.424, Val loss 0.459, Acc_val = 0.98\n"
     ]
    },
    {
     "name": "stderr",
     "output_type": "stream",
     "text": [
      "Epoch 35: 100%|██████████| 125/125 [00:10<00:00, 12.48it/s]\n"
     ]
    },
    {
     "name": "stdout",
     "output_type": "stream",
     "text": [
      "2023-06-04 01:04:06.908970 Epoch 35, Train loss 0.421, Val loss 0.459, Acc_val = 0.98\n"
     ]
    },
    {
     "data": {
      "image/png": "[encoded data removed]",
      "text/plain": [
       "<Figure size 600x250 with 1 Axes>"
      ]
     },
     "metadata": {},
     "output_type": "display_data"
    },
    {
     "name": "stdout",
     "output_type": "stream",
     "text": [
      "Acc =  0.8901289682539683\n",
      "Final results\n",
      "35 epochs. Acc_sk = 0.77 (Sens = 0.78 / Spec = 0.75) 0.70 / 0.82 / 0.66 / 0.75 / 0.89\n"
     ]
    },
    {
     "name": "stderr",
     "output_type": "stream",
     "text": [
      "C:\\Users\\Tanya\\AppData\\Local\\Temp\\ipykernel_13004\\1709305254.py:97: MatplotlibDeprecationWarning: Auto-removal of overlapping axes is deprecated since 3.6 and will be removed two minor releases later; explicitly call ax.remove() as needed.\n",
      "  plt.subplot(1,len(folds),i+1)\n"
     ]
    },
    {
     "data": {
      "image/png": "[encoded data removed]",
      "text/plain": [
       "<Figure size 1200x250 with 5 Axes>"
      ]
     },
     "metadata": {},
     "output_type": "display_data"
    }
   ],
   "source": [
    "import os\n",
    "model_dir = 'model_backup'\n",
    "if not os.path.exists(model_dir):  \n",
    "  os.makedirs(model_dir)\n",
    "\n",
    "DataSet_ALS = ALSDataset(dir_HC, dir_ALS)\n",
    "model = ALS_CNN1()\n",
    "\n",
    "# optimizer = optim.SGD(model.parameters(),lr=1e-3, weight_decay=1e-1, momentum=0.9) # 40 epochs. Acc_sk = 0.70 (Sens = 0.74 / Spec = 0.66) 0.68 / 0.86 / 0.52 / 0.76 / 0.77\n",
    "# self.layer1_filt = 2 (before 8)\n",
    "# optimizer = optim.SGD(model.parameters(),lr=1e-3, weight_decay=1e-1, momentum=0.9) # 15 epochs. Acc_sk = 0.66 (Sens = 0.62 / Spec = 0.70) 0.68 / 0.55 / 0.57 / 0.62 / 0.88\n",
    "# max_pool_width = 4 (before 1)\n",
    "# optimizer = optim.SGD(model.parameters(),lr=1e-3, weight_decay=1e-1, momentum=0.9) # 15 epochs. Acc_sk = 0.59 (Sens = 0.53 / Spec = 0.65) 0.65 / 0.50 / 0.56 / 0.61 / 0.63\n",
    "# self.layer1_filt = 4 + max_pool_width = 4 + lf1_height, lf1_width = 29,43\n",
    "# optimizer = optim.SGD(model.parameters(),lr=1e-3, weight_decay=1e-1, momentum=0.4) # 15 epochs. Acc_sk = 0.65 (Sens = 0.61 / Spec = 0.69) 0.61 / 0.62 / 0.60 / 0.65 / 0.75 (good behaviour)\n",
    "# mf2_height,mf2_width = 15,43 (before 15x17)\n",
    "# optimizer = optim.SGD(model.parameters(),lr=1e-3, weight_decay=1e-1, momentum=0.4) # 15 epochs. Acc_sk = 0.72 (Sens = 0.73 / Spec = 0.70) 0.71 / 0.69 / 0.53 / 0.75 / 0.90\n",
    "# hf4_height,hf4_width = 15,43 (before 15x15)\n",
    "# optimizer = optim.SGD(model.parameters(),lr=1e-3, weight_decay=1e-1, momentum=0.4) # 15 epochs. Acc_sk = 0.70 (Sens = 0.76 / Spec = 0.64) 0.73 / 0.66 / 0.53 / 0.73 / 0.86\n",
    "# hf4_height,hf4_width = 15,31 (before 15x43)\n",
    "# optimizer = optim.SGD(model.parameters(),lr=1e-3, weight_decay=1e-1, momentum=0.4) # 15 epochs. Acc_sk = 0.71 (Sens = 0.77 / Spec = 0.64) 0.67 / 0.79 / 0.51 / 0.68 / 0.89\n",
    "# hf3_height,hf3_width = 13,27 (before 11x11)\n",
    "# optimizer = optim.SGD(model.parameters(),lr=1e-3, weight_decay=1e-1, momentum=0.4) # 30 epochs. Acc_sk = 0.76 (Sens = 0.81 / Spec = 0.70) 0.78 / 0.86 / 0.53 / 0.74 / 0.89\n",
    "# mf_height,mf_width = 13,27 (before 3x3)\n",
    "# optimizer = optim.SGD(model.parameters(),lr=1e-3, weight_decay=1e-1, momentum=0.4) # 30 epochs. Acc_sk = 0.76 (Sens = 0.77 / Spec = 0.75) 0.78 / 0.82 / 0.62 / 0.73 / 0.88\n",
    "# lf3_height, lf3_width = 13,27 (3x7)\n",
    "# optimizer = optim.SGD(model.parameters(),lr=1e-3, weight_decay=1e-1, momentum=0.4) # 30 epochs. Acc_sk = 0.75 (Sens = 0.76 / Spec = 0.73) 0.72 / 0.81 / 0.65 / 0.72 / 0.87\n",
    "# lf3_height, lf3_width = 25,39 (13x27)\n",
    "# optimizer = optim.SGD(model.parameters(),lr=1e-3, weight_decay=1e-1, momentum=0.4) # 15 epochs. Acc_sk = 0.72 (Sens = 0.73 / Spec = 0.72) 0.65 / 0.67 / 0.62 / 0.74 / 0.92  (good behaviour)\n",
    "# optimizer = optim.SGD(model.parameters(),lr=1e-3, weight_decay=1e-1, momentum=0.6) # 15 epochs. Acc_sk = 0.74 (Sens = 0.76 / Spec = 0.72) 0.69 / 0.79 / 0.63 / 0.71 / 0.88\n",
    "# lf3_height, lf3_width = 5,11\n",
    "# optimizer = optim.SGD(model.parameters(),lr=1e-3, weight_decay=1e-1, momentum=0.4) # 30 epochs. Acc_sk = 0.73 (Sens = 0.75 / Spec = 0.72) 0.63 / 0.82 / 0.64 / 0.75 / 0.88\n",
    "# model with diff input. Now there is 2 input chanells: x and x_diff\n",
    "# optimizer = optim.SGD(model.parameters(),lr=1e-3, weight_decay=1e-1, momentum=0.4) # 15 epochs. Acc_sk = 0.70 (Sens = 0.66 / Spec = 0.76) 0.69 / 0.66 / 0.58 / 0.67 / 0.91\n",
    "# self.layer1_filt = 6 (before 4)\n",
    "# optimizer = optim.SGD(model.parameters(),lr=1e-3, weight_decay=1e-1, momentum=0.4) # 30 epochs. Acc_sk = 0.78 (Sens = 0.80 / Spec = 0.76) 0.70 / 0.80 / 0.69 / 0.74 / 0.93\n",
    "# optimizer = optim.SGD(model.parameters(),lr=1e-3, weight_decay=1e-1, momentum=0.5) # 30 epochs. Acc_sk = 0.77 (Sens = 0.79 / Spec = 0.74) 0.71 / 0.79 / 0.65 / 0.76 / 0.90\n",
    "# optimizer = optim.SGD(model.parameters(),lr=1e-3, weight_decay=1e-1, momentum=0.3) # 30 epochs. Acc_sk = 0.77 (Sens = 0.76 / Spec = 0.77) 0.70 / 0.74 / 0.68 / 0.72 / 0.94\n",
    "# optimizer = optim.Adam(model.parameters(),lr=1e-4, weight_decay=1e-1) # 20 epochs. Acc_sk = 0.71 (Sens = 0.69 / Spec = 0.74) 0.66 / 0.80 / 0.64 / 0.71 / 0.81\n",
    "# hf_height,hf_width = 9,9 (before 3x3)\n",
    "# optimizer = optim.SGD(model.parameters(),lr=1e-3, weight_decay=1e-1, momentum=0.4) # 15 epochs. Acc_sk = 0.75 (Sens = 0.76 / Spec = 0.75) 0.66 / 0.82 / 0.61 / 0.74 / 0.93\n",
    "# optimizer = optim.SGD(model.parameters(),lr=1e-3, weight_decay=1e-1, momentum=0.4) # 30 epochs. Acc_sk = 0.75 (Sens = 0.75 / Spec = 0.74) 0.75 / 0.78 / 0.62 / 0.72 / 0.87\n",
    "# hf_height,hf_width = 3,3 (return)\n",
    "optimizer = optim.SGD(model.parameters(),lr=1e-3, weight_decay=1e-1, momentum=0.4) # 35 epochs. Acc_sk = 0.77 (Sens = 0.78 / Spec = 0.75) 0.70 / 0.82 / 0.66 / 0.75 / 0.89 (32 min)\n",
    "k_fold_CV(dataset=DataSet_ALS, model = model, optimizer=optimizer, train = training_loop, n_epochs=35)"
   ]
  },
  {
   "cell_type": "code",
   "execution_count": 60,
   "metadata": {},
   "outputs": [
    {
     "name": "stdout",
     "output_type": "stream",
     "text": [
      "torch.Size([64, 86])\n",
      "torch.Size([1, 5504])\n",
      "torch.Size([1, 10])\n",
      "torch.Size([10])\n",
      "(2, 3)\n",
      "(1, 2, 3)\n"
     ]
    }
   ],
   "source": [
    "# Test 1\n",
    "test_img = torch.rand(64,86)\n",
    "test_img_row = test_img.view(-1,64*86)\n",
    "print(test_img.shape)\n",
    "print(test_img_row.shape)\n",
    "\n",
    "# Test 2\n",
    "test_img = torch.rand(1,10)\n",
    "test_img_row = test_img.squeeze()\n",
    "print(test_img.shape)\n",
    "print(test_img_row.shape)\n",
    "\n",
    "#Test 3\n",
    "# print(torch.sigmoid(torch.tensor(-1)), torch.sigmoid(torch.tensor(0)), torch.sigmoid(torch.tensor(1)))\n",
    "\n",
    "#Test 4\n",
    "# x = torch.randn(3)\n",
    "# x3 = torch.cat((x, x, x), 0)\n",
    "# print(x3)\n",
    "\n",
    "#Test 5\n",
    "A = np.random.random((2,3))\n",
    "print(A.shape)\n",
    "A = A.reshape((1,A.shape[0],A.shape[1]))\n",
    "print(A.shape)"
   ]
  },
  {
   "attachments": {},
   "cell_type": "markdown",
   "metadata": {},
   "source": [
    "### CV-Fold selection"
   ]
  },
  {
   "cell_type": "code",
   "execution_count": 2,
   "metadata": {},
   "outputs": [
    {
     "name": "stdout",
     "output_type": "stream",
     "text": [
      "[ 26  97 117  85  53  86 127  92 102  27  32  72  39]\n",
      "Fold 1 HC age mean = 52.43, mens = 3, womens = 4\n",
      "Fold 1 ALS age mean = 56.83, mens = 3, womens = 3\n",
      "[ 28 123  63  99  81 125 129  68  21  55  48  78  42]\n",
      "Fold 2 HC age mean = 53.71, mens = 3, womens = 4\n",
      "Fold 2 ALS age mean = 58.33, mens = 4, womens = 2\n",
      "[ 61  16 115 109 111   2 107  46  84  64  52  24  76]\n",
      "Fold 3 HC age mean = 55.43, mens = 2, womens = 5\n",
      "Fold 3 ALS age mean = 59.67, mens = 4, womens = 2\n",
      "[ 77   6  65  24 131 119  25  94  62  28   8  98  22]\n",
      "Fold 4 HC age mean = 53.00, mens = 3, womens = 3\n",
      "Fold 4 ALS age mean = 60.86, mens = 5, womens = 2\n",
      "[ 49  89   4  42 113 121  96  20  58  80  31 100]\n",
      "Fold 5 HC age mean = 54.17, mens = 2, womens = 4\n",
      "Fold 5 ALS age mean = 61.00, mens = 4, womens = 2\n"
     ]
    }
   ],
   "source": [
    "file_name =  'HC_ALS_table.xlsx' # path to file + file name\n",
    "\n",
    "xls_file = pd.ExcelFile(file_name)\n",
    "# print(xls_file.sheet_names)\n",
    "\n",
    "# https://stackoverflow.com/questions/17071871/how-do-i-select-rows-from-a-dataframe-based-on-column-values\n",
    "\n",
    "df_HC = xls_file.parse('Control')\n",
    "df_ALS = xls_file.parse('ALS')\n",
    "# print(df_HC['fold']==1)\n",
    "for fold_num in range(1,6):\n",
    "    HC_fold = df_HC.loc[df_HC['fold']==fold_num]\n",
    "    ALS_fold = df_ALS.loc[df_ALS['fold']==fold_num]\n",
    "    # print(HC_fold)\n",
    "    # print(ALS_fold)\n",
    "    print(np.hstack((HC_fold['Subject code'].to_numpy(), ALS_fold['Subject code'].to_numpy())))\n",
    "    HC_age = (float)(HC_fold.loc[:, 'Age'].mean())\n",
    "    HC_m = (HC_fold.loc[HC_fold['Sex']=='m'])\n",
    "    HC_f = (HC_fold.loc[HC_fold['Sex']=='f'])\n",
    "    ALS_age = (float)(ALS_fold.loc[:, 'Age'].mean())\n",
    "    ALS_m = (ALS_fold.loc[ALS_fold['Sex']=='m'])\n",
    "    ALS_f = (ALS_fold.loc[ALS_fold['Sex']=='f'])\n",
    "    print(f'Fold {fold_num} HC age mean = {HC_age:.2f}, mens = {len(HC_m.index)}, womens = {len(HC_f.index)}')\n",
    "    print(f'Fold {fold_num} ALS age mean = {ALS_age:.2f}, mens = {len(ALS_m.index)}, womens = {len(ALS_f.index)}')"
   ]
  }
 ],
 "metadata": {
  "kernelspec": {
   "display_name": "Python 3.10.5 64-bit",
   "language": "python",
   "name": "python3"
  },
  "language_info": {
   "codemirror_mode": {
    "name": "ipython",
    "version": 3
   },
   "file_extension": ".py",
   "mimetype": "text/x-python",
   "name": "python",
   "nbconvert_exporter": "python",
   "pygments_lexer": "ipython3",
   "version": "3.10.10"
  },
  "orig_nbformat": 4,
  "vscode": {
   "interpreter": {
    "hash": "a42ccb73e7d9bfdf27e036f1d2b8b681e55fc0743cc5586bc2474d4a60f4b886"
   }
  }
 },
 "nbformat": 4,
 "nbformat_minor": 2
}
