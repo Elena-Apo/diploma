{
 "cells": [
  {
   "cell_type": "code",
   "execution_count": 1,
   "id": "9acbeea2",
   "metadata": {},
   "outputs": [],
   "source": [
    "import numpy as np\n",
    "import matplotlib.pyplot as plt\n",
    "import math\n",
    "import librosa"
   ]
  },
  {
   "attachments": {},
   "cell_type": "markdown",
   "id": "69401525",
   "metadata": {},
   "source": [
    "Data processing parameters "
   ]
  },
  {
   "cell_type": "code",
   "execution_count": 2,
   "id": "20136617",
   "metadata": {},
   "outputs": [],
   "source": [
    "num_aud = 62\n",
    "audio_data = []\n",
    "x = []\n",
    "f_size = 512            # Frame size\n",
    "h_size = int(f_size/2)  # Hop size\n",
    "frame_num_gl = 170\n",
    "data = np.zeros((100, h_size, frame_num_gl))"
   ]
  },
  {
   "cell_type": "code",
   "execution_count": 3,
   "id": "c92fe597",
   "metadata": {},
   "outputs": [],
   "source": [
    "audio_data.append(\"wav\\\\129_a.wav\")\n",
    "# audio_data.append(\"D:\\Voices\\ALS\\\\008_a.wav\")\n",
    "# audio_data.append(\"D:\\Voices\\ALS\\\\008_i.wav\")\n",
    "# audio_data.append(\"D:\\Voices\\ALS\\\\020_a.wav\")\n",
    "# audio_data.append(\"D:\\Voices\\ALS\\\\020_i.wav\")\n",
    "# audio_data.append(\"D:\\Voices\\ALS\\\\021_a.wav\")\n",
    "# audio_data.append(\"D:\\Voices\\ALS\\\\021_i.wav\")\n",
    "# audio_data.append(\"D:\\Voices\\ALS\\\\022_a.wav\")\n",
    "# audio_data.append(\"D:\\Voices\\ALS\\\\022_i.wav\")\n",
    "# audio_data.append(\"D:\\Voices\\ALS\\\\024_a.wav\")\n",
    "# audio_data.append(\"D:\\Voices\\ALS\\\\024_i.wav\")\n",
    "# audio_data.append(\"D:\\Voices\\ALS\\\\025_a.wav\")\n",
    "# audio_data.append(\"D:\\Voices\\ALS\\\\025_i.wav\")\n",
    "# audio_data.append(\"D:\\Voices\\ALS\\\\027_a.wav\")\n",
    "# audio_data.append(\"D:\\Voices\\ALS\\\\027_i.wav\")\n",
    "# audio_data.append(\"D:\\Voices\\ALS\\\\028_a.wav\")\n",
    "# audio_data.append(\"D:\\Voices\\ALS\\\\028_i.wav\")\n",
    "# audio_data.append(\"D:\\Voices\\ALS\\\\031_a.wav\")\n",
    "# audio_data.append(\"D:\\Voices\\ALS\\\\031_i.wav\")\n",
    "# audio_data.append(\"D:\\Voices\\ALS\\\\032_a.wav\")\n",
    "# audio_data.append(\"D:\\Voices\\ALS\\\\032_i.wav\")\n",
    "# audio_data.append(\"D:\\Voices\\ALS\\\\039_a.wav\")\n",
    "# audio_data.append(\"D:\\Voices\\ALS\\\\039_i.wav\")\n",
    "# audio_data.append(\"D:\\Voices\\ALS\\\\042_a.wav\")\n",
    "# audio_data.append(\"D:\\Voices\\ALS\\\\042_i.wav\")\n",
    "# audio_data.append(\"D:\\Voices\\ALS\\\\046_a.wav\")\n",
    "# audio_data.append(\"D:\\Voices\\ALS\\\\046_i.wav\")\n",
    "# audio_data.append(\"D:\\Voices\\ALS\\\\048_a.wav\")\n",
    "# audio_data.append(\"D:\\Voices\\ALS\\\\048_i.wav\")\n",
    "# audio_data.append(\"D:\\Voices\\ALS\\\\052_a.wav\")\n",
    "# audio_data.append(\"D:\\Voices\\ALS\\\\052_i.wav\")\n",
    "# audio_data.append(\"D:\\Voices\\ALS\\\\055_a.wav\")\n",
    "# audio_data.append(\"D:\\Voices\\ALS\\\\055_i.wav\")\n",
    "# audio_data.append(\"D:\\Voices\\ALS\\\\058_a.wav\")\n",
    "# audio_data.append(\"D:\\Voices\\ALS\\\\058_i.wav\")\n",
    "# audio_data.append(\"D:\\Voices\\ALS\\\\062_a.wav\")\n",
    "# audio_data.append(\"D:\\Voices\\ALS\\\\062_i.wav\")\n",
    "# audio_data.append(\"D:\\Voices\\ALS\\\\064_a.wav\")\n",
    "# audio_data.append(\"D:\\Voices\\ALS\\\\064_i.wav\")\n",
    "# audio_data.append(\"D:\\Voices\\ALS\\\\068_a.wav\")\n",
    "# audio_data.append(\"D:\\Voices\\ALS\\\\068_i.wav\")\n",
    "# audio_data.append(\"D:\\Voices\\ALS\\\\072_a.wav\")\n",
    "# audio_data.append(\"D:\\Voices\\ALS\\\\072_i.wav\")\n",
    "# audio_data.append(\"D:\\Voices\\ALS\\\\076_a.wav\")\n",
    "# audio_data.append(\"D:\\Voices\\ALS\\\\076_i.wav\")\n",
    "# audio_data.append(\"D:\\Voices\\ALS\\\\078_a.wav\")\n",
    "# audio_data.append(\"D:\\Voices\\ALS\\\\078_i.wav\")\n",
    "# audio_data.append(\"D:\\Voices\\ALS\\\\080_a.wav\")\n",
    "# audio_data.append(\"D:\\Voices\\ALS\\\\080_i.wav\")\n",
    "# audio_data.append(\"D:\\Voices\\ALS\\\\084_a.wav\")\n",
    "# audio_data.append(\"D:\\Voices\\ALS\\\\084_i.wav\")\n",
    "# audio_data.append(\"D:\\Voices\\ALS\\\\092_a.wav\")\n",
    "# audio_data.append(\"D:\\Voices\\ALS\\\\092_i.wav\")\n",
    "# audio_data.append(\"D:\\Voices\\ALS\\\\094_a.wav\")\n",
    "# audio_data.append(\"D:\\Voices\\ALS\\\\094_i.wav\")\n",
    "# audio_data.append(\"D:\\Voices\\ALS\\\\096_a.wav\")\n",
    "# audio_data.append(\"D:\\Voices\\ALS\\\\096_i.wav\")\n",
    "# audio_data.append(\"D:\\Voices\\ALS\\\\098_a.wav\")\n",
    "# audio_data.append(\"D:\\Voices\\ALS\\\\098_i.wav\")\n",
    "# audio_data.append(\"D:\\Voices\\ALS\\\\100_a.wav\")\n",
    "# audio_data.append(\"D:\\Voices\\ALS\\\\100_i.wav\")\n",
    "# audio_data.append(\"D:\\Voices\\ALS\\\\102_a.wav\")\n",
    "# audio_data.append(\"D:\\Voices\\ALS\\\\102_i.wav\")\n",
    "\n",
    "\n",
    "# for i in range (len(audio_data)):\n",
    "#     x_r, sr = librosa.load(audio_data[i], sr=None, mono=True, offset=0.0, duration=None)\n",
    "#     x.append(x_r)"
   ]
  },
  {
   "attachments": {},
   "cell_type": "markdown",
   "id": "a820a1fd",
   "metadata": {},
   "source": [
    "Analysing cycle"
   ]
  },
  {
   "cell_type": "code",
   "execution_count": 1,
   "id": "d38476ef",
   "metadata": {
    "scrolled": false
   },
   "outputs": [
    {
     "ename": "IndentationError",
     "evalue": "unexpected indent (2928091104.py, line 6)",
     "output_type": "error",
     "traceback": [
      "\u001b[1;36m  Cell \u001b[1;32mIn[1], line 6\u001b[1;36m\u001b[0m\n\u001b[1;33m    Ln = x[i].shape[0]\u001b[0m\n\u001b[1;37m    ^\u001b[0m\n\u001b[1;31mIndentationError\u001b[0m\u001b[1;31m:\u001b[0m unexpected indent\n"
     ]
    }
   ],
   "source": [
    "# freq = np.linspace(0, sr/2, h_size)\n",
    "\n",
    "for i in range(1):  # len(audio_data)\n",
    "    x_r, sr = librosa.load(audio_data[i], sr=None, mono=True, offset=0.0, duration=None)\n",
    "    Ln = x[i].shape[0]\n",
    "    frame_num = floor((Ln-f_size)/h_size + 1)\n",
    "\n",
    "frame_num_gl = 1;\n",
    "\n",
    "#for i in range(frame_num_gl):\n",
    "    \n",
    "    \n",
    "#    frame_num_gl = frame_num_gl + frame_num;\n",
    "    wnd = np.hamming(f_size)\n",
    "\n",
    "    spec = np.zeros((h_size,frame_num))\n",
    "\n",
    "    for N in range(frame_num):\n",
    "        x_frame = x[h_size*N: h_size*N + f_size]\n",
    "        x_wnd = x_frame*wnd\n",
    "\n",
    "        X = np.fft.fft(x_wnd)\n",
    "        X_abs = np.abs(X[0:h_size])\n",
    "\n",
    "        spec[:,N] = np.log(X_abs)\n",
    "\n",
    "   # plt.subplots(dpi=150)\n",
    "   # plt.pcolor(spec[0:100,:],shading='flat')  \n",
    "\n",
    "    \n",
    "    #Запись фрагметов спектра в трехмерный массив \n",
    "    #Первая координата - номер фрейма\n",
    "    N_i = math.ceil(N / 148);\n",
    "\n",
    "    k = 0;\n",
    "    \n",
    "    for i in range(i + N_i):\n",
    "        for j in range (148):\n",
    "            if (j*(i+1) > N):\n",
    "                   break\n",
    "            data[[i], [k], [j]] = spec[[k],[j*(i+1)]];\n",
    "            if(k < 100):\n",
    "                k = k + 1 \n",
    "            else :\n",
    "                k = 100;\n",
    "            k = 0;   \n",
    "    print(i);\n",
    "    \n",
    "    "
   ]
  },
  {
   "cell_type": "code",
   "execution_count": 6,
   "id": "2521cfb7",
   "metadata": {
    "scrolled": false
   },
   "outputs": [],
   "source": []
  },
  {
   "cell_type": "code",
   "execution_count": null,
   "id": "f266a367",
   "metadata": {},
   "outputs": [],
   "source": []
  }
 ],
 "metadata": {
  "kernelspec": {
   "display_name": "Python 3",
   "language": "python",
   "name": "python3"
  },
  "language_info": {
   "codemirror_mode": {
    "name": "ipython",
    "version": 3
   },
   "file_extension": ".py",
   "mimetype": "text/x-python",
   "name": "python",
   "nbconvert_exporter": "python",
   "pygments_lexer": "ipython3",
   "version": "3.10.5"
  },
  "vscode": {
   "interpreter": {
    "hash": "b14ca8371635b60db84783462cfd745b5f9b594739a2ca2a79f724eaee2d9014"
   }
  },
  "widgets": {
   "application/vnd.jupyter.widget-state+json": {
    "state": {},
    "version_major": 2,
    "version_minor": 0
   }
  }
 },
 "nbformat": 4,
 "nbformat_minor": 5
}
